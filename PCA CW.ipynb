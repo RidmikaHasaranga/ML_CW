{
 "cells": [
  {
   "cell_type": "code",
   "execution_count": 11,
   "metadata": {
    "collapsed": true
   },
   "outputs": [],
   "source": [
    "# import necerssary libraries\n",
    "%matplotlib inline\n",
    "import numpy as np\n",
    "import matplotlib.pyplot as plt\n",
    "import pandas as pd\n",
    "from sklearn.decomposition import PCA"
   ]
  },
  {
   "cell_type": "code",
   "execution_count": 12,
   "outputs": [],
   "source": [
    "data_set = pd.read_csv(\"SpamDataSet.csv\")"
   ],
   "metadata": {
    "collapsed": false
   }
  },
  {
   "cell_type": "code",
   "execution_count": 13,
   "outputs": [
    {
     "data": {
      "text/plain": "(4210, 58)"
     },
     "execution_count": 13,
     "metadata": {},
     "output_type": "execute_result"
    }
   ],
   "source": [
    "data_set.shape"
   ],
   "metadata": {
    "collapsed": false
   }
  },
  {
   "cell_type": "code",
   "execution_count": 14,
   "outputs": [],
   "source": [
    "from sklearn.preprocessing import StandardScaler\n",
    "scaler=StandardScaler()\n",
    "scaled_data=scaler.fit_transform(data_set)"
   ],
   "metadata": {
    "collapsed": false
   }
  },
  {
   "cell_type": "code",
   "execution_count": 15,
   "outputs": [],
   "source": [
    "df=pd.DataFrame(data=scaled_data, columns= data_set.columns)"
   ],
   "metadata": {
    "collapsed": false
   }
  },
  {
   "cell_type": "code",
   "execution_count": 16,
   "outputs": [
    {
     "data": {
      "text/plain": "       WORD_FREQ_MAKE  WORD_FREQ_ADDRESS  WORD_FREQ_ALL  WORD_FREQ_3D  \\\ncount    4.210000e+03       4.210000e+03   4.210000e+03  4.210000e+03   \nmean    -3.480997e-15      -2.548357e-15   3.381328e-15 -2.009289e-15   \nstd      1.000119e+00       1.000119e+00   1.000119e+00  1.000119e+00   \nmin     -3.479216e-01      -2.480275e-01  -5.652450e-01 -4.664436e-02   \n25%     -3.479216e-01      -2.480275e-01  -5.652450e-01 -4.664436e-02   \n50%     -3.479216e-01      -2.480275e-01  -5.652450e-01 -4.664436e-02   \n75%     -3.479216e-01      -2.480275e-01   2.880349e-01 -4.664436e-02   \nmax      1.478696e+01       3.119145e+01   9.325045e+00  3.160992e+01   \n\n       WORD_FREQ_OUR  WORD_FREQ_OVER  WORD_FREQ_REMOVE  WORD_FREQ_INTERNET  \\\ncount   4.210000e+03    4.210000e+03      4.210000e+03        4.210000e+03   \nmean   -7.919384e-15    1.947347e-15     -2.535291e-15       -3.765370e-15   \nstd     1.000119e+00    1.000119e+00      1.000119e+00        1.000119e+00   \nmin    -4.730399e-01   -3.502046e-01     -2.957308e-01       -2.632646e-01   \n25%    -4.730399e-01   -3.502046e-01     -2.957308e-01       -2.632646e-01   \n50%    -4.730399e-01   -3.502046e-01     -2.957308e-01       -2.632646e-01   \n75%     1.231299e-01   -3.502046e-01     -2.957308e-01       -2.632646e-01   \nmax     1.406769e+01    2.095434e+01      1.800571e+01        2.681886e+01   \n\n       WORD_FREQ_ORDER  WORD_FREQ_MAIL  ...   CHAR_FREQ_;   CHAR_FREQ_(  \\\ncount     4.210000e+03    4.210000e+03  ...  4.210000e+03  4.210000e+03   \nmean     -4.663622e-15    2.867804e-15  ... -3.854122e-15 -1.138071e-15   \nstd       1.000119e+00    1.000119e+00  ...  1.000119e+00  1.000119e+00   \nmin      -3.256168e-01   -3.783664e-01  ... -1.600104e-01 -5.252942e-01   \n25%      -3.256168e-01   -3.783664e-01  ... -1.600104e-01 -5.252942e-01   \n50%      -3.256168e-01   -3.783664e-01  ... -1.600104e-01 -2.590883e-01   \n75%      -3.256168e-01   -8.897950e-02  ... -1.600104e-01  1.821569e-01   \nmax       1.831957e+01    2.731139e+01  ...  1.720613e+01  3.503689e+01   \n\n        CHAR_FREQ_[   CHAR_FREQ_!   CHAR_FREQ_$   CHAR_FREQ_#  \\\ncount  4.210000e+03  4.210000e+03  4.210000e+03  4.210000e+03   \nmean   6.488607e-17 -1.913895e-15  4.962433e-15 -1.364928e-15   \nstd    1.000119e+00  1.000119e+00  1.000119e+00  1.000119e+00   \nmin   -1.643641e-01 -3.334068e-01 -3.173253e-01 -1.050711e-01   \n25%   -1.643641e-01 -3.334068e-01 -3.173253e-01 -1.050711e-01   \n50%   -1.643641e-01 -3.144319e-01 -3.173253e-01 -1.050711e-01   \n75%   -1.643641e-01  5.913558e-02 -9.619715e-02 -1.050711e-01   \nmax    3.843832e+01  3.818318e+01  2.472857e+01  4.538756e+01   \n\n       CAPITAL_RUN_LENGTH_AVERAGE  CAPITAL_RUN_LENGTH_LONGEST  \\\ncount                4.210000e+03                4.210000e+03   \nmean                 2.236631e-16               -7.356480e-16   \nstd                  1.000119e+00                1.000119e+00   \nmin                 -1.322705e-01               -2.562653e-01   \n25%                 -1.133376e-01               -2.261989e-01   \n50%                 -9.313751e-02               -1.861104e-01   \n75%                 -5.060267e-02               -4.078958e-02   \nmax                  3.310208e+01                4.979423e+01   \n\n       CAPITAL_RUN_LENGTH_TOTAL          SPAM  \ncount              4.210000e+03  4.210000e+03  \nmean              -1.421138e-16  4.276880e-14  \nstd                1.000119e+00  1.000119e+00  \nmin               -4.691088e-01 -8.144778e-01  \n25%               -4.060613e-01 -8.144778e-01  \n50%               -3.066403e-01 -8.144778e-01  \n75%               -2.818053e-02  1.227780e+00  \nmax                2.513787e+01  1.227780e+00  \n\n[8 rows x 58 columns]",
      "text/html": "<div>\n<style scoped>\n    .dataframe tbody tr th:only-of-type {\n        vertical-align: middle;\n    }\n\n    .dataframe tbody tr th {\n        vertical-align: top;\n    }\n\n    .dataframe thead th {\n        text-align: right;\n    }\n</style>\n<table border=\"1\" class=\"dataframe\">\n  <thead>\n    <tr style=\"text-align: right;\">\n      <th></th>\n      <th>WORD_FREQ_MAKE</th>\n      <th>WORD_FREQ_ADDRESS</th>\n      <th>WORD_FREQ_ALL</th>\n      <th>WORD_FREQ_3D</th>\n      <th>WORD_FREQ_OUR</th>\n      <th>WORD_FREQ_OVER</th>\n      <th>WORD_FREQ_REMOVE</th>\n      <th>WORD_FREQ_INTERNET</th>\n      <th>WORD_FREQ_ORDER</th>\n      <th>WORD_FREQ_MAIL</th>\n      <th>...</th>\n      <th>CHAR_FREQ_;</th>\n      <th>CHAR_FREQ_(</th>\n      <th>CHAR_FREQ_[</th>\n      <th>CHAR_FREQ_!</th>\n      <th>CHAR_FREQ_$</th>\n      <th>CHAR_FREQ_#</th>\n      <th>CAPITAL_RUN_LENGTH_AVERAGE</th>\n      <th>CAPITAL_RUN_LENGTH_LONGEST</th>\n      <th>CAPITAL_RUN_LENGTH_TOTAL</th>\n      <th>SPAM</th>\n    </tr>\n  </thead>\n  <tbody>\n    <tr>\n      <th>count</th>\n      <td>4.210000e+03</td>\n      <td>4.210000e+03</td>\n      <td>4.210000e+03</td>\n      <td>4.210000e+03</td>\n      <td>4.210000e+03</td>\n      <td>4.210000e+03</td>\n      <td>4.210000e+03</td>\n      <td>4.210000e+03</td>\n      <td>4.210000e+03</td>\n      <td>4.210000e+03</td>\n      <td>...</td>\n      <td>4.210000e+03</td>\n      <td>4.210000e+03</td>\n      <td>4.210000e+03</td>\n      <td>4.210000e+03</td>\n      <td>4.210000e+03</td>\n      <td>4.210000e+03</td>\n      <td>4.210000e+03</td>\n      <td>4.210000e+03</td>\n      <td>4.210000e+03</td>\n      <td>4.210000e+03</td>\n    </tr>\n    <tr>\n      <th>mean</th>\n      <td>-3.480997e-15</td>\n      <td>-2.548357e-15</td>\n      <td>3.381328e-15</td>\n      <td>-2.009289e-15</td>\n      <td>-7.919384e-15</td>\n      <td>1.947347e-15</td>\n      <td>-2.535291e-15</td>\n      <td>-3.765370e-15</td>\n      <td>-4.663622e-15</td>\n      <td>2.867804e-15</td>\n      <td>...</td>\n      <td>-3.854122e-15</td>\n      <td>-1.138071e-15</td>\n      <td>6.488607e-17</td>\n      <td>-1.913895e-15</td>\n      <td>4.962433e-15</td>\n      <td>-1.364928e-15</td>\n      <td>2.236631e-16</td>\n      <td>-7.356480e-16</td>\n      <td>-1.421138e-16</td>\n      <td>4.276880e-14</td>\n    </tr>\n    <tr>\n      <th>std</th>\n      <td>1.000119e+00</td>\n      <td>1.000119e+00</td>\n      <td>1.000119e+00</td>\n      <td>1.000119e+00</td>\n      <td>1.000119e+00</td>\n      <td>1.000119e+00</td>\n      <td>1.000119e+00</td>\n      <td>1.000119e+00</td>\n      <td>1.000119e+00</td>\n      <td>1.000119e+00</td>\n      <td>...</td>\n      <td>1.000119e+00</td>\n      <td>1.000119e+00</td>\n      <td>1.000119e+00</td>\n      <td>1.000119e+00</td>\n      <td>1.000119e+00</td>\n      <td>1.000119e+00</td>\n      <td>1.000119e+00</td>\n      <td>1.000119e+00</td>\n      <td>1.000119e+00</td>\n      <td>1.000119e+00</td>\n    </tr>\n    <tr>\n      <th>min</th>\n      <td>-3.479216e-01</td>\n      <td>-2.480275e-01</td>\n      <td>-5.652450e-01</td>\n      <td>-4.664436e-02</td>\n      <td>-4.730399e-01</td>\n      <td>-3.502046e-01</td>\n      <td>-2.957308e-01</td>\n      <td>-2.632646e-01</td>\n      <td>-3.256168e-01</td>\n      <td>-3.783664e-01</td>\n      <td>...</td>\n      <td>-1.600104e-01</td>\n      <td>-5.252942e-01</td>\n      <td>-1.643641e-01</td>\n      <td>-3.334068e-01</td>\n      <td>-3.173253e-01</td>\n      <td>-1.050711e-01</td>\n      <td>-1.322705e-01</td>\n      <td>-2.562653e-01</td>\n      <td>-4.691088e-01</td>\n      <td>-8.144778e-01</td>\n    </tr>\n    <tr>\n      <th>25%</th>\n      <td>-3.479216e-01</td>\n      <td>-2.480275e-01</td>\n      <td>-5.652450e-01</td>\n      <td>-4.664436e-02</td>\n      <td>-4.730399e-01</td>\n      <td>-3.502046e-01</td>\n      <td>-2.957308e-01</td>\n      <td>-2.632646e-01</td>\n      <td>-3.256168e-01</td>\n      <td>-3.783664e-01</td>\n      <td>...</td>\n      <td>-1.600104e-01</td>\n      <td>-5.252942e-01</td>\n      <td>-1.643641e-01</td>\n      <td>-3.334068e-01</td>\n      <td>-3.173253e-01</td>\n      <td>-1.050711e-01</td>\n      <td>-1.133376e-01</td>\n      <td>-2.261989e-01</td>\n      <td>-4.060613e-01</td>\n      <td>-8.144778e-01</td>\n    </tr>\n    <tr>\n      <th>50%</th>\n      <td>-3.479216e-01</td>\n      <td>-2.480275e-01</td>\n      <td>-5.652450e-01</td>\n      <td>-4.664436e-02</td>\n      <td>-4.730399e-01</td>\n      <td>-3.502046e-01</td>\n      <td>-2.957308e-01</td>\n      <td>-2.632646e-01</td>\n      <td>-3.256168e-01</td>\n      <td>-3.783664e-01</td>\n      <td>...</td>\n      <td>-1.600104e-01</td>\n      <td>-2.590883e-01</td>\n      <td>-1.643641e-01</td>\n      <td>-3.144319e-01</td>\n      <td>-3.173253e-01</td>\n      <td>-1.050711e-01</td>\n      <td>-9.313751e-02</td>\n      <td>-1.861104e-01</td>\n      <td>-3.066403e-01</td>\n      <td>-8.144778e-01</td>\n    </tr>\n    <tr>\n      <th>75%</th>\n      <td>-3.479216e-01</td>\n      <td>-2.480275e-01</td>\n      <td>2.880349e-01</td>\n      <td>-4.664436e-02</td>\n      <td>1.231299e-01</td>\n      <td>-3.502046e-01</td>\n      <td>-2.957308e-01</td>\n      <td>-2.632646e-01</td>\n      <td>-3.256168e-01</td>\n      <td>-8.897950e-02</td>\n      <td>...</td>\n      <td>-1.600104e-01</td>\n      <td>1.821569e-01</td>\n      <td>-1.643641e-01</td>\n      <td>5.913558e-02</td>\n      <td>-9.619715e-02</td>\n      <td>-1.050711e-01</td>\n      <td>-5.060267e-02</td>\n      <td>-4.078958e-02</td>\n      <td>-2.818053e-02</td>\n      <td>1.227780e+00</td>\n    </tr>\n    <tr>\n      <th>max</th>\n      <td>1.478696e+01</td>\n      <td>3.119145e+01</td>\n      <td>9.325045e+00</td>\n      <td>3.160992e+01</td>\n      <td>1.406769e+01</td>\n      <td>2.095434e+01</td>\n      <td>1.800571e+01</td>\n      <td>2.681886e+01</td>\n      <td>1.831957e+01</td>\n      <td>2.731139e+01</td>\n      <td>...</td>\n      <td>1.720613e+01</td>\n      <td>3.503689e+01</td>\n      <td>3.843832e+01</td>\n      <td>3.818318e+01</td>\n      <td>2.472857e+01</td>\n      <td>4.538756e+01</td>\n      <td>3.310208e+01</td>\n      <td>4.979423e+01</td>\n      <td>2.513787e+01</td>\n      <td>1.227780e+00</td>\n    </tr>\n  </tbody>\n</table>\n<p>8 rows × 58 columns</p>\n</div>"
     },
     "execution_count": 16,
     "metadata": {},
     "output_type": "execute_result"
    }
   ],
   "source": [
    "df.describe()"
   ],
   "metadata": {
    "collapsed": false
   }
  },
  {
   "cell_type": "code",
   "execution_count": 17,
   "outputs": [
    {
     "data": {
      "text/plain": "<Figure size 640x480 with 1 Axes>",
      "image/png": "[encoded data removed]"
     },
     "metadata": {},
     "output_type": "display_data"
    }
   ],
   "source": [
    "from sklearn.decomposition import PCA\n",
    "pca = PCA()\n",
    "principalComponents = pca.fit_transform(df)\n",
    "plt.figure()\n",
    "plt.plot(np.cumsum(pca.explained_variance_ratio_))\n",
    "plt.xlabel('Number of Components')\n",
    "plt.ylabel('Variance (%)') #for each component\n",
    "plt.title('Explained Variance')\n",
    "plt.show()"
   ],
   "metadata": {
    "collapsed": false
   }
  },
  {
   "cell_type": "code",
   "execution_count": 18,
   "outputs": [],
   "source": [
    "from sklearn.preprocessing import StandardScaler\n",
    "sc=StandardScaler()\n",
    "new_data = sc.fit_transform(df)"
   ],
   "metadata": {
    "collapsed": false
   }
  },
  {
   "cell_type": "code",
   "execution_count": 19,
   "outputs": [],
   "source": [
    "from sklearn.decomposition import PCA\n",
    "pca = PCA(n_components=44)\n",
    "new_data_pca = pca.fit_transform(df)"
   ],
   "metadata": {
    "collapsed": false
   }
  },
  {
   "cell_type": "code",
   "execution_count": 20,
   "outputs": [],
   "source": [
    "from sklearn.model_selection import train_test_split\n",
    "x = df.drop('SPAM', axis = 1)\n",
    "bins = [-np.inf, 0.5, np.inf]  # define the bins\n",
    "labels = [0, 1]  # define the labels for the bins\n",
    "df['SPAM'] = pd.cut(df['SPAM'], bins=bins, labels=labels)  # perform binning\n",
    "y = df['SPAM']  # assign the target variable after binning\n",
    "x_train, x_test, y_train, y_test = train_test_split(x, y, test_size = 0.2, random_state = 42)"
   ],
   "metadata": {
    "collapsed": false
   }
  },
  {
   "cell_type": "code",
   "execution_count": 21,
   "outputs": [
    {
     "data": {
      "text/plain": "(3368, 57)"
     },
     "execution_count": 21,
     "metadata": {},
     "output_type": "execute_result"
    }
   ],
   "source": [
    "x_train.shape"
   ],
   "metadata": {
    "collapsed": false
   }
  },
  {
   "cell_type": "code",
   "execution_count": 22,
   "outputs": [
    {
     "data": {
      "text/plain": "(842, 57)"
     },
     "execution_count": 22,
     "metadata": {},
     "output_type": "execute_result"
    }
   ],
   "source": [
    "x_test.shape"
   ],
   "metadata": {
    "collapsed": false
   }
  },
  {
   "cell_type": "code",
   "execution_count": 23,
   "outputs": [
    {
     "name": "stdout",
     "output_type": "stream",
     "text": [
      "Time: 19.630908966064453 ms\n"
     ]
    }
   ],
   "source": [
    "from sklearn.linear_model import LogisticRegression\n",
    "model = LogisticRegression(solver='lbfgs', max_iter=1000)\n",
    "import time\n",
    "\n",
    "start = time.time()\n",
    "\n",
    "model.fit(x_train, y_train)\n",
    "\n",
    "end = time.time()\n",
    "\n",
    "print('Time: ' + str((end - start)*1000) + ' ms')"
   ],
   "metadata": {
    "collapsed": false
   }
  },
  {
   "cell_type": "code",
   "execution_count": 24,
   "outputs": [
    {
     "data": {
      "text/plain": "0.9144893111638955"
     },
     "execution_count": 24,
     "metadata": {},
     "output_type": "execute_result"
    }
   ],
   "source": [
    "from sklearn.metrics import accuracy_score\n",
    "y_pred = model.predict(x_test)\n",
    "accuracy_score(y_test, y_pred)"
   ],
   "metadata": {
    "collapsed": false
   }
  },
  {
   "cell_type": "code",
   "execution_count": 25,
   "outputs": [],
   "source": [
    "from sklearn.model_selection import train_test_split\n",
    "x_pca = new_data_pca  # use the principal components as the feature matrix\n",
    "y_pca = y  # use the same target variable as before\n",
    "x_train_pca, x_test_pca, y_train_pca, y_test_pca = train_test_split(x_pca, y_pca, test_size=0.2, random_state=42)"
   ],
   "metadata": {
    "collapsed": false
   }
  },
  {
   "cell_type": "code",
   "execution_count": 26,
   "outputs": [
    {
     "data": {
      "text/plain": "(3368, 44)"
     },
     "execution_count": 26,
     "metadata": {},
     "output_type": "execute_result"
    }
   ],
   "source": [
    "x_train_pca.shape"
   ],
   "metadata": {
    "collapsed": false
   }
  },
  {
   "cell_type": "code",
   "execution_count": 27,
   "outputs": [
    {
     "data": {
      "text/plain": "(842, 44)"
     },
     "execution_count": 27,
     "metadata": {},
     "output_type": "execute_result"
    }
   ],
   "source": [
    "x_test_pca.shape"
   ],
   "metadata": {
    "collapsed": false
   }
  },
  {
   "cell_type": "code",
   "execution_count": 28,
   "outputs": [
    {
     "name": "stdout",
     "output_type": "stream",
     "text": [
      "Time: 23.247241973876953 ms\n"
     ]
    }
   ],
   "source": [
    "from sklearn.linear_model import LogisticRegression\n",
    "model = LogisticRegression(solver='lbfgs', max_iter=1000)\n",
    "import time\n",
    "\n",
    "start = time.time()\n",
    "\n",
    "model.fit(x_train_pca, y_train_pca)\n",
    "\n",
    "end = time.time()\n",
    "\n",
    "print('Time: ' + str((end - start)*1000) + ' ms')"
   ],
   "metadata": {
    "collapsed": false
   }
  },
  {
   "cell_type": "code",
   "execution_count": 29,
   "outputs": [
    {
     "data": {
      "text/plain": "0.995249406175772"
     },
     "execution_count": 29,
     "metadata": {},
     "output_type": "execute_result"
    }
   ],
   "source": [
    "from sklearn.metrics import accuracy_score\n",
    "y_pred_pca = model.predict(x_test_pca)\n",
    "accuracy_score(y_test_pca, y_pred_pca)"
   ],
   "metadata": {
    "collapsed": false
   }
  },
  {
   "cell_type": "code",
   "execution_count": 30,
   "outputs": [],
   "source": [
    "def model_acc(model):\n",
    "    model.fit(x_train_pca, y_train)\n",
    "    acc = model.score(x_test_pca, y_test)\n",
    "    print(str(model)+ ' --> ' +str(acc))"
   ],
   "metadata": {
    "collapsed": false
   }
  },
  {
   "cell_type": "code",
   "execution_count": 31,
   "outputs": [
    {
     "name": "stdout",
     "output_type": "stream",
     "text": [
      "Lasso() --> -0.0048501415826112115\n",
      "DecisionTreeRegressor() --> 0.8154754695871325\n",
      "RandomForestRegressor() --> 0.9015930679308177\n",
      "KNeighborsClassifier() --> 0.9489311163895487\n"
     ]
    },
    {
     "name": "stderr",
     "output_type": "stream",
     "text": [
      "C:\\ProgramData\\Anaconda3\\lib\\site-packages\\sklearn\\neighbors\\_classification.py:228: FutureWarning: Unlike other reduction functions (e.g. `skew`, `kurtosis`), the default behavior of `mode` typically preserves the axis it acts along. In SciPy 1.11.0, this behavior will change: the default value of `keepdims` will become False, the `axis` over which the statistic is taken will be eliminated, and the value None will no longer be accepted. Set `keepdims` to True or False to avoid this warning.\n",
      "  mode, _ = stats.mode(_y[neigh_ind, k], axis=1)\n"
     ]
    }
   ],
   "source": [
    "from sklearn.linear_model import Lasso\n",
    "lasso = Lasso()\n",
    "model_acc(lasso)\n",
    "\n",
    "from sklearn.tree import DecisionTreeRegressor\n",
    "dt = DecisionTreeRegressor()\n",
    "model_acc(dt)\n",
    "\n",
    "from sklearn.ensemble import RandomForestRegressor\n",
    "rf = RandomForestRegressor()\n",
    "model_acc(rf)\n",
    "\n",
    "from sklearn.neighbors import KNeighborsClassifier\n",
    "rf =KNeighborsClassifier()\n",
    "model_acc(rf)"
   ],
   "metadata": {
    "collapsed": false
   }
  },
  {
   "cell_type": "code",
   "execution_count": 31,
   "outputs": [],
   "source": [],
   "metadata": {
    "collapsed": false
   }
  }
 ],
 "metadata": {
  "kernelspec": {
   "display_name": "Python 3",
   "language": "python",
   "name": "python3"
  },
  "language_info": {
   "codemirror_mode": {
    "name": "ipython",
    "version": 2
   },
   "file_extension": ".py",
   "mimetype": "text/x-python",
   "name": "python",
   "nbconvert_exporter": "python",
   "pygments_lexer": "ipython2",
   "version": "2.7.6"
  }
 },
 "nbformat": 4,
 "nbformat_minor": 0
}
