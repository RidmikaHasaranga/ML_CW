{
 "cells": [
  {
   "cell_type": "markdown",
   "id": "01cd5e80",
   "metadata": {},
   "source": [
    "## KNN - Predict whether a email is a Spam or Not"
   ]
  },
  {
   "cell_type": "code",
   "execution_count": 1,
   "id": "4eac8591",
   "metadata": {},
   "outputs": [],
   "source": [
    "# import necerssary libraries\n",
    "%matplotlib inline\n",
    "import numpy as np\n",
    "import matplotlib.pyplot as plt\n",
    "import pandas as pd\n",
    "import re"
   ]
  },
  {
   "cell_type": "code",
   "execution_count": 2,
   "id": "e0f74628",
   "metadata": {},
   "outputs": [
    {
     "data": {
      "text/plain": "   word_freq_make  word_freq_address  word_freq_all  word_freq_3d  \\\n0            0.00               0.64           0.64           0.0   \n1            0.21               0.28           0.50           0.0   \n2            0.06               0.00           0.71           0.0   \n3            0.00               0.00           0.00           0.0   \n4            0.00               0.00           0.00           0.0   \n\n   word_freq_our  word_freq_over  word_freq_remove  word_freq_internet  \\\n0           0.32            0.00              0.00                0.00   \n1           0.14            0.28              0.21                0.07   \n2           1.23            0.19              0.19                0.12   \n3           0.63            0.00              0.31                0.63   \n4           0.63            0.00              0.31                0.63   \n\n   word_freq_order  word_freq_mail  ...  char_freq_;  char_freq_(  \\\n0             0.00            0.00  ...         0.00        0.000   \n1             0.00            0.94  ...         0.00        0.132   \n2             0.64            0.25  ...         0.01        0.143   \n3             0.31            0.63  ...         0.00        0.137   \n4             0.31            0.63  ...         0.00        0.135   \n\n   char_freq_[  char_freq_!  char_freq_$  char_freq_#  \\\n0          0.0        0.778        0.000        0.000   \n1          0.0        0.372        0.180        0.048   \n2          0.0        0.276        0.184        0.010   \n3          0.0        0.137        0.000        0.000   \n4          0.0        0.135        0.000        0.000   \n\n   capital_run_length_average  capital_run_length_longest  \\\n0                       3.756                          61   \n1                       5.114                         101   \n2                       9.821                         485   \n3                       3.537                          40   \n4                       3.537                          40   \n\n   capital_run_length_total  spam  \n0                       278     1  \n1                      1028     1  \n2                      2259     1  \n3                       191     1  \n4                       191     1  \n\n[5 rows x 58 columns]",
      "text/html": "<div>\n<style scoped>\n    .dataframe tbody tr th:only-of-type {\n        vertical-align: middle;\n    }\n\n    .dataframe tbody tr th {\n        vertical-align: top;\n    }\n\n    .dataframe thead th {\n        text-align: right;\n    }\n</style>\n<table border=\"1\" class=\"dataframe\">\n  <thead>\n    <tr style=\"text-align: right;\">\n      <th></th>\n      <th>word_freq_make</th>\n      <th>word_freq_address</th>\n      <th>word_freq_all</th>\n      <th>word_freq_3d</th>\n      <th>word_freq_our</th>\n      <th>word_freq_over</th>\n      <th>word_freq_remove</th>\n      <th>word_freq_internet</th>\n      <th>word_freq_order</th>\n      <th>word_freq_mail</th>\n      <th>...</th>\n      <th>char_freq_;</th>\n      <th>char_freq_(</th>\n      <th>char_freq_[</th>\n      <th>char_freq_!</th>\n      <th>char_freq_$</th>\n      <th>char_freq_#</th>\n      <th>capital_run_length_average</th>\n      <th>capital_run_length_longest</th>\n      <th>capital_run_length_total</th>\n      <th>spam</th>\n    </tr>\n  </thead>\n  <tbody>\n    <tr>\n      <th>0</th>\n      <td>0.00</td>\n      <td>0.64</td>\n      <td>0.64</td>\n      <td>0.0</td>\n      <td>0.32</td>\n      <td>0.00</td>\n      <td>0.00</td>\n      <td>0.00</td>\n      <td>0.00</td>\n      <td>0.00</td>\n      <td>...</td>\n      <td>0.00</td>\n      <td>0.000</td>\n      <td>0.0</td>\n      <td>0.778</td>\n      <td>0.000</td>\n      <td>0.000</td>\n      <td>3.756</td>\n      <td>61</td>\n      <td>278</td>\n      <td>1</td>\n    </tr>\n    <tr>\n      <th>1</th>\n      <td>0.21</td>\n      <td>0.28</td>\n      <td>0.50</td>\n      <td>0.0</td>\n      <td>0.14</td>\n      <td>0.28</td>\n      <td>0.21</td>\n      <td>0.07</td>\n      <td>0.00</td>\n      <td>0.94</td>\n      <td>...</td>\n      <td>0.00</td>\n      <td>0.132</td>\n      <td>0.0</td>\n      <td>0.372</td>\n      <td>0.180</td>\n      <td>0.048</td>\n      <td>5.114</td>\n      <td>101</td>\n      <td>1028</td>\n      <td>1</td>\n    </tr>\n    <tr>\n      <th>2</th>\n      <td>0.06</td>\n      <td>0.00</td>\n      <td>0.71</td>\n      <td>0.0</td>\n      <td>1.23</td>\n      <td>0.19</td>\n      <td>0.19</td>\n      <td>0.12</td>\n      <td>0.64</td>\n      <td>0.25</td>\n      <td>...</td>\n      <td>0.01</td>\n      <td>0.143</td>\n      <td>0.0</td>\n      <td>0.276</td>\n      <td>0.184</td>\n      <td>0.010</td>\n      <td>9.821</td>\n      <td>485</td>\n      <td>2259</td>\n      <td>1</td>\n    </tr>\n    <tr>\n      <th>3</th>\n      <td>0.00</td>\n      <td>0.00</td>\n      <td>0.00</td>\n      <td>0.0</td>\n      <td>0.63</td>\n      <td>0.00</td>\n      <td>0.31</td>\n      <td>0.63</td>\n      <td>0.31</td>\n      <td>0.63</td>\n      <td>...</td>\n      <td>0.00</td>\n      <td>0.137</td>\n      <td>0.0</td>\n      <td>0.137</td>\n      <td>0.000</td>\n      <td>0.000</td>\n      <td>3.537</td>\n      <td>40</td>\n      <td>191</td>\n      <td>1</td>\n    </tr>\n    <tr>\n      <th>4</th>\n      <td>0.00</td>\n      <td>0.00</td>\n      <td>0.00</td>\n      <td>0.0</td>\n      <td>0.63</td>\n      <td>0.00</td>\n      <td>0.31</td>\n      <td>0.63</td>\n      <td>0.31</td>\n      <td>0.63</td>\n      <td>...</td>\n      <td>0.00</td>\n      <td>0.135</td>\n      <td>0.0</td>\n      <td>0.135</td>\n      <td>0.000</td>\n      <td>0.000</td>\n      <td>3.537</td>\n      <td>40</td>\n      <td>191</td>\n      <td>1</td>\n    </tr>\n  </tbody>\n</table>\n<p>5 rows × 58 columns</p>\n</div>"
     },
     "execution_count": 2,
     "metadata": {},
     "output_type": "execute_result"
    }
   ],
   "source": [
    "#Data_set=pd.read_csv(\"Spam.xls\")\n",
    "\n",
    "with open(\"spambase.names\") as spam:\n",
    " text = spam.read()\n",
    "labels = re.findall(r'\\n(\\w*_?\\W?):', text)\n",
    "#labels.append('Class')\n",
    "Data_set = pd.read_csv(\"spambase.data\", header=None, names=labels +['spam'])\n",
    "# spam = spamData.pop('spam')\n",
    "\n",
    "Data_array=Data_set.values\n",
    "# print(Data_array)\n",
    "Data_set.head()"
   ]
  },
  {
   "cell_type": "code",
   "execution_count": 3,
   "id": "c96a048f",
   "metadata": {},
   "outputs": [
    {
     "name": "stdout",
     "output_type": "stream",
     "text": [
      "No of rows in dataset before preprocessing :  4601\n"
     ]
    }
   ],
   "source": [
    "print(\"No of rows in dataset before preprocessing : \", len(Data_set))"
   ]
  },
  {
   "cell_type": "markdown",
   "id": "aeccd548",
   "metadata": {},
   "source": [
    "### Finding the duplicates in the dataset"
   ]
  },
  {
   "cell_type": "code",
   "execution_count": 4,
   "id": "a0acf6a0",
   "metadata": {},
   "outputs": [
    {
     "data": {
      "text/plain": "0       False\n1       False\n2       False\n3       False\n4       False\n        ...  \n4596    False\n4597    False\n4598    False\n4599    False\n4600    False\nLength: 4601, dtype: bool"
     },
     "execution_count": 4,
     "metadata": {},
     "output_type": "execute_result"
    }
   ],
   "source": [
    "Data_set.duplicated()"
   ]
  },
  {
   "cell_type": "markdown",
   "id": "94e5f5ad",
   "metadata": {},
   "source": [
    "### Dropping the duplicate values"
   ]
  },
  {
   "cell_type": "code",
   "execution_count": 5,
   "id": "a13e66b2",
   "metadata": {},
   "outputs": [],
   "source": [
    "Data_set.drop_duplicates(inplace=True)"
   ]
  },
  {
   "cell_type": "code",
   "execution_count": 6,
   "id": "1bb09625",
   "metadata": {},
   "outputs": [
    {
     "name": "stdout",
     "output_type": "stream",
     "text": [
      "No of rows in dataset after removing duplicates :  4210\n"
     ]
    }
   ],
   "source": [
    "print(\"No of rows in dataset after removing duplicates : \", len(Data_set))"
   ]
  },
  {
   "cell_type": "markdown",
   "id": "6e0fd204",
   "metadata": {},
   "source": [
    "### Finding the null values in the dataset"
   ]
  },
  {
   "cell_type": "code",
   "execution_count": 7,
   "id": "2f35c435",
   "metadata": {},
   "outputs": [
    {
     "data": {
      "text/plain": "word_freq_make                0\nword_freq_address             0\nword_freq_all                 0\nword_freq_3d                  0\nword_freq_our                 0\nword_freq_over                0\nword_freq_remove              0\nword_freq_internet            0\nword_freq_order               0\nword_freq_mail                0\nword_freq_receive             0\nword_freq_will                0\nword_freq_people              0\nword_freq_report              0\nword_freq_addresses           0\nword_freq_free                0\nword_freq_business            0\nword_freq_email               0\nword_freq_you                 0\nword_freq_credit              0\nword_freq_your                0\nword_freq_font                0\nword_freq_000                 0\nword_freq_money               0\nword_freq_hp                  0\nword_freq_hpl                 0\nword_freq_george              0\nword_freq_650                 0\nword_freq_lab                 0\nword_freq_labs                0\nword_freq_telnet              0\nword_freq_857                 0\nword_freq_data                0\nword_freq_415                 0\nword_freq_85                  0\nword_freq_technology          0\nword_freq_1999                0\nword_freq_parts               0\nword_freq_pm                  0\nword_freq_direct              0\nword_freq_cs                  0\nword_freq_meeting             0\nword_freq_original            0\nword_freq_project             0\nword_freq_re                  0\nword_freq_edu                 0\nword_freq_table               0\nword_freq_conference          0\nchar_freq_;                   0\nchar_freq_(                   0\nchar_freq_[                   0\nchar_freq_!                   0\nchar_freq_$                   0\nchar_freq_#                   0\ncapital_run_length_average    0\ncapital_run_length_longest    0\ncapital_run_length_total      0\nspam                          0\ndtype: int64"
     },
     "execution_count": 7,
     "metadata": {},
     "output_type": "execute_result"
    }
   ],
   "source": [
    "Data_set.isna().sum()"
   ]
  },
  {
   "cell_type": "markdown",
   "id": "bbd3f250",
   "metadata": {},
   "source": [
    "### Removing the target column "
   ]
  },
  {
   "cell_type": "code",
   "execution_count": 8,
   "id": "a1eb0cc2",
   "metadata": {},
   "outputs": [
    {
     "data": {
      "text/plain": "   word_freq_make  word_freq_address  word_freq_all  word_freq_3d  \\\n0            0.00               0.64           0.64           0.0   \n1            0.21               0.28           0.50           0.0   \n2            0.06               0.00           0.71           0.0   \n3            0.00               0.00           0.00           0.0   \n4            0.00               0.00           0.00           0.0   \n\n   word_freq_our  word_freq_over  word_freq_remove  word_freq_internet  \\\n0           0.32            0.00              0.00                0.00   \n1           0.14            0.28              0.21                0.07   \n2           1.23            0.19              0.19                0.12   \n3           0.63            0.00              0.31                0.63   \n4           0.63            0.00              0.31                0.63   \n\n   word_freq_order  word_freq_mail  ...  word_freq_conference  char_freq_;  \\\n0             0.00            0.00  ...                   0.0         0.00   \n1             0.00            0.94  ...                   0.0         0.00   \n2             0.64            0.25  ...                   0.0         0.01   \n3             0.31            0.63  ...                   0.0         0.00   \n4             0.31            0.63  ...                   0.0         0.00   \n\n   char_freq_(  char_freq_[  char_freq_!  char_freq_$  char_freq_#  \\\n0        0.000          0.0        0.778        0.000        0.000   \n1        0.132          0.0        0.372        0.180        0.048   \n2        0.143          0.0        0.276        0.184        0.010   \n3        0.137          0.0        0.137        0.000        0.000   \n4        0.135          0.0        0.135        0.000        0.000   \n\n   capital_run_length_average  capital_run_length_longest  \\\n0                       3.756                          61   \n1                       5.114                         101   \n2                       9.821                         485   \n3                       3.537                          40   \n4                       3.537                          40   \n\n   capital_run_length_total  \n0                       278  \n1                      1028  \n2                      2259  \n3                       191  \n4                       191  \n\n[5 rows x 57 columns]",
      "text/html": "<div>\n<style scoped>\n    .dataframe tbody tr th:only-of-type {\n        vertical-align: middle;\n    }\n\n    .dataframe tbody tr th {\n        vertical-align: top;\n    }\n\n    .dataframe thead th {\n        text-align: right;\n    }\n</style>\n<table border=\"1\" class=\"dataframe\">\n  <thead>\n    <tr style=\"text-align: right;\">\n      <th></th>\n      <th>word_freq_make</th>\n      <th>word_freq_address</th>\n      <th>word_freq_all</th>\n      <th>word_freq_3d</th>\n      <th>word_freq_our</th>\n      <th>word_freq_over</th>\n      <th>word_freq_remove</th>\n      <th>word_freq_internet</th>\n      <th>word_freq_order</th>\n      <th>word_freq_mail</th>\n      <th>...</th>\n      <th>word_freq_conference</th>\n      <th>char_freq_;</th>\n      <th>char_freq_(</th>\n      <th>char_freq_[</th>\n      <th>char_freq_!</th>\n      <th>char_freq_$</th>\n      <th>char_freq_#</th>\n      <th>capital_run_length_average</th>\n      <th>capital_run_length_longest</th>\n      <th>capital_run_length_total</th>\n    </tr>\n  </thead>\n  <tbody>\n    <tr>\n      <th>0</th>\n      <td>0.00</td>\n      <td>0.64</td>\n      <td>0.64</td>\n      <td>0.0</td>\n      <td>0.32</td>\n      <td>0.00</td>\n      <td>0.00</td>\n      <td>0.00</td>\n      <td>0.00</td>\n      <td>0.00</td>\n      <td>...</td>\n      <td>0.0</td>\n      <td>0.00</td>\n      <td>0.000</td>\n      <td>0.0</td>\n      <td>0.778</td>\n      <td>0.000</td>\n      <td>0.000</td>\n      <td>3.756</td>\n      <td>61</td>\n      <td>278</td>\n    </tr>\n    <tr>\n      <th>1</th>\n      <td>0.21</td>\n      <td>0.28</td>\n      <td>0.50</td>\n      <td>0.0</td>\n      <td>0.14</td>\n      <td>0.28</td>\n      <td>0.21</td>\n      <td>0.07</td>\n      <td>0.00</td>\n      <td>0.94</td>\n      <td>...</td>\n      <td>0.0</td>\n      <td>0.00</td>\n      <td>0.132</td>\n      <td>0.0</td>\n      <td>0.372</td>\n      <td>0.180</td>\n      <td>0.048</td>\n      <td>5.114</td>\n      <td>101</td>\n      <td>1028</td>\n    </tr>\n    <tr>\n      <th>2</th>\n      <td>0.06</td>\n      <td>0.00</td>\n      <td>0.71</td>\n      <td>0.0</td>\n      <td>1.23</td>\n      <td>0.19</td>\n      <td>0.19</td>\n      <td>0.12</td>\n      <td>0.64</td>\n      <td>0.25</td>\n      <td>...</td>\n      <td>0.0</td>\n      <td>0.01</td>\n      <td>0.143</td>\n      <td>0.0</td>\n      <td>0.276</td>\n      <td>0.184</td>\n      <td>0.010</td>\n      <td>9.821</td>\n      <td>485</td>\n      <td>2259</td>\n    </tr>\n    <tr>\n      <th>3</th>\n      <td>0.00</td>\n      <td>0.00</td>\n      <td>0.00</td>\n      <td>0.0</td>\n      <td>0.63</td>\n      <td>0.00</td>\n      <td>0.31</td>\n      <td>0.63</td>\n      <td>0.31</td>\n      <td>0.63</td>\n      <td>...</td>\n      <td>0.0</td>\n      <td>0.00</td>\n      <td>0.137</td>\n      <td>0.0</td>\n      <td>0.137</td>\n      <td>0.000</td>\n      <td>0.000</td>\n      <td>3.537</td>\n      <td>40</td>\n      <td>191</td>\n    </tr>\n    <tr>\n      <th>4</th>\n      <td>0.00</td>\n      <td>0.00</td>\n      <td>0.00</td>\n      <td>0.0</td>\n      <td>0.63</td>\n      <td>0.00</td>\n      <td>0.31</td>\n      <td>0.63</td>\n      <td>0.31</td>\n      <td>0.63</td>\n      <td>...</td>\n      <td>0.0</td>\n      <td>0.00</td>\n      <td>0.135</td>\n      <td>0.0</td>\n      <td>0.135</td>\n      <td>0.000</td>\n      <td>0.000</td>\n      <td>3.537</td>\n      <td>40</td>\n      <td>191</td>\n    </tr>\n  </tbody>\n</table>\n<p>5 rows × 57 columns</p>\n</div>"
     },
     "execution_count": 8,
     "metadata": {},
     "output_type": "execute_result"
    }
   ],
   "source": [
    "data=Data_set.drop(labels=['spam'], axis=1)\n",
    "data.head()"
   ]
  },
  {
   "cell_type": "code",
   "execution_count": 9,
   "id": "b6690b4c",
   "metadata": {},
   "outputs": [
    {
     "name": "stdout",
     "output_type": "stream",
     "text": [
      "No of rows in dataset after preprocessing :  4210\n"
     ]
    }
   ],
   "source": [
    "print(\"No of rows in dataset after preprocessing : \", len(Data_set))"
   ]
  },
  {
   "cell_type": "markdown",
   "id": "4dc26702",
   "metadata": {},
   "source": [
    "### Summary of dataset before performing Standard Scaler"
   ]
  },
  {
   "cell_type": "code",
   "execution_count": 10,
   "id": "f74c56ac",
   "metadata": {},
   "outputs": [
    {
     "data": {
      "text/plain": "       word_freq_make  word_freq_address  word_freq_all  word_freq_3d  \\\ncount     4210.000000        4210.000000    4210.000000   4210.000000   \nmean         0.104366           0.112656       0.291473      0.063078   \nstd          0.300005           0.454260       0.515719      1.352487   \nmin          0.000000           0.000000       0.000000      0.000000   \n25%          0.000000           0.000000       0.000000      0.000000   \n50%          0.000000           0.000000       0.000000      0.000000   \n75%          0.000000           0.000000       0.440000      0.000000   \nmax          4.540000          14.280000       5.100000     42.810000   \n\n       word_freq_our  word_freq_over  word_freq_remove  word_freq_internet  \\\ncount    4210.000000     4210.000000       4210.000000         4210.000000   \nmean        0.325321        0.096656          0.117475            0.108000   \nstd         0.687805        0.276030          0.397284            0.410282   \nmin         0.000000        0.000000          0.000000            0.000000   \n25%         0.000000        0.000000          0.000000            0.000000   \n50%         0.000000        0.000000          0.000000            0.000000   \n75%         0.410000        0.000000          0.000000            0.000000   \nmax        10.000000        5.880000          7.270000           11.110000   \n\n       word_freq_order  word_freq_mail  ...  word_freq_conference  \\\ncount      4210.000000     4210.000000  ...           4210.000000   \nmean          0.091860        0.248420  ...              0.034746   \nstd           0.282144        0.656638  ...              0.298521   \nmin           0.000000        0.000000  ...              0.000000   \n25%           0.000000        0.000000  ...              0.000000   \n50%           0.000000        0.000000  ...              0.000000   \n75%           0.000000        0.190000  ...              0.000000   \nmax           5.260000       18.180000  ...             10.000000   \n\n       char_freq_;  char_freq_(  char_freq_[  char_freq_!  char_freq_$  \\\ncount  4210.000000  4210.000000  4210.000000  4210.000000  4210.000000   \nmean      0.040403     0.144048     0.017376     0.281136     0.076057   \nstd       0.252533     0.274256     0.105731     0.843321     0.239708   \nmin       0.000000     0.000000     0.000000     0.000000     0.000000   \n25%       0.000000     0.000000     0.000000     0.000000     0.000000   \n50%       0.000000     0.073000     0.000000     0.016000     0.000000   \n75%       0.000000     0.194000     0.000000     0.331000     0.053000   \nmax       4.385000     9.752000     4.081000    32.478000     6.003000   \n\n       char_freq_#  capital_run_length_average  capital_run_length_longest  \\\ncount  4210.000000                 4210.000000                 4210.000000   \nmean      0.045798                    5.383896                   52.139905   \nstd       0.435925                   33.147358                  199.582168   \nmin       0.000000                    1.000000                    1.000000   \n25%       0.000000                    1.627500                    7.000000   \n50%       0.000000                    2.297000                   15.000000   \n75%       0.000000                    3.706750                   44.000000   \nmax      19.829000                 1102.500000                 9989.000000   \n\n       capital_run_length_total  \ncount               4210.000000  \nmean                 291.181948  \nstd                  618.654838  \nmin                    1.000000  \n25%                   40.000000  \n50%                  101.500000  \n75%                  273.750000  \nmax                15841.000000  \n\n[8 rows x 57 columns]",
      "text/html": "<div>\n<style scoped>\n    .dataframe tbody tr th:only-of-type {\n        vertical-align: middle;\n    }\n\n    .dataframe tbody tr th {\n        vertical-align: top;\n    }\n\n    .dataframe thead th {\n        text-align: right;\n    }\n</style>\n<table border=\"1\" class=\"dataframe\">\n  <thead>\n    <tr style=\"text-align: right;\">\n      <th></th>\n      <th>word_freq_make</th>\n      <th>word_freq_address</th>\n      <th>word_freq_all</th>\n      <th>word_freq_3d</th>\n      <th>word_freq_our</th>\n      <th>word_freq_over</th>\n      <th>word_freq_remove</th>\n      <th>word_freq_internet</th>\n      <th>word_freq_order</th>\n      <th>word_freq_mail</th>\n      <th>...</th>\n      <th>word_freq_conference</th>\n      <th>char_freq_;</th>\n      <th>char_freq_(</th>\n      <th>char_freq_[</th>\n      <th>char_freq_!</th>\n      <th>char_freq_$</th>\n      <th>char_freq_#</th>\n      <th>capital_run_length_average</th>\n      <th>capital_run_length_longest</th>\n      <th>capital_run_length_total</th>\n    </tr>\n  </thead>\n  <tbody>\n    <tr>\n      <th>count</th>\n      <td>4210.000000</td>\n      <td>4210.000000</td>\n      <td>4210.000000</td>\n      <td>4210.000000</td>\n      <td>4210.000000</td>\n      <td>4210.000000</td>\n      <td>4210.000000</td>\n      <td>4210.000000</td>\n      <td>4210.000000</td>\n      <td>4210.000000</td>\n      <td>...</td>\n      <td>4210.000000</td>\n      <td>4210.000000</td>\n      <td>4210.000000</td>\n      <td>4210.000000</td>\n      <td>4210.000000</td>\n      <td>4210.000000</td>\n      <td>4210.000000</td>\n      <td>4210.000000</td>\n      <td>4210.000000</td>\n      <td>4210.000000</td>\n    </tr>\n    <tr>\n      <th>mean</th>\n      <td>0.104366</td>\n      <td>0.112656</td>\n      <td>0.291473</td>\n      <td>0.063078</td>\n      <td>0.325321</td>\n      <td>0.096656</td>\n      <td>0.117475</td>\n      <td>0.108000</td>\n      <td>0.091860</td>\n      <td>0.248420</td>\n      <td>...</td>\n      <td>0.034746</td>\n      <td>0.040403</td>\n      <td>0.144048</td>\n      <td>0.017376</td>\n      <td>0.281136</td>\n      <td>0.076057</td>\n      <td>0.045798</td>\n      <td>5.383896</td>\n      <td>52.139905</td>\n      <td>291.181948</td>\n    </tr>\n    <tr>\n      <th>std</th>\n      <td>0.300005</td>\n      <td>0.454260</td>\n      <td>0.515719</td>\n      <td>1.352487</td>\n      <td>0.687805</td>\n      <td>0.276030</td>\n      <td>0.397284</td>\n      <td>0.410282</td>\n      <td>0.282144</td>\n      <td>0.656638</td>\n      <td>...</td>\n      <td>0.298521</td>\n      <td>0.252533</td>\n      <td>0.274256</td>\n      <td>0.105731</td>\n      <td>0.843321</td>\n      <td>0.239708</td>\n      <td>0.435925</td>\n      <td>33.147358</td>\n      <td>199.582168</td>\n      <td>618.654838</td>\n    </tr>\n    <tr>\n      <th>min</th>\n      <td>0.000000</td>\n      <td>0.000000</td>\n      <td>0.000000</td>\n      <td>0.000000</td>\n      <td>0.000000</td>\n      <td>0.000000</td>\n      <td>0.000000</td>\n      <td>0.000000</td>\n      <td>0.000000</td>\n      <td>0.000000</td>\n      <td>...</td>\n      <td>0.000000</td>\n      <td>0.000000</td>\n      <td>0.000000</td>\n      <td>0.000000</td>\n      <td>0.000000</td>\n      <td>0.000000</td>\n      <td>0.000000</td>\n      <td>1.000000</td>\n      <td>1.000000</td>\n      <td>1.000000</td>\n    </tr>\n    <tr>\n      <th>25%</th>\n      <td>0.000000</td>\n      <td>0.000000</td>\n      <td>0.000000</td>\n      <td>0.000000</td>\n      <td>0.000000</td>\n      <td>0.000000</td>\n      <td>0.000000</td>\n      <td>0.000000</td>\n      <td>0.000000</td>\n      <td>0.000000</td>\n      <td>...</td>\n      <td>0.000000</td>\n      <td>0.000000</td>\n      <td>0.000000</td>\n      <td>0.000000</td>\n      <td>0.000000</td>\n      <td>0.000000</td>\n      <td>0.000000</td>\n      <td>1.627500</td>\n      <td>7.000000</td>\n      <td>40.000000</td>\n    </tr>\n    <tr>\n      <th>50%</th>\n      <td>0.000000</td>\n      <td>0.000000</td>\n      <td>0.000000</td>\n      <td>0.000000</td>\n      <td>0.000000</td>\n      <td>0.000000</td>\n      <td>0.000000</td>\n      <td>0.000000</td>\n      <td>0.000000</td>\n      <td>0.000000</td>\n      <td>...</td>\n      <td>0.000000</td>\n      <td>0.000000</td>\n      <td>0.073000</td>\n      <td>0.000000</td>\n      <td>0.016000</td>\n      <td>0.000000</td>\n      <td>0.000000</td>\n      <td>2.297000</td>\n      <td>15.000000</td>\n      <td>101.500000</td>\n    </tr>\n    <tr>\n      <th>75%</th>\n      <td>0.000000</td>\n      <td>0.000000</td>\n      <td>0.440000</td>\n      <td>0.000000</td>\n      <td>0.410000</td>\n      <td>0.000000</td>\n      <td>0.000000</td>\n      <td>0.000000</td>\n      <td>0.000000</td>\n      <td>0.190000</td>\n      <td>...</td>\n      <td>0.000000</td>\n      <td>0.000000</td>\n      <td>0.194000</td>\n      <td>0.000000</td>\n      <td>0.331000</td>\n      <td>0.053000</td>\n      <td>0.000000</td>\n      <td>3.706750</td>\n      <td>44.000000</td>\n      <td>273.750000</td>\n    </tr>\n    <tr>\n      <th>max</th>\n      <td>4.540000</td>\n      <td>14.280000</td>\n      <td>5.100000</td>\n      <td>42.810000</td>\n      <td>10.000000</td>\n      <td>5.880000</td>\n      <td>7.270000</td>\n      <td>11.110000</td>\n      <td>5.260000</td>\n      <td>18.180000</td>\n      <td>...</td>\n      <td>10.000000</td>\n      <td>4.385000</td>\n      <td>9.752000</td>\n      <td>4.081000</td>\n      <td>32.478000</td>\n      <td>6.003000</td>\n      <td>19.829000</td>\n      <td>1102.500000</td>\n      <td>9989.000000</td>\n      <td>15841.000000</td>\n    </tr>\n  </tbody>\n</table>\n<p>8 rows × 57 columns</p>\n</div>"
     },
     "execution_count": 10,
     "metadata": {},
     "output_type": "execute_result"
    }
   ],
   "source": [
    "data.describe()"
   ]
  },
  {
   "cell_type": "markdown",
   "id": "89e773b7",
   "metadata": {},
   "source": [
    "### Performing Standard Scaling for the dataset"
   ]
  },
  {
   "cell_type": "code",
   "execution_count": 11,
   "id": "38737634",
   "metadata": {},
   "outputs": [
    {
     "data": {
      "text/plain": "      word_freq_make  word_freq_address  word_freq_all  word_freq_3d  \\\n0          -0.347922           1.161025       0.675889     -0.046644   \n1           0.352150           0.368433       0.404391     -0.046644   \n2          -0.147901          -0.248027       0.811639     -0.046644   \n3          -0.347922          -0.248027      -0.565245     -0.046644   \n4          -0.347922          -0.248027      -0.565245     -0.046644   \n...              ...                ...            ...           ...   \n4205        0.685518          -0.248027       0.637104     -0.046644   \n4206       -0.347922          -0.248027      -0.565245     -0.046644   \n4207        0.652181          -0.248027       0.016537     -0.046644   \n4208        2.852406          -0.248027      -0.565245     -0.046644   \n4209       -0.347922          -0.248027       0.695282     -0.046644   \n\n      word_freq_our  word_freq_over  word_freq_remove  word_freq_internet  \\\n0         -0.007737       -0.350205         -0.295731           -0.263265   \n1         -0.269470        0.664297          0.232922           -0.092630   \n2          1.315470        0.338207          0.182574            0.029252   \n3          0.443026       -0.350205          0.484661            1.272445   \n4          0.443026       -0.350205          0.484661            1.272445   \n...             ...             ...               ...                 ...   \n4205      -0.473040        0.772994         -0.295731           -0.263265   \n4206      -0.473040       -0.350205         -0.295731           -0.263265   \n4207      -0.473040       -0.350205         -0.295731           -0.263265   \n4208      -0.007737       -0.350205         -0.295731           -0.263265   \n4209      -0.473040       -0.350205         -0.295731           -0.263265   \n\n      word_freq_order  word_freq_mail  ...  word_freq_conference  char_freq_;  \\\n0           -0.325617       -0.378366  ...             -0.116407    -0.160010   \n1           -0.325617        1.053337  ...             -0.116407    -0.160010   \n2            1.943000        0.002406  ...             -0.116407    -0.120407   \n3            0.773244        0.581180  ...             -0.116407    -0.160010   \n4            0.773244        0.581180  ...             -0.116407    -0.160010   \n...               ...             ...  ...                   ...          ...   \n4205        -0.325617       -0.378366  ...             -0.116407    -0.160010   \n4206        -0.325617       -0.378366  ...             -0.116407    -0.160010   \n4207        -0.325617       -0.378366  ...             -0.116407     0.243945   \n4208        -0.325617       -0.378366  ...             -0.116407    -0.160010   \n4209        -0.325617       -0.378366  ...             -0.116407    -0.160010   \n\n      char_freq_(  char_freq_[  char_freq_!  char_freq_$  char_freq_#  \\\n0       -0.525294    -0.164364     0.589246    -0.317325    -0.105071   \n1       -0.043936    -0.164364     0.107759     0.433676     0.005053   \n2       -0.003822    -0.164364    -0.006090     0.450365    -0.082129   \n3       -0.025702    -0.164364    -0.170935    -0.317325    -0.105071   \n4       -0.032996    -0.164364    -0.173306    -0.317325    -0.105071   \n...           ...          ...          ...          ...          ...   \n4205     0.320730    -0.164364    -0.333407    -0.317325    -0.105071   \n4206    -0.525294    -0.164364     0.085226    -0.317325    -0.105071   \n4207     2.093004    -0.164364    -0.333407    -0.317325    -0.105071   \n4208    -0.317435    -0.164364    -0.333407    -0.317325    -0.105071   \n4209    -0.525294    -0.164364    -0.185166    -0.317325    -0.105071   \n\n      capital_run_length_average  capital_run_length_longest  \\\n0                      -0.049117                    0.044398   \n1                      -0.008143                    0.244841   \n2                       0.133876                    2.169089   \n3                      -0.055724                   -0.060834   \n4                      -0.055724                   -0.060834   \n...                          ...                         ...   \n4205                   -0.127986                   -0.246243   \n4206                   -0.115525                   -0.241232   \n4207                   -0.120081                   -0.231210   \n4208                   -0.127835                   -0.236221   \n4209                   -0.124727                   -0.236221   \n\n      capital_run_length_total  \n0                    -0.021310  \n1                     1.191142  \n2                     3.181179  \n3                    -0.161954  \n4                    -0.161954  \n...                        ...  \n4205                 -0.328464  \n4206                 -0.448093  \n4207                 -0.279966  \n4208                 -0.344630  \n4209                 -0.406061  \n\n[4210 rows x 57 columns]",
      "text/html": "<div>\n<style scoped>\n    .dataframe tbody tr th:only-of-type {\n        vertical-align: middle;\n    }\n\n    .dataframe tbody tr th {\n        vertical-align: top;\n    }\n\n    .dataframe thead th {\n        text-align: right;\n    }\n</style>\n<table border=\"1\" class=\"dataframe\">\n  <thead>\n    <tr style=\"text-align: right;\">\n      <th></th>\n      <th>word_freq_make</th>\n      <th>word_freq_address</th>\n      <th>word_freq_all</th>\n      <th>word_freq_3d</th>\n      <th>word_freq_our</th>\n      <th>word_freq_over</th>\n      <th>word_freq_remove</th>\n      <th>word_freq_internet</th>\n      <th>word_freq_order</th>\n      <th>word_freq_mail</th>\n      <th>...</th>\n      <th>word_freq_conference</th>\n      <th>char_freq_;</th>\n      <th>char_freq_(</th>\n      <th>char_freq_[</th>\n      <th>char_freq_!</th>\n      <th>char_freq_$</th>\n      <th>char_freq_#</th>\n      <th>capital_run_length_average</th>\n      <th>capital_run_length_longest</th>\n      <th>capital_run_length_total</th>\n    </tr>\n  </thead>\n  <tbody>\n    <tr>\n      <th>0</th>\n      <td>-0.347922</td>\n      <td>1.161025</td>\n      <td>0.675889</td>\n      <td>-0.046644</td>\n      <td>-0.007737</td>\n      <td>-0.350205</td>\n      <td>-0.295731</td>\n      <td>-0.263265</td>\n      <td>-0.325617</td>\n      <td>-0.378366</td>\n      <td>...</td>\n      <td>-0.116407</td>\n      <td>-0.160010</td>\n      <td>-0.525294</td>\n      <td>-0.164364</td>\n      <td>0.589246</td>\n      <td>-0.317325</td>\n      <td>-0.105071</td>\n      <td>-0.049117</td>\n      <td>0.044398</td>\n      <td>-0.021310</td>\n    </tr>\n    <tr>\n      <th>1</th>\n      <td>0.352150</td>\n      <td>0.368433</td>\n      <td>0.404391</td>\n      <td>-0.046644</td>\n      <td>-0.269470</td>\n      <td>0.664297</td>\n      <td>0.232922</td>\n      <td>-0.092630</td>\n      <td>-0.325617</td>\n      <td>1.053337</td>\n      <td>...</td>\n      <td>-0.116407</td>\n      <td>-0.160010</td>\n      <td>-0.043936</td>\n      <td>-0.164364</td>\n      <td>0.107759</td>\n      <td>0.433676</td>\n      <td>0.005053</td>\n      <td>-0.008143</td>\n      <td>0.244841</td>\n      <td>1.191142</td>\n    </tr>\n    <tr>\n      <th>2</th>\n      <td>-0.147901</td>\n      <td>-0.248027</td>\n      <td>0.811639</td>\n      <td>-0.046644</td>\n      <td>1.315470</td>\n      <td>0.338207</td>\n      <td>0.182574</td>\n      <td>0.029252</td>\n      <td>1.943000</td>\n      <td>0.002406</td>\n      <td>...</td>\n      <td>-0.116407</td>\n      <td>-0.120407</td>\n      <td>-0.003822</td>\n      <td>-0.164364</td>\n      <td>-0.006090</td>\n      <td>0.450365</td>\n      <td>-0.082129</td>\n      <td>0.133876</td>\n      <td>2.169089</td>\n      <td>3.181179</td>\n    </tr>\n    <tr>\n      <th>3</th>\n      <td>-0.347922</td>\n      <td>-0.248027</td>\n      <td>-0.565245</td>\n      <td>-0.046644</td>\n      <td>0.443026</td>\n      <td>-0.350205</td>\n      <td>0.484661</td>\n      <td>1.272445</td>\n      <td>0.773244</td>\n      <td>0.581180</td>\n      <td>...</td>\n      <td>-0.116407</td>\n      <td>-0.160010</td>\n      <td>-0.025702</td>\n      <td>-0.164364</td>\n      <td>-0.170935</td>\n      <td>-0.317325</td>\n      <td>-0.105071</td>\n      <td>-0.055724</td>\n      <td>-0.060834</td>\n      <td>-0.161954</td>\n    </tr>\n    <tr>\n      <th>4</th>\n      <td>-0.347922</td>\n      <td>-0.248027</td>\n      <td>-0.565245</td>\n      <td>-0.046644</td>\n      <td>0.443026</td>\n      <td>-0.350205</td>\n      <td>0.484661</td>\n      <td>1.272445</td>\n      <td>0.773244</td>\n      <td>0.581180</td>\n      <td>...</td>\n      <td>-0.116407</td>\n      <td>-0.160010</td>\n      <td>-0.032996</td>\n      <td>-0.164364</td>\n      <td>-0.173306</td>\n      <td>-0.317325</td>\n      <td>-0.105071</td>\n      <td>-0.055724</td>\n      <td>-0.060834</td>\n      <td>-0.161954</td>\n    </tr>\n    <tr>\n      <th>...</th>\n      <td>...</td>\n      <td>...</td>\n      <td>...</td>\n      <td>...</td>\n      <td>...</td>\n      <td>...</td>\n      <td>...</td>\n      <td>...</td>\n      <td>...</td>\n      <td>...</td>\n      <td>...</td>\n      <td>...</td>\n      <td>...</td>\n      <td>...</td>\n      <td>...</td>\n      <td>...</td>\n      <td>...</td>\n      <td>...</td>\n      <td>...</td>\n      <td>...</td>\n      <td>...</td>\n    </tr>\n    <tr>\n      <th>4205</th>\n      <td>0.685518</td>\n      <td>-0.248027</td>\n      <td>0.637104</td>\n      <td>-0.046644</td>\n      <td>-0.473040</td>\n      <td>0.772994</td>\n      <td>-0.295731</td>\n      <td>-0.263265</td>\n      <td>-0.325617</td>\n      <td>-0.378366</td>\n      <td>...</td>\n      <td>-0.116407</td>\n      <td>-0.160010</td>\n      <td>0.320730</td>\n      <td>-0.164364</td>\n      <td>-0.333407</td>\n      <td>-0.317325</td>\n      <td>-0.105071</td>\n      <td>-0.127986</td>\n      <td>-0.246243</td>\n      <td>-0.328464</td>\n    </tr>\n    <tr>\n      <th>4206</th>\n      <td>-0.347922</td>\n      <td>-0.248027</td>\n      <td>-0.565245</td>\n      <td>-0.046644</td>\n      <td>-0.473040</td>\n      <td>-0.350205</td>\n      <td>-0.295731</td>\n      <td>-0.263265</td>\n      <td>-0.325617</td>\n      <td>-0.378366</td>\n      <td>...</td>\n      <td>-0.116407</td>\n      <td>-0.160010</td>\n      <td>-0.525294</td>\n      <td>-0.164364</td>\n      <td>0.085226</td>\n      <td>-0.317325</td>\n      <td>-0.105071</td>\n      <td>-0.115525</td>\n      <td>-0.241232</td>\n      <td>-0.448093</td>\n    </tr>\n    <tr>\n      <th>4207</th>\n      <td>0.652181</td>\n      <td>-0.248027</td>\n      <td>0.016537</td>\n      <td>-0.046644</td>\n      <td>-0.473040</td>\n      <td>-0.350205</td>\n      <td>-0.295731</td>\n      <td>-0.263265</td>\n      <td>-0.325617</td>\n      <td>-0.378366</td>\n      <td>...</td>\n      <td>-0.116407</td>\n      <td>0.243945</td>\n      <td>2.093004</td>\n      <td>-0.164364</td>\n      <td>-0.333407</td>\n      <td>-0.317325</td>\n      <td>-0.105071</td>\n      <td>-0.120081</td>\n      <td>-0.231210</td>\n      <td>-0.279966</td>\n    </tr>\n    <tr>\n      <th>4208</th>\n      <td>2.852406</td>\n      <td>-0.248027</td>\n      <td>-0.565245</td>\n      <td>-0.046644</td>\n      <td>-0.007737</td>\n      <td>-0.350205</td>\n      <td>-0.295731</td>\n      <td>-0.263265</td>\n      <td>-0.325617</td>\n      <td>-0.378366</td>\n      <td>...</td>\n      <td>-0.116407</td>\n      <td>-0.160010</td>\n      <td>-0.317435</td>\n      <td>-0.164364</td>\n      <td>-0.333407</td>\n      <td>-0.317325</td>\n      <td>-0.105071</td>\n      <td>-0.127835</td>\n      <td>-0.236221</td>\n      <td>-0.344630</td>\n    </tr>\n    <tr>\n      <th>4209</th>\n      <td>-0.347922</td>\n      <td>-0.248027</td>\n      <td>0.695282</td>\n      <td>-0.046644</td>\n      <td>-0.473040</td>\n      <td>-0.350205</td>\n      <td>-0.295731</td>\n      <td>-0.263265</td>\n      <td>-0.325617</td>\n      <td>-0.378366</td>\n      <td>...</td>\n      <td>-0.116407</td>\n      <td>-0.160010</td>\n      <td>-0.525294</td>\n      <td>-0.164364</td>\n      <td>-0.185166</td>\n      <td>-0.317325</td>\n      <td>-0.105071</td>\n      <td>-0.124727</td>\n      <td>-0.236221</td>\n      <td>-0.406061</td>\n    </tr>\n  </tbody>\n</table>\n<p>4210 rows × 57 columns</p>\n</div>"
     },
     "execution_count": 11,
     "metadata": {},
     "output_type": "execute_result"
    }
   ],
   "source": [
    "from sklearn.preprocessing import StandardScaler\n",
    "scaler=StandardScaler()\n",
    "scaled_data=scaler.fit_transform(data)\n",
    "df=pd.DataFrame(data=scaled_data, columns= data.columns)\n",
    "df"
   ]
  },
  {
   "cell_type": "markdown",
   "id": "bed5020e",
   "metadata": {},
   "source": [
    "### Summmary of dataset after performing Standard Scaling"
   ]
  },
  {
   "cell_type": "code",
   "execution_count": 12,
   "id": "825327f1",
   "metadata": {},
   "outputs": [
    {
     "data": {
      "text/plain": "       word_freq_make  word_freq_address  word_freq_all  word_freq_3d  \\\ncount    4.210000e+03       4.210000e+03   4.210000e+03  4.210000e+03   \nmean    -3.480997e-15      -2.548357e-15   3.381328e-15 -2.009289e-15   \nstd      1.000119e+00       1.000119e+00   1.000119e+00  1.000119e+00   \nmin     -3.479216e-01      -2.480275e-01  -5.652450e-01 -4.664436e-02   \n25%     -3.479216e-01      -2.480275e-01  -5.652450e-01 -4.664436e-02   \n50%     -3.479216e-01      -2.480275e-01  -5.652450e-01 -4.664436e-02   \n75%     -3.479216e-01      -2.480275e-01   2.880349e-01 -4.664436e-02   \nmax      1.478696e+01       3.119145e+01   9.325045e+00  3.160992e+01   \n\n       word_freq_our  word_freq_over  word_freq_remove  word_freq_internet  \\\ncount   4.210000e+03    4.210000e+03      4.210000e+03        4.210000e+03   \nmean   -7.919384e-15    1.947347e-15     -2.535291e-15       -3.765370e-15   \nstd     1.000119e+00    1.000119e+00      1.000119e+00        1.000119e+00   \nmin    -4.730399e-01   -3.502046e-01     -2.957308e-01       -2.632646e-01   \n25%    -4.730399e-01   -3.502046e-01     -2.957308e-01       -2.632646e-01   \n50%    -4.730399e-01   -3.502046e-01     -2.957308e-01       -2.632646e-01   \n75%     1.231299e-01   -3.502046e-01     -2.957308e-01       -2.632646e-01   \nmax     1.406769e+01    2.095434e+01      1.800571e+01        2.681886e+01   \n\n       word_freq_order  word_freq_mail  ...  word_freq_conference  \\\ncount     4.210000e+03    4.210000e+03  ...          4.210000e+03   \nmean     -4.663622e-15    2.867804e-15  ...         -3.655752e-15   \nstd       1.000119e+00    1.000119e+00  ...          1.000119e+00   \nmin      -3.256168e-01   -3.783664e-01  ...         -1.164071e-01   \n25%      -3.256168e-01   -3.783664e-01  ...         -1.164071e-01   \n50%      -3.256168e-01   -3.783664e-01  ...         -1.164071e-01   \n75%      -3.256168e-01   -8.897950e-02  ...         -1.164071e-01   \nmax       1.831957e+01    2.731139e+01  ...          3.338604e+01   \n\n        char_freq_;   char_freq_(   char_freq_[   char_freq_!   char_freq_$  \\\ncount  4.210000e+03  4.210000e+03  4.210000e+03  4.210000e+03  4.210000e+03   \nmean  -3.854122e-15 -1.138071e-15  6.488607e-17 -1.913895e-15  4.962433e-15   \nstd    1.000119e+00  1.000119e+00  1.000119e+00  1.000119e+00  1.000119e+00   \nmin   -1.600104e-01 -5.252942e-01 -1.643641e-01 -3.334068e-01 -3.173253e-01   \n25%   -1.600104e-01 -5.252942e-01 -1.643641e-01 -3.334068e-01 -3.173253e-01   \n50%   -1.600104e-01 -2.590883e-01 -1.643641e-01 -3.144319e-01 -3.173253e-01   \n75%   -1.600104e-01  1.821569e-01 -1.643641e-01  5.913558e-02 -9.619715e-02   \nmax    1.720613e+01  3.503689e+01  3.843832e+01  3.818318e+01  2.472857e+01   \n\n        char_freq_#  capital_run_length_average  capital_run_length_longest  \\\ncount  4.210000e+03                4.210000e+03                4.210000e+03   \nmean  -1.364928e-15                2.236631e-16               -7.356480e-16   \nstd    1.000119e+00                1.000119e+00                1.000119e+00   \nmin   -1.050711e-01               -1.322705e-01               -2.562653e-01   \n25%   -1.050711e-01               -1.133376e-01               -2.261989e-01   \n50%   -1.050711e-01               -9.313751e-02               -1.861104e-01   \n75%   -1.050711e-01               -5.060267e-02               -4.078958e-02   \nmax    4.538756e+01                3.310208e+01                4.979423e+01   \n\n       capital_run_length_total  \ncount              4.210000e+03  \nmean              -1.421138e-16  \nstd                1.000119e+00  \nmin               -4.691088e-01  \n25%               -4.060613e-01  \n50%               -3.066403e-01  \n75%               -2.818053e-02  \nmax                2.513787e+01  \n\n[8 rows x 57 columns]",
      "text/html": "<div>\n<style scoped>\n    .dataframe tbody tr th:only-of-type {\n        vertical-align: middle;\n    }\n\n    .dataframe tbody tr th {\n        vertical-align: top;\n    }\n\n    .dataframe thead th {\n        text-align: right;\n    }\n</style>\n<table border=\"1\" class=\"dataframe\">\n  <thead>\n    <tr style=\"text-align: right;\">\n      <th></th>\n      <th>word_freq_make</th>\n      <th>word_freq_address</th>\n      <th>word_freq_all</th>\n      <th>word_freq_3d</th>\n      <th>word_freq_our</th>\n      <th>word_freq_over</th>\n      <th>word_freq_remove</th>\n      <th>word_freq_internet</th>\n      <th>word_freq_order</th>\n      <th>word_freq_mail</th>\n      <th>...</th>\n      <th>word_freq_conference</th>\n      <th>char_freq_;</th>\n      <th>char_freq_(</th>\n      <th>char_freq_[</th>\n      <th>char_freq_!</th>\n      <th>char_freq_$</th>\n      <th>char_freq_#</th>\n      <th>capital_run_length_average</th>\n      <th>capital_run_length_longest</th>\n      <th>capital_run_length_total</th>\n    </tr>\n  </thead>\n  <tbody>\n    <tr>\n      <th>count</th>\n      <td>4.210000e+03</td>\n      <td>4.210000e+03</td>\n      <td>4.210000e+03</td>\n      <td>4.210000e+03</td>\n      <td>4.210000e+03</td>\n      <td>4.210000e+03</td>\n      <td>4.210000e+03</td>\n      <td>4.210000e+03</td>\n      <td>4.210000e+03</td>\n      <td>4.210000e+03</td>\n      <td>...</td>\n      <td>4.210000e+03</td>\n      <td>4.210000e+03</td>\n      <td>4.210000e+03</td>\n      <td>4.210000e+03</td>\n      <td>4.210000e+03</td>\n      <td>4.210000e+03</td>\n      <td>4.210000e+03</td>\n      <td>4.210000e+03</td>\n      <td>4.210000e+03</td>\n      <td>4.210000e+03</td>\n    </tr>\n    <tr>\n      <th>mean</th>\n      <td>-3.480997e-15</td>\n      <td>-2.548357e-15</td>\n      <td>3.381328e-15</td>\n      <td>-2.009289e-15</td>\n      <td>-7.919384e-15</td>\n      <td>1.947347e-15</td>\n      <td>-2.535291e-15</td>\n      <td>-3.765370e-15</td>\n      <td>-4.663622e-15</td>\n      <td>2.867804e-15</td>\n      <td>...</td>\n      <td>-3.655752e-15</td>\n      <td>-3.854122e-15</td>\n      <td>-1.138071e-15</td>\n      <td>6.488607e-17</td>\n      <td>-1.913895e-15</td>\n      <td>4.962433e-15</td>\n      <td>-1.364928e-15</td>\n      <td>2.236631e-16</td>\n      <td>-7.356480e-16</td>\n      <td>-1.421138e-16</td>\n    </tr>\n    <tr>\n      <th>std</th>\n      <td>1.000119e+00</td>\n      <td>1.000119e+00</td>\n      <td>1.000119e+00</td>\n      <td>1.000119e+00</td>\n      <td>1.000119e+00</td>\n      <td>1.000119e+00</td>\n      <td>1.000119e+00</td>\n      <td>1.000119e+00</td>\n      <td>1.000119e+00</td>\n      <td>1.000119e+00</td>\n      <td>...</td>\n      <td>1.000119e+00</td>\n      <td>1.000119e+00</td>\n      <td>1.000119e+00</td>\n      <td>1.000119e+00</td>\n      <td>1.000119e+00</td>\n      <td>1.000119e+00</td>\n      <td>1.000119e+00</td>\n      <td>1.000119e+00</td>\n      <td>1.000119e+00</td>\n      <td>1.000119e+00</td>\n    </tr>\n    <tr>\n      <th>min</th>\n      <td>-3.479216e-01</td>\n      <td>-2.480275e-01</td>\n      <td>-5.652450e-01</td>\n      <td>-4.664436e-02</td>\n      <td>-4.730399e-01</td>\n      <td>-3.502046e-01</td>\n      <td>-2.957308e-01</td>\n      <td>-2.632646e-01</td>\n      <td>-3.256168e-01</td>\n      <td>-3.783664e-01</td>\n      <td>...</td>\n      <td>-1.164071e-01</td>\n      <td>-1.600104e-01</td>\n      <td>-5.252942e-01</td>\n      <td>-1.643641e-01</td>\n      <td>-3.334068e-01</td>\n      <td>-3.173253e-01</td>\n      <td>-1.050711e-01</td>\n      <td>-1.322705e-01</td>\n      <td>-2.562653e-01</td>\n      <td>-4.691088e-01</td>\n    </tr>\n    <tr>\n      <th>25%</th>\n      <td>-3.479216e-01</td>\n      <td>-2.480275e-01</td>\n      <td>-5.652450e-01</td>\n      <td>-4.664436e-02</td>\n      <td>-4.730399e-01</td>\n      <td>-3.502046e-01</td>\n      <td>-2.957308e-01</td>\n      <td>-2.632646e-01</td>\n      <td>-3.256168e-01</td>\n      <td>-3.783664e-01</td>\n      <td>...</td>\n      <td>-1.164071e-01</td>\n      <td>-1.600104e-01</td>\n      <td>-5.252942e-01</td>\n      <td>-1.643641e-01</td>\n      <td>-3.334068e-01</td>\n      <td>-3.173253e-01</td>\n      <td>-1.050711e-01</td>\n      <td>-1.133376e-01</td>\n      <td>-2.261989e-01</td>\n      <td>-4.060613e-01</td>\n    </tr>\n    <tr>\n      <th>50%</th>\n      <td>-3.479216e-01</td>\n      <td>-2.480275e-01</td>\n      <td>-5.652450e-01</td>\n      <td>-4.664436e-02</td>\n      <td>-4.730399e-01</td>\n      <td>-3.502046e-01</td>\n      <td>-2.957308e-01</td>\n      <td>-2.632646e-01</td>\n      <td>-3.256168e-01</td>\n      <td>-3.783664e-01</td>\n      <td>...</td>\n      <td>-1.164071e-01</td>\n      <td>-1.600104e-01</td>\n      <td>-2.590883e-01</td>\n      <td>-1.643641e-01</td>\n      <td>-3.144319e-01</td>\n      <td>-3.173253e-01</td>\n      <td>-1.050711e-01</td>\n      <td>-9.313751e-02</td>\n      <td>-1.861104e-01</td>\n      <td>-3.066403e-01</td>\n    </tr>\n    <tr>\n      <th>75%</th>\n      <td>-3.479216e-01</td>\n      <td>-2.480275e-01</td>\n      <td>2.880349e-01</td>\n      <td>-4.664436e-02</td>\n      <td>1.231299e-01</td>\n      <td>-3.502046e-01</td>\n      <td>-2.957308e-01</td>\n      <td>-2.632646e-01</td>\n      <td>-3.256168e-01</td>\n      <td>-8.897950e-02</td>\n      <td>...</td>\n      <td>-1.164071e-01</td>\n      <td>-1.600104e-01</td>\n      <td>1.821569e-01</td>\n      <td>-1.643641e-01</td>\n      <td>5.913558e-02</td>\n      <td>-9.619715e-02</td>\n      <td>-1.050711e-01</td>\n      <td>-5.060267e-02</td>\n      <td>-4.078958e-02</td>\n      <td>-2.818053e-02</td>\n    </tr>\n    <tr>\n      <th>max</th>\n      <td>1.478696e+01</td>\n      <td>3.119145e+01</td>\n      <td>9.325045e+00</td>\n      <td>3.160992e+01</td>\n      <td>1.406769e+01</td>\n      <td>2.095434e+01</td>\n      <td>1.800571e+01</td>\n      <td>2.681886e+01</td>\n      <td>1.831957e+01</td>\n      <td>2.731139e+01</td>\n      <td>...</td>\n      <td>3.338604e+01</td>\n      <td>1.720613e+01</td>\n      <td>3.503689e+01</td>\n      <td>3.843832e+01</td>\n      <td>3.818318e+01</td>\n      <td>2.472857e+01</td>\n      <td>4.538756e+01</td>\n      <td>3.310208e+01</td>\n      <td>4.979423e+01</td>\n      <td>2.513787e+01</td>\n    </tr>\n  </tbody>\n</table>\n<p>8 rows × 57 columns</p>\n</div>"
     },
     "execution_count": 12,
     "metadata": {},
     "output_type": "execute_result"
    }
   ],
   "source": [
    "df.describe()"
   ]
  },
  {
   "cell_type": "markdown",
   "id": "e0f42629",
   "metadata": {},
   "source": [
    "# Performing PCA to the Dataset"
   ]
  },
  {
   "cell_type": "code",
   "execution_count": 13,
   "id": "f2f96176",
   "metadata": {},
   "outputs": [
    {
     "data": {
      "text/plain": "<Figure size 640x480 with 1 Axes>",
      "image/png": "[encoded data removed]"
     },
     "metadata": {},
     "output_type": "display_data"
    }
   ],
   "source": [
    "from sklearn.decomposition import PCA\n",
    "pca = PCA()\n",
    "\n",
    "principalComponents = pca.fit_transform(df)\n",
    "\n",
    "plt.figure()\n",
    "plt.plot(np.cumsum(pca.explained_variance_ratio_))\n",
    "\n",
    "plt.xlabel('Number of Components')\n",
    "plt.ylabel('Variance (%)') #for each component\n",
    "\n",
    "plt.title('Explained Variance')\n",
    "plt.grid(True)\n",
    "plt.show()"
   ]
  },
  {
   "cell_type": "markdown",
   "id": "76f5ea8c",
   "metadata": {},
   "source": [
    "### Introducing the PCA components"
   ]
  },
  {
   "cell_type": "code",
   "execution_count": 14,
   "id": "c3877428",
   "metadata": {},
   "outputs": [],
   "source": [
    "pca = PCA(n_components=44)\n",
    "new_data = pca.fit_transform(df)\n",
    "\n",
    "# This will be the new data fed to the algorithm.\n",
    "principal_Df = pd.DataFrame(data = new_data\n",
    "             , columns = ['PC1', 'PC2','PC3','PC4','PC5','PC6','PC7','PC8','PC9','PC10','PC11','PC12','PC13','PC14','PC15','PC16','PC17','PC18','PC19','PC20',\n",
    "                         'PC21', 'PC22','PC23','PC24','PC25','PC26','PC27','PC28','PC29','PC30','PC31','PC32','PC33','PC34','PC35','PC36','PC37','PC38','PC39','PC40',\n",
    "                         'PC41','PC42','PC43','PC44'])"
   ]
  },
  {
   "cell_type": "markdown",
   "id": "6cbc3bff",
   "metadata": {},
   "source": [
    "### Dataset after performing PCA"
   ]
  },
  {
   "cell_type": "code",
   "execution_count": 15,
   "id": "ce02c23f",
   "metadata": {},
   "outputs": [
    {
     "data": {
      "text/plain": "        PC1       PC2       PC3       PC4       PC5       PC6       PC7  \\\n0 -0.766904  0.049598 -0.643987  0.037552 -0.254438 -0.329066 -0.084562   \n1 -1.293574  2.007032  0.071543 -0.481447 -0.099033 -1.118201 -0.545535   \n2 -1.612745  4.821303  3.137378 -1.073452  1.591757 -1.500410 -3.174368   \n3 -0.857216  0.414169 -0.551317 -0.031383 -0.049938  0.703253  0.339678   \n4 -0.858070  0.413502 -0.553442 -0.031642 -0.049971  0.703873  0.337936   \n\n        PC8       PC9      PC10  ...      PC35      PC36      PC37      PC38  \\\n0  0.350440  1.750933  0.181419  ...  0.362477 -0.302049  0.274988  0.130687   \n1  0.250410 -0.309234 -0.630192  ... -0.262287 -0.114631 -0.480042 -0.190954   \n2 -1.398746  1.032190  2.520800  ...  2.074528 -0.022127 -0.727766 -0.286599   \n3 -0.445332 -0.366327  0.183413  ...  0.335815 -0.073922  0.056788  0.263276   \n4 -0.446611 -0.366669  0.183006  ...  0.335211 -0.073957  0.058458  0.263800   \n\n       PC39      PC40      PC41      PC42      PC43      PC44  \n0  0.257974  0.062638  0.215079  0.208080 -0.401891  0.236141  \n1  0.122865  0.081017  0.248950  0.547127  0.023532  0.319266  \n2 -0.310464  0.946251  0.856359  0.546682  0.315298 -0.748299  \n3 -0.305338  0.478844  0.799436 -0.630724  0.340580 -0.308005  \n4 -0.305309  0.479236  0.798623 -0.629372  0.340399 -0.307032  \n\n[5 rows x 44 columns]",
      "text/html": "<div>\n<style scoped>\n    .dataframe tbody tr th:only-of-type {\n        vertical-align: middle;\n    }\n\n    .dataframe tbody tr th {\n        vertical-align: top;\n    }\n\n    .dataframe thead th {\n        text-align: right;\n    }\n</style>\n<table border=\"1\" class=\"dataframe\">\n  <thead>\n    <tr style=\"text-align: right;\">\n      <th></th>\n      <th>PC1</th>\n      <th>PC2</th>\n      <th>PC3</th>\n      <th>PC4</th>\n      <th>PC5</th>\n      <th>PC6</th>\n      <th>PC7</th>\n      <th>PC8</th>\n      <th>PC9</th>\n      <th>PC10</th>\n      <th>...</th>\n      <th>PC35</th>\n      <th>PC36</th>\n      <th>PC37</th>\n      <th>PC38</th>\n      <th>PC39</th>\n      <th>PC40</th>\n      <th>PC41</th>\n      <th>PC42</th>\n      <th>PC43</th>\n      <th>PC44</th>\n    </tr>\n  </thead>\n  <tbody>\n    <tr>\n      <th>0</th>\n      <td>-0.766904</td>\n      <td>0.049598</td>\n      <td>-0.643987</td>\n      <td>0.037552</td>\n      <td>-0.254438</td>\n      <td>-0.329066</td>\n      <td>-0.084562</td>\n      <td>0.350440</td>\n      <td>1.750933</td>\n      <td>0.181419</td>\n      <td>...</td>\n      <td>0.362477</td>\n      <td>-0.302049</td>\n      <td>0.274988</td>\n      <td>0.130687</td>\n      <td>0.257974</td>\n      <td>0.062638</td>\n      <td>0.215079</td>\n      <td>0.208080</td>\n      <td>-0.401891</td>\n      <td>0.236141</td>\n    </tr>\n    <tr>\n      <th>1</th>\n      <td>-1.293574</td>\n      <td>2.007032</td>\n      <td>0.071543</td>\n      <td>-0.481447</td>\n      <td>-0.099033</td>\n      <td>-1.118201</td>\n      <td>-0.545535</td>\n      <td>0.250410</td>\n      <td>-0.309234</td>\n      <td>-0.630192</td>\n      <td>...</td>\n      <td>-0.262287</td>\n      <td>-0.114631</td>\n      <td>-0.480042</td>\n      <td>-0.190954</td>\n      <td>0.122865</td>\n      <td>0.081017</td>\n      <td>0.248950</td>\n      <td>0.547127</td>\n      <td>0.023532</td>\n      <td>0.319266</td>\n    </tr>\n    <tr>\n      <th>2</th>\n      <td>-1.612745</td>\n      <td>4.821303</td>\n      <td>3.137378</td>\n      <td>-1.073452</td>\n      <td>1.591757</td>\n      <td>-1.500410</td>\n      <td>-3.174368</td>\n      <td>-1.398746</td>\n      <td>1.032190</td>\n      <td>2.520800</td>\n      <td>...</td>\n      <td>2.074528</td>\n      <td>-0.022127</td>\n      <td>-0.727766</td>\n      <td>-0.286599</td>\n      <td>-0.310464</td>\n      <td>0.946251</td>\n      <td>0.856359</td>\n      <td>0.546682</td>\n      <td>0.315298</td>\n      <td>-0.748299</td>\n    </tr>\n    <tr>\n      <th>3</th>\n      <td>-0.857216</td>\n      <td>0.414169</td>\n      <td>-0.551317</td>\n      <td>-0.031383</td>\n      <td>-0.049938</td>\n      <td>0.703253</td>\n      <td>0.339678</td>\n      <td>-0.445332</td>\n      <td>-0.366327</td>\n      <td>0.183413</td>\n      <td>...</td>\n      <td>0.335815</td>\n      <td>-0.073922</td>\n      <td>0.056788</td>\n      <td>0.263276</td>\n      <td>-0.305338</td>\n      <td>0.478844</td>\n      <td>0.799436</td>\n      <td>-0.630724</td>\n      <td>0.340580</td>\n      <td>-0.308005</td>\n    </tr>\n    <tr>\n      <th>4</th>\n      <td>-0.858070</td>\n      <td>0.413502</td>\n      <td>-0.553442</td>\n      <td>-0.031642</td>\n      <td>-0.049971</td>\n      <td>0.703873</td>\n      <td>0.337936</td>\n      <td>-0.446611</td>\n      <td>-0.366669</td>\n      <td>0.183006</td>\n      <td>...</td>\n      <td>0.335211</td>\n      <td>-0.073957</td>\n      <td>0.058458</td>\n      <td>0.263800</td>\n      <td>-0.305309</td>\n      <td>0.479236</td>\n      <td>0.798623</td>\n      <td>-0.629372</td>\n      <td>0.340399</td>\n      <td>-0.307032</td>\n    </tr>\n  </tbody>\n</table>\n<p>5 rows × 44 columns</p>\n</div>"
     },
     "execution_count": 15,
     "metadata": {},
     "output_type": "execute_result"
    }
   ],
   "source": [
    "principal_Df.head()\n",
    "# principal_Df"
   ]
  },
  {
   "cell_type": "code",
   "execution_count": 16,
   "id": "d8cc2c7a",
   "metadata": {},
   "outputs": [
    {
     "name": "stdout",
     "output_type": "stream",
     "text": [
      "[6.21425733 3.18296901 2.01337298 1.62941211 1.54594131 1.46864556\n",
      " 1.415932   1.36728264 1.29484819 1.24508694 1.23604932 1.14930903\n",
      " 1.1440468  1.10352345 1.09710945 1.06431467 1.05387922 1.02433298\n",
      " 1.01639007 1.00123528 0.97906192 0.96808918 0.95331696 0.94497482\n",
      " 0.93806887 0.91812544 0.90394701 0.89563128 0.87377997 0.86522271\n",
      " 0.83051983 0.81860398 0.81018628 0.80213565 0.78862849 0.76017775\n",
      " 0.75803795 0.74215943 0.72640852 0.70263358 0.68155658 0.67119147\n",
      " 0.6386793  0.62605264]\n"
     ]
    }
   ],
   "source": [
    "print(pca.explained_variance_)\n"
   ]
  },
  {
   "cell_type": "code",
   "execution_count": 17,
   "id": "e5ee10ab",
   "metadata": {},
   "outputs": [
    {
     "name": "stdout",
     "output_type": "stream",
     "text": [
      "[[-0.04690805 -0.02058001 -0.05221265 ... -0.02020216 -0.03395573\n",
      "  -0.04960885]\n",
      " [ 0.14443586  0.1118884   0.14576679 ...  0.13599324  0.23902117\n",
      "   0.20847319]\n",
      " [-0.03012377 -0.02134762 -0.03047813 ...  0.30347607  0.46500784\n",
      "   0.38999526]\n",
      " ...\n",
      " [-0.15211397  0.20916759 -0.00273421 ... -0.09168559  0.04663314\n",
      "   0.47855723]\n",
      " [ 0.11741385  0.1349471   0.06642038 ... -0.09542872  0.02890962\n",
      "   0.08636928]\n",
      " [ 0.12620292 -0.2635873   0.00830851 ... -0.15872633 -0.02058973\n",
      "   0.37652476]]\n"
     ]
    }
   ],
   "source": [
    "print(pca.components_)"
   ]
  },
  {
   "cell_type": "markdown",
   "id": "7b54fabb",
   "metadata": {},
   "source": [
    "## Build the predictive model by appling K-Nearest Neighbors (KNN) algorithm"
   ]
  },
  {
   "cell_type": "code",
   "execution_count": 18,
   "id": "ba052743",
   "metadata": {},
   "outputs": [],
   "source": [
    "X = principal_Df.iloc[:,0:44].values\n",
    "y = Data_set.iloc[:, 57].values"
   ]
  },
  {
   "cell_type": "markdown",
   "id": "43b6bc95",
   "metadata": {},
   "source": [
    "### Splitting the dataset into the Training set and Test set"
   ]
  },
  {
   "cell_type": "code",
   "execution_count": 19,
   "id": "ec680333",
   "metadata": {},
   "outputs": [],
   "source": [
    "from sklearn.model_selection import train_test_split\n",
    "X_train, X_test, y_train, y_test = train_test_split(X, y, test_size = 0.20, random_state = 0)"
   ]
  },
  {
   "cell_type": "markdown",
   "id": "2cb520f3",
   "metadata": {},
   "source": [
    "Perform 10-fold cross validation"
   ]
  },
  {
   "cell_type": "code",
   "execution_count": 20,
   "id": "62dbfb42",
   "metadata": {},
   "outputs": [],
   "source": [
    "# from sklearn.model_selection import cross_val_score                         # Use cross_val_score function\n",
    "# from sklearn.neighbors import KNeighborsClassifier\n",
    "# import warnings\n",
    "# warnings.filterwarnings('ignore')\n",
    "\n",
    "# knn = KNeighborsClassifier(n_neighbors = 5)\n",
    "# knn.fit(X_train,y_train)\n",
    "\n",
    "# neighbors = []                                                              # Empty list to store neighbors\n",
    "# cv_scores = []                                                              # Empty list to store scores\n",
    "  \n",
    "# # Perform 10-fold cross validation with K=5 for KNN (the n_neighbors parameter)\n",
    "\n",
    "# for k in range(1, 51, 2):                                                   # Range of K we want to try\n",
    "#     neighbors.append(k) \n",
    "#     knn = KNeighborsClassifier(n_neighbors = k)                             # k = 5 for KNeighborsClassifier\n",
    "#     scores = cross_val_score( \n",
    "#         knn, X_train, y_train, cv = 10, scoring = 'accuracy') \n",
    "#     cv_scores.append(scores.mean()) \n",
    "    \n",
    "# # Passing the entirety of X and y, not X_train or y_train, it takes care of splitting the data\n",
    "# # cv=10 for 10 folds\n",
    "# # Scoring='accuracy' for evaluation metric    \n",
    "    \n",
    "# scores = cross_val_score(knn, X, y, cv=10, scoring='accuracy')\n",
    "# print(scores)   "
   ]
  },
  {
   "cell_type": "markdown",
   "id": "b8ddf0dd",
   "metadata": {},
   "source": [
    "### Find optimal K value"
   ]
  },
  {
   "cell_type": "code",
   "execution_count": 21,
   "id": "7d34e97a",
   "metadata": {},
   "outputs": [],
   "source": [
    "# # Finding the misclassification error versus k\n",
    "# MSE = [1-x for x in cv_scores]                                             \n",
    "\n",
    "# # Finding the best k value\n",
    "# optimal_k = neighbors[MSE.index(min(MSE))]\n",
    "# print('Optimal no. of K neighbors = %d ' %optimal_k)\n",
    "\n",
    "# # Plotting the misclassification error versus k\n",
    "# plt.figure(figsize = (15,6))\n",
    "# plt.plot(neighbors, MSE)\n",
    "# plt.xlabel('Number of K neighbors')\n",
    "# plt.ylabel('Misclassification Error')\n",
    "# plt.show()"
   ]
  },
  {
   "cell_type": "code",
   "execution_count": 22,
   "id": "88828503",
   "metadata": {},
   "outputs": [],
   "source": [
    "# # Feature Scaling\n",
    "# from sklearn.preprocessing import StandardScaler\n",
    "# sc = StandardScaler()\n",
    "# X_train = sc.fit_transform(X_train)\n",
    "# X_test = sc.transform(X_test)"
   ]
  },
  {
   "cell_type": "code",
   "execution_count": 23,
   "id": "7b4991d8",
   "metadata": {},
   "outputs": [
    {
     "data": {
      "text/plain": "KNeighborsClassifier(n_neighbors=3)"
     },
     "execution_count": 23,
     "metadata": {},
     "output_type": "execute_result"
    }
   ],
   "source": [
    "# Fitting classifier to the Training set\n",
    "from sklearn.neighbors import KNeighborsClassifier\n",
    "classifier = KNeighborsClassifier(n_neighbors=3, metric='minkowski', p=2)\n",
    "classifier.fit(X_train,y_train)"
   ]
  },
  {
   "cell_type": "code",
   "execution_count": 24,
   "id": "6216bb18",
   "metadata": {},
   "outputs": [
    {
     "name": "stderr",
     "output_type": "stream",
     "text": [
      "C:\\ProgramData\\Anaconda3\\lib\\site-packages\\sklearn\\neighbors\\_classification.py:228: FutureWarning: Unlike other reduction functions (e.g. `skew`, `kurtosis`), the default behavior of `mode` typically preserves the axis it acts along. In SciPy 1.11.0, this behavior will change: the default value of `keepdims` will become False, the `axis` over which the statistic is taken will be eliminated, and the value None will no longer be accepted. Set `keepdims` to True or False to avoid this warning.\n",
      "  mode, _ = stats.mode(_y[neigh_ind, k], axis=1)\n"
     ]
    }
   ],
   "source": [
    "# Predicting the Test set results\n",
    "y_pred = classifier.predict(X_test)"
   ]
  },
  {
   "cell_type": "code",
   "execution_count": 25,
   "id": "b81dd0fb",
   "metadata": {},
   "outputs": [
    {
     "data": {
      "text/plain": "array([[461,  34],\n       [ 51, 296]], dtype=int64)"
     },
     "execution_count": 25,
     "metadata": {},
     "output_type": "execute_result"
    }
   ],
   "source": [
    "# Making the Confusion Matrix\n",
    "from sklearn.metrics import confusion_matrix\n",
    "cm = confusion_matrix(y_test, y_pred)\n",
    "cm"
   ]
  },
  {
   "cell_type": "code",
   "execution_count": 26,
   "id": "bda432f8",
   "metadata": {},
   "outputs": [
    {
     "name": "stdout",
     "output_type": "stream",
     "text": [
      "Classification Report : \n",
      "\n",
      "\n",
      "              precision    recall  f1-score   support\n",
      "\n",
      "           0       0.90      0.93      0.92       495\n",
      "           1       0.90      0.85      0.87       347\n",
      "\n",
      "    accuracy                           0.90       842\n",
      "   macro avg       0.90      0.89      0.90       842\n",
      "weighted avg       0.90      0.90      0.90       842\n",
      "\n"
     ]
    }
   ],
   "source": [
    "# Generate summary of the prediction (Classification Report) made by the classifier\n",
    "from sklearn.metrics import classification_report\n",
    "\n",
    "print('Classification Report : \\n\\n')\n",
    "print(classification_report(y_test, y_pred))"
   ]
  },
  {
   "cell_type": "code",
   "execution_count": 27,
   "id": "8d3ccb17",
   "metadata": {},
   "outputs": [
    {
     "name": "stdout",
     "output_type": "stream",
     "text": [
      "Accuracy score of email prediction using KNN :  89.90498812351544\n"
     ]
    }
   ],
   "source": [
    "# Accuracy score of the prediction\n",
    "from sklearn.metrics import accuracy_score\n",
    "print(\"Accuracy score of email prediction using KNN : \",accuracy_score(y_pred,y_test)*100) "
   ]
  },
  {
   "cell_type": "markdown",
   "id": "4b7b23f5",
   "metadata": {},
   "source": [
    "### Visualization"
   ]
  },
  {
   "cell_type": "code",
   "execution_count": 28,
   "id": "aecf7756",
   "metadata": {},
   "outputs": [
    {
     "data": {
      "text/plain": "Text(115.9222222222222, 0.5, 'predicted class')"
     },
     "execution_count": 28,
     "metadata": {},
     "output_type": "execute_result"
    },
    {
     "data": {
      "text/plain": "<Figure size 640x480 with 1 Axes>",
      "image/png": "[encoded data removed]"
     },
     "metadata": {},
     "output_type": "display_data"
    }
   ],
   "source": [
    "# based on test values generate the confusion matrix\n",
    "from sklearn.metrics import confusion_matrix\n",
    "import seaborn as sns\n",
    "\n",
    "# Summary of the predictions made by the classifier\n",
    "mat = confusion_matrix(y_test, y_pred)\n",
    "sns.heatmap(mat.T, square=True, annot=True, fmt='d', cbar=False)\n",
    "\n",
    "plt.title('Confusion matrix')\n",
    "plt.xlabel('true class')\n",
    "plt.ylabel('predicted class')\n"
   ]
  },
  {
   "cell_type": "markdown",
   "id": "44d86fd2",
   "metadata": {},
   "source": [
    "## Decision Tree Classifier"
   ]
  },
  {
   "cell_type": "code",
   "execution_count": 29,
   "id": "18f0667c",
   "metadata": {},
   "outputs": [],
   "source": [
    "X = principal_Df.iloc[:,0:44].values\n",
    "y = Data_set.iloc[:, 57].values"
   ]
  },
  {
   "cell_type": "markdown",
   "id": "bbf996a7",
   "metadata": {},
   "source": [
    "### Splitting the dataset into the Training set and Test set"
   ]
  },
  {
   "cell_type": "code",
   "execution_count": 30,
   "id": "45da448b",
   "metadata": {},
   "outputs": [],
   "source": [
    "\n",
    "from sklearn.model_selection import train_test_split\n",
    "X_train, X_test, y_train, y_test = train_test_split(X, y, test_size = 0.20, random_state = 3)"
   ]
  },
  {
   "cell_type": "markdown",
   "id": "db0a592e",
   "metadata": {},
   "source": [
    "### Apply Decision Tree Classifier "
   ]
  },
  {
   "cell_type": "code",
   "execution_count": 31,
   "id": "7a587a66",
   "metadata": {},
   "outputs": [
    {
     "data": {
      "text/plain": "DecisionTreeClassifier(criterion='entropy', max_depth=12)"
     },
     "execution_count": 31,
     "metadata": {},
     "output_type": "execute_result"
    }
   ],
   "source": [
    "from sklearn.tree import DecisionTreeClassifier\n",
    "spamTree = DecisionTreeClassifier(criterion=\"entropy\", max_depth = 12)\n",
    "spamTree # it shows the default parameters"
   ]
  },
  {
   "cell_type": "code",
   "execution_count": 32,
   "id": "e9212e5a",
   "metadata": {},
   "outputs": [
    {
     "data": {
      "text/plain": "DecisionTreeClassifier(criterion='entropy', max_depth=12)"
     },
     "execution_count": 32,
     "metadata": {},
     "output_type": "execute_result"
    }
   ],
   "source": [
    "spamTree.fit(X_train,y_train)"
   ]
  },
  {
   "cell_type": "code",
   "execution_count": 33,
   "id": "f2a380b6",
   "metadata": {},
   "outputs": [],
   "source": [
    "predTree = spamTree.predict(X_test)"
   ]
  },
  {
   "cell_type": "code",
   "execution_count": 34,
   "id": "56eb1f9a",
   "metadata": {},
   "outputs": [
    {
     "name": "stdout",
     "output_type": "stream",
     "text": [
      "[0 1 0 0 0]\n",
      "[1 1 0 0 0]\n"
     ]
    }
   ],
   "source": [
    "print (predTree [0:5])\n",
    "print (y_test [0:5])\n"
   ]
  },
  {
   "cell_type": "code",
   "execution_count": 35,
   "id": "3d1e3595",
   "metadata": {},
   "outputs": [
    {
     "name": "stdout",
     "output_type": "stream",
     "text": [
      "DecisionTrees's Accuracy:  0.8752969121140143\n"
     ]
    }
   ],
   "source": [
    "from sklearn import metrics\n",
    "import matplotlib.pyplot as plt\n",
    "print(\"DecisionTrees's Accuracy: \", metrics.accuracy_score(y_test, predTree))"
   ]
  },
  {
   "cell_type": "code",
   "execution_count": 36,
   "id": "e52b372d",
   "metadata": {},
   "outputs": [
    {
     "ename": "ModuleNotFoundError",
     "evalue": "No module named 'pydotplus'",
     "output_type": "error",
     "traceback": [
      "\u001B[1;31m---------------------------------------------------------------------------\u001B[0m",
      "\u001B[1;31mModuleNotFoundError\u001B[0m                       Traceback (most recent call last)",
      "\u001B[1;32m~\\AppData\\Local\\Temp\\ipykernel_13320\\3036062983.py\u001B[0m in \u001B[0;36m<module>\u001B[1;34m\u001B[0m\n\u001B[0;32m      1\u001B[0m \u001B[1;32mfrom\u001B[0m \u001B[0msix\u001B[0m \u001B[1;32mimport\u001B[0m \u001B[0mStringIO\u001B[0m\u001B[1;33m\u001B[0m\u001B[1;33m\u001B[0m\u001B[0m\n\u001B[1;32m----> 2\u001B[1;33m \u001B[1;32mimport\u001B[0m \u001B[0mpydotplus\u001B[0m\u001B[1;33m\u001B[0m\u001B[1;33m\u001B[0m\u001B[0m\n\u001B[0m\u001B[0;32m      3\u001B[0m \u001B[1;32mimport\u001B[0m \u001B[0mmatplotlib\u001B[0m\u001B[1;33m.\u001B[0m\u001B[0mimage\u001B[0m \u001B[1;32mas\u001B[0m \u001B[0mmpimg\u001B[0m\u001B[1;33m\u001B[0m\u001B[1;33m\u001B[0m\u001B[0m\n\u001B[0;32m      4\u001B[0m \u001B[1;32mfrom\u001B[0m \u001B[0msklearn\u001B[0m \u001B[1;32mimport\u001B[0m \u001B[0mtree\u001B[0m\u001B[1;33m\u001B[0m\u001B[1;33m\u001B[0m\u001B[0m\n\u001B[0;32m      5\u001B[0m \u001B[0mget_ipython\u001B[0m\u001B[1;33m(\u001B[0m\u001B[1;33m)\u001B[0m\u001B[1;33m.\u001B[0m\u001B[0mrun_line_magic\u001B[0m\u001B[1;33m(\u001B[0m\u001B[1;34m'matplotlib'\u001B[0m\u001B[1;33m,\u001B[0m \u001B[1;34m'inline'\u001B[0m\u001B[1;33m)\u001B[0m\u001B[1;33m\u001B[0m\u001B[1;33m\u001B[0m\u001B[0m\n",
      "\u001B[1;31mModuleNotFoundError\u001B[0m: No module named 'pydotplus'"
     ]
    }
   ],
   "source": [
    "from six import StringIO\n",
    "import pydotplus\n",
    "import matplotlib.image as mpimg\n",
    "from sklearn import tree\n",
    "%matplotlib inline"
   ]
  }
 ],
 "metadata": {
  "kernelspec": {
   "display_name": "Python 3 (ipykernel)",
   "language": "python",
   "name": "python3"
  },
  "language_info": {
   "codemirror_mode": {
    "name": "ipython",
    "version": 3
   },
   "file_extension": ".py",
   "mimetype": "text/x-python",
   "name": "python",
   "nbconvert_exporter": "python",
   "pygments_lexer": "ipython3",
   "version": "3.9.13"
  }
 },
 "nbformat": 4,
 "nbformat_minor": 5
}
