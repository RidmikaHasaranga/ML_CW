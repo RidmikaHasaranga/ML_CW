{
 "cells": [
  {
   "cell_type": "markdown",
   "id": "01cd5e80",
   "metadata": {},
   "source": [
    "# KNN"
   ]
  },
  {
   "cell_type": "code",
   "execution_count": 208,
   "outputs": [],
   "source": [
    "%matplotlib inline\n",
    "import pandas as pd\n",
    "import numpy as np\n",
    "import matplotlib.pyplot as plt\n",
    "import re\n",
    "\n",
    "import seaborn as sns\n",
    "from sklearn.model_selection import train_test_split\n",
    "from sklearn.metrics import accuracy_score\n",
    "from sklearn.decomposition import PCA\n",
    "from sklearn.metrics import classification_report,confusion_matrix\n",
    "from sklearn.model_selection import GridSearchCV\n",
    "from sklearn.preprocessing import StandardScaler\n",
    "from sklearn.neighbors import KNeighborsClassifier\n",
    "from sklearn.metrics import roc_curve, auc"
   ],
   "metadata": {
    "collapsed": false
   }
  },
  {
   "cell_type": "code",
   "execution_count": 209,
   "id": "e0f74628",
   "metadata": {},
   "outputs": [],
   "source": [
    "with open(\"spambase.names\") as spam:\n",
    " text = spam.read()\n",
    "labels = re.findall(r'\\n(\\w*_?\\W?):', text)\n",
    "data_set = pd.read_csv(\"spambase.data\", header=None, names=labels +['spam'])\n",
    "\n",
    "data_array=data_set.values"
   ]
  },
  {
   "cell_type": "code",
   "execution_count": 210,
   "outputs": [
    {
     "data": {
      "text/plain": "   word_freq_make  word_freq_address  word_freq_all  word_freq_3d  \\\n0            0.00               0.64           0.64           0.0   \n1            0.21               0.28           0.50           0.0   \n2            0.06               0.00           0.71           0.0   \n3            0.00               0.00           0.00           0.0   \n4            0.00               0.00           0.00           0.0   \n\n   word_freq_our  word_freq_over  word_freq_remove  word_freq_internet  \\\n0           0.32            0.00              0.00                0.00   \n1           0.14            0.28              0.21                0.07   \n2           1.23            0.19              0.19                0.12   \n3           0.63            0.00              0.31                0.63   \n4           0.63            0.00              0.31                0.63   \n\n   word_freq_order  word_freq_mail  ...  char_freq_;  char_freq_(  \\\n0             0.00            0.00  ...         0.00        0.000   \n1             0.00            0.94  ...         0.00        0.132   \n2             0.64            0.25  ...         0.01        0.143   \n3             0.31            0.63  ...         0.00        0.137   \n4             0.31            0.63  ...         0.00        0.135   \n\n   char_freq_[  char_freq_!  char_freq_$  char_freq_#  \\\n0          0.0        0.778        0.000        0.000   \n1          0.0        0.372        0.180        0.048   \n2          0.0        0.276        0.184        0.010   \n3          0.0        0.137        0.000        0.000   \n4          0.0        0.135        0.000        0.000   \n\n   capital_run_length_average  capital_run_length_longest  \\\n0                       3.756                          61   \n1                       5.114                         101   \n2                       9.821                         485   \n3                       3.537                          40   \n4                       3.537                          40   \n\n   capital_run_length_total  spam  \n0                       278     1  \n1                      1028     1  \n2                      2259     1  \n3                       191     1  \n4                       191     1  \n\n[5 rows x 58 columns]",
      "text/html": "<div>\n<style scoped>\n    .dataframe tbody tr th:only-of-type {\n        vertical-align: middle;\n    }\n\n    .dataframe tbody tr th {\n        vertical-align: top;\n    }\n\n    .dataframe thead th {\n        text-align: right;\n    }\n</style>\n<table border=\"1\" class=\"dataframe\">\n  <thead>\n    <tr style=\"text-align: right;\">\n      <th></th>\n      <th>word_freq_make</th>\n      <th>word_freq_address</th>\n      <th>word_freq_all</th>\n      <th>word_freq_3d</th>\n      <th>word_freq_our</th>\n      <th>word_freq_over</th>\n      <th>word_freq_remove</th>\n      <th>word_freq_internet</th>\n      <th>word_freq_order</th>\n      <th>word_freq_mail</th>\n      <th>...</th>\n      <th>char_freq_;</th>\n      <th>char_freq_(</th>\n      <th>char_freq_[</th>\n      <th>char_freq_!</th>\n      <th>char_freq_$</th>\n      <th>char_freq_#</th>\n      <th>capital_run_length_average</th>\n      <th>capital_run_length_longest</th>\n      <th>capital_run_length_total</th>\n      <th>spam</th>\n    </tr>\n  </thead>\n  <tbody>\n    <tr>\n      <th>0</th>\n      <td>0.00</td>\n      <td>0.64</td>\n      <td>0.64</td>\n      <td>0.0</td>\n      <td>0.32</td>\n      <td>0.00</td>\n      <td>0.00</td>\n      <td>0.00</td>\n      <td>0.00</td>\n      <td>0.00</td>\n      <td>...</td>\n      <td>0.00</td>\n      <td>0.000</td>\n      <td>0.0</td>\n      <td>0.778</td>\n      <td>0.000</td>\n      <td>0.000</td>\n      <td>3.756</td>\n      <td>61</td>\n      <td>278</td>\n      <td>1</td>\n    </tr>\n    <tr>\n      <th>1</th>\n      <td>0.21</td>\n      <td>0.28</td>\n      <td>0.50</td>\n      <td>0.0</td>\n      <td>0.14</td>\n      <td>0.28</td>\n      <td>0.21</td>\n      <td>0.07</td>\n      <td>0.00</td>\n      <td>0.94</td>\n      <td>...</td>\n      <td>0.00</td>\n      <td>0.132</td>\n      <td>0.0</td>\n      <td>0.372</td>\n      <td>0.180</td>\n      <td>0.048</td>\n      <td>5.114</td>\n      <td>101</td>\n      <td>1028</td>\n      <td>1</td>\n    </tr>\n    <tr>\n      <th>2</th>\n      <td>0.06</td>\n      <td>0.00</td>\n      <td>0.71</td>\n      <td>0.0</td>\n      <td>1.23</td>\n      <td>0.19</td>\n      <td>0.19</td>\n      <td>0.12</td>\n      <td>0.64</td>\n      <td>0.25</td>\n      <td>...</td>\n      <td>0.01</td>\n      <td>0.143</td>\n      <td>0.0</td>\n      <td>0.276</td>\n      <td>0.184</td>\n      <td>0.010</td>\n      <td>9.821</td>\n      <td>485</td>\n      <td>2259</td>\n      <td>1</td>\n    </tr>\n    <tr>\n      <th>3</th>\n      <td>0.00</td>\n      <td>0.00</td>\n      <td>0.00</td>\n      <td>0.0</td>\n      <td>0.63</td>\n      <td>0.00</td>\n      <td>0.31</td>\n      <td>0.63</td>\n      <td>0.31</td>\n      <td>0.63</td>\n      <td>...</td>\n      <td>0.00</td>\n      <td>0.137</td>\n      <td>0.0</td>\n      <td>0.137</td>\n      <td>0.000</td>\n      <td>0.000</td>\n      <td>3.537</td>\n      <td>40</td>\n      <td>191</td>\n      <td>1</td>\n    </tr>\n    <tr>\n      <th>4</th>\n      <td>0.00</td>\n      <td>0.00</td>\n      <td>0.00</td>\n      <td>0.0</td>\n      <td>0.63</td>\n      <td>0.00</td>\n      <td>0.31</td>\n      <td>0.63</td>\n      <td>0.31</td>\n      <td>0.63</td>\n      <td>...</td>\n      <td>0.00</td>\n      <td>0.135</td>\n      <td>0.0</td>\n      <td>0.135</td>\n      <td>0.000</td>\n      <td>0.000</td>\n      <td>3.537</td>\n      <td>40</td>\n      <td>191</td>\n      <td>1</td>\n    </tr>\n  </tbody>\n</table>\n<p>5 rows × 58 columns</p>\n</div>"
     },
     "execution_count": 210,
     "metadata": {},
     "output_type": "execute_result"
    }
   ],
   "source": [
    "data_set.head()"
   ],
   "metadata": {
    "collapsed": false
   }
  },
  {
   "cell_type": "code",
   "execution_count": 211,
   "id": "c96a048f",
   "metadata": {},
   "outputs": [
    {
     "name": "stdout",
     "output_type": "stream",
     "text": [
      "4601\n"
     ]
    }
   ],
   "source": [
    "# No of rows in dataset before preprocessing\n",
    "print(len(data_set))"
   ]
  },
  {
   "cell_type": "markdown",
   "id": "aeccd548",
   "metadata": {},
   "source": [
    "### Finding the duplicates in the dataset"
   ]
  },
  {
   "cell_type": "code",
   "execution_count": 212,
   "id": "a0acf6a0",
   "metadata": {},
   "outputs": [
    {
     "data": {
      "text/plain": "0       False\n1       False\n2       False\n3       False\n4       False\n        ...  \n4596    False\n4597    False\n4598    False\n4599    False\n4600    False\nLength: 4601, dtype: bool"
     },
     "execution_count": 212,
     "metadata": {},
     "output_type": "execute_result"
    }
   ],
   "source": [
    "data_set.duplicated()"
   ]
  },
  {
   "cell_type": "markdown",
   "id": "94e5f5ad",
   "metadata": {},
   "source": [
    "### Dropping the duplicate values"
   ]
  },
  {
   "cell_type": "code",
   "execution_count": 213,
   "id": "a13e66b2",
   "metadata": {},
   "outputs": [],
   "source": [
    "data_set.drop_duplicates(inplace=True)"
   ]
  },
  {
   "cell_type": "code",
   "execution_count": 214,
   "id": "1bb09625",
   "metadata": {},
   "outputs": [
    {
     "name": "stdout",
     "output_type": "stream",
     "text": [
      "No of rows in dataset after removing duplicates :  4210\n"
     ]
    }
   ],
   "source": [
    "print(\"No of rows in dataset after removing duplicates : \", len(data_set))"
   ]
  },
  {
   "cell_type": "code",
   "execution_count": 215,
   "outputs": [
    {
     "data": {
      "text/plain": "<Figure size 10000x5000 with 0 Axes>"
     },
     "metadata": {},
     "output_type": "display_data"
    },
    {
     "data": {
      "text/plain": "<Figure size 640x480 with 1 Axes>",
      "image/png": "[encoded data removed]"
     },
     "metadata": {},
     "output_type": "display_data"
    }
   ],
   "source": [
    "fig = plt.figure(figsize =(100, 50))\n",
    "data_set.plot.box(title='Boxplot of Spam No spam email',rot=90)\n",
    "\n",
    "plt.show()"
   ],
   "metadata": {
    "collapsed": false
   }
  },
  {
   "cell_type": "markdown",
   "source": [
    "### Boxplot of capital_run_length_total with outliers"
   ],
   "metadata": {
    "collapsed": false
   }
  },
  {
   "cell_type": "code",
   "execution_count": 216,
   "outputs": [
    {
     "data": {
      "text/plain": "<AxesSubplot:xlabel='capital_run_length_total'>"
     },
     "execution_count": 216,
     "metadata": {},
     "output_type": "execute_result"
    },
    {
     "data": {
      "text/plain": "<Figure size 640x480 with 1 Axes>",
      "image/png": "[encoded data removed]"
     },
     "metadata": {},
     "output_type": "display_data"
    }
   ],
   "source": [
    "sns.boxplot(x = data_set['capital_run_length_total'])"
   ],
   "metadata": {
    "collapsed": false
   }
  },
  {
   "cell_type": "markdown",
   "source": [
    "### Boxplot of capital_run_length_longest with outliers"
   ],
   "metadata": {
    "collapsed": false
   }
  },
  {
   "cell_type": "code",
   "execution_count": 217,
   "outputs": [
    {
     "data": {
      "text/plain": "<AxesSubplot:xlabel='capital_run_length_longest'>"
     },
     "execution_count": 217,
     "metadata": {},
     "output_type": "execute_result"
    },
    {
     "data": {
      "text/plain": "<Figure size 640x480 with 1 Axes>",
      "image/png": "[encoded data removed]"
     },
     "metadata": {},
     "output_type": "display_data"
    }
   ],
   "source": [
    "sns.boxplot(x = data_set['capital_run_length_longest'])"
   ],
   "metadata": {
    "collapsed": false
   }
  },
  {
   "cell_type": "markdown",
   "source": [
    "### Boxplot of capital_run_length_average with outliers"
   ],
   "metadata": {
    "collapsed": false
   }
  },
  {
   "cell_type": "code",
   "execution_count": 218,
   "outputs": [
    {
     "data": {
      "text/plain": "<AxesSubplot:xlabel='capital_run_length_average'>"
     },
     "execution_count": 218,
     "metadata": {},
     "output_type": "execute_result"
    },
    {
     "data": {
      "text/plain": "<Figure size 640x480 with 1 Axes>",
      "image/png": "[encoded data removed]"
     },
     "metadata": {},
     "output_type": "display_data"
    }
   ],
   "source": [
    "sns.boxplot(x = data_set['capital_run_length_average'])"
   ],
   "metadata": {
    "collapsed": false
   }
  },
  {
   "cell_type": "markdown",
   "source": [
    "### Removing outliers from IQR technique"
   ],
   "metadata": {
    "collapsed": false
   }
  },
  {
   "cell_type": "code",
   "execution_count": 219,
   "outputs": [],
   "source": [
    "for x in ['capital_run_length_total','capital_run_length_longest','capital_run_length_average']:\n",
    "    q75,q25 = np.percentile(data_set.loc[:,x],[75,25])\n",
    "    intr_qr = q75-q25\n",
    "\n",
    "    max = q75+(1.5*intr_qr)\n",
    "    min = q25-(1.5*intr_qr)\n",
    "\n",
    "    data_set.loc[data_set[x] < min,x] = np.nan\n",
    "    data_set.loc[data_set[x] > max,x] = np.nan"
   ],
   "metadata": {
    "collapsed": false
   }
  },
  {
   "cell_type": "markdown",
   "source": [
    "### Boxplot of capital_run_length_total without outliers"
   ],
   "metadata": {
    "collapsed": false
   }
  },
  {
   "cell_type": "code",
   "execution_count": 220,
   "outputs": [
    {
     "data": {
      "text/plain": "<AxesSubplot:xlabel='capital_run_length_total'>"
     },
     "execution_count": 220,
     "metadata": {},
     "output_type": "execute_result"
    },
    {
     "data": {
      "text/plain": "<Figure size 640x480 with 1 Axes>",
      "image/png": "[encoded data removed]"
     },
     "metadata": {},
     "output_type": "display_data"
    }
   ],
   "source": [
    "sns.boxplot(x = data_set['capital_run_length_total'])"
   ],
   "metadata": {
    "collapsed": false
   }
  },
  {
   "cell_type": "markdown",
   "source": [
    "### Boxplot of capital_run_length_longest without outliers"
   ],
   "metadata": {
    "collapsed": false
   }
  },
  {
   "cell_type": "code",
   "execution_count": 221,
   "outputs": [
    {
     "data": {
      "text/plain": "<AxesSubplot:xlabel='capital_run_length_longest'>"
     },
     "execution_count": 221,
     "metadata": {},
     "output_type": "execute_result"
    },
    {
     "data": {
      "text/plain": "<Figure size 640x480 with 1 Axes>",
      "image/png": "[encoded data removed]"
     },
     "metadata": {},
     "output_type": "display_data"
    }
   ],
   "source": [
    "sns.boxplot(x = data_set['capital_run_length_longest'])"
   ],
   "metadata": {
    "collapsed": false
   }
  },
  {
   "cell_type": "markdown",
   "source": [
    "### Boxplot of capital_run_length_average without outliers"
   ],
   "metadata": {
    "collapsed": false
   }
  },
  {
   "cell_type": "code",
   "execution_count": 222,
   "outputs": [
    {
     "data": {
      "text/plain": "<AxesSubplot:xlabel='capital_run_length_average'>"
     },
     "execution_count": 222,
     "metadata": {},
     "output_type": "execute_result"
    },
    {
     "data": {
      "text/plain": "<Figure size 640x480 with 1 Axes>",
      "image/png": "[encoded data removed]"
     },
     "metadata": {},
     "output_type": "display_data"
    }
   ],
   "source": [
    "sns.boxplot(x = data_set['capital_run_length_average'])"
   ],
   "metadata": {
    "collapsed": false
   }
  },
  {
   "cell_type": "markdown",
   "id": "6e0fd204",
   "metadata": {},
   "source": [
    "### Finding the null values in the dataset"
   ]
  },
  {
   "cell_type": "code",
   "execution_count": 223,
   "outputs": [
    {
     "data": {
      "text/plain": "True"
     },
     "execution_count": 223,
     "metadata": {},
     "output_type": "execute_result"
    }
   ],
   "source": [
    "data_set.isna().sum().any()"
   ],
   "metadata": {
    "collapsed": false
   }
  },
  {
   "cell_type": "code",
   "execution_count": 224,
   "id": "2f35c435",
   "metadata": {},
   "outputs": [
    {
     "data": {
      "text/plain": "word_freq_make                  0\nword_freq_address               0\nword_freq_all                   0\nword_freq_3d                    0\nword_freq_our                   0\nword_freq_over                  0\nword_freq_remove                0\nword_freq_internet              0\nword_freq_order                 0\nword_freq_mail                  0\nword_freq_receive               0\nword_freq_will                  0\nword_freq_people                0\nword_freq_report                0\nword_freq_addresses             0\nword_freq_free                  0\nword_freq_business              0\nword_freq_email                 0\nword_freq_you                   0\nword_freq_credit                0\nword_freq_your                  0\nword_freq_font                  0\nword_freq_000                   0\nword_freq_money                 0\nword_freq_hp                    0\nword_freq_hpl                   0\nword_freq_george                0\nword_freq_650                   0\nword_freq_lab                   0\nword_freq_labs                  0\nword_freq_telnet                0\nword_freq_857                   0\nword_freq_data                  0\nword_freq_415                   0\nword_freq_85                    0\nword_freq_technology            0\nword_freq_1999                  0\nword_freq_parts                 0\nword_freq_pm                    0\nword_freq_direct                0\nword_freq_cs                    0\nword_freq_meeting               0\nword_freq_original              0\nword_freq_project               0\nword_freq_re                    0\nword_freq_edu                   0\nword_freq_table                 0\nword_freq_conference            0\nchar_freq_;                     0\nchar_freq_(                     0\nchar_freq_[                     0\nchar_freq_!                     0\nchar_freq_$                     0\nchar_freq_#                     0\ncapital_run_length_average    329\ncapital_run_length_longest    418\ncapital_run_length_total      497\nspam                            0\ndtype: int64"
     },
     "execution_count": 224,
     "metadata": {},
     "output_type": "execute_result"
    }
   ],
   "source": [
    "data_set.isna().sum()"
   ]
  },
  {
   "cell_type": "code",
   "execution_count": 225,
   "outputs": [
    {
     "data": {
      "text/plain": "      word_freq_make  word_freq_address  word_freq_all  word_freq_3d  \\\n0               0.00               0.64           0.64           0.0   \n1               0.00               0.00           0.00           0.0   \n2               0.00               0.00           0.00           0.0   \n3               0.00               0.00           0.00           0.0   \n4               0.00               0.00           0.00           0.0   \n...              ...                ...            ...           ...   \n3441            0.31               0.00           0.62           0.0   \n3442            0.00               0.00           0.00           0.0   \n3443            0.30               0.00           0.30           0.0   \n3444            0.96               0.00           0.00           0.0   \n3445            0.00               0.00           0.65           0.0   \n\n      word_freq_our  word_freq_over  word_freq_remove  word_freq_internet  \\\n0              0.32            0.00              0.00                0.00   \n1              0.63            0.00              0.31                0.63   \n2              0.63            0.00              0.31                0.63   \n3              1.85            0.00              0.00                1.85   \n4              1.92            0.00              0.00                0.00   \n...             ...             ...               ...                 ...   \n3441           0.00            0.31              0.00                0.00   \n3442           0.00            0.00              0.00                0.00   \n3443           0.00            0.00              0.00                0.00   \n3444           0.32            0.00              0.00                0.00   \n3445           0.00            0.00              0.00                0.00   \n\n      word_freq_order  word_freq_mail  ...  char_freq_;  char_freq_(  \\\n0                0.00            0.00  ...        0.000        0.000   \n1                0.31            0.63  ...        0.000        0.137   \n2                0.31            0.63  ...        0.000        0.135   \n3                0.00            0.00  ...        0.000        0.223   \n4                0.00            0.64  ...        0.000        0.054   \n...               ...             ...  ...          ...          ...   \n3441             0.00            0.00  ...        0.000        0.232   \n3442             0.00            0.00  ...        0.000        0.000   \n3443             0.00            0.00  ...        0.102        0.718   \n3444             0.00            0.00  ...        0.000        0.057   \n3445             0.00            0.00  ...        0.000        0.000   \n\n      char_freq_[  char_freq_!  char_freq_$  char_freq_#  \\\n0             0.0        0.778        0.000          0.0   \n1             0.0        0.137        0.000          0.0   \n2             0.0        0.135        0.000          0.0   \n3             0.0        0.000        0.000          0.0   \n4             0.0        0.164        0.054          0.0   \n...           ...          ...          ...          ...   \n3441          0.0        0.000        0.000          0.0   \n3442          0.0        0.353        0.000          0.0   \n3443          0.0        0.000        0.000          0.0   \n3444          0.0        0.000        0.000          0.0   \n3445          0.0        0.125        0.000          0.0   \n\n      capital_run_length_average  capital_run_length_longest  \\\n0                          3.756                        61.0   \n1                          3.537                        40.0   \n2                          3.537                        40.0   \n3                          3.000                        15.0   \n4                          1.671                         4.0   \n...                          ...                         ...   \n3441                       1.142                         3.0   \n3442                       1.555                         4.0   \n3443                       1.404                         6.0   \n3444                       1.147                         5.0   \n3445                       1.250                         5.0   \n\n      capital_run_length_total  spam  \n0                        278.0     1  \n1                        191.0     1  \n2                        191.0     1  \n3                         54.0     1  \n4                        112.0     1  \n...                        ...   ...  \n3441                      88.0     0  \n3442                      14.0     0  \n3443                     118.0     0  \n3444                      78.0     0  \n3445                      40.0     0  \n\n[3446 rows x 58 columns]",
      "text/html": "<div>\n<style scoped>\n    .dataframe tbody tr th:only-of-type {\n        vertical-align: middle;\n    }\n\n    .dataframe tbody tr th {\n        vertical-align: top;\n    }\n\n    .dataframe thead th {\n        text-align: right;\n    }\n</style>\n<table border=\"1\" class=\"dataframe\">\n  <thead>\n    <tr style=\"text-align: right;\">\n      <th></th>\n      <th>word_freq_make</th>\n      <th>word_freq_address</th>\n      <th>word_freq_all</th>\n      <th>word_freq_3d</th>\n      <th>word_freq_our</th>\n      <th>word_freq_over</th>\n      <th>word_freq_remove</th>\n      <th>word_freq_internet</th>\n      <th>word_freq_order</th>\n      <th>word_freq_mail</th>\n      <th>...</th>\n      <th>char_freq_;</th>\n      <th>char_freq_(</th>\n      <th>char_freq_[</th>\n      <th>char_freq_!</th>\n      <th>char_freq_$</th>\n      <th>char_freq_#</th>\n      <th>capital_run_length_average</th>\n      <th>capital_run_length_longest</th>\n      <th>capital_run_length_total</th>\n      <th>spam</th>\n    </tr>\n  </thead>\n  <tbody>\n    <tr>\n      <th>0</th>\n      <td>0.00</td>\n      <td>0.64</td>\n      <td>0.64</td>\n      <td>0.0</td>\n      <td>0.32</td>\n      <td>0.00</td>\n      <td>0.00</td>\n      <td>0.00</td>\n      <td>0.00</td>\n      <td>0.00</td>\n      <td>...</td>\n      <td>0.000</td>\n      <td>0.000</td>\n      <td>0.0</td>\n      <td>0.778</td>\n      <td>0.000</td>\n      <td>0.0</td>\n      <td>3.756</td>\n      <td>61.0</td>\n      <td>278.0</td>\n      <td>1</td>\n    </tr>\n    <tr>\n      <th>1</th>\n      <td>0.00</td>\n      <td>0.00</td>\n      <td>0.00</td>\n      <td>0.0</td>\n      <td>0.63</td>\n      <td>0.00</td>\n      <td>0.31</td>\n      <td>0.63</td>\n      <td>0.31</td>\n      <td>0.63</td>\n      <td>...</td>\n      <td>0.000</td>\n      <td>0.137</td>\n      <td>0.0</td>\n      <td>0.137</td>\n      <td>0.000</td>\n      <td>0.0</td>\n      <td>3.537</td>\n      <td>40.0</td>\n      <td>191.0</td>\n      <td>1</td>\n    </tr>\n    <tr>\n      <th>2</th>\n      <td>0.00</td>\n      <td>0.00</td>\n      <td>0.00</td>\n      <td>0.0</td>\n      <td>0.63</td>\n      <td>0.00</td>\n      <td>0.31</td>\n      <td>0.63</td>\n      <td>0.31</td>\n      <td>0.63</td>\n      <td>...</td>\n      <td>0.000</td>\n      <td>0.135</td>\n      <td>0.0</td>\n      <td>0.135</td>\n      <td>0.000</td>\n      <td>0.0</td>\n      <td>3.537</td>\n      <td>40.0</td>\n      <td>191.0</td>\n      <td>1</td>\n    </tr>\n    <tr>\n      <th>3</th>\n      <td>0.00</td>\n      <td>0.00</td>\n      <td>0.00</td>\n      <td>0.0</td>\n      <td>1.85</td>\n      <td>0.00</td>\n      <td>0.00</td>\n      <td>1.85</td>\n      <td>0.00</td>\n      <td>0.00</td>\n      <td>...</td>\n      <td>0.000</td>\n      <td>0.223</td>\n      <td>0.0</td>\n      <td>0.000</td>\n      <td>0.000</td>\n      <td>0.0</td>\n      <td>3.000</td>\n      <td>15.0</td>\n      <td>54.0</td>\n      <td>1</td>\n    </tr>\n    <tr>\n      <th>4</th>\n      <td>0.00</td>\n      <td>0.00</td>\n      <td>0.00</td>\n      <td>0.0</td>\n      <td>1.92</td>\n      <td>0.00</td>\n      <td>0.00</td>\n      <td>0.00</td>\n      <td>0.00</td>\n      <td>0.64</td>\n      <td>...</td>\n      <td>0.000</td>\n      <td>0.054</td>\n      <td>0.0</td>\n      <td>0.164</td>\n      <td>0.054</td>\n      <td>0.0</td>\n      <td>1.671</td>\n      <td>4.0</td>\n      <td>112.0</td>\n      <td>1</td>\n    </tr>\n    <tr>\n      <th>...</th>\n      <td>...</td>\n      <td>...</td>\n      <td>...</td>\n      <td>...</td>\n      <td>...</td>\n      <td>...</td>\n      <td>...</td>\n      <td>...</td>\n      <td>...</td>\n      <td>...</td>\n      <td>...</td>\n      <td>...</td>\n      <td>...</td>\n      <td>...</td>\n      <td>...</td>\n      <td>...</td>\n      <td>...</td>\n      <td>...</td>\n      <td>...</td>\n      <td>...</td>\n      <td>...</td>\n    </tr>\n    <tr>\n      <th>3441</th>\n      <td>0.31</td>\n      <td>0.00</td>\n      <td>0.62</td>\n      <td>0.0</td>\n      <td>0.00</td>\n      <td>0.31</td>\n      <td>0.00</td>\n      <td>0.00</td>\n      <td>0.00</td>\n      <td>0.00</td>\n      <td>...</td>\n      <td>0.000</td>\n      <td>0.232</td>\n      <td>0.0</td>\n      <td>0.000</td>\n      <td>0.000</td>\n      <td>0.0</td>\n      <td>1.142</td>\n      <td>3.0</td>\n      <td>88.0</td>\n      <td>0</td>\n    </tr>\n    <tr>\n      <th>3442</th>\n      <td>0.00</td>\n      <td>0.00</td>\n      <td>0.00</td>\n      <td>0.0</td>\n      <td>0.00</td>\n      <td>0.00</td>\n      <td>0.00</td>\n      <td>0.00</td>\n      <td>0.00</td>\n      <td>0.00</td>\n      <td>...</td>\n      <td>0.000</td>\n      <td>0.000</td>\n      <td>0.0</td>\n      <td>0.353</td>\n      <td>0.000</td>\n      <td>0.0</td>\n      <td>1.555</td>\n      <td>4.0</td>\n      <td>14.0</td>\n      <td>0</td>\n    </tr>\n    <tr>\n      <th>3443</th>\n      <td>0.30</td>\n      <td>0.00</td>\n      <td>0.30</td>\n      <td>0.0</td>\n      <td>0.00</td>\n      <td>0.00</td>\n      <td>0.00</td>\n      <td>0.00</td>\n      <td>0.00</td>\n      <td>0.00</td>\n      <td>...</td>\n      <td>0.102</td>\n      <td>0.718</td>\n      <td>0.0</td>\n      <td>0.000</td>\n      <td>0.000</td>\n      <td>0.0</td>\n      <td>1.404</td>\n      <td>6.0</td>\n      <td>118.0</td>\n      <td>0</td>\n    </tr>\n    <tr>\n      <th>3444</th>\n      <td>0.96</td>\n      <td>0.00</td>\n      <td>0.00</td>\n      <td>0.0</td>\n      <td>0.32</td>\n      <td>0.00</td>\n      <td>0.00</td>\n      <td>0.00</td>\n      <td>0.00</td>\n      <td>0.00</td>\n      <td>...</td>\n      <td>0.000</td>\n      <td>0.057</td>\n      <td>0.0</td>\n      <td>0.000</td>\n      <td>0.000</td>\n      <td>0.0</td>\n      <td>1.147</td>\n      <td>5.0</td>\n      <td>78.0</td>\n      <td>0</td>\n    </tr>\n    <tr>\n      <th>3445</th>\n      <td>0.00</td>\n      <td>0.00</td>\n      <td>0.65</td>\n      <td>0.0</td>\n      <td>0.00</td>\n      <td>0.00</td>\n      <td>0.00</td>\n      <td>0.00</td>\n      <td>0.00</td>\n      <td>0.00</td>\n      <td>...</td>\n      <td>0.000</td>\n      <td>0.000</td>\n      <td>0.0</td>\n      <td>0.125</td>\n      <td>0.000</td>\n      <td>0.0</td>\n      <td>1.250</td>\n      <td>5.0</td>\n      <td>40.0</td>\n      <td>0</td>\n    </tr>\n  </tbody>\n</table>\n<p>3446 rows × 58 columns</p>\n</div>"
     },
     "execution_count": 225,
     "metadata": {},
     "output_type": "execute_result"
    }
   ],
   "source": [
    "# Drop all rows with NaN values\n",
    "df_two=data_set.dropna()\n",
    "df_two=data_set.dropna(axis=0)\n",
    "\n",
    "# Reset index after drop\n",
    "df_two=data_set.dropna().reset_index(drop=True)\n",
    "\n",
    "data_set = df_two\n",
    "df_two"
   ],
   "metadata": {
    "collapsed": false
   }
  },
  {
   "cell_type": "markdown",
   "id": "bbd3f250",
   "metadata": {},
   "source": [
    "### Removing the target column "
   ]
  },
  {
   "cell_type": "code",
   "execution_count": 226,
   "id": "a1eb0cc2",
   "metadata": {},
   "outputs": [
    {
     "data": {
      "text/plain": "   word_freq_make  word_freq_address  word_freq_all  word_freq_3d  \\\n0             0.0               0.64           0.64           0.0   \n1             0.0               0.00           0.00           0.0   \n2             0.0               0.00           0.00           0.0   \n3             0.0               0.00           0.00           0.0   \n4             0.0               0.00           0.00           0.0   \n\n   word_freq_our  word_freq_over  word_freq_remove  word_freq_internet  \\\n0           0.32             0.0              0.00                0.00   \n1           0.63             0.0              0.31                0.63   \n2           0.63             0.0              0.31                0.63   \n3           1.85             0.0              0.00                1.85   \n4           1.92             0.0              0.00                0.00   \n\n   word_freq_order  word_freq_mail  ...  word_freq_conference  char_freq_;  \\\n0             0.00            0.00  ...                   0.0          0.0   \n1             0.31            0.63  ...                   0.0          0.0   \n2             0.31            0.63  ...                   0.0          0.0   \n3             0.00            0.00  ...                   0.0          0.0   \n4             0.00            0.64  ...                   0.0          0.0   \n\n   char_freq_(  char_freq_[  char_freq_!  char_freq_$  char_freq_#  \\\n0        0.000          0.0        0.778        0.000          0.0   \n1        0.137          0.0        0.137        0.000          0.0   \n2        0.135          0.0        0.135        0.000          0.0   \n3        0.223          0.0        0.000        0.000          0.0   \n4        0.054          0.0        0.164        0.054          0.0   \n\n   capital_run_length_average  capital_run_length_longest  \\\n0                       3.756                        61.0   \n1                       3.537                        40.0   \n2                       3.537                        40.0   \n3                       3.000                        15.0   \n4                       1.671                         4.0   \n\n   capital_run_length_total  \n0                     278.0  \n1                     191.0  \n2                     191.0  \n3                      54.0  \n4                     112.0  \n\n[5 rows x 57 columns]",
      "text/html": "<div>\n<style scoped>\n    .dataframe tbody tr th:only-of-type {\n        vertical-align: middle;\n    }\n\n    .dataframe tbody tr th {\n        vertical-align: top;\n    }\n\n    .dataframe thead th {\n        text-align: right;\n    }\n</style>\n<table border=\"1\" class=\"dataframe\">\n  <thead>\n    <tr style=\"text-align: right;\">\n      <th></th>\n      <th>word_freq_make</th>\n      <th>word_freq_address</th>\n      <th>word_freq_all</th>\n      <th>word_freq_3d</th>\n      <th>word_freq_our</th>\n      <th>word_freq_over</th>\n      <th>word_freq_remove</th>\n      <th>word_freq_internet</th>\n      <th>word_freq_order</th>\n      <th>word_freq_mail</th>\n      <th>...</th>\n      <th>word_freq_conference</th>\n      <th>char_freq_;</th>\n      <th>char_freq_(</th>\n      <th>char_freq_[</th>\n      <th>char_freq_!</th>\n      <th>char_freq_$</th>\n      <th>char_freq_#</th>\n      <th>capital_run_length_average</th>\n      <th>capital_run_length_longest</th>\n      <th>capital_run_length_total</th>\n    </tr>\n  </thead>\n  <tbody>\n    <tr>\n      <th>0</th>\n      <td>0.0</td>\n      <td>0.64</td>\n      <td>0.64</td>\n      <td>0.0</td>\n      <td>0.32</td>\n      <td>0.0</td>\n      <td>0.00</td>\n      <td>0.00</td>\n      <td>0.00</td>\n      <td>0.00</td>\n      <td>...</td>\n      <td>0.0</td>\n      <td>0.0</td>\n      <td>0.000</td>\n      <td>0.0</td>\n      <td>0.778</td>\n      <td>0.000</td>\n      <td>0.0</td>\n      <td>3.756</td>\n      <td>61.0</td>\n      <td>278.0</td>\n    </tr>\n    <tr>\n      <th>1</th>\n      <td>0.0</td>\n      <td>0.00</td>\n      <td>0.00</td>\n      <td>0.0</td>\n      <td>0.63</td>\n      <td>0.0</td>\n      <td>0.31</td>\n      <td>0.63</td>\n      <td>0.31</td>\n      <td>0.63</td>\n      <td>...</td>\n      <td>0.0</td>\n      <td>0.0</td>\n      <td>0.137</td>\n      <td>0.0</td>\n      <td>0.137</td>\n      <td>0.000</td>\n      <td>0.0</td>\n      <td>3.537</td>\n      <td>40.0</td>\n      <td>191.0</td>\n    </tr>\n    <tr>\n      <th>2</th>\n      <td>0.0</td>\n      <td>0.00</td>\n      <td>0.00</td>\n      <td>0.0</td>\n      <td>0.63</td>\n      <td>0.0</td>\n      <td>0.31</td>\n      <td>0.63</td>\n      <td>0.31</td>\n      <td>0.63</td>\n      <td>...</td>\n      <td>0.0</td>\n      <td>0.0</td>\n      <td>0.135</td>\n      <td>0.0</td>\n      <td>0.135</td>\n      <td>0.000</td>\n      <td>0.0</td>\n      <td>3.537</td>\n      <td>40.0</td>\n      <td>191.0</td>\n    </tr>\n    <tr>\n      <th>3</th>\n      <td>0.0</td>\n      <td>0.00</td>\n      <td>0.00</td>\n      <td>0.0</td>\n      <td>1.85</td>\n      <td>0.0</td>\n      <td>0.00</td>\n      <td>1.85</td>\n      <td>0.00</td>\n      <td>0.00</td>\n      <td>...</td>\n      <td>0.0</td>\n      <td>0.0</td>\n      <td>0.223</td>\n      <td>0.0</td>\n      <td>0.000</td>\n      <td>0.000</td>\n      <td>0.0</td>\n      <td>3.000</td>\n      <td>15.0</td>\n      <td>54.0</td>\n    </tr>\n    <tr>\n      <th>4</th>\n      <td>0.0</td>\n      <td>0.00</td>\n      <td>0.00</td>\n      <td>0.0</td>\n      <td>1.92</td>\n      <td>0.0</td>\n      <td>0.00</td>\n      <td>0.00</td>\n      <td>0.00</td>\n      <td>0.64</td>\n      <td>...</td>\n      <td>0.0</td>\n      <td>0.0</td>\n      <td>0.054</td>\n      <td>0.0</td>\n      <td>0.164</td>\n      <td>0.054</td>\n      <td>0.0</td>\n      <td>1.671</td>\n      <td>4.0</td>\n      <td>112.0</td>\n    </tr>\n  </tbody>\n</table>\n<p>5 rows × 57 columns</p>\n</div>"
     },
     "execution_count": 226,
     "metadata": {},
     "output_type": "execute_result"
    }
   ],
   "source": [
    "data=data_set.drop(labels=['spam'], axis=1)\n",
    "data.head()"
   ]
  },
  {
   "cell_type": "code",
   "execution_count": 227,
   "id": "b6690b4c",
   "metadata": {},
   "outputs": [
    {
     "name": "stdout",
     "output_type": "stream",
     "text": [
      "3446\n"
     ]
    }
   ],
   "source": [
    "# No of rows in dataset after preprocessing\n",
    "print(len(data_set))"
   ]
  },
  {
   "cell_type": "code",
   "execution_count": 228,
   "outputs": [
    {
     "data": {
      "text/plain": "<AxesSubplot:>"
     },
     "execution_count": 228,
     "metadata": {},
     "output_type": "execute_result"
    },
    {
     "data": {
      "text/plain": "<Figure size 640x480 with 1 Axes>",
      "image/png": "[encoded data removed]"
     },
     "metadata": {},
     "output_type": "display_data"
    }
   ],
   "source": [
    "#graphically viewing whether null values available\n",
    "sns.heatmap(data.isnull(), yticklabels=False, cbar=False, cmap='viridis')"
   ],
   "metadata": {
    "collapsed": false
   }
  },
  {
   "cell_type": "markdown",
   "id": "4dc26702",
   "metadata": {},
   "source": [
    "### Summary of dataset before performing Standard Scaler"
   ]
  },
  {
   "cell_type": "code",
   "execution_count": 229,
   "id": "f74c56ac",
   "metadata": {},
   "outputs": [
    {
     "data": {
      "text/plain": "       word_freq_make  word_freq_address  word_freq_all  word_freq_3d  \\\ncount     3446.000000        3446.000000    3446.000000   3446.000000   \nmean         0.094779           0.092716       0.268056      0.005818   \nstd          0.309801           0.474629       0.529981      0.134848   \nmin          0.000000           0.000000       0.000000      0.000000   \n25%          0.000000           0.000000       0.000000      0.000000   \n50%          0.000000           0.000000       0.000000      0.000000   \n75%          0.000000           0.000000       0.360000      0.000000   \nmax          4.540000          14.280000       5.100000      7.070000   \n\n       word_freq_our  word_freq_over  word_freq_remove  word_freq_internet  \\\ncount    3446.000000     3446.000000       3446.000000         3446.000000   \nmean        0.308175        0.085267          0.093688            0.096164   \nstd         0.701947        0.281174          0.356036            0.420321   \nmin         0.000000        0.000000          0.000000            0.000000   \n25%         0.000000        0.000000          0.000000            0.000000   \n50%         0.000000        0.000000          0.000000            0.000000   \n75%         0.360000        0.000000          0.000000            0.000000   \nmax        10.000000        5.880000          7.270000           11.110000   \n\n       word_freq_order  word_freq_mail  ...  word_freq_conference  \\\ncount      3446.000000     3446.000000  ...           3446.000000   \nmean          0.047841        0.201033  ...              0.038328   \nstd           0.222685        0.581086  ...              0.326526   \nmin           0.000000        0.000000  ...              0.000000   \n25%           0.000000        0.000000  ...              0.000000   \n50%           0.000000        0.000000  ...              0.000000   \n75%           0.000000        0.000000  ...              0.000000   \nmax           5.260000       11.110000  ...             10.000000   \n\n       char_freq_;  char_freq_(  char_freq_[  char_freq_!  char_freq_$  \\\ncount  3446.000000  3446.000000  3446.000000  3446.000000  3446.000000   \nmean      0.033385     0.147309     0.017294     0.233433     0.051662   \nstd       0.214935     0.244150     0.112672     0.793952     0.194241   \nmin       0.000000     0.000000     0.000000     0.000000     0.000000   \n25%       0.000000     0.000000     0.000000     0.000000     0.000000   \n50%       0.000000     0.066000     0.000000     0.000000     0.000000   \n75%       0.000000     0.204000     0.000000     0.237000     0.000000   \nmax       4.385000     5.277000     4.081000    32.478000     6.003000   \n\n       char_freq_#  capital_run_length_average  capital_run_length_longest  \\\ncount  3446.000000                 3446.000000                 3446.000000   \nmean      0.033626                    2.362797                   18.532792   \nstd       0.459684                    1.162791                   18.751231   \nmin       0.000000                    1.000000                    1.000000   \n25%       0.000000                    1.508500                    5.000000   \n50%       0.000000                    2.054000                   12.000000   \n75%       0.000000                    2.909000                   23.000000   \nmax      19.829000                    6.822000                   98.000000   \n\n       capital_run_length_total  \ncount               3446.000000  \nmean                 120.788160  \nstd                  130.389669  \nmin                    1.000000  \n25%                   31.000000  \n50%                   76.000000  \n75%                  155.000000  \nmax                  623.000000  \n\n[8 rows x 57 columns]",
      "text/html": "<div>\n<style scoped>\n    .dataframe tbody tr th:only-of-type {\n        vertical-align: middle;\n    }\n\n    .dataframe tbody tr th {\n        vertical-align: top;\n    }\n\n    .dataframe thead th {\n        text-align: right;\n    }\n</style>\n<table border=\"1\" class=\"dataframe\">\n  <thead>\n    <tr style=\"text-align: right;\">\n      <th></th>\n      <th>word_freq_make</th>\n      <th>word_freq_address</th>\n      <th>word_freq_all</th>\n      <th>word_freq_3d</th>\n      <th>word_freq_our</th>\n      <th>word_freq_over</th>\n      <th>word_freq_remove</th>\n      <th>word_freq_internet</th>\n      <th>word_freq_order</th>\n      <th>word_freq_mail</th>\n      <th>...</th>\n      <th>word_freq_conference</th>\n      <th>char_freq_;</th>\n      <th>char_freq_(</th>\n      <th>char_freq_[</th>\n      <th>char_freq_!</th>\n      <th>char_freq_$</th>\n      <th>char_freq_#</th>\n      <th>capital_run_length_average</th>\n      <th>capital_run_length_longest</th>\n      <th>capital_run_length_total</th>\n    </tr>\n  </thead>\n  <tbody>\n    <tr>\n      <th>count</th>\n      <td>3446.000000</td>\n      <td>3446.000000</td>\n      <td>3446.000000</td>\n      <td>3446.000000</td>\n      <td>3446.000000</td>\n      <td>3446.000000</td>\n      <td>3446.000000</td>\n      <td>3446.000000</td>\n      <td>3446.000000</td>\n      <td>3446.000000</td>\n      <td>...</td>\n      <td>3446.000000</td>\n      <td>3446.000000</td>\n      <td>3446.000000</td>\n      <td>3446.000000</td>\n      <td>3446.000000</td>\n      <td>3446.000000</td>\n      <td>3446.000000</td>\n      <td>3446.000000</td>\n      <td>3446.000000</td>\n      <td>3446.000000</td>\n    </tr>\n    <tr>\n      <th>mean</th>\n      <td>0.094779</td>\n      <td>0.092716</td>\n      <td>0.268056</td>\n      <td>0.005818</td>\n      <td>0.308175</td>\n      <td>0.085267</td>\n      <td>0.093688</td>\n      <td>0.096164</td>\n      <td>0.047841</td>\n      <td>0.201033</td>\n      <td>...</td>\n      <td>0.038328</td>\n      <td>0.033385</td>\n      <td>0.147309</td>\n      <td>0.017294</td>\n      <td>0.233433</td>\n      <td>0.051662</td>\n      <td>0.033626</td>\n      <td>2.362797</td>\n      <td>18.532792</td>\n      <td>120.788160</td>\n    </tr>\n    <tr>\n      <th>std</th>\n      <td>0.309801</td>\n      <td>0.474629</td>\n      <td>0.529981</td>\n      <td>0.134848</td>\n      <td>0.701947</td>\n      <td>0.281174</td>\n      <td>0.356036</td>\n      <td>0.420321</td>\n      <td>0.222685</td>\n      <td>0.581086</td>\n      <td>...</td>\n      <td>0.326526</td>\n      <td>0.214935</td>\n      <td>0.244150</td>\n      <td>0.112672</td>\n      <td>0.793952</td>\n      <td>0.194241</td>\n      <td>0.459684</td>\n      <td>1.162791</td>\n      <td>18.751231</td>\n      <td>130.389669</td>\n    </tr>\n    <tr>\n      <th>min</th>\n      <td>0.000000</td>\n      <td>0.000000</td>\n      <td>0.000000</td>\n      <td>0.000000</td>\n      <td>0.000000</td>\n      <td>0.000000</td>\n      <td>0.000000</td>\n      <td>0.000000</td>\n      <td>0.000000</td>\n      <td>0.000000</td>\n      <td>...</td>\n      <td>0.000000</td>\n      <td>0.000000</td>\n      <td>0.000000</td>\n      <td>0.000000</td>\n      <td>0.000000</td>\n      <td>0.000000</td>\n      <td>0.000000</td>\n      <td>1.000000</td>\n      <td>1.000000</td>\n      <td>1.000000</td>\n    </tr>\n    <tr>\n      <th>25%</th>\n      <td>0.000000</td>\n      <td>0.000000</td>\n      <td>0.000000</td>\n      <td>0.000000</td>\n      <td>0.000000</td>\n      <td>0.000000</td>\n      <td>0.000000</td>\n      <td>0.000000</td>\n      <td>0.000000</td>\n      <td>0.000000</td>\n      <td>...</td>\n      <td>0.000000</td>\n      <td>0.000000</td>\n      <td>0.000000</td>\n      <td>0.000000</td>\n      <td>0.000000</td>\n      <td>0.000000</td>\n      <td>0.000000</td>\n      <td>1.508500</td>\n      <td>5.000000</td>\n      <td>31.000000</td>\n    </tr>\n    <tr>\n      <th>50%</th>\n      <td>0.000000</td>\n      <td>0.000000</td>\n      <td>0.000000</td>\n      <td>0.000000</td>\n      <td>0.000000</td>\n      <td>0.000000</td>\n      <td>0.000000</td>\n      <td>0.000000</td>\n      <td>0.000000</td>\n      <td>0.000000</td>\n      <td>...</td>\n      <td>0.000000</td>\n      <td>0.000000</td>\n      <td>0.066000</td>\n      <td>0.000000</td>\n      <td>0.000000</td>\n      <td>0.000000</td>\n      <td>0.000000</td>\n      <td>2.054000</td>\n      <td>12.000000</td>\n      <td>76.000000</td>\n    </tr>\n    <tr>\n      <th>75%</th>\n      <td>0.000000</td>\n      <td>0.000000</td>\n      <td>0.360000</td>\n      <td>0.000000</td>\n      <td>0.360000</td>\n      <td>0.000000</td>\n      <td>0.000000</td>\n      <td>0.000000</td>\n      <td>0.000000</td>\n      <td>0.000000</td>\n      <td>...</td>\n      <td>0.000000</td>\n      <td>0.000000</td>\n      <td>0.204000</td>\n      <td>0.000000</td>\n      <td>0.237000</td>\n      <td>0.000000</td>\n      <td>0.000000</td>\n      <td>2.909000</td>\n      <td>23.000000</td>\n      <td>155.000000</td>\n    </tr>\n    <tr>\n      <th>max</th>\n      <td>4.540000</td>\n      <td>14.280000</td>\n      <td>5.100000</td>\n      <td>7.070000</td>\n      <td>10.000000</td>\n      <td>5.880000</td>\n      <td>7.270000</td>\n      <td>11.110000</td>\n      <td>5.260000</td>\n      <td>11.110000</td>\n      <td>...</td>\n      <td>10.000000</td>\n      <td>4.385000</td>\n      <td>5.277000</td>\n      <td>4.081000</td>\n      <td>32.478000</td>\n      <td>6.003000</td>\n      <td>19.829000</td>\n      <td>6.822000</td>\n      <td>98.000000</td>\n      <td>623.000000</td>\n    </tr>\n  </tbody>\n</table>\n<p>8 rows × 57 columns</p>\n</div>"
     },
     "execution_count": 229,
     "metadata": {},
     "output_type": "execute_result"
    }
   ],
   "source": [
    "data.describe()"
   ]
  },
  {
   "cell_type": "markdown",
   "id": "89e773b7",
   "metadata": {},
   "source": [
    "### Performing Standard Scaling for the dataset"
   ]
  },
  {
   "cell_type": "code",
   "execution_count": 230,
   "id": "38737634",
   "metadata": {},
   "outputs": [
    {
     "data": {
      "text/plain": "      word_freq_make  word_freq_address  word_freq_all  word_freq_3d  \\\n0          -0.305981           1.153245       0.701909     -0.043154   \n1          -0.305981          -0.195373      -0.505857     -0.043154   \n2          -0.305981          -0.195373      -0.505857     -0.043154   \n3          -0.305981          -0.195373      -0.505857     -0.043154   \n4          -0.305981          -0.195373      -0.505857     -0.043154   \n...              ...                ...            ...           ...   \n3441        0.694807          -0.195373       0.664166     -0.043154   \n3442       -0.305981          -0.195373      -0.505857     -0.043154   \n3443        0.662524          -0.195373       0.060283     -0.043154   \n3444        2.793236          -0.195373      -0.505857     -0.043154   \n3445       -0.305981          -0.195373       0.720781     -0.043154   \n\n      word_freq_our  word_freq_over  word_freq_remove  word_freq_internet  \\\n0          0.016849       -0.303297         -0.263181           -0.228820   \n1          0.458542       -0.303297          0.607644            1.270253   \n2          0.458542       -0.303297          0.607644            1.270253   \n3          2.196817       -0.303297         -0.263181            4.173219   \n4          2.296554       -0.303297         -0.263181           -0.228820   \n...             ...             ...               ...                 ...   \n3441      -0.439092        0.799382         -0.263181           -0.228820   \n3442      -0.439092       -0.303297         -0.263181           -0.228820   \n3443      -0.439092       -0.303297         -0.263181           -0.228820   \n3444       0.016849       -0.303297         -0.263181           -0.228820   \n3445      -0.439092       -0.303297         -0.263181           -0.228820   \n\n      word_freq_order  word_freq_mail  ...  word_freq_conference  char_freq_;  \\\n0           -0.214868       -0.346011  ...               -0.1174    -0.155346   \n1            1.177436        0.738324  ...               -0.1174    -0.155346   \n2            1.177436        0.738324  ...               -0.1174    -0.155346   \n3           -0.214868       -0.346011  ...               -0.1174    -0.155346   \n4           -0.214868        0.755535  ...               -0.1174    -0.155346   \n...               ...             ...  ...                   ...          ...   \n3441        -0.214868       -0.346011  ...               -0.1174    -0.155346   \n3442        -0.214868       -0.346011  ...               -0.1174    -0.155346   \n3443        -0.214868       -0.346011  ...               -0.1174     0.319285   \n3444        -0.214868       -0.346011  ...               -0.1174    -0.155346   \n3445        -0.214868       -0.346011  ...               -0.1174    -0.155346   \n\n      char_freq_(  char_freq_[  char_freq_!  char_freq_$  char_freq_#  \\\n0       -0.603441    -0.153514     0.685993    -0.266006     -0.07316   \n1       -0.042229    -0.153514    -0.121477    -0.266006     -0.07316   \n2       -0.050422    -0.153514    -0.123996    -0.266006     -0.07316   \n3        0.310064    -0.153514    -0.294056    -0.266006     -0.07316   \n4       -0.382233    -0.153514    -0.087465     0.012040     -0.07316   \n...           ...          ...          ...          ...          ...   \n3441     0.346932    -0.153514    -0.294056    -0.266006     -0.07316   \n3442    -0.603441    -0.153514     0.150619    -0.266006     -0.07316   \n3443     2.337799    -0.153514    -0.294056    -0.266006     -0.07316   \n3444    -0.369944    -0.153514    -0.294056    -0.266006     -0.07316   \n3445    -0.603441    -0.153514    -0.136593    -0.266006     -0.07316   \n\n      capital_run_length_average  capital_run_length_longest  \\\n0                       1.198328                    2.265098   \n1                       1.009960                    1.145009   \n2                       1.009960                    1.145009   \n3                       0.548074                   -0.188431   \n4                      -0.595032                   -0.775144   \n...                          ...                         ...   \n3441                   -1.050038                   -0.828481   \n3442                   -0.694806                   -0.775144   \n3443                   -0.824685                   -0.668469   \n3444                   -1.045737                   -0.721806   \n3445                   -0.957144                   -0.721806   \n\n      capital_run_length_total  \n0                     1.205883  \n1                     0.538555  \n2                     0.538555  \n3                    -0.512294  \n4                    -0.067409  \n...                        ...  \n3441                 -0.251499  \n3442                 -0.819111  \n3443                 -0.021386  \n3444                 -0.328204  \n3445                 -0.619680  \n\n[3446 rows x 57 columns]",
      "text/html": "<div>\n<style scoped>\n    .dataframe tbody tr th:only-of-type {\n        vertical-align: middle;\n    }\n\n    .dataframe tbody tr th {\n        vertical-align: top;\n    }\n\n    .dataframe thead th {\n        text-align: right;\n    }\n</style>\n<table border=\"1\" class=\"dataframe\">\n  <thead>\n    <tr style=\"text-align: right;\">\n      <th></th>\n      <th>word_freq_make</th>\n      <th>word_freq_address</th>\n      <th>word_freq_all</th>\n      <th>word_freq_3d</th>\n      <th>word_freq_our</th>\n      <th>word_freq_over</th>\n      <th>word_freq_remove</th>\n      <th>word_freq_internet</th>\n      <th>word_freq_order</th>\n      <th>word_freq_mail</th>\n      <th>...</th>\n      <th>word_freq_conference</th>\n      <th>char_freq_;</th>\n      <th>char_freq_(</th>\n      <th>char_freq_[</th>\n      <th>char_freq_!</th>\n      <th>char_freq_$</th>\n      <th>char_freq_#</th>\n      <th>capital_run_length_average</th>\n      <th>capital_run_length_longest</th>\n      <th>capital_run_length_total</th>\n    </tr>\n  </thead>\n  <tbody>\n    <tr>\n      <th>0</th>\n      <td>-0.305981</td>\n      <td>1.153245</td>\n      <td>0.701909</td>\n      <td>-0.043154</td>\n      <td>0.016849</td>\n      <td>-0.303297</td>\n      <td>-0.263181</td>\n      <td>-0.228820</td>\n      <td>-0.214868</td>\n      <td>-0.346011</td>\n      <td>...</td>\n      <td>-0.1174</td>\n      <td>-0.155346</td>\n      <td>-0.603441</td>\n      <td>-0.153514</td>\n      <td>0.685993</td>\n      <td>-0.266006</td>\n      <td>-0.07316</td>\n      <td>1.198328</td>\n      <td>2.265098</td>\n      <td>1.205883</td>\n    </tr>\n    <tr>\n      <th>1</th>\n      <td>-0.305981</td>\n      <td>-0.195373</td>\n      <td>-0.505857</td>\n      <td>-0.043154</td>\n      <td>0.458542</td>\n      <td>-0.303297</td>\n      <td>0.607644</td>\n      <td>1.270253</td>\n      <td>1.177436</td>\n      <td>0.738324</td>\n      <td>...</td>\n      <td>-0.1174</td>\n      <td>-0.155346</td>\n      <td>-0.042229</td>\n      <td>-0.153514</td>\n      <td>-0.121477</td>\n      <td>-0.266006</td>\n      <td>-0.07316</td>\n      <td>1.009960</td>\n      <td>1.145009</td>\n      <td>0.538555</td>\n    </tr>\n    <tr>\n      <th>2</th>\n      <td>-0.305981</td>\n      <td>-0.195373</td>\n      <td>-0.505857</td>\n      <td>-0.043154</td>\n      <td>0.458542</td>\n      <td>-0.303297</td>\n      <td>0.607644</td>\n      <td>1.270253</td>\n      <td>1.177436</td>\n      <td>0.738324</td>\n      <td>...</td>\n      <td>-0.1174</td>\n      <td>-0.155346</td>\n      <td>-0.050422</td>\n      <td>-0.153514</td>\n      <td>-0.123996</td>\n      <td>-0.266006</td>\n      <td>-0.07316</td>\n      <td>1.009960</td>\n      <td>1.145009</td>\n      <td>0.538555</td>\n    </tr>\n    <tr>\n      <th>3</th>\n      <td>-0.305981</td>\n      <td>-0.195373</td>\n      <td>-0.505857</td>\n      <td>-0.043154</td>\n      <td>2.196817</td>\n      <td>-0.303297</td>\n      <td>-0.263181</td>\n      <td>4.173219</td>\n      <td>-0.214868</td>\n      <td>-0.346011</td>\n      <td>...</td>\n      <td>-0.1174</td>\n      <td>-0.155346</td>\n      <td>0.310064</td>\n      <td>-0.153514</td>\n      <td>-0.294056</td>\n      <td>-0.266006</td>\n      <td>-0.07316</td>\n      <td>0.548074</td>\n      <td>-0.188431</td>\n      <td>-0.512294</td>\n    </tr>\n    <tr>\n      <th>4</th>\n      <td>-0.305981</td>\n      <td>-0.195373</td>\n      <td>-0.505857</td>\n      <td>-0.043154</td>\n      <td>2.296554</td>\n      <td>-0.303297</td>\n      <td>-0.263181</td>\n      <td>-0.228820</td>\n      <td>-0.214868</td>\n      <td>0.755535</td>\n      <td>...</td>\n      <td>-0.1174</td>\n      <td>-0.155346</td>\n      <td>-0.382233</td>\n      <td>-0.153514</td>\n      <td>-0.087465</td>\n      <td>0.012040</td>\n      <td>-0.07316</td>\n      <td>-0.595032</td>\n      <td>-0.775144</td>\n      <td>-0.067409</td>\n    </tr>\n    <tr>\n      <th>...</th>\n      <td>...</td>\n      <td>...</td>\n      <td>...</td>\n      <td>...</td>\n      <td>...</td>\n      <td>...</td>\n      <td>...</td>\n      <td>...</td>\n      <td>...</td>\n      <td>...</td>\n      <td>...</td>\n      <td>...</td>\n      <td>...</td>\n      <td>...</td>\n      <td>...</td>\n      <td>...</td>\n      <td>...</td>\n      <td>...</td>\n      <td>...</td>\n      <td>...</td>\n      <td>...</td>\n    </tr>\n    <tr>\n      <th>3441</th>\n      <td>0.694807</td>\n      <td>-0.195373</td>\n      <td>0.664166</td>\n      <td>-0.043154</td>\n      <td>-0.439092</td>\n      <td>0.799382</td>\n      <td>-0.263181</td>\n      <td>-0.228820</td>\n      <td>-0.214868</td>\n      <td>-0.346011</td>\n      <td>...</td>\n      <td>-0.1174</td>\n      <td>-0.155346</td>\n      <td>0.346932</td>\n      <td>-0.153514</td>\n      <td>-0.294056</td>\n      <td>-0.266006</td>\n      <td>-0.07316</td>\n      <td>-1.050038</td>\n      <td>-0.828481</td>\n      <td>-0.251499</td>\n    </tr>\n    <tr>\n      <th>3442</th>\n      <td>-0.305981</td>\n      <td>-0.195373</td>\n      <td>-0.505857</td>\n      <td>-0.043154</td>\n      <td>-0.439092</td>\n      <td>-0.303297</td>\n      <td>-0.263181</td>\n      <td>-0.228820</td>\n      <td>-0.214868</td>\n      <td>-0.346011</td>\n      <td>...</td>\n      <td>-0.1174</td>\n      <td>-0.155346</td>\n      <td>-0.603441</td>\n      <td>-0.153514</td>\n      <td>0.150619</td>\n      <td>-0.266006</td>\n      <td>-0.07316</td>\n      <td>-0.694806</td>\n      <td>-0.775144</td>\n      <td>-0.819111</td>\n    </tr>\n    <tr>\n      <th>3443</th>\n      <td>0.662524</td>\n      <td>-0.195373</td>\n      <td>0.060283</td>\n      <td>-0.043154</td>\n      <td>-0.439092</td>\n      <td>-0.303297</td>\n      <td>-0.263181</td>\n      <td>-0.228820</td>\n      <td>-0.214868</td>\n      <td>-0.346011</td>\n      <td>...</td>\n      <td>-0.1174</td>\n      <td>0.319285</td>\n      <td>2.337799</td>\n      <td>-0.153514</td>\n      <td>-0.294056</td>\n      <td>-0.266006</td>\n      <td>-0.07316</td>\n      <td>-0.824685</td>\n      <td>-0.668469</td>\n      <td>-0.021386</td>\n    </tr>\n    <tr>\n      <th>3444</th>\n      <td>2.793236</td>\n      <td>-0.195373</td>\n      <td>-0.505857</td>\n      <td>-0.043154</td>\n      <td>0.016849</td>\n      <td>-0.303297</td>\n      <td>-0.263181</td>\n      <td>-0.228820</td>\n      <td>-0.214868</td>\n      <td>-0.346011</td>\n      <td>...</td>\n      <td>-0.1174</td>\n      <td>-0.155346</td>\n      <td>-0.369944</td>\n      <td>-0.153514</td>\n      <td>-0.294056</td>\n      <td>-0.266006</td>\n      <td>-0.07316</td>\n      <td>-1.045737</td>\n      <td>-0.721806</td>\n      <td>-0.328204</td>\n    </tr>\n    <tr>\n      <th>3445</th>\n      <td>-0.305981</td>\n      <td>-0.195373</td>\n      <td>0.720781</td>\n      <td>-0.043154</td>\n      <td>-0.439092</td>\n      <td>-0.303297</td>\n      <td>-0.263181</td>\n      <td>-0.228820</td>\n      <td>-0.214868</td>\n      <td>-0.346011</td>\n      <td>...</td>\n      <td>-0.1174</td>\n      <td>-0.155346</td>\n      <td>-0.603441</td>\n      <td>-0.153514</td>\n      <td>-0.136593</td>\n      <td>-0.266006</td>\n      <td>-0.07316</td>\n      <td>-0.957144</td>\n      <td>-0.721806</td>\n      <td>-0.619680</td>\n    </tr>\n  </tbody>\n</table>\n<p>3446 rows × 57 columns</p>\n</div>"
     },
     "execution_count": 230,
     "metadata": {},
     "output_type": "execute_result"
    }
   ],
   "source": [
    "scaler=StandardScaler()\n",
    "scaled_data=scaler.fit_transform(data)\n",
    "df=pd.DataFrame(data=scaled_data, columns= data.columns)\n",
    "df"
   ]
  },
  {
   "cell_type": "markdown",
   "id": "bed5020e",
   "metadata": {},
   "source": [
    "### Summmary of dataset after performing Standard Scaling"
   ]
  },
  {
   "cell_type": "code",
   "execution_count": 231,
   "id": "825327f1",
   "metadata": {},
   "outputs": [
    {
     "data": {
      "text/plain": "       word_freq_make  word_freq_address  word_freq_all  word_freq_3d  \\\ncount    3.446000e+03       3.446000e+03   3.446000e+03  3.446000e+03   \nmean     1.906919e-15      -4.400459e-16   6.484785e-16 -5.201674e-16   \nstd      1.000145e+00       1.000145e+00   1.000145e+00  1.000145e+00   \nmin     -3.059813e-01      -1.953730e-01  -5.058574e-01 -4.315372e-02   \n25%     -3.059813e-01      -1.953730e-01  -5.058574e-01 -4.315372e-02   \n50%     -3.059813e-01      -1.953730e-01  -5.058574e-01 -4.315372e-02   \n75%     -3.059813e-01      -1.953730e-01   1.735113e-01 -4.315372e-02   \nmax      1.435073e+01       2.989567e+01   9.118532e+00  5.239393e+01   \n\n       word_freq_our  word_freq_over  word_freq_remove  word_freq_internet  \\\ncount   3.446000e+03    3.446000e+03      3.446000e+03        3.446000e+03   \nmean   -4.045146e-15   -1.406014e-15     -1.210717e-14        1.584065e-15   \nstd     1.000145e+00    1.000145e+00      1.000145e+00        1.000145e+00   \nmin    -4.390922e-01   -3.032971e-01     -2.631810e-01       -2.288195e-01   \n25%    -4.390922e-01   -3.032971e-01     -2.631810e-01       -2.288195e-01   \n50%    -4.390922e-01   -3.032971e-01     -2.631810e-01       -2.288195e-01   \n75%     7.384151e-02   -3.032971e-01     -2.631810e-01       -2.288195e-01   \nmax     1.380907e+01    2.061203e+01      2.015906e+01        2.620720e+01   \n\n       word_freq_order  word_freq_mail  ...  word_freq_conference  \\\ncount     3.446000e+03    3.446000e+03  ...          3.446000e+03   \nmean      4.067150e-15   -7.056650e-16  ...          2.352788e-15   \nstd       1.000145e+00    1.000145e+00  ...          1.000145e+00   \nmin      -2.148683e-01   -3.460115e-01  ...         -1.173999e-01   \n25%      -2.148683e-01   -3.460115e-01  ...         -1.173999e-01   \n50%      -2.148683e-01   -3.460115e-01  ...         -1.173999e-01   \n75%      -2.148683e-01   -3.460115e-01  ...         -1.173999e-01   \nmax       2.340938e+01    1.877615e+01  ...          3.051252e+01   \n\n        char_freq_;   char_freq_(   char_freq_[   char_freq_!   char_freq_$  \\\ncount  3.446000e+03  3.446000e+03  3.446000e+03  3.446000e+03  3.446000e+03   \nmean   2.911178e-15  1.163286e-15 -1.355787e-15 -9.867405e-16  4.202739e-15   \nstd    1.000145e+00  1.000145e+00  1.000145e+00  1.000145e+00  1.000145e+00   \nmin   -1.553462e-01 -6.034406e-01 -1.535136e-01 -2.940565e-01 -2.660056e-01   \n25%   -1.553462e-01 -6.034406e-01 -1.535136e-01 -2.940565e-01 -2.660056e-01   \n50%   -1.553462e-01 -3.330760e-01 -1.535136e-01 -2.940565e-01 -2.660056e-01   \n75%   -1.553462e-01  2.322319e-01 -1.535136e-01  4.493408e-03 -2.660056e-01   \nmax    2.024913e+01  2.101344e+01  3.607177e+01  4.061861e+01  3.064342e+01   \n\n        char_freq_#  capital_run_length_average  capital_run_length_longest  \\\ncount  3.446000e+03                3.446000e+03                3.446000e+03   \nmean   3.410247e-17                8.189747e-17                6.437103e-17   \nstd    1.000145e+00                1.000145e+00                1.000145e+00   \nmin   -7.316004e-02               -1.172176e+00               -9.351566e-01   \n25%   -7.316004e-02               -7.348022e-01               -7.218063e-01   \n50%   -7.316004e-02               -2.656043e-01               -3.484433e-01   \n75%   -7.316004e-02                4.698022e-01                2.382701e-01   \nmax    4.306921e+01                3.835470e+00                4.238588e+00   \n\n       capital_run_length_total  \ncount              3.446000e+03  \nmean              -1.803871e-16  \nstd                1.000145e+00  \nmin               -9.188270e-01  \n25%               -6.887140e-01  \n50%               -3.435446e-01  \n75%                2.624196e-01  \nmax                3.852182e+00  \n\n[8 rows x 57 columns]",
      "text/html": "<div>\n<style scoped>\n    .dataframe tbody tr th:only-of-type {\n        vertical-align: middle;\n    }\n\n    .dataframe tbody tr th {\n        vertical-align: top;\n    }\n\n    .dataframe thead th {\n        text-align: right;\n    }\n</style>\n<table border=\"1\" class=\"dataframe\">\n  <thead>\n    <tr style=\"text-align: right;\">\n      <th></th>\n      <th>word_freq_make</th>\n      <th>word_freq_address</th>\n      <th>word_freq_all</th>\n      <th>word_freq_3d</th>\n      <th>word_freq_our</th>\n      <th>word_freq_over</th>\n      <th>word_freq_remove</th>\n      <th>word_freq_internet</th>\n      <th>word_freq_order</th>\n      <th>word_freq_mail</th>\n      <th>...</th>\n      <th>word_freq_conference</th>\n      <th>char_freq_;</th>\n      <th>char_freq_(</th>\n      <th>char_freq_[</th>\n      <th>char_freq_!</th>\n      <th>char_freq_$</th>\n      <th>char_freq_#</th>\n      <th>capital_run_length_average</th>\n      <th>capital_run_length_longest</th>\n      <th>capital_run_length_total</th>\n    </tr>\n  </thead>\n  <tbody>\n    <tr>\n      <th>count</th>\n      <td>3.446000e+03</td>\n      <td>3.446000e+03</td>\n      <td>3.446000e+03</td>\n      <td>3.446000e+03</td>\n      <td>3.446000e+03</td>\n      <td>3.446000e+03</td>\n      <td>3.446000e+03</td>\n      <td>3.446000e+03</td>\n      <td>3.446000e+03</td>\n      <td>3.446000e+03</td>\n      <td>...</td>\n      <td>3.446000e+03</td>\n      <td>3.446000e+03</td>\n      <td>3.446000e+03</td>\n      <td>3.446000e+03</td>\n      <td>3.446000e+03</td>\n      <td>3.446000e+03</td>\n      <td>3.446000e+03</td>\n      <td>3.446000e+03</td>\n      <td>3.446000e+03</td>\n      <td>3.446000e+03</td>\n    </tr>\n    <tr>\n      <th>mean</th>\n      <td>1.906919e-15</td>\n      <td>-4.400459e-16</td>\n      <td>6.484785e-16</td>\n      <td>-5.201674e-16</td>\n      <td>-4.045146e-15</td>\n      <td>-1.406014e-15</td>\n      <td>-1.210717e-14</td>\n      <td>1.584065e-15</td>\n      <td>4.067150e-15</td>\n      <td>-7.056650e-16</td>\n      <td>...</td>\n      <td>2.352788e-15</td>\n      <td>2.911178e-15</td>\n      <td>1.163286e-15</td>\n      <td>-1.355787e-15</td>\n      <td>-9.867405e-16</td>\n      <td>4.202739e-15</td>\n      <td>3.410247e-17</td>\n      <td>8.189747e-17</td>\n      <td>6.437103e-17</td>\n      <td>-1.803871e-16</td>\n    </tr>\n    <tr>\n      <th>std</th>\n      <td>1.000145e+00</td>\n      <td>1.000145e+00</td>\n      <td>1.000145e+00</td>\n      <td>1.000145e+00</td>\n      <td>1.000145e+00</td>\n      <td>1.000145e+00</td>\n      <td>1.000145e+00</td>\n      <td>1.000145e+00</td>\n      <td>1.000145e+00</td>\n      <td>1.000145e+00</td>\n      <td>...</td>\n      <td>1.000145e+00</td>\n      <td>1.000145e+00</td>\n      <td>1.000145e+00</td>\n      <td>1.000145e+00</td>\n      <td>1.000145e+00</td>\n      <td>1.000145e+00</td>\n      <td>1.000145e+00</td>\n      <td>1.000145e+00</td>\n      <td>1.000145e+00</td>\n      <td>1.000145e+00</td>\n    </tr>\n    <tr>\n      <th>min</th>\n      <td>-3.059813e-01</td>\n      <td>-1.953730e-01</td>\n      <td>-5.058574e-01</td>\n      <td>-4.315372e-02</td>\n      <td>-4.390922e-01</td>\n      <td>-3.032971e-01</td>\n      <td>-2.631810e-01</td>\n      <td>-2.288195e-01</td>\n      <td>-2.148683e-01</td>\n      <td>-3.460115e-01</td>\n      <td>...</td>\n      <td>-1.173999e-01</td>\n      <td>-1.553462e-01</td>\n      <td>-6.034406e-01</td>\n      <td>-1.535136e-01</td>\n      <td>-2.940565e-01</td>\n      <td>-2.660056e-01</td>\n      <td>-7.316004e-02</td>\n      <td>-1.172176e+00</td>\n      <td>-9.351566e-01</td>\n      <td>-9.188270e-01</td>\n    </tr>\n    <tr>\n      <th>25%</th>\n      <td>-3.059813e-01</td>\n      <td>-1.953730e-01</td>\n      <td>-5.058574e-01</td>\n      <td>-4.315372e-02</td>\n      <td>-4.390922e-01</td>\n      <td>-3.032971e-01</td>\n      <td>-2.631810e-01</td>\n      <td>-2.288195e-01</td>\n      <td>-2.148683e-01</td>\n      <td>-3.460115e-01</td>\n      <td>...</td>\n      <td>-1.173999e-01</td>\n      <td>-1.553462e-01</td>\n      <td>-6.034406e-01</td>\n      <td>-1.535136e-01</td>\n      <td>-2.940565e-01</td>\n      <td>-2.660056e-01</td>\n      <td>-7.316004e-02</td>\n      <td>-7.348022e-01</td>\n      <td>-7.218063e-01</td>\n      <td>-6.887140e-01</td>\n    </tr>\n    <tr>\n      <th>50%</th>\n      <td>-3.059813e-01</td>\n      <td>-1.953730e-01</td>\n      <td>-5.058574e-01</td>\n      <td>-4.315372e-02</td>\n      <td>-4.390922e-01</td>\n      <td>-3.032971e-01</td>\n      <td>-2.631810e-01</td>\n      <td>-2.288195e-01</td>\n      <td>-2.148683e-01</td>\n      <td>-3.460115e-01</td>\n      <td>...</td>\n      <td>-1.173999e-01</td>\n      <td>-1.553462e-01</td>\n      <td>-3.330760e-01</td>\n      <td>-1.535136e-01</td>\n      <td>-2.940565e-01</td>\n      <td>-2.660056e-01</td>\n      <td>-7.316004e-02</td>\n      <td>-2.656043e-01</td>\n      <td>-3.484433e-01</td>\n      <td>-3.435446e-01</td>\n    </tr>\n    <tr>\n      <th>75%</th>\n      <td>-3.059813e-01</td>\n      <td>-1.953730e-01</td>\n      <td>1.735113e-01</td>\n      <td>-4.315372e-02</td>\n      <td>7.384151e-02</td>\n      <td>-3.032971e-01</td>\n      <td>-2.631810e-01</td>\n      <td>-2.288195e-01</td>\n      <td>-2.148683e-01</td>\n      <td>-3.460115e-01</td>\n      <td>...</td>\n      <td>-1.173999e-01</td>\n      <td>-1.553462e-01</td>\n      <td>2.322319e-01</td>\n      <td>-1.535136e-01</td>\n      <td>4.493408e-03</td>\n      <td>-2.660056e-01</td>\n      <td>-7.316004e-02</td>\n      <td>4.698022e-01</td>\n      <td>2.382701e-01</td>\n      <td>2.624196e-01</td>\n    </tr>\n    <tr>\n      <th>max</th>\n      <td>1.435073e+01</td>\n      <td>2.989567e+01</td>\n      <td>9.118532e+00</td>\n      <td>5.239393e+01</td>\n      <td>1.380907e+01</td>\n      <td>2.061203e+01</td>\n      <td>2.015906e+01</td>\n      <td>2.620720e+01</td>\n      <td>2.340938e+01</td>\n      <td>1.877615e+01</td>\n      <td>...</td>\n      <td>3.051252e+01</td>\n      <td>2.024913e+01</td>\n      <td>2.101344e+01</td>\n      <td>3.607177e+01</td>\n      <td>4.061861e+01</td>\n      <td>3.064342e+01</td>\n      <td>4.306921e+01</td>\n      <td>3.835470e+00</td>\n      <td>4.238588e+00</td>\n      <td>3.852182e+00</td>\n    </tr>\n  </tbody>\n</table>\n<p>8 rows × 57 columns</p>\n</div>"
     },
     "execution_count": 231,
     "metadata": {},
     "output_type": "execute_result"
    }
   ],
   "source": [
    "df.describe()"
   ]
  },
  {
   "cell_type": "markdown",
   "id": "e0f42629",
   "metadata": {},
   "source": [
    "# Performing PCA to the Dataset"
   ]
  },
  {
   "cell_type": "code",
   "execution_count": 232,
   "id": "f2f96176",
   "metadata": {},
   "outputs": [
    {
     "data": {
      "text/plain": "<Figure size 640x480 with 1 Axes>",
      "image/png": "[encoded data removed]"
     },
     "metadata": {},
     "output_type": "display_data"
    }
   ],
   "source": [
    "pca = PCA()\n",
    "principalComponents = pca.fit_transform(df)\n",
    "plt.figure()\n",
    "plt.plot(np.cumsum(pca.explained_variance_ratio_))\n",
    "plt.xlabel('Number of Components')\n",
    "plt.ylabel('Variance (%)') #for each component\n",
    "plt.title('Explained Variance')\n",
    "plt.grid(True)\n",
    "plt.show()"
   ]
  },
  {
   "cell_type": "markdown",
   "id": "76f5ea8c",
   "metadata": {},
   "source": [
    "### Introducing the PCA components"
   ]
  },
  {
   "cell_type": "code",
   "execution_count": 233,
   "id": "c3877428",
   "metadata": {},
   "outputs": [],
   "source": [
    "pca = PCA(n_components=44)\n",
    "new_data = pca.fit_transform(df)\n",
    "\n",
    "# This will be the new data fed to the algorithm.\n",
    "principal_Df = pd.DataFrame(data = new_data\n",
    "             , columns = ['PC1', 'PC2','PC3','PC4','PC5','PC6','PC7','PC8','PC9','PC10','PC11','PC12','PC13','PC14','PC15','PC16','PC17','PC18','PC19','PC20',\n",
    "                         'PC21', 'PC22','PC23','PC24','PC25','PC26','PC27','PC28','PC29','PC30','PC31','PC32','PC33','PC34','PC35','PC36','PC37','PC38','PC39','PC40',\n",
    "                         'PC41','PC42','PC43','PC44'])"
   ]
  },
  {
   "cell_type": "markdown",
   "id": "6cbc3bff",
   "metadata": {},
   "source": [
    "### Dataset after performing PCA"
   ]
  },
  {
   "cell_type": "code",
   "execution_count": 234,
   "id": "ce02c23f",
   "metadata": {},
   "outputs": [
    {
     "data": {
      "text/plain": "        PC1       PC2       PC3       PC4       PC5       PC6       PC7  \\\n0 -1.006857  1.802147  0.718588  0.075097 -0.217690 -0.058678 -1.193094   \n1 -0.985097  1.538500  0.306287 -0.027351 -0.287023 -0.185416 -0.690253   \n2 -0.986344  1.538184  0.305697 -0.026641 -0.287302 -0.184845 -0.690866   \n3 -0.589457 -0.147093 -0.010560  0.294633 -0.673045 -0.411113  0.165495   \n4 -1.147370  0.762942 -1.665241  0.687299 -0.063352  1.574456 -1.343923   \n\n        PC8       PC9      PC10  ...      PC35      PC36      PC37      PC38  \\\n0 -0.852861  1.060043  0.868034  ... -0.124230  0.225153  0.052068  0.542260   \n1  0.207721 -0.356703 -0.197851  ...  0.394507 -0.600512  0.334379  0.342290   \n2  0.206852 -0.356976 -0.199397  ...  0.394249 -0.599418  0.331886  0.345204   \n3  0.738205 -1.293667 -0.064076  ...  0.346195 -1.153493  1.045677  0.808009   \n4 -0.179930 -0.196729 -0.556953  ...  1.895348 -0.335561  1.362000 -0.601288   \n\n       PC39      PC40      PC41      PC42      PC43      PC44  \n0 -0.016744  0.164644 -0.109832  0.045478 -0.538485 -0.323045  \n1 -0.794254  0.293277 -0.134578  0.074915  0.328365 -0.537433  \n2 -0.795437  0.294590 -0.132267  0.074367  0.327734 -0.537018  \n3 -0.760578  1.203349  0.437077 -0.707528  0.289434 -0.543084  \n4  0.107628  0.536374  0.400746  1.109366 -0.396253  0.421283  \n\n[5 rows x 44 columns]",
      "text/html": "<div>\n<style scoped>\n    .dataframe tbody tr th:only-of-type {\n        vertical-align: middle;\n    }\n\n    .dataframe tbody tr th {\n        vertical-align: top;\n    }\n\n    .dataframe thead th {\n        text-align: right;\n    }\n</style>\n<table border=\"1\" class=\"dataframe\">\n  <thead>\n    <tr style=\"text-align: right;\">\n      <th></th>\n      <th>PC1</th>\n      <th>PC2</th>\n      <th>PC3</th>\n      <th>PC4</th>\n      <th>PC5</th>\n      <th>PC6</th>\n      <th>PC7</th>\n      <th>PC8</th>\n      <th>PC9</th>\n      <th>PC10</th>\n      <th>...</th>\n      <th>PC35</th>\n      <th>PC36</th>\n      <th>PC37</th>\n      <th>PC38</th>\n      <th>PC39</th>\n      <th>PC40</th>\n      <th>PC41</th>\n      <th>PC42</th>\n      <th>PC43</th>\n      <th>PC44</th>\n    </tr>\n  </thead>\n  <tbody>\n    <tr>\n      <th>0</th>\n      <td>-1.006857</td>\n      <td>1.802147</td>\n      <td>0.718588</td>\n      <td>0.075097</td>\n      <td>-0.217690</td>\n      <td>-0.058678</td>\n      <td>-1.193094</td>\n      <td>-0.852861</td>\n      <td>1.060043</td>\n      <td>0.868034</td>\n      <td>...</td>\n      <td>-0.124230</td>\n      <td>0.225153</td>\n      <td>0.052068</td>\n      <td>0.542260</td>\n      <td>-0.016744</td>\n      <td>0.164644</td>\n      <td>-0.109832</td>\n      <td>0.045478</td>\n      <td>-0.538485</td>\n      <td>-0.323045</td>\n    </tr>\n    <tr>\n      <th>1</th>\n      <td>-0.985097</td>\n      <td>1.538500</td>\n      <td>0.306287</td>\n      <td>-0.027351</td>\n      <td>-0.287023</td>\n      <td>-0.185416</td>\n      <td>-0.690253</td>\n      <td>0.207721</td>\n      <td>-0.356703</td>\n      <td>-0.197851</td>\n      <td>...</td>\n      <td>0.394507</td>\n      <td>-0.600512</td>\n      <td>0.334379</td>\n      <td>0.342290</td>\n      <td>-0.794254</td>\n      <td>0.293277</td>\n      <td>-0.134578</td>\n      <td>0.074915</td>\n      <td>0.328365</td>\n      <td>-0.537433</td>\n    </tr>\n    <tr>\n      <th>2</th>\n      <td>-0.986344</td>\n      <td>1.538184</td>\n      <td>0.305697</td>\n      <td>-0.026641</td>\n      <td>-0.287302</td>\n      <td>-0.184845</td>\n      <td>-0.690866</td>\n      <td>0.206852</td>\n      <td>-0.356976</td>\n      <td>-0.199397</td>\n      <td>...</td>\n      <td>0.394249</td>\n      <td>-0.599418</td>\n      <td>0.331886</td>\n      <td>0.345204</td>\n      <td>-0.795437</td>\n      <td>0.294590</td>\n      <td>-0.132267</td>\n      <td>0.074367</td>\n      <td>0.327734</td>\n      <td>-0.537018</td>\n    </tr>\n    <tr>\n      <th>3</th>\n      <td>-0.589457</td>\n      <td>-0.147093</td>\n      <td>-0.010560</td>\n      <td>0.294633</td>\n      <td>-0.673045</td>\n      <td>-0.411113</td>\n      <td>0.165495</td>\n      <td>0.738205</td>\n      <td>-1.293667</td>\n      <td>-0.064076</td>\n      <td>...</td>\n      <td>0.346195</td>\n      <td>-1.153493</td>\n      <td>1.045677</td>\n      <td>0.808009</td>\n      <td>-0.760578</td>\n      <td>1.203349</td>\n      <td>0.437077</td>\n      <td>-0.707528</td>\n      <td>0.289434</td>\n      <td>-0.543084</td>\n    </tr>\n    <tr>\n      <th>4</th>\n      <td>-1.147370</td>\n      <td>0.762942</td>\n      <td>-1.665241</td>\n      <td>0.687299</td>\n      <td>-0.063352</td>\n      <td>1.574456</td>\n      <td>-1.343923</td>\n      <td>-0.179930</td>\n      <td>-0.196729</td>\n      <td>-0.556953</td>\n      <td>...</td>\n      <td>1.895348</td>\n      <td>-0.335561</td>\n      <td>1.362000</td>\n      <td>-0.601288</td>\n      <td>0.107628</td>\n      <td>0.536374</td>\n      <td>0.400746</td>\n      <td>1.109366</td>\n      <td>-0.396253</td>\n      <td>0.421283</td>\n    </tr>\n  </tbody>\n</table>\n<p>5 rows × 44 columns</p>\n</div>"
     },
     "execution_count": 234,
     "metadata": {},
     "output_type": "execute_result"
    }
   ],
   "source": [
    "# principal_Df\n",
    "principal_Df.head()"
   ]
  },
  {
   "cell_type": "code",
   "execution_count": 235,
   "id": "d8cc2c7a",
   "metadata": {},
   "outputs": [
    {
     "name": "stdout",
     "output_type": "stream",
     "text": [
      "[6.27759756 3.15144097 2.16980778 1.660171   1.59211528 1.4654813\n",
      " 1.40631187 1.31436088 1.26232735 1.22095865 1.20125146 1.16639643\n",
      " 1.14251639 1.11554941 1.10047246 1.0744941  1.05814049 1.04459174\n",
      " 1.03537485 1.01614044 1.01281671 0.99035282 0.9788937  0.95874634\n",
      " 0.9460389  0.94152051 0.92774881 0.91089477 0.90401407 0.87348397\n",
      " 0.86263657 0.83739387 0.81823698 0.80176294 0.79146113 0.766002\n",
      " 0.75748077 0.74454863 0.73422498 0.72290789 0.70098277 0.66688022\n",
      " 0.62741884 0.59414141]\n"
     ]
    }
   ],
   "source": [
    "print(pca.explained_variance_)"
   ]
  },
  {
   "cell_type": "code",
   "execution_count": 236,
   "id": "e5ee10ab",
   "metadata": {},
   "outputs": [
    {
     "name": "stdout",
     "output_type": "stream",
     "text": [
      "[[-0.0362469  -0.0082901  -0.04087849 ...  0.00769073 -0.04498994\n",
      "  -0.03785911]\n",
      " [ 0.10473608  0.06979257  0.10340072 ...  0.34752174  0.37715344\n",
      "   0.2994944 ]\n",
      " [-0.08995234 -0.04322318 -0.09566623 ...  0.31903713  0.26997158\n",
      "   0.31890671]\n",
      " ...\n",
      " [-0.20782439  0.28809785 -0.04361226 ... -0.11585875 -0.04635973\n",
      "   0.12823072]\n",
      " [-0.02958669  0.2669497   0.03165535 ... -0.01056319  0.01938232\n",
      "   0.00143472]\n",
      " [-0.01431286  0.00585275  0.07463376 ... -0.02838333 -0.02891723\n",
      "  -0.00973623]]\n"
     ]
    }
   ],
   "source": [
    "print(pca.components_)"
   ]
  },
  {
   "cell_type": "markdown",
   "id": "7b54fabb",
   "metadata": {},
   "source": [
    "## Build the predictive model by appling K-Nearest Neighbors (KNN) algorithm"
   ]
  },
  {
   "cell_type": "code",
   "execution_count": 237,
   "id": "ba052743",
   "metadata": {},
   "outputs": [],
   "source": [
    "X = principal_Df.iloc[:,0:44].values\n",
    "y = data_set.iloc[:, 57].values"
   ]
  },
  {
   "cell_type": "markdown",
   "id": "43b6bc95",
   "metadata": {},
   "source": [
    "### Splitting the dataset into the Training set and Test set"
   ]
  },
  {
   "cell_type": "code",
   "execution_count": 238,
   "id": "ec680333",
   "metadata": {},
   "outputs": [],
   "source": [
    "X_train, X_test, y_train, y_test = train_test_split(X, y, test_size = 0.20, random_state = 0)"
   ]
  },
  {
   "cell_type": "markdown",
   "source": [
    "### Find optimal K value"
   ],
   "metadata": {
    "collapsed": false
   }
  },
  {
   "cell_type": "code",
   "execution_count": 239,
   "outputs": [
    {
     "name": "stderr",
     "output_type": "stream",
     "text": [
      "C:\\ProgramData\\Anaconda3\\lib\\site-packages\\sklearn\\neighbors\\_classification.py:228: FutureWarning:\n",
      "\n",
      "Unlike other reduction functions (e.g. `skew`, `kurtosis`), the default behavior of `mode` typically preserves the axis it acts along. In SciPy 1.11.0, this behavior will change: the default value of `keepdims` will become False, the `axis` over which the statistic is taken will be eliminated, and the value None will no longer be accepted. Set `keepdims` to True or False to avoid this warning.\n",
      "\n",
      "C:\\ProgramData\\Anaconda3\\lib\\site-packages\\sklearn\\neighbors\\_classification.py:228: FutureWarning:\n",
      "\n",
      "Unlike other reduction functions (e.g. `skew`, `kurtosis`), the default behavior of `mode` typically preserves the axis it acts along. In SciPy 1.11.0, this behavior will change: the default value of `keepdims` will become False, the `axis` over which the statistic is taken will be eliminated, and the value None will no longer be accepted. Set `keepdims` to True or False to avoid this warning.\n",
      "\n",
      "C:\\ProgramData\\Anaconda3\\lib\\site-packages\\sklearn\\neighbors\\_classification.py:228: FutureWarning:\n",
      "\n",
      "Unlike other reduction functions (e.g. `skew`, `kurtosis`), the default behavior of `mode` typically preserves the axis it acts along. In SciPy 1.11.0, this behavior will change: the default value of `keepdims` will become False, the `axis` over which the statistic is taken will be eliminated, and the value None will no longer be accepted. Set `keepdims` to True or False to avoid this warning.\n",
      "\n",
      "C:\\ProgramData\\Anaconda3\\lib\\site-packages\\sklearn\\neighbors\\_classification.py:228: FutureWarning:\n",
      "\n",
      "Unlike other reduction functions (e.g. `skew`, `kurtosis`), the default behavior of `mode` typically preserves the axis it acts along. In SciPy 1.11.0, this behavior will change: the default value of `keepdims` will become False, the `axis` over which the statistic is taken will be eliminated, and the value None will no longer be accepted. Set `keepdims` to True or False to avoid this warning.\n",
      "\n",
      "C:\\ProgramData\\Anaconda3\\lib\\site-packages\\sklearn\\neighbors\\_classification.py:228: FutureWarning:\n",
      "\n",
      "Unlike other reduction functions (e.g. `skew`, `kurtosis`), the default behavior of `mode` typically preserves the axis it acts along. In SciPy 1.11.0, this behavior will change: the default value of `keepdims` will become False, the `axis` over which the statistic is taken will be eliminated, and the value None will no longer be accepted. Set `keepdims` to True or False to avoid this warning.\n",
      "\n",
      "C:\\ProgramData\\Anaconda3\\lib\\site-packages\\sklearn\\neighbors\\_classification.py:228: FutureWarning:\n",
      "\n",
      "Unlike other reduction functions (e.g. `skew`, `kurtosis`), the default behavior of `mode` typically preserves the axis it acts along. In SciPy 1.11.0, this behavior will change: the default value of `keepdims` will become False, the `axis` over which the statistic is taken will be eliminated, and the value None will no longer be accepted. Set `keepdims` to True or False to avoid this warning.\n",
      "\n",
      "C:\\ProgramData\\Anaconda3\\lib\\site-packages\\sklearn\\neighbors\\_classification.py:228: FutureWarning:\n",
      "\n",
      "Unlike other reduction functions (e.g. `skew`, `kurtosis`), the default behavior of `mode` typically preserves the axis it acts along. In SciPy 1.11.0, this behavior will change: the default value of `keepdims` will become False, the `axis` over which the statistic is taken will be eliminated, and the value None will no longer be accepted. Set `keepdims` to True or False to avoid this warning.\n",
      "\n",
      "C:\\ProgramData\\Anaconda3\\lib\\site-packages\\sklearn\\neighbors\\_classification.py:228: FutureWarning:\n",
      "\n",
      "Unlike other reduction functions (e.g. `skew`, `kurtosis`), the default behavior of `mode` typically preserves the axis it acts along. In SciPy 1.11.0, this behavior will change: the default value of `keepdims` will become False, the `axis` over which the statistic is taken will be eliminated, and the value None will no longer be accepted. Set `keepdims` to True or False to avoid this warning.\n",
      "\n",
      "C:\\ProgramData\\Anaconda3\\lib\\site-packages\\sklearn\\neighbors\\_classification.py:228: FutureWarning:\n",
      "\n",
      "Unlike other reduction functions (e.g. `skew`, `kurtosis`), the default behavior of `mode` typically preserves the axis it acts along. In SciPy 1.11.0, this behavior will change: the default value of `keepdims` will become False, the `axis` over which the statistic is taken will be eliminated, and the value None will no longer be accepted. Set `keepdims` to True or False to avoid this warning.\n",
      "\n",
      "C:\\ProgramData\\Anaconda3\\lib\\site-packages\\sklearn\\neighbors\\_classification.py:228: FutureWarning:\n",
      "\n",
      "Unlike other reduction functions (e.g. `skew`, `kurtosis`), the default behavior of `mode` typically preserves the axis it acts along. In SciPy 1.11.0, this behavior will change: the default value of `keepdims` will become False, the `axis` over which the statistic is taken will be eliminated, and the value None will no longer be accepted. Set `keepdims` to True or False to avoid this warning.\n",
      "\n",
      "C:\\ProgramData\\Anaconda3\\lib\\site-packages\\sklearn\\neighbors\\_classification.py:228: FutureWarning:\n",
      "\n",
      "Unlike other reduction functions (e.g. `skew`, `kurtosis`), the default behavior of `mode` typically preserves the axis it acts along. In SciPy 1.11.0, this behavior will change: the default value of `keepdims` will become False, the `axis` over which the statistic is taken will be eliminated, and the value None will no longer be accepted. Set `keepdims` to True or False to avoid this warning.\n",
      "\n",
      "C:\\ProgramData\\Anaconda3\\lib\\site-packages\\sklearn\\neighbors\\_classification.py:228: FutureWarning:\n",
      "\n",
      "Unlike other reduction functions (e.g. `skew`, `kurtosis`), the default behavior of `mode` typically preserves the axis it acts along. In SciPy 1.11.0, this behavior will change: the default value of `keepdims` will become False, the `axis` over which the statistic is taken will be eliminated, and the value None will no longer be accepted. Set `keepdims` to True or False to avoid this warning.\n",
      "\n",
      "C:\\ProgramData\\Anaconda3\\lib\\site-packages\\sklearn\\neighbors\\_classification.py:228: FutureWarning:\n",
      "\n",
      "Unlike other reduction functions (e.g. `skew`, `kurtosis`), the default behavior of `mode` typically preserves the axis it acts along. In SciPy 1.11.0, this behavior will change: the default value of `keepdims` will become False, the `axis` over which the statistic is taken will be eliminated, and the value None will no longer be accepted. Set `keepdims` to True or False to avoid this warning.\n",
      "\n",
      "C:\\ProgramData\\Anaconda3\\lib\\site-packages\\sklearn\\neighbors\\_classification.py:228: FutureWarning:\n",
      "\n",
      "Unlike other reduction functions (e.g. `skew`, `kurtosis`), the default behavior of `mode` typically preserves the axis it acts along. In SciPy 1.11.0, this behavior will change: the default value of `keepdims` will become False, the `axis` over which the statistic is taken will be eliminated, and the value None will no longer be accepted. Set `keepdims` to True or False to avoid this warning.\n",
      "\n",
      "C:\\ProgramData\\Anaconda3\\lib\\site-packages\\sklearn\\neighbors\\_classification.py:228: FutureWarning:\n",
      "\n",
      "Unlike other reduction functions (e.g. `skew`, `kurtosis`), the default behavior of `mode` typically preserves the axis it acts along. In SciPy 1.11.0, this behavior will change: the default value of `keepdims` will become False, the `axis` over which the statistic is taken will be eliminated, and the value None will no longer be accepted. Set `keepdims` to True or False to avoid this warning.\n",
      "\n",
      "C:\\ProgramData\\Anaconda3\\lib\\site-packages\\sklearn\\neighbors\\_classification.py:228: FutureWarning:\n",
      "\n",
      "Unlike other reduction functions (e.g. `skew`, `kurtosis`), the default behavior of `mode` typically preserves the axis it acts along. In SciPy 1.11.0, this behavior will change: the default value of `keepdims` will become False, the `axis` over which the statistic is taken will be eliminated, and the value None will no longer be accepted. Set `keepdims` to True or False to avoid this warning.\n",
      "\n",
      "C:\\ProgramData\\Anaconda3\\lib\\site-packages\\sklearn\\neighbors\\_classification.py:228: FutureWarning:\n",
      "\n",
      "Unlike other reduction functions (e.g. `skew`, `kurtosis`), the default behavior of `mode` typically preserves the axis it acts along. In SciPy 1.11.0, this behavior will change: the default value of `keepdims` will become False, the `axis` over which the statistic is taken will be eliminated, and the value None will no longer be accepted. Set `keepdims` to True or False to avoid this warning.\n",
      "\n",
      "C:\\ProgramData\\Anaconda3\\lib\\site-packages\\sklearn\\neighbors\\_classification.py:228: FutureWarning:\n",
      "\n",
      "Unlike other reduction functions (e.g. `skew`, `kurtosis`), the default behavior of `mode` typically preserves the axis it acts along. In SciPy 1.11.0, this behavior will change: the default value of `keepdims` will become False, the `axis` over which the statistic is taken will be eliminated, and the value None will no longer be accepted. Set `keepdims` to True or False to avoid this warning.\n",
      "\n",
      "C:\\ProgramData\\Anaconda3\\lib\\site-packages\\sklearn\\neighbors\\_classification.py:228: FutureWarning:\n",
      "\n",
      "Unlike other reduction functions (e.g. `skew`, `kurtosis`), the default behavior of `mode` typically preserves the axis it acts along. In SciPy 1.11.0, this behavior will change: the default value of `keepdims` will become False, the `axis` over which the statistic is taken will be eliminated, and the value None will no longer be accepted. Set `keepdims` to True or False to avoid this warning.\n",
      "\n",
      "C:\\ProgramData\\Anaconda3\\lib\\site-packages\\sklearn\\neighbors\\_classification.py:228: FutureWarning:\n",
      "\n",
      "Unlike other reduction functions (e.g. `skew`, `kurtosis`), the default behavior of `mode` typically preserves the axis it acts along. In SciPy 1.11.0, this behavior will change: the default value of `keepdims` will become False, the `axis` over which the statistic is taken will be eliminated, and the value None will no longer be accepted. Set `keepdims` to True or False to avoid this warning.\n",
      "\n",
      "C:\\ProgramData\\Anaconda3\\lib\\site-packages\\sklearn\\neighbors\\_classification.py:228: FutureWarning:\n",
      "\n",
      "Unlike other reduction functions (e.g. `skew`, `kurtosis`), the default behavior of `mode` typically preserves the axis it acts along. In SciPy 1.11.0, this behavior will change: the default value of `keepdims` will become False, the `axis` over which the statistic is taken will be eliminated, and the value None will no longer be accepted. Set `keepdims` to True or False to avoid this warning.\n",
      "\n",
      "C:\\ProgramData\\Anaconda3\\lib\\site-packages\\sklearn\\neighbors\\_classification.py:228: FutureWarning:\n",
      "\n",
      "Unlike other reduction functions (e.g. `skew`, `kurtosis`), the default behavior of `mode` typically preserves the axis it acts along. In SciPy 1.11.0, this behavior will change: the default value of `keepdims` will become False, the `axis` over which the statistic is taken will be eliminated, and the value None will no longer be accepted. Set `keepdims` to True or False to avoid this warning.\n",
      "\n",
      "C:\\ProgramData\\Anaconda3\\lib\\site-packages\\sklearn\\neighbors\\_classification.py:228: FutureWarning:\n",
      "\n",
      "Unlike other reduction functions (e.g. `skew`, `kurtosis`), the default behavior of `mode` typically preserves the axis it acts along. In SciPy 1.11.0, this behavior will change: the default value of `keepdims` will become False, the `axis` over which the statistic is taken will be eliminated, and the value None will no longer be accepted. Set `keepdims` to True or False to avoid this warning.\n",
      "\n"
     ]
    },
    {
     "name": "stdout",
     "output_type": "stream",
     "text": [
      "Optimal value of k: 5\n"
     ]
    },
    {
     "name": "stderr",
     "output_type": "stream",
     "text": [
      "C:\\ProgramData\\Anaconda3\\lib\\site-packages\\sklearn\\neighbors\\_classification.py:228: FutureWarning:\n",
      "\n",
      "Unlike other reduction functions (e.g. `skew`, `kurtosis`), the default behavior of `mode` typically preserves the axis it acts along. In SciPy 1.11.0, this behavior will change: the default value of `keepdims` will become False, the `axis` over which the statistic is taken will be eliminated, and the value None will no longer be accepted. Set `keepdims` to True or False to avoid this warning.\n",
      "\n",
      "C:\\ProgramData\\Anaconda3\\lib\\site-packages\\sklearn\\neighbors\\_classification.py:228: FutureWarning:\n",
      "\n",
      "Unlike other reduction functions (e.g. `skew`, `kurtosis`), the default behavior of `mode` typically preserves the axis it acts along. In SciPy 1.11.0, this behavior will change: the default value of `keepdims` will become False, the `axis` over which the statistic is taken will be eliminated, and the value None will no longer be accepted. Set `keepdims` to True or False to avoid this warning.\n",
      "\n"
     ]
    }
   ],
   "source": [
    "# Perform grid search to find optimal value of k\n",
    "param_grid = {'n_neighbors': [1, 3, 5, 7, 9]}\n",
    "grid_search = GridSearchCV(KNeighborsClassifier(), param_grid, cv=5)\n",
    "grid_search.fit(X_train, y_train)\n",
    "\n",
    "# Print optimal value of k\n",
    "print('Optimal value of k:', grid_search.best_params_['n_neighbors'])"
   ],
   "metadata": {
    "collapsed": false
   }
  },
  {
   "cell_type": "markdown",
   "id": "2cb520f3",
   "metadata": {},
   "source": [
    "Perform 10-fold cross validation"
   ]
  },
  {
   "cell_type": "code",
   "execution_count": 240,
   "outputs": [],
   "source": [
    "# Feature Scaling\n",
    "sc = StandardScaler()\n",
    "X_train = sc.fit_transform(X_train)\n",
    "X_test = sc.transform(X_test)"
   ],
   "metadata": {
    "collapsed": false
   }
  },
  {
   "cell_type": "code",
   "execution_count": 241,
   "id": "7b4991d8",
   "metadata": {},
   "outputs": [
    {
     "data": {
      "text/plain": "KNeighborsClassifier()"
     },
     "execution_count": 241,
     "metadata": {},
     "output_type": "execute_result"
    }
   ],
   "source": [
    "# Fitting classifier to the Training set\n",
    "#k =5 has been taken\n",
    "classifier = KNeighborsClassifier(n_neighbors=5, metric='minkowski', p=2)\n",
    "classifier.fit(X_train,y_train)"
   ]
  },
  {
   "cell_type": "code",
   "execution_count": 242,
   "id": "6216bb18",
   "metadata": {},
   "outputs": [
    {
     "name": "stderr",
     "output_type": "stream",
     "text": [
      "C:\\ProgramData\\Anaconda3\\lib\\site-packages\\sklearn\\neighbors\\_classification.py:228: FutureWarning:\n",
      "\n",
      "Unlike other reduction functions (e.g. `skew`, `kurtosis`), the default behavior of `mode` typically preserves the axis it acts along. In SciPy 1.11.0, this behavior will change: the default value of `keepdims` will become False, the `axis` over which the statistic is taken will be eliminated, and the value None will no longer be accepted. Set `keepdims` to True or False to avoid this warning.\n",
      "\n"
     ]
    }
   ],
   "source": [
    "# Predicting the Test set results\n",
    "y_pred = classifier.predict(X_test)"
   ]
  },
  {
   "cell_type": "code",
   "execution_count": 243,
   "id": "b81dd0fb",
   "metadata": {},
   "outputs": [
    {
     "data": {
      "text/plain": "array([[427,  23],\n       [ 62, 178]], dtype=int64)"
     },
     "execution_count": 243,
     "metadata": {},
     "output_type": "execute_result"
    }
   ],
   "source": [
    "# Making the Confusion Matrix\n",
    "cm = confusion_matrix(y_test, y_pred)\n",
    "cm"
   ]
  },
  {
   "cell_type": "code",
   "execution_count": 244,
   "id": "bda432f8",
   "metadata": {},
   "outputs": [
    {
     "name": "stdout",
     "output_type": "stream",
     "text": [
      "Classification Report : \n",
      "\n",
      "\n",
      "              precision    recall  f1-score   support\n",
      "\n",
      "           0       0.87      0.95      0.91       450\n",
      "           1       0.89      0.74      0.81       240\n",
      "\n",
      "    accuracy                           0.88       690\n",
      "   macro avg       0.88      0.85      0.86       690\n",
      "weighted avg       0.88      0.88      0.87       690\n",
      "\n"
     ]
    }
   ],
   "source": [
    "# Generate summary of the prediction (Classification Report) made by the classifier\n",
    "print('Classification Report : \\n\\n')\n",
    "print(classification_report(y_test, y_pred))"
   ]
  },
  {
   "cell_type": "code",
   "execution_count": 245,
   "id": "8d3ccb17",
   "metadata": {},
   "outputs": [
    {
     "name": "stdout",
     "output_type": "stream",
     "text": [
      "Accuracy score of email prediction using KNN :  87.68115942028986\n"
     ]
    }
   ],
   "source": [
    "# Accuracy score of the prediction\n",
    "print(\"Accuracy score of email prediction using KNN : \",accuracy_score(y_pred,y_test)*100) "
   ]
  },
  {
   "cell_type": "markdown",
   "id": "4b7b23f5",
   "metadata": {},
   "source": [
    "### Visualization"
   ]
  },
  {
   "cell_type": "code",
   "execution_count": 246,
   "id": "aecf7756",
   "metadata": {},
   "outputs": [
    {
     "data": {
      "text/plain": "Text(115.9222222222222, 0.5, 'predicted class')"
     },
     "execution_count": 246,
     "metadata": {},
     "output_type": "execute_result"
    },
    {
     "data": {
      "text/plain": "<Figure size 640x480 with 1 Axes>",
      "image/png": "[encoded data removed]"
     },
     "metadata": {},
     "output_type": "display_data"
    }
   ],
   "source": [
    "# based on test values generate the confusion matrix\n",
    "import seaborn as sns\n",
    "\n",
    "# Summary of the predictions made by the classifier\n",
    "mat = confusion_matrix(y_test, y_pred)\n",
    "sns.heatmap(mat.T, square=True, annot=True, fmt='d', cbar=False)\n",
    "\n",
    "plt.title('Confusion matrix')\n",
    "plt.xlabel('true class')\n",
    "plt.ylabel('predicted class')"
   ]
  },
  {
   "cell_type": "code",
   "execution_count": 247,
   "outputs": [
    {
     "data": {
      "application/vnd.plotly.v1+json": {
       "data": [
        {
         "hovertemplate": "label=0<br>0=%{x}<br>1=%{y}<br>score=%{marker.color}<extra></extra>",
         "legendgroup": "0",
         "marker": {
          "color": [
           0,
           0,
           0,
           0,
           0,
           0,
           0,
           0,
           0,
           0,
           0,
           0,
           0,
           0,
           0,
           0,
           0,
           0,
           0,
           0,
           0,
           0,
           0,
           0,
           0,
           0,
           0,
           0,
           1,
           1,
           0,
           0,
           0,
           0,
           0,
           0,
           0,
           0,
           0,
           0,
           0,
           0,
           0,
           0,
           0,
           0,
           0,
           0,
           0,
           0,
           0,
           0,
           0,
           0,
           0,
           0,
           0,
           0,
           0,
           0,
           0,
           0,
           0,
           0,
           0,
           0,
           0,
           0,
           0,
           0,
           0,
           0,
           0,
           0,
           0,
           0,
           0,
           0,
           0,
           0,
           0,
           0,
           0,
           0,
           0,
           0,
           1,
           0,
           0,
           0,
           0,
           0,
           0,
           0,
           1,
           0,
           1,
           0,
           0,
           0,
           0,
           0,
           0,
           0,
           0,
           0,
           0,
           0,
           0,
           0,
           0,
           0,
           0,
           0,
           0,
           0,
           0,
           0,
           0,
           0,
           0,
           0,
           1,
           0,
           0,
           0,
           0,
           0,
           0,
           0,
           0,
           0,
           0,
           0,
           0,
           0,
           0,
           0,
           0,
           1,
           0,
           0,
           0,
           0,
           1,
           0,
           0,
           0,
           0,
           0,
           0,
           0,
           0,
           0,
           0,
           0,
           0,
           0,
           0,
           0,
           0,
           0,
           0,
           0,
           0,
           0,
           0,
           0,
           0,
           0,
           0,
           0,
           0,
           0,
           0,
           0,
           0,
           0,
           0,
           0,
           0,
           0,
           0,
           0,
           0,
           0,
           0,
           0,
           0,
           0,
           0,
           0,
           0,
           0,
           0,
           0,
           0,
           0,
           0,
           1,
           0,
           0,
           0,
           0,
           0,
           0,
           0,
           0,
           0,
           0,
           0,
           0,
           0,
           0,
           0,
           0,
           0,
           0,
           0,
           0,
           1,
           0,
           0,
           0,
           0,
           0,
           0,
           1,
           0,
           0,
           0,
           0,
           0,
           0,
           0,
           0,
           0,
           0,
           0,
           0,
           1,
           0,
           0,
           0,
           0,
           1,
           0,
           0,
           0,
           0,
           1,
           0,
           0,
           0,
           0,
           0,
           0,
           0,
           0,
           0,
           0,
           0,
           0,
           0,
           0,
           0,
           0,
           0,
           1,
           0,
           0,
           0,
           0,
           0,
           0,
           0,
           0,
           0,
           0,
           0,
           0,
           0,
           0,
           0,
           0,
           0,
           0,
           0,
           0,
           0,
           0,
           0,
           0,
           0,
           0,
           0,
           0,
           0,
           0,
           0,
           0,
           0,
           0,
           0,
           0,
           0,
           0,
           0,
           0,
           0,
           0,
           0,
           0,
           0,
           0,
           0,
           0,
           0,
           1,
           0,
           0,
           1,
           0,
           1,
           0,
           0,
           0,
           0,
           0,
           0,
           0,
           0,
           0,
           0,
           0,
           0,
           0,
           0,
           0,
           0,
           0,
           0,
           0,
           0,
           0,
           0,
           0,
           0,
           0,
           0,
           0,
           0,
           0,
           0,
           0,
           0,
           0,
           0,
           0,
           0,
           0,
           0,
           0,
           0,
           0,
           1,
           0,
           0,
           0,
           0,
           0,
           0,
           0,
           0,
           0,
           0,
           0,
           0,
           0,
           0,
           0,
           0,
           0,
           0,
           0,
           0,
           0,
           0,
           0,
           0,
           0,
           0,
           0,
           0,
           0,
           0,
           0,
           0,
           0,
           0,
           0,
           0,
           0,
           0,
           0,
           0,
           0,
           1,
           0,
           0,
           0,
           0,
           0,
           0,
           0,
           0,
           0,
           0,
           0,
           1,
           0,
           0,
           0,
           0,
           0,
           0,
           0,
           0,
           0,
           0,
           0,
           0,
           0,
           0,
           0,
           0,
           0,
           0,
           1,
           0,
           1,
           0,
           0,
           0,
           0,
           0,
           0,
           0,
           0,
           0
          ],
          "coloraxis": "coloraxis",
          "symbol": "square",
          "line": {
           "width": 1.5
          },
          "size": 12
         },
         "mode": "markers",
         "name": "0",
         "orientation": "v",
         "showlegend": true,
         "x": [
          -0.4316586190942073,
          0.16557689481910942,
          -0.3134471103704193,
          -0.2582865438198942,
          0.05073718193824706,
          -0.14197829105528145,
          -0.22528292035974637,
          0.034577293187257795,
          2.13731277598573,
          1.2753643949252145,
          0.41641644104849707,
          -0.3876924235854443,
          -0.3123835245230727,
          -0.01897337651191671,
          -0.25665655492724443,
          -0.46551384988908373,
          -0.2524813135675695,
          -0.3348839285797073,
          -0.24269474464141214,
          -0.2974292208937987,
          -0.2104771316754228,
          0.40007228594002153,
          -0.18824633928743395,
          2.1319122644806394,
          0.10214175527569669,
          0.16044056648246274,
          -0.2019698731684991,
          -0.14352093241542496,
          -0.27406512912476827,
          -0.19209844137224674,
          -0.2568445745576615,
          -0.48120736556454763,
          -0.2373481354992303,
          0.38481683992105636,
          -0.11598275298635059,
          -0.22138937078241247,
          -0.32265922883886994,
          -0.29582941857962103,
          -0.06824803527783617,
          -0.05483223395570454,
          0.11993138856405432,
          -0.4983779505642009,
          2.2232466286332975,
          0.3921104952025836,
          -0.26751888117557404,
          -0.31798145136946526,
          0.24006983034774118,
          2.8113395658731983,
          -0.3689398815557083,
          -0.19572438709895829,
          2.3008913800880624,
          0.0340247272950586,
          0.4768661179365272,
          -0.2568853284476123,
          -0.12481335034212653,
          -0.19967603608064108,
          0.04822755858848871,
          -0.2925746608955114,
          0.18865663703977661,
          -0.016751952214595762,
          -0.21497813826289672,
          -0.06208002998950405,
          -0.1918376236948189,
          -0.31459575103572274,
          1.1024658827069413,
          0.1288507567098609,
          -0.1221923287394998,
          -0.11364759418511523,
          -0.15655386367511384,
          -0.24693714605869127,
          -0.4039430887113649,
          3.6923220035373934,
          -0.3009290283011794,
          0.23470074620804127,
          -0.04052001351350434,
          1.0716343587759365,
          0.08903941135609289,
          0.13535672346698188,
          0.15565547951451922,
          0.08879599781716216,
          0.32230984653418776,
          -0.1575723019136128,
          0.3071150433536969,
          -0.13424210404897374,
          -0.1914707276115711,
          -0.24515552689239484,
          -0.27059985779848156,
          0.01791713935056487,
          -0.20265671202116103,
          -0.09910669780767932,
          -0.09411449983573791,
          -0.27920656038333014,
          -0.2441305000923668,
          -0.19205818811403982,
          -0.33501785023989233,
          -0.279483127857429,
          -0.33846044515171836,
          0.25660622693613466,
          -0.2078576190073186,
          0.3994737030216559,
          12.591231977818566,
          -0.006104913725245436,
          -0.3913764947728538,
          -0.1469304552729738,
          0.04929241113741002,
          0.060571532918169434,
          -0.24281255162132165,
          -0.18242112247828074,
          -0.20671794942206548,
          -0.15525003122305508,
          0.33280660619811364,
          -0.13439957956651957,
          -0.25187987728993166,
          -0.2496612238144119,
          0.6998759921797636,
          -0.3069680424081592,
          -0.1717533721895789,
          0.03621798183962595,
          -0.25583871534867425,
          -0.20593587469532115,
          0.9418912090704463,
          -0.21628968354343486,
          -0.3313264361301164,
          -0.19944222629283512,
          2.133256279458268,
          0.5772113413144423,
          -0.4246145738853337,
          0.014580170758199888,
          -0.3049465218203098,
          0.680597712483713,
          -0.20614339654370362,
          1.8130015271886304,
          -0.2946051634879335,
          -0.20068385810192804,
          -0.2948235865538102,
          0.38421490156566,
          -0.22031628640181775,
          -0.10313467828589888,
          0.30050517664539345,
          -0.37064828323241655,
          0.42548588460240083,
          -0.27114136216117846,
          -0.10481572771993511,
          -0.32859810904849823,
          -0.5513915784704656,
          0.04371186463699858,
          -0.009090772542940216,
          -0.27049844003419227,
          -0.1407783329787768,
          0.4733521072145599,
          -0.3374680090232598,
          0.0104755582792496,
          -0.27268925681337153,
          -0.030825615858942244,
          0.2179278931863165,
          -0.32160952596809733,
          -0.25291547126137887,
          -0.21649035775956305,
          -0.07011460199644336,
          -0.17571242483392358,
          0.6588651074324404,
          -0.2532914478365341,
          0.030587822376950274,
          -0.27314599674305096,
          1.1810820112307352,
          -0.2748203921095759,
          -0.1591617401024964,
          -0.24418018674099506,
          0.7246628282633136,
          0.24814361333232396,
          -0.03663655808273562,
          -0.11538849804364962,
          -0.10630981863119993,
          -0.246174039604686,
          0.33890306481427507,
          -0.1424638678352829,
          0.6653809180253947,
          -0.2031388092038259,
          -0.378214084290775,
          2.1469135378660322,
          -0.17092853196712982,
          -0.11255596779603995,
          -0.052507502703599065,
          -0.17701731906872603,
          -0.34024292782293636,
          1.5405548722527247,
          0.5919788301882095,
          -0.1654983789856273,
          -0.11067364786439803,
          0.16926473215830912,
          1.674828438642111,
          -0.20159249789824565,
          -0.43053095924882323,
          -0.289005818933888,
          -0.36178122541956065,
          -0.01478359240597854,
          0.24576754963344352,
          -0.47334119595047847,
          -0.31934601630072257,
          -0.29121253825896337,
          -0.0898616158554261,
          -0.2751008322210766,
          0.9353810341285559,
          8.758656666758974,
          -0.20688468523781958,
          0.08955532065495712,
          0.11758751562170393,
          9.335379628822384,
          -0.041604005704222596,
          0.5519081361539133,
          0.6564901917405979,
          -0.04631701456661608,
          0.20140389765138558,
          -0.6795124136543806,
          -0.3041305480914592,
          -0.1730394914975413,
          0.1489216974889555,
          -0.43162656668607075,
          -0.3810467541801984,
          0.42418675114502424,
          0.4813211453785631,
          0.1727495186603859,
          -0.37362351898067925,
          -0.24683595648940573,
          0.503763828995201,
          1.450279379088694,
          -0.12747346631995615,
          -0.24105130024343446,
          -0.1965182890363879,
          -0.33038910332555954,
          0.32276924760129305,
          -0.003170664561446288,
          -0.2110925557234863,
          -0.32047516147027666,
          4.49753877379675,
          0.45062573855965027,
          0.37393994046505885,
          -0.21390079834803782,
          -0.4595717672856662,
          -0.34418071391599503,
          -0.6772092539524337,
          1.5185349797636365,
          -0.11556473029790462,
          0.4222387095478914,
          1.4667297413015106,
          -0.4627953269457174,
          -0.24887450468649008,
          -0.2756621885154364,
          -0.0021755807707185093,
          -0.2863636861504627,
          -0.25447711121866523,
          -0.2304557032102793,
          13.110262104217743,
          -0.23986882440612833,
          -0.32949718281380164,
          0.12384585252486224,
          0.29565490874992567,
          -0.33248898439719154,
          -0.047937720579046494,
          0.27331902471529174,
          -0.2734500919087523,
          0.48567001174265984,
          -0.3776066058799412,
          0.10956075324644649,
          0.4372966669625045,
          -0.10093269037711422,
          0.1409144237419452,
          -0.39778673242333784,
          -0.4900690349597668,
          0.3703231791059436,
          -0.33080795072036867,
          -0.21491075328985756,
          0.041710379617410365,
          -0.3478781353917889,
          0.8057413070258913,
          -0.47265199383648676,
          -0.20275949764268006,
          -0.18971668928847596,
          -0.02889584945068943,
          -0.12384064061229666,
          1.0496752860691108,
          -0.2450268817095326,
          -0.1418472079647697,
          -0.39475207364517245,
          0.0913989356788093,
          -0.3119596503230131,
          0.6213491304927291,
          0.034474292617495364,
          -0.032006158406590414,
          -0.3650960405614896,
          -0.022900811392673637,
          -0.1399597922710774,
          -0.13287303396409397,
          -0.32745541309865334,
          -0.2915181434143413,
          0.06394673498459183,
          -0.10944050316659452,
          -0.28730789282998836,
          1.1374557296110561,
          -0.3518044471441805,
          3.6833139725027095,
          -0.24245547093044856,
          -0.18004420967108267,
          -0.3010584413954144,
          -0.2890047773756884,
          -0.5031088874883705,
          -0.25853406824728825,
          -0.1650792300856712,
          -0.1461300526169156,
          -0.24123412938853714,
          2.109157074314787,
          -0.30765871608844847,
          -0.036114391131019996,
          -0.2660712855919289,
          -0.24886683172995844,
          -0.2512221618232937,
          -0.08792850345340379,
          -0.27977589092665966,
          -0.44857171427466475,
          -0.31041285565088905,
          0.26367223671866313,
          -0.5039094909676862,
          -0.10242958648784636,
          -0.25532898841259627,
          -0.3904028863194475,
          -0.11520249756743818,
          -0.05566082539173276,
          -0.35095977920190785,
          -0.24512705310642355,
          -0.19716924071735492,
          0.2186468565775272,
          -0.2030154763244295,
          -0.1834889370574356,
          -0.14149121562722694,
          2.2310885995410343,
          -0.484848650225487,
          -0.12121744565643719,
          -0.20370306150164666,
          0.16722180913287077,
          0.23079178340603224,
          -0.18912981943883564,
          0.3094202351604264,
          0.015154705852143766,
          3.4198267571033294,
          -0.31488888601654014,
          -0.07649071943330409,
          11.606929392488718,
          -0.23797213457908237,
          -0.46118159668597797,
          -0.10964998948760496,
          -0.2685958360273403,
          1.604413198109632,
          -0.055317407034443065,
          -0.34820877514502313,
          -0.3868749167015456,
          -0.17745571296885537,
          0.8204154224870559,
          -0.2361338737946604,
          -0.23176525316614463,
          -0.11290087756047122,
          -0.19235218717697264,
          0.8800730150707674,
          -0.17058285337570084,
          0.9686908021252905,
          0.15026321728868494,
          0.5641427260911009,
          -0.2269704698471098,
          -0.09931748612240261,
          -0.19617309163032082,
          -0.3253009914995787,
          0.13198003134277586,
          0.08161907313327747,
          -0.33745605028026604,
          -0.364522939773376,
          -0.14302938422408049,
          0.7403499434894859,
          -0.06732885999395301,
          1.720283761722194,
          -0.36176224941064317,
          -0.22937797042748215,
          -0.1817962087201377,
          0.13321747648160426,
          -0.25563948683360466,
          0.1530149251071752,
          1.6702884915257805,
          -0.2214153820565601,
          -0.042528458908126454,
          0.03364638290385962,
          -0.2954533072551427,
          -0.12548346435622384,
          -0.2546529989990656,
          -0.34050517296629107,
          -0.2556534046146076,
          -0.2530683702088275,
          -0.14648623637022382,
          0.30073954602711256,
          -0.24631451078975342,
          0.8601307998751788,
          -0.23806806263515565,
          1.563388811703366,
          -0.20090007868455534,
          -0.017217394702038973,
          0.7707045763866333,
          -0.37349259507389587,
          0.06865983638983046,
          6.50638320510321,
          -0.2724202386139251,
          -0.2558668771499018,
          12.094243702507429,
          -0.11239443342120933,
          -0.35733223135063535,
          1.8570159627155327,
          -0.13881047743848487,
          -0.022220248522217947,
          -0.017852207226297757,
          0.1950390532356592,
          6.648206813048678,
          3.7993357968261625,
          -0.3430565916258274,
          -0.1639949732895521,
          -0.2454048793905365,
          12.581127055837909,
          -0.4523247900686513,
          -0.26187270861902995,
          0.2151001273893995,
          0.3050404500510414,
          0.21574221454708423,
          -0.15377580208645938,
          0.02612140134087562,
          0.16301073776971056,
          -0.23790820313885547,
          -0.20787245302951687,
          -0.3585369659558152,
          -0.20486502769080162,
          -0.3492395565464308,
          -0.22496767727050898,
          -0.41785242414484997,
          -0.3583853604581581,
          -0.42207174054721786,
          0.13319949934310457,
          -0.11904448853873482,
          -0.2943143610846294,
          -0.24259582208874206,
          -0.25076497906248046,
          -0.3514094832206923,
          -0.3145493377183609,
          0.045080406895768095,
          -0.08728795599184179,
          -0.30813524693418376,
          -0.3327996367456995
         ],
         "xaxis": "x",
         "y": [
          -1.0072142707446028,
          -1.8362733337706045,
          1.5666424699246468,
          -1.042016006454713,
          -0.7165898169859692,
          -1.011595622548269,
          0.23119588856240406,
          -0.7946463374360002,
          0.17294100819718017,
          -1.391688020934847,
          -0.9598321555429311,
          -0.25910670332138264,
          -0.47978823995499037,
          -1.0374772623173798,
          -0.20128485345254435,
          -0.15227234396993208,
          -1.3172319312049454,
          -0.5696558033184469,
          -0.6706567006921029,
          -0.04677664787884915,
          0.11074888648004595,
          -0.6790021206495755,
          -1.0390861705782044,
          -0.07334560591563852,
          -0.673449597115964,
          -0.7838330994234646,
          -0.883187233313156,
          -1.0956410828979093,
          -0.9006716990652762,
          6.762542847101085E-4,
          -0.5385152025754057,
          0.9069310235265676,
          -0.6925176275058297,
          -2.111106193483864,
          -0.8785147392075349,
          0.7546270936953787,
          -0.8672069442580157,
          -0.38311178291946674,
          -0.9665613763601333,
          -0.23241775212673588,
          -0.3735983930839492,
          1.5327252589651883,
          0.5825454365796144,
          -0.2155343388914167,
          -0.9605006992380956,
          -0.5631352599603074,
          -0.38080505746189786,
          0.2611064955425481,
          0.10199026801467705,
          -1.0082028054045102,
          1.1287337750260729,
          -0.5522165002939784,
          -0.9742608536333055,
          -0.36360243623030686,
          -0.719906377360877,
          -1.1543176908234023,
          -0.8397718911957334,
          -0.40441701846945893,
          -0.9369840599054682,
          0.057600824994793895,
          -1.578897102275793,
          0.8303609257871241,
          -1.1248823418597793,
          0.04797505039824917,
          -0.09786753696799463,
          -0.4879835807407265,
          -0.9581229791908037,
          -0.17640430492529005,
          -0.8256965893354097,
          -0.32394001152205687,
          -0.3787487209849147,
          -0.14421762732460594,
          -0.5871371159763153,
          0.07037642179711513,
          -1.0737470006523775,
          -0.005859498911484965,
          -1.4111493602285192,
          -0.4768228023644485,
          -0.3868559655124943,
          0.11615675262713836,
          -0.26031235831760985,
          -0.7651862911143246,
          -0.14634343811280168,
          0.09282220417379118,
          -1.4573077924539022,
          -0.8821645758975568,
          -0.4876648346665422,
          -1.4176057423741355,
          0.24973010156835623,
          -1.0724521062777452,
          -0.6353610192068465,
          -0.9506898472873387,
          -0.5162623039557837,
          -1.4711683398669346,
          -0.18869321373922063,
          0.38026947049666293,
          0.16668093545717266,
          0.05900368767774964,
          -1.109355881755036,
          -0.49092410949716253,
          2.8314178686267315,
          -1.0027785056070075,
          -0.25782483112251897,
          -0.7872453400001524,
          -1.5235607265150448,
          -1.1543176843061298,
          0.06317838265669598,
          -0.5814955902684064,
          -1.2151871263943375,
          -0.3281160060270759,
          -0.4374566315793964,
          -1.1472010450543926,
          -0.7599513048185885,
          -0.8570397794889145,
          -0.46869057235324757,
          -0.514839815629471,
          -0.7699463732172367,
          0.024517316577321906,
          -0.7889098436870828,
          -1.6027928291778162,
          -0.23602990368009213,
          0.7332517338187388,
          0.21342602227338486,
          -0.28816148597928143,
          0.1501817469797381,
          -0.3570472550401432,
          -0.7734915475017666,
          -0.9505163451503933,
          -0.43837913567062087,
          -0.22850376016032398,
          -0.2602656223228579,
          -0.49481379827130434,
          -0.7348622385977222,
          -0.8973005060745354,
          0.015220411128466642,
          0.5378492541445854,
          -0.6706865398372319,
          -1.0954615253936806,
          -0.7982041347095601,
          -0.5815612879636309,
          -0.4398577553010526,
          0.3133695190562519,
          -0.6710163938980416,
          -0.5999149421421422,
          -0.12052738878652745,
          -0.638260509934402,
          -0.0039023930542925068,
          -0.891487287223379,
          -0.3328058543668968,
          -0.42541631313768263,
          -0.606600626173566,
          -0.26118148154505477,
          -0.8105471155878113,
          0.2698884372728096,
          -1.0297324714606084,
          -0.5753406288495116,
          0.1975705560618236,
          -1.0075685738339482,
          -0.7433799172868474,
          -0.6629550222574306,
          -1.0721315741172828,
          -0.8676649044361247,
          -1.0144948832948606,
          -0.6143406784299281,
          -0.22057915586249968,
          -0.6476713127305708,
          -0.9283474189236023,
          0.8780865670947182,
          -0.21556267653144318,
          -1.378067576304578,
          -0.4269965790901935,
          0.018289074098038788,
          0.30755124680629503,
          -1.4294044045008787,
          0.8048877948023665,
          -0.8618318562085895,
          -0.19199304991863614,
          -0.4156893578318052,
          0.1356479810205513,
          0.1574834198140445,
          -0.786487499424654,
          -0.6537960183917019,
          -2.1428903538725623,
          -1.2653510970650361,
          0.4440423211371739,
          -1.261640741238918,
          -0.7470899831891412,
          -0.15123079325329286,
          -0.21733099279235024,
          -0.8452126322858248,
          0.561896020715533,
          -1.089691256545199,
          1.7182132436605373,
          -0.06551200617057107,
          -0.581612636921293,
          0.1410435643784169,
          -0.4831482187102026,
          -0.1337463724207442,
          -1.1838054919369598,
          -0.7708508157405178,
          -0.28475875674689827,
          -0.005705590879081947,
          -0.499682341563549,
          1.8154691040676734,
          0.09385433651761504,
          -0.9045209585423175,
          -0.8932116080668489,
          2.1232945205272964,
          -0.9318975150726038,
          -0.8604369848206914,
          -0.9204965724053358,
          -0.6187141657283789,
          -2.0103588525342313,
          -0.07471756500150342,
          -0.12353180840693,
          -1.7638502678060295,
          -1.5358919081868452,
          2.2102649793606273,
          0.7787536377301538,
          -0.38470450503230313,
          0.5110911039256507,
          -0.9148511864335465,
          -0.6467816254507078,
          -0.8720225995880301,
          -0.7491332599516464,
          0.09925916622953371,
          -0.39912516214380384,
          -0.6072039910109016,
          -0.2032896135427664,
          -1.1405115304584013,
          -0.5061518819363635,
          -0.863227035401886,
          -0.902663461215931,
          -0.7909072751637787,
          1.3174900494954174,
          -0.7751384198864264,
          -0.3409848910798615,
          -0.8671218156311841,
          0.6940382452289473,
          -0.48777707203310117,
          0.8423780871841358,
          -0.7014737411184655,
          0.5729946502026907,
          -0.6709273401035267,
          -0.5987343593438896,
          1.617282115081767,
          -1.5381431107021288,
          -0.8898175350328325,
          -0.8181623955890819,
          0.081755677472618,
          -0.2250080076280553,
          -0.7380566830641215,
          2.91423127295083,
          -0.8423100878778754,
          0.11938822573729904,
          -0.33930557202714284,
          -0.7395333538680577,
          -0.3648988894346014,
          -2.0038314966854225,
          -0.17873139902204255,
          -0.4391512519713654,
          -1.1752791021856483,
          -0.47198725605440134,
          -2.2463559975906615,
          0.25078259387458,
          0.3680048825201595,
          -0.6985572253792603,
          -0.6062092201875451,
          1.4376624170300014,
          -1.0964796580897198,
          -0.5837568305622481,
          -1.2563199936141884,
          -0.6848967708205901,
          -0.3063337786340689,
          -0.5527867360178347,
          1.0019261189289022,
          -0.8902703997153195,
          -0.9007143399520497,
          -0.5331017901590719,
          0.006991149982858508,
          -0.26659291686982267,
          -1.0143503839043784,
          -1.0954929416785402,
          1.1549692521925323,
          -1.5989338152323607,
          -0.7751367911267287,
          -2.6615335444391954,
          0.0779184496583033,
          -0.8924052638124917,
          -0.012915417798539023,
          -0.6155202259939921,
          -0.8982607498437795,
          -0.7291073152267931,
          -0.08274588001215828,
          -0.048740494900308046,
          -1.0665228832894897,
          0.6960332984138875,
          -0.6322884371762403,
          0.21762085247568055,
          -0.6735274300080151,
          0.3954485661004592,
          -0.8687485141383317,
          -0.7948040117472953,
          -0.2416938376298402,
          -0.4509980037405081,
          0.016590503205920083,
          -0.7327067389336064,
          -1.0649528122054677,
          -0.008255390019471771,
          -1.277306937402304,
          -0.13964503807641884,
          1.0881291809689706,
          -0.598233634493958,
          -1.0047681993305053,
          -0.6982038220166671,
          0.41199645555390235,
          0.0036865465503481843,
          -0.07077272199733829,
          1.2619759056803916,
          0.11997741666173635,
          -1.018163680489949,
          0.4798849267147391,
          -1.1094295261731966,
          -0.7036974387998296,
          -0.49474600336762325,
          -0.6770106382818332,
          -1.4819353613787758,
          -0.45258597197525063,
          -0.675736903528061,
          -0.6311306528871687,
          -0.4263266816773154,
          -0.939889682557371,
          -0.9190880666160894,
          0.2730581748747755,
          -0.19841174550056265,
          -0.4955792864090191,
          0.8818747050106345,
          -0.8135916175831701,
          -0.29423464488731543,
          -0.6280779954450346,
          -0.7861375285621579,
          -1.039361628318149,
          -0.5838088117767384,
          -0.21345879210109536,
          -0.0824752127690877,
          -1.803567319515466,
          2.4835224938044576,
          -0.807538111775421,
          0.6517196993617159,
          -0.8803997722719134,
          -0.27348872599626517,
          0.03617398756713009,
          -0.8246694830167867,
          -0.16350615105850907,
          -0.4047436421773559,
          -0.5944518747324503,
          -0.5556920424812055,
          -0.9393286655165248,
          0.6359513965426338,
          0.6220765411882134,
          -1.928624990794626,
          -0.13012653533097443,
          -0.357436963140257,
          0.6025264001322174,
          -1.702338937092665,
          -0.26367117668705226,
          -0.9212537610770817,
          -1.1325740254879946,
          0.7896129960920356,
          -0.24677810405692124,
          -0.7148904118098702,
          -1.1582434857424586,
          -0.48737149587944645,
          -1.067568458694508,
          -1.1914786347221653,
          -0.41871543092783625,
          -0.9078719516849615,
          0.18968311569282179,
          -0.5659379082896119,
          -0.7425170730466502,
          -1.0088453027984197,
          -0.7756206654773551,
          -0.6196599858519495,
          -0.4547142600222725,
          -0.3026823895437834,
          -0.5372493479677029,
          -0.6708307851261429,
          0.514192686534088,
          -0.7134632617268706,
          -0.5873074942502783,
          -0.7763239967308349,
          -0.28933935690966456,
          -0.4947120216767423,
          -0.6458914623207641,
          -1.3921513556152199,
          -0.9429895799639865,
          -0.7021389029340129,
          -1.3132962215824109,
          -0.9263335257044812,
          0.9079175036291732,
          -0.6749672634522698,
          -0.7321487008008347,
          -0.7136706271379473,
          -0.03473400580304043,
          -0.16125241021855977,
          1.3175013206740924,
          -1.1295486786549953,
          1.0694108818144532,
          2.681769300230317,
          0.5213111756395836,
          0.04015402653341579,
          -0.36011226508046124,
          -1.7462403741147083,
          -1.0983833197792703,
          -0.5158367937632756,
          -0.058461592955921925,
          1.1242132225656016,
          0.322975154015762,
          -0.45218842090960637,
          -0.9218135686781266,
          0.6621212567945977,
          2.8100924738819892,
          0.39949280882452654,
          -0.4598286467544001,
          -0.8365571564014401,
          -0.2790036793742112,
          -0.7629969996419381,
          -1.0231035243380477,
          -0.1539287564068237,
          -1.300445340192391,
          -0.8437279379938052,
          -1.0427447651207238,
          -0.7373642653268442,
          -0.8790426854650898,
          0.09618179016527034,
          -0.7431524556102422,
          1.5576156514093757,
          -1.0101295838793178,
          -0.06524886200315952,
          0.2804848794752398,
          -0.07128096875563077,
          -0.7566713006046147,
          -0.7849519608490184,
          -1.0504929406300434,
          -0.5625478313709537,
          0.2863895773651471,
          0.06473302609153553,
          -0.6775825641919986,
          1.094648736700491,
          -0.905202635231899
         ],
         "yaxis": "y",
         "type": "scatter"
        },
        {
         "hovertemplate": "label=1<br>0=%{x}<br>1=%{y}<br>score=%{marker.color}<extra></extra>",
         "legendgroup": "1",
         "marker": {
          "color": [
           1,
           1,
           1,
           1,
           1,
           0,
           1,
           1,
           0,
           0,
           1,
           1,
           1,
           0,
           1,
           0,
           1,
           1,
           1,
           0,
           1,
           0,
           1,
           1,
           1,
           1,
           1,
           1,
           1,
           1,
           1,
           0,
           0,
           1,
           0,
           1,
           1,
           1,
           1,
           1,
           1,
           1,
           1,
           1,
           1,
           0,
           1,
           1,
           0,
           1,
           1,
           1,
           1,
           0,
           1,
           1,
           1,
           1,
           1,
           1,
           1,
           1,
           1,
           1,
           0,
           0,
           1,
           1,
           1,
           1,
           1,
           1,
           1,
           1,
           1,
           0,
           1,
           1,
           0,
           0,
           1,
           1,
           0,
           1,
           1,
           1,
           1,
           1,
           1,
           1,
           0,
           1,
           1,
           0,
           1,
           1,
           0,
           1,
           0,
           0,
           0,
           1,
           0,
           1,
           0,
           1,
           0,
           1,
           1,
           1,
           1,
           0,
           1,
           1,
           1,
           1,
           1,
           1,
           0,
           1,
           1,
           1,
           1,
           1,
           1,
           1,
           1,
           1,
           1,
           1,
           1,
           1,
           1,
           1,
           1,
           1,
           1,
           0,
           1,
           1,
           1,
           1,
           1,
           1,
           1,
           0,
           1,
           0,
           1,
           0,
           0,
           0,
           1,
           1,
           1,
           1,
           1,
           0,
           0,
           1,
           1,
           0,
           0,
           1,
           1,
           1,
           1,
           1,
           1,
           1,
           1,
           0,
           1,
           0,
           0,
           0,
           1,
           0,
           0,
           1,
           0,
           1,
           0,
           0,
           0,
           0,
           1,
           0,
           1,
           0,
           1,
           1,
           1,
           1,
           1,
           1,
           1,
           1,
           0,
           1,
           1,
           1,
           1,
           1,
           1,
           1,
           1,
           0,
           1,
           1,
           1,
           1,
           0,
           1,
           0,
           1,
           1,
           1,
           1,
           0,
           1,
           1,
           1,
           0,
           1,
           1,
           1,
           1,
           1,
           1,
           1,
           0,
           1,
           1,
           1,
           1,
           1,
           0,
           0,
           1
          ],
          "coloraxis": "coloraxis",
          "symbol": "x",
          "line": {
           "width": 1.5
          },
          "size": 12
         },
         "mode": "markers",
         "name": "1",
         "orientation": "v",
         "showlegend": true,
         "x": [
          -0.5445885891416462,
          -0.5946010058416815,
          -0.4338878385072657,
          -0.555955968085188,
          -0.11149721082141775,
          -0.21492380587374388,
          0.23626612027664484,
          -0.63836697064043,
          -0.32331315048188103,
          -0.34505825108614196,
          -0.7078607847455538,
          -0.45609133663717827,
          -0.34105916706481126,
          -0.3608069699105908,
          -0.5460115601579729,
          -0.4584430648879844,
          -0.2546002818634601,
          -0.5357022240940201,
          -0.49249144859311783,
          -0.6216809878890249,
          -0.23503604596330546,
          -0.0055751334076114285,
          -0.5973754444834621,
          -0.30430340338992296,
          -0.5749169655253473,
          -0.4320152959517473,
          -0.8143905644210017,
          -0.44785299843259846,
          -0.43752977362665,
          -0.899525584953145,
          -0.4187921894037272,
          -0.2118806498314703,
          -0.5266871745598057,
          -0.526236050375095,
          -0.4876448373004033,
          -0.4358962633919147,
          -0.4068568022352414,
          -0.7808540868452355,
          -0.37384669198938986,
          -0.5744327395557014,
          -0.38002589534576525,
          -0.599539984730809,
          -0.32720578690521807,
          -0.43720666091881644,
          -0.5540256783782675,
          0.3930502962686534,
          -0.41559683066592723,
          -0.2608508963723155,
          -0.1441472899358896,
          -0.24013786061401768,
          -0.4845861283898883,
          -0.5369594705956279,
          -0.42224387145487513,
          -0.4155366449689646,
          -0.4923055040474327,
          -0.7847907506021997,
          -0.3593409489146598,
          -0.37185094418446346,
          -0.3373511342567977,
          -0.4963082531873826,
          -0.7048608874638869,
          -0.4596106281608542,
          -0.47756589841091723,
          -0.4710912316701755,
          -0.4980387397769339,
          -0.3046507020340441,
          -0.5044694274060473,
          -0.30136857149591834,
          -0.8592425741550246,
          -0.5032811761319455,
          -0.18459217118775953,
          -0.36264323854838265,
          -0.5277605757229938,
          -0.6272916433759772,
          -0.4942970687273322,
          -0.4907393694555803,
          -0.3164249956733518,
          -0.4756529643431113,
          -0.41404616206296163,
          -0.30271217816536317,
          -0.5863109057019016,
          -0.39286197057225664,
          -0.3048785514814567,
          0.4786069630165104,
          -0.4930398395312596,
          -0.3386713588461262,
          -0.4199328405217939,
          -0.4958584581603859,
          -0.7049209927594344,
          -0.5913439896667894,
          -0.36858317954171743,
          -0.3405885800386575,
          -0.7475843135666905,
          -0.20569375936278442,
          -0.7808084442984183,
          -0.3917677448254296,
          -0.32448604627186556,
          -0.6333916810372927,
          -0.5127440952353777,
          -0.007900663526673629,
          -0.4518328707811568,
          -0.3640213682323014,
          -0.2705041735316438,
          -0.693231646311061,
          -0.2809760881564698,
          0.2506914605288407,
          -0.4579104650390166,
          -0.5105445989807454,
          -0.41538508388272477,
          -0.5251396775188591,
          -0.3385640021948544,
          -0.10471885593145791,
          -0.3167448947416452,
          -0.6392537631689547,
          -0.16538232849929707,
          -0.6725825779529274,
          0.08387222335210572,
          -0.3342437059260216,
          -0.4151516080665607,
          -0.4202698829370623,
          -0.671552852740056,
          -0.3428825547473826,
          -0.5046009997876174,
          -0.6890690771949978,
          -0.5732236550965917,
          -0.5185466014029575,
          -0.3515793419556112,
          -0.43496561087508906,
          -0.43120841890984324,
          -0.7353996663233153,
          -0.589112987546301,
          -0.5074523170168694,
          -0.6245408032374776,
          -0.5577369548486515,
          -0.4851912442784018,
          -0.5801213652373859,
          -0.3091698682099855,
          -0.3013894619316491,
          -0.491792667476103,
          -0.4441376598304667,
          -0.5027502090739348,
          -0.50227025948386,
          -0.30365042367170025,
          -0.49052017228508477,
          -0.6692587036005652,
          -0.35881219834834815,
          -0.6308735037952099,
          -0.2509549170362747,
          -0.6038887240499866,
          -0.23137124217083194,
          -0.2802246589326948,
          -0.3772208303913742,
          -0.4845059202994431,
          -0.4169836194761038,
          -0.6841996832729742,
          -0.440164042018667,
          -0.3550741374061958,
          0.1120506355909583,
          0.19047174812012807,
          -0.5250737386193837,
          0.11836269215755858,
          -0.2919729487278147,
          -0.7318525735916858,
          -0.5183847133281048,
          -0.4112555311029508,
          -0.37829669197242516,
          -0.41321632713860446,
          -0.7084272900750216,
          -0.8047595035906436,
          -0.6014829151517563,
          -0.7603137425874043,
          -0.4832433546136123,
          -0.5020501494834672,
          -0.43039078354796195,
          -0.16765326716417964,
          -0.7835859290407645,
          -0.3390909622338641,
          -0.2699869387772744,
          -0.3836749575058873,
          -0.6983570683263978,
          -0.4207206638693218,
          -0.5930135856854332,
          -0.11729495226328668,
          -0.23310179681629367,
          -0.0044428844482739226,
          -0.4731826457290078,
          -0.28533547075300314,
          -0.08816436807165091,
          -0.7397605933118186,
          -0.7980292644080573,
          -0.3827696037967287,
          -0.37615524252293475,
          -0.5385331203880249,
          -0.5263204176376913,
          -0.16755724467087182,
          -0.42970980124201746,
          -0.3282197751183849,
          -0.3167227317502329,
          -0.4518731606446178,
          -0.6786489254445134,
          -0.741195764179349,
          -0.7833249016228541,
          -0.36841489595594384,
          -0.5031040447002564,
          -0.32949998958269544,
          -0.620382947685263,
          -0.35236464047608607,
          -0.06230227532714029,
          -0.3896618724636108,
          -0.48433389033900937,
          -0.4484751107287837,
          -0.29752135946620356,
          -0.6063926430767987,
          -0.6126352148768028,
          -0.42125878385729437,
          -0.4200874864124035,
          -0.6717858163392547,
          -0.4073737138266749,
          -0.5430970321003596,
          -0.45405798378674855,
          -0.35886099642978425,
          0.19756800581696002,
          -0.4874760007555846,
          -0.5255336409895911,
          -0.3538850735744578,
          -0.7369635037245994,
          -0.5406762820693841,
          -0.43878275278073114,
          -0.5866083750453351,
          -0.36910839209017565,
          -0.6337923680719286,
          -0.44226687792458924,
          0.06602383834553908,
          -0.54227131650704,
          -0.4407379525467759,
          -0.5817465813617211,
          -0.6343822512014794,
          -0.6296359714677694,
          -0.20184310335720843,
          -0.4981123017219604
         ],
         "xaxis": "x",
         "y": [
          2.3622902127775838,
          1.1802880889181906,
          1.008392044555676,
          1.0085827447729665,
          0.4614637122731725,
          -0.5391671481806675,
          0.06119534868370079,
          2.8376780181851506,
          -0.2261772573208506,
          -0.22235569739519861,
          2.796862788502869,
          0.5763121059611929,
          0.41573400735071314,
          1.1941126815187446,
          1.2720637501921548,
          0.5387364850454179,
          0.13780190436886663,
          1.4178761090091296,
          1.7139863353040106,
          1.2819154271923006,
          0.18846526333516167,
          -0.5188606635968827,
          0.887608124656298,
          0.07389997008427938,
          1.1497489336867788,
          0.7707468807579039,
          2.1926885143250914,
          0.4421400615115843,
          -0.011383786276961695,
          2.817024444570252,
          1.057865999884488,
          -0.12059897662860537,
          0.2733408461420791,
          0.5452405816804351,
          1.3281217710540842,
          0.3918459939000962,
          1.8649745783768013,
          2.749169918957107,
          0.43224933022966533,
          1.1354115266628,
          1.2044809023544618,
          1.1254507482899794,
          -0.19496651565742765,
          1.989135217655775,
          0.9947949975000929,
          -0.03839100771139173,
          0.3982942189713703,
          -0.4317307482647775,
          -0.13129105494977553,
          0.9265976719243764,
          0.990728075548939,
          1.3033109484721848,
          0.5967488646519399,
          1.3396225187848056,
          0.8191846005378315,
          3.2344963595357377,
          0.04158523251253451,
          -0.07031920724669811,
          0.5451586453576367,
          1.2446684315297523,
          1.528917314624452,
          -0.318952619300503,
          0.7902783062437115,
          -0.2888536633271472,
          1.19348519062286,
          -0.29013862168169086,
          0.7264436911028849,
          0.20864762387672595,
          3.2138963307776485,
          0.5073628060130533,
          -0.27900973839374466,
          -0.16949738945230478,
          1.6967203098943842,
          1.165309422218323,
          0.7499229349204575,
          0.44723113557703564,
          -0.368554579636717,
          1.5146078923556918,
          0.7461198138227229,
          0.49711618752398484,
          1.2076131127112637,
          0.7552123046329785,
          0.1445257388494839,
          0.968178975252298,
          0.6919631473643293,
          0.8424177952086619,
          3.3881995160286227,
          1.653086543448288,
          2.6683169236225344,
          0.732592255074438,
          0.45072207661704883,
          0.4160916180955828,
          2.2961808464924984,
          -0.9914420917751524,
          2.7471265395881876,
          0.49376846696109933,
          1.663953661683698,
          2.2607334375273593,
          -0.5763612282265805,
          -0.4246847613757768,
          1.4717376991863205,
          0.5197692231292396,
          -0.3375852224295469,
          1.0206756183652308,
          0.04360338696565598,
          -0.059774437092326146,
          0.17804746315060693,
          1.048956961836985,
          0.90072509213239,
          1.7122377162234836,
          0.6852128834826915,
          0.17142343830749862,
          -0.04128481064204766,
          1.571734073087884,
          0.08994594717859673,
          3.4443730401581036,
          0.3752391708090943,
          1.1332554898487799,
          1.3366059481829,
          0.36371563413898617,
          0.9239696664599129,
          1.1432920412514662,
          0.5516829359437739,
          1.7632766432822191,
          2.0798965059778265,
          1.5783030190999756,
          1.9499538519082622,
          0.7876247762772028,
          0.12195124246305851,
          1.9589991215048403,
          1.2084783346843757,
          0.9879390896768688,
          1.7298887251211577,
          1.3676959434322251,
          0.8849282323431523,
          1.6017466618874165,
          0.8368089427451345,
          -0.5616791478071463,
          0.45769576032914283,
          0.10525037407897421,
          1.1976457215000356,
          0.8711197416236315,
          -0.10154246820675729,
          0.469074003932119,
          1.2931253496513304,
          -0.02481789403072679,
          2.206584856589641,
          -0.6797645893755904,
          2.828762334103506,
          -0.4425311748571196,
          -0.2920575449554251,
          0.15926018669720163,
          0.050442392330574085,
          2.3487480654214847,
          2.347352540346828,
          1.1048467417700967,
          -0.37151001964000024,
          0.4187625900764416,
          -0.4167363601329692,
          0.9045527200332641,
          -0.24907775477456037,
          1.6100106130980738,
          2.6063556771608214,
          0.834712686745453,
          1.8308108288609488,
          0.6959353161159727,
          3.0777127260380084,
          3.4974080946437427,
          2.852707090218075,
          2.2222486467718645,
          3.8562804051569475,
          0.7769986560796468,
          0.18498510509169383,
          0.005793320971135869,
          -0.9429042333688785,
          2.082990692961761,
          0.8450219289921044,
          -0.2908958251368846,
          -0.23930188306145186,
          2.891583431409654,
          0.890185395680032,
          2.2918764535349734,
          -0.36609743512903464,
          0.25521521281755616,
          -0.5569231784204739,
          0.13563200583445764,
          0.8735135032987433,
          0.14109415600309178,
          2.134206245798311,
          2.180450347079597,
          0.713952733397108,
          0.4396063245452561,
          1.6989800489852698,
          0.9223935526851939,
          0.07000170909910067,
          1.009747850040723,
          -0.26264916940038036,
          1.126685097559394,
          0.097765873547882,
          1.6204062128751102,
          2.6277098342356853,
          2.77034652497565,
          -0.10292670106845667,
          0.5471392074007747,
          0.31106047821652233,
          1.3326222045954272,
          1.4882148888119988,
          0.16105754792747465,
          -0.007586139882383844,
          0.349458695688393,
          2.756662584238259,
          0.36094973681643777,
          0.8282171192749028,
          1.2199396494860895,
          0.8900048376173616,
          0.6406484537694537,
          3.44781025537761,
          0.3725907994478956,
          1.038386396360444,
          0.15795824400027836,
          2.738727771499805,
          0.014946147285957934,
          0.7063385126356371,
          1.3508800140503925,
          0.8162890896366919,
          2.0270512280175166,
          0.9155595241564153,
          0.6172091139099022,
          2.0116210633483096,
          0.5895918717975592,
          1.5711605437259624,
          0.6463566022127858,
          0.37168921018727197,
          2.078805281078378,
          2.3160657171576275,
          0.8867456091801205,
          1.3503703229329458,
          0.9534284903894015,
          -1.0870671047831921,
          0.4974996187712354
         ],
         "yaxis": "y",
         "type": "scatter"
        }
       ],
       "layout": {
        "template": {
         "data": {
          "histogram2dcontour": [
           {
            "type": "histogram2dcontour",
            "colorbar": {
             "outlinewidth": 0,
             "ticks": ""
            },
            "colorscale": [
             [
              0.0,
              "#0d0887"
             ],
             [
              0.1111111111111111,
              "#46039f"
             ],
             [
              0.2222222222222222,
              "#7201a8"
             ],
             [
              0.3333333333333333,
              "#9c179e"
             ],
             [
              0.4444444444444444,
              "#bd3786"
             ],
             [
              0.5555555555555556,
              "#d8576b"
             ],
             [
              0.6666666666666666,
              "#ed7953"
             ],
             [
              0.7777777777777778,
              "#fb9f3a"
             ],
             [
              0.8888888888888888,
              "#fdca26"
             ],
             [
              1.0,
              "#f0f921"
             ]
            ]
           }
          ],
          "choropleth": [
           {
            "type": "choropleth",
            "colorbar": {
             "outlinewidth": 0,
             "ticks": ""
            }
           }
          ],
          "histogram2d": [
           {
            "type": "histogram2d",
            "colorbar": {
             "outlinewidth": 0,
             "ticks": ""
            },
            "colorscale": [
             [
              0.0,
              "#0d0887"
             ],
             [
              0.1111111111111111,
              "#46039f"
             ],
             [
              0.2222222222222222,
              "#7201a8"
             ],
             [
              0.3333333333333333,
              "#9c179e"
             ],
             [
              0.4444444444444444,
              "#bd3786"
             ],
             [
              0.5555555555555556,
              "#d8576b"
             ],
             [
              0.6666666666666666,
              "#ed7953"
             ],
             [
              0.7777777777777778,
              "#fb9f3a"
             ],
             [
              0.8888888888888888,
              "#fdca26"
             ],
             [
              1.0,
              "#f0f921"
             ]
            ]
           }
          ],
          "heatmap": [
           {
            "type": "heatmap",
            "colorbar": {
             "outlinewidth": 0,
             "ticks": ""
            },
            "colorscale": [
             [
              0.0,
              "#0d0887"
             ],
             [
              0.1111111111111111,
              "#46039f"
             ],
             [
              0.2222222222222222,
              "#7201a8"
             ],
             [
              0.3333333333333333,
              "#9c179e"
             ],
             [
              0.4444444444444444,
              "#bd3786"
             ],
             [
              0.5555555555555556,
              "#d8576b"
             ],
             [
              0.6666666666666666,
              "#ed7953"
             ],
             [
              0.7777777777777778,
              "#fb9f3a"
             ],
             [
              0.8888888888888888,
              "#fdca26"
             ],
             [
              1.0,
              "#f0f921"
             ]
            ]
           }
          ],
          "heatmapgl": [
           {
            "type": "heatmapgl",
            "colorbar": {
             "outlinewidth": 0,
             "ticks": ""
            },
            "colorscale": [
             [
              0.0,
              "#0d0887"
             ],
             [
              0.1111111111111111,
              "#46039f"
             ],
             [
              0.2222222222222222,
              "#7201a8"
             ],
             [
              0.3333333333333333,
              "#9c179e"
             ],
             [
              0.4444444444444444,
              "#bd3786"
             ],
             [
              0.5555555555555556,
              "#d8576b"
             ],
             [
              0.6666666666666666,
              "#ed7953"
             ],
             [
              0.7777777777777778,
              "#fb9f3a"
             ],
             [
              0.8888888888888888,
              "#fdca26"
             ],
             [
              1.0,
              "#f0f921"
             ]
            ]
           }
          ],
          "contourcarpet": [
           {
            "type": "contourcarpet",
            "colorbar": {
             "outlinewidth": 0,
             "ticks": ""
            }
           }
          ],
          "contour": [
           {
            "type": "contour",
            "colorbar": {
             "outlinewidth": 0,
             "ticks": ""
            },
            "colorscale": [
             [
              0.0,
              "#0d0887"
             ],
             [
              0.1111111111111111,
              "#46039f"
             ],
             [
              0.2222222222222222,
              "#7201a8"
             ],
             [
              0.3333333333333333,
              "#9c179e"
             ],
             [
              0.4444444444444444,
              "#bd3786"
             ],
             [
              0.5555555555555556,
              "#d8576b"
             ],
             [
              0.6666666666666666,
              "#ed7953"
             ],
             [
              0.7777777777777778,
              "#fb9f3a"
             ],
             [
              0.8888888888888888,
              "#fdca26"
             ],
             [
              1.0,
              "#f0f921"
             ]
            ]
           }
          ],
          "surface": [
           {
            "type": "surface",
            "colorbar": {
             "outlinewidth": 0,
             "ticks": ""
            },
            "colorscale": [
             [
              0.0,
              "#0d0887"
             ],
             [
              0.1111111111111111,
              "#46039f"
             ],
             [
              0.2222222222222222,
              "#7201a8"
             ],
             [
              0.3333333333333333,
              "#9c179e"
             ],
             [
              0.4444444444444444,
              "#bd3786"
             ],
             [
              0.5555555555555556,
              "#d8576b"
             ],
             [
              0.6666666666666666,
              "#ed7953"
             ],
             [
              0.7777777777777778,
              "#fb9f3a"
             ],
             [
              0.8888888888888888,
              "#fdca26"
             ],
             [
              1.0,
              "#f0f921"
             ]
            ]
           }
          ],
          "mesh3d": [
           {
            "type": "mesh3d",
            "colorbar": {
             "outlinewidth": 0,
             "ticks": ""
            }
           }
          ],
          "scatter": [
           {
            "marker": {
             "line": {
              "color": "#283442"
             }
            },
            "type": "scatter"
           }
          ],
          "parcoords": [
           {
            "type": "parcoords",
            "line": {
             "colorbar": {
              "outlinewidth": 0,
              "ticks": ""
             }
            }
           }
          ],
          "scatterpolargl": [
           {
            "type": "scatterpolargl",
            "marker": {
             "colorbar": {
              "outlinewidth": 0,
              "ticks": ""
             }
            }
           }
          ],
          "bar": [
           {
            "error_x": {
             "color": "#f2f5fa"
            },
            "error_y": {
             "color": "#f2f5fa"
            },
            "marker": {
             "line": {
              "color": "rgb(17,17,17)",
              "width": 0.5
             },
             "pattern": {
              "fillmode": "overlay",
              "size": 10,
              "solidity": 0.2
             }
            },
            "type": "bar"
           }
          ],
          "scattergeo": [
           {
            "type": "scattergeo",
            "marker": {
             "colorbar": {
              "outlinewidth": 0,
              "ticks": ""
             }
            }
           }
          ],
          "scatterpolar": [
           {
            "type": "scatterpolar",
            "marker": {
             "colorbar": {
              "outlinewidth": 0,
              "ticks": ""
             }
            }
           }
          ],
          "histogram": [
           {
            "marker": {
             "pattern": {
              "fillmode": "overlay",
              "size": 10,
              "solidity": 0.2
             }
            },
            "type": "histogram"
           }
          ],
          "scattergl": [
           {
            "marker": {
             "line": {
              "color": "#283442"
             }
            },
            "type": "scattergl"
           }
          ],
          "scatter3d": [
           {
            "type": "scatter3d",
            "line": {
             "colorbar": {
              "outlinewidth": 0,
              "ticks": ""
             }
            },
            "marker": {
             "colorbar": {
              "outlinewidth": 0,
              "ticks": ""
             }
            }
           }
          ],
          "scattermapbox": [
           {
            "type": "scattermapbox",
            "marker": {
             "colorbar": {
              "outlinewidth": 0,
              "ticks": ""
             }
            }
           }
          ],
          "scatterternary": [
           {
            "type": "scatterternary",
            "marker": {
             "colorbar": {
              "outlinewidth": 0,
              "ticks": ""
             }
            }
           }
          ],
          "scattercarpet": [
           {
            "type": "scattercarpet",
            "marker": {
             "colorbar": {
              "outlinewidth": 0,
              "ticks": ""
             }
            }
           }
          ],
          "carpet": [
           {
            "aaxis": {
             "endlinecolor": "#A2B1C6",
             "gridcolor": "#506784",
             "linecolor": "#506784",
             "minorgridcolor": "#506784",
             "startlinecolor": "#A2B1C6"
            },
            "baxis": {
             "endlinecolor": "#A2B1C6",
             "gridcolor": "#506784",
             "linecolor": "#506784",
             "minorgridcolor": "#506784",
             "startlinecolor": "#A2B1C6"
            },
            "type": "carpet"
           }
          ],
          "table": [
           {
            "cells": {
             "fill": {
              "color": "#506784"
             },
             "line": {
              "color": "rgb(17,17,17)"
             }
            },
            "header": {
             "fill": {
              "color": "#2a3f5f"
             },
             "line": {
              "color": "rgb(17,17,17)"
             }
            },
            "type": "table"
           }
          ],
          "barpolar": [
           {
            "marker": {
             "line": {
              "color": "rgb(17,17,17)",
              "width": 0.5
             },
             "pattern": {
              "fillmode": "overlay",
              "size": 10,
              "solidity": 0.2
             }
            },
            "type": "barpolar"
           }
          ],
          "pie": [
           {
            "automargin": true,
            "type": "pie"
           }
          ]
         },
         "layout": {
          "autotypenumbers": "strict",
          "colorway": [
           "#636efa",
           "#EF553B",
           "#00cc96",
           "#ab63fa",
           "#FFA15A",
           "#19d3f3",
           "#FF6692",
           "#B6E880",
           "#FF97FF",
           "#FECB52"
          ],
          "font": {
           "color": "#f2f5fa"
          },
          "hovermode": "closest",
          "hoverlabel": {
           "align": "left"
          },
          "paper_bgcolor": "rgb(17,17,17)",
          "plot_bgcolor": "rgb(17,17,17)",
          "polar": {
           "bgcolor": "rgb(17,17,17)",
           "angularaxis": {
            "gridcolor": "#506784",
            "linecolor": "#506784",
            "ticks": ""
           },
           "radialaxis": {
            "gridcolor": "#506784",
            "linecolor": "#506784",
            "ticks": ""
           }
          },
          "ternary": {
           "bgcolor": "rgb(17,17,17)",
           "aaxis": {
            "gridcolor": "#506784",
            "linecolor": "#506784",
            "ticks": ""
           },
           "baxis": {
            "gridcolor": "#506784",
            "linecolor": "#506784",
            "ticks": ""
           },
           "caxis": {
            "gridcolor": "#506784",
            "linecolor": "#506784",
            "ticks": ""
           }
          },
          "coloraxis": {
           "colorbar": {
            "outlinewidth": 0,
            "ticks": ""
           }
          },
          "colorscale": {
           "sequential": [
            [
             0.0,
             "#0d0887"
            ],
            [
             0.1111111111111111,
             "#46039f"
            ],
            [
             0.2222222222222222,
             "#7201a8"
            ],
            [
             0.3333333333333333,
             "#9c179e"
            ],
            [
             0.4444444444444444,
             "#bd3786"
            ],
            [
             0.5555555555555556,
             "#d8576b"
            ],
            [
             0.6666666666666666,
             "#ed7953"
            ],
            [
             0.7777777777777778,
             "#fb9f3a"
            ],
            [
             0.8888888888888888,
             "#fdca26"
            ],
            [
             1.0,
             "#f0f921"
            ]
           ],
           "sequentialminus": [
            [
             0.0,
             "#0d0887"
            ],
            [
             0.1111111111111111,
             "#46039f"
            ],
            [
             0.2222222222222222,
             "#7201a8"
            ],
            [
             0.3333333333333333,
             "#9c179e"
            ],
            [
             0.4444444444444444,
             "#bd3786"
            ],
            [
             0.5555555555555556,
             "#d8576b"
            ],
            [
             0.6666666666666666,
             "#ed7953"
            ],
            [
             0.7777777777777778,
             "#fb9f3a"
            ],
            [
             0.8888888888888888,
             "#fdca26"
            ],
            [
             1.0,
             "#f0f921"
            ]
           ],
           "diverging": [
            [
             0,
             "#8e0152"
            ],
            [
             0.1,
             "#c51b7d"
            ],
            [
             0.2,
             "#de77ae"
            ],
            [
             0.3,
             "#f1b6da"
            ],
            [
             0.4,
             "#fde0ef"
            ],
            [
             0.5,
             "#f7f7f7"
            ],
            [
             0.6,
             "#e6f5d0"
            ],
            [
             0.7,
             "#b8e186"
            ],
            [
             0.8,
             "#7fbc41"
            ],
            [
             0.9,
             "#4d9221"
            ],
            [
             1,
             "#276419"
            ]
           ]
          },
          "xaxis": {
           "gridcolor": "#283442",
           "linecolor": "#506784",
           "ticks": "",
           "title": {
            "standoff": 15
           },
           "zerolinecolor": "#283442",
           "automargin": true,
           "zerolinewidth": 2
          },
          "yaxis": {
           "gridcolor": "#283442",
           "linecolor": "#506784",
           "ticks": "",
           "title": {
            "standoff": 15
           },
           "zerolinecolor": "#283442",
           "automargin": true,
           "zerolinewidth": 2
          },
          "scene": {
           "xaxis": {
            "backgroundcolor": "rgb(17,17,17)",
            "gridcolor": "#506784",
            "linecolor": "#506784",
            "showbackground": true,
            "ticks": "",
            "zerolinecolor": "#C8D4E3",
            "gridwidth": 2
           },
           "yaxis": {
            "backgroundcolor": "rgb(17,17,17)",
            "gridcolor": "#506784",
            "linecolor": "#506784",
            "showbackground": true,
            "ticks": "",
            "zerolinecolor": "#C8D4E3",
            "gridwidth": 2
           },
           "zaxis": {
            "backgroundcolor": "rgb(17,17,17)",
            "gridcolor": "#506784",
            "linecolor": "#506784",
            "showbackground": true,
            "ticks": "",
            "zerolinecolor": "#C8D4E3",
            "gridwidth": 2
           }
          },
          "shapedefaults": {
           "line": {
            "color": "#f2f5fa"
           }
          },
          "annotationdefaults": {
           "arrowcolor": "#f2f5fa",
           "arrowhead": 0,
           "arrowwidth": 1
          },
          "geo": {
           "bgcolor": "rgb(17,17,17)",
           "landcolor": "rgb(17,17,17)",
           "subunitcolor": "#506784",
           "showland": true,
           "showlakes": true,
           "lakecolor": "rgb(17,17,17)"
          },
          "title": {
           "x": 0.05
          },
          "updatemenudefaults": {
           "bgcolor": "#506784",
           "borderwidth": 0
          },
          "sliderdefaults": {
           "bgcolor": "#C8D4E3",
           "borderwidth": 1,
           "bordercolor": "rgb(17,17,17)",
           "tickwidth": 0
          },
          "mapbox": {
           "style": "dark"
          }
         }
        },
        "xaxis": {
         "anchor": "y",
         "domain": [
          0.0,
          1.0
         ],
         "title": {
          "text": "0"
         }
        },
        "yaxis": {
         "anchor": "x",
         "domain": [
          0.0,
          1.0
         ],
         "title": {
          "text": "1"
         }
        },
        "coloraxis": {
         "colorbar": {
          "title": {
           "text": "score"
          }
         },
         "colorscale": [
          [
           0.0,
           "#440154"
          ],
          [
           0.1111111111111111,
           "#482878"
          ],
          [
           0.2222222222222222,
           "#3e4989"
          ],
          [
           0.3333333333333333,
           "#31688e"
          ],
          [
           0.4444444444444444,
           "#26828e"
          ],
          [
           0.5555555555555556,
           "#1f9e89"
          ],
          [
           0.6666666666666666,
           "#35b779"
          ],
          [
           0.7777777777777778,
           "#6ece58"
          ],
          [
           0.8888888888888888,
           "#b5de2b"
          ],
          [
           1.0,
           "#fde725"
          ]
         ]
        },
        "legend": {
         "title": {
          "text": "label"
         },
         "tracegroupgap": 0,
         "orientation": "h"
        },
        "margin": {
         "t": 60
        }
       },
       "config": {
        "plotlyServerURL": "https://plot.ly"
       }
      },
      "text/html": "<div>                            <div id=\"3b71b1b9-0fc9-43d9-890c-68dcc89b8ea8\" class=\"plotly-graph-div\" style=\"height:525px; width:100%;\"></div>            <script type=\"text/javascript\">                require([\"plotly\"], function(Plotly) {                    window.PLOTLYENV=window.PLOTLYENV || {};                                    if (document.getElementById(\"3b71b1b9-0fc9-43d9-890c-68dcc89b8ea8\")) {                    Plotly.newPlot(                        \"3b71b1b9-0fc9-43d9-890c-68dcc89b8ea8\",                        [{\"hovertemplate\":\"label=0<br>0=%{x}<br>1=%{y}<br>score=%{marker.color}<extra></extra>\",\"legendgroup\":\"0\",\"marker\":{\"color\":[0,0,0,0,0,0,0,0,0,0,0,0,0,0,0,0,0,0,0,0,0,0,0,0,0,0,0,0,1,1,0,0,0,0,0,0,0,0,0,0,0,0,0,0,0,0,0,0,0,0,0,0,0,0,0,0,0,0,0,0,0,0,0,0,0,0,0,0,0,0,0,0,0,0,0,0,0,0,0,0,0,0,0,0,0,0,1,0,0,0,0,0,0,0,1,0,1,0,0,0,0,0,0,0,0,0,0,0,0,0,0,0,0,0,0,0,0,0,0,0,0,0,1,0,0,0,0,0,0,0,0,0,0,0,0,0,0,0,0,1,0,0,0,0,1,0,0,0,0,0,0,0,0,0,0,0,0,0,0,0,0,0,0,0,0,0,0,0,0,0,0,0,0,0,0,0,0,0,0,0,0,0,0,0,0,0,0,0,0,0,0,0,0,0,0,0,0,0,0,1,0,0,0,0,0,0,0,0,0,0,0,0,0,0,0,0,0,0,0,0,1,0,0,0,0,0,0,1,0,0,0,0,0,0,0,0,0,0,0,0,1,0,0,0,0,1,0,0,0,0,1,0,0,0,0,0,0,0,0,0,0,0,0,0,0,0,0,0,1,0,0,0,0,0,0,0,0,0,0,0,0,0,0,0,0,0,0,0,0,0,0,0,0,0,0,0,0,0,0,0,0,0,0,0,0,0,0,0,0,0,0,0,0,0,0,0,0,0,1,0,0,1,0,1,0,0,0,0,0,0,0,0,0,0,0,0,0,0,0,0,0,0,0,0,0,0,0,0,0,0,0,0,0,0,0,0,0,0,0,0,0,0,0,0,0,1,0,0,0,0,0,0,0,0,0,0,0,0,0,0,0,0,0,0,0,0,0,0,0,0,0,0,0,0,0,0,0,0,0,0,0,0,0,0,0,0,0,1,0,0,0,0,0,0,0,0,0,0,0,1,0,0,0,0,0,0,0,0,0,0,0,0,0,0,0,0,0,0,1,0,1,0,0,0,0,0,0,0,0,0],\"coloraxis\":\"coloraxis\",\"symbol\":\"square\",\"line\":{\"width\":1.5},\"size\":12},\"mode\":\"markers\",\"name\":\"0\",\"orientation\":\"v\",\"showlegend\":true,\"x\":[-0.4316586190942073,0.16557689481910942,-0.3134471103704193,-0.2582865438198942,0.05073718193824706,-0.14197829105528145,-0.22528292035974637,0.034577293187257795,2.13731277598573,1.2753643949252145,0.41641644104849707,-0.3876924235854443,-0.3123835245230727,-0.01897337651191671,-0.25665655492724443,-0.46551384988908373,-0.2524813135675695,-0.3348839285797073,-0.24269474464141214,-0.2974292208937987,-0.2104771316754228,0.40007228594002153,-0.18824633928743395,2.1319122644806394,0.10214175527569669,0.16044056648246274,-0.2019698731684991,-0.14352093241542496,-0.27406512912476827,-0.19209844137224674,-0.2568445745576615,-0.48120736556454763,-0.2373481354992303,0.38481683992105636,-0.11598275298635059,-0.22138937078241247,-0.32265922883886994,-0.29582941857962103,-0.06824803527783617,-0.05483223395570454,0.11993138856405432,-0.4983779505642009,2.2232466286332975,0.3921104952025836,-0.26751888117557404,-0.31798145136946526,0.24006983034774118,2.8113395658731983,-0.3689398815557083,-0.19572438709895829,2.3008913800880624,0.0340247272950586,0.4768661179365272,-0.2568853284476123,-0.12481335034212653,-0.19967603608064108,0.04822755858848871,-0.2925746608955114,0.18865663703977661,-0.016751952214595762,-0.21497813826289672,-0.06208002998950405,-0.1918376236948189,-0.31459575103572274,1.1024658827069413,0.1288507567098609,-0.1221923287394998,-0.11364759418511523,-0.15655386367511384,-0.24693714605869127,-0.4039430887113649,3.6923220035373934,-0.3009290283011794,0.23470074620804127,-0.04052001351350434,1.0716343587759365,0.08903941135609289,0.13535672346698188,0.15565547951451922,0.08879599781716216,0.32230984653418776,-0.1575723019136128,0.3071150433536969,-0.13424210404897374,-0.1914707276115711,-0.24515552689239484,-0.27059985779848156,0.01791713935056487,-0.20265671202116103,-0.09910669780767932,-0.09411449983573791,-0.27920656038333014,-0.2441305000923668,-0.19205818811403982,-0.33501785023989233,-0.279483127857429,-0.33846044515171836,0.25660622693613466,-0.2078576190073186,0.3994737030216559,12.591231977818566,-0.006104913725245436,-0.3913764947728538,-0.1469304552729738,0.04929241113741002,0.060571532918169434,-0.24281255162132165,-0.18242112247828074,-0.20671794942206548,-0.15525003122305508,0.33280660619811364,-0.13439957956651957,-0.25187987728993166,-0.2496612238144119,0.6998759921797636,-0.3069680424081592,-0.1717533721895789,0.03621798183962595,-0.25583871534867425,-0.20593587469532115,0.9418912090704463,-0.21628968354343486,-0.3313264361301164,-0.19944222629283512,2.133256279458268,0.5772113413144423,-0.4246145738853337,0.014580170758199888,-0.3049465218203098,0.680597712483713,-0.20614339654370362,1.8130015271886304,-0.2946051634879335,-0.20068385810192804,-0.2948235865538102,0.38421490156566,-0.22031628640181775,-0.10313467828589888,0.30050517664539345,-0.37064828323241655,0.42548588460240083,-0.27114136216117846,-0.10481572771993511,-0.32859810904849823,-0.5513915784704656,0.04371186463699858,-0.009090772542940216,-0.27049844003419227,-0.1407783329787768,0.4733521072145599,-0.3374680090232598,0.0104755582792496,-0.27268925681337153,-0.030825615858942244,0.2179278931863165,-0.32160952596809733,-0.25291547126137887,-0.21649035775956305,-0.07011460199644336,-0.17571242483392358,0.6588651074324404,-0.2532914478365341,0.030587822376950274,-0.27314599674305096,1.1810820112307352,-0.2748203921095759,-0.1591617401024964,-0.24418018674099506,0.7246628282633136,0.24814361333232396,-0.03663655808273562,-0.11538849804364962,-0.10630981863119993,-0.246174039604686,0.33890306481427507,-0.1424638678352829,0.6653809180253947,-0.2031388092038259,-0.378214084290775,2.1469135378660322,-0.17092853196712982,-0.11255596779603995,-0.052507502703599065,-0.17701731906872603,-0.34024292782293636,1.5405548722527247,0.5919788301882095,-0.1654983789856273,-0.11067364786439803,0.16926473215830912,1.674828438642111,-0.20159249789824565,-0.43053095924882323,-0.289005818933888,-0.36178122541956065,-0.01478359240597854,0.24576754963344352,-0.47334119595047847,-0.31934601630072257,-0.29121253825896337,-0.0898616158554261,-0.2751008322210766,0.9353810341285559,8.758656666758974,-0.20688468523781958,0.08955532065495712,0.11758751562170393,9.335379628822384,-0.041604005704222596,0.5519081361539133,0.6564901917405979,-0.04631701456661608,0.20140389765138558,-0.6795124136543806,-0.3041305480914592,-0.1730394914975413,0.1489216974889555,-0.43162656668607075,-0.3810467541801984,0.42418675114502424,0.4813211453785631,0.1727495186603859,-0.37362351898067925,-0.24683595648940573,0.503763828995201,1.450279379088694,-0.12747346631995615,-0.24105130024343446,-0.1965182890363879,-0.33038910332555954,0.32276924760129305,-0.003170664561446288,-0.2110925557234863,-0.32047516147027666,4.49753877379675,0.45062573855965027,0.37393994046505885,-0.21390079834803782,-0.4595717672856662,-0.34418071391599503,-0.6772092539524337,1.5185349797636365,-0.11556473029790462,0.4222387095478914,1.4667297413015106,-0.4627953269457174,-0.24887450468649008,-0.2756621885154364,-0.0021755807707185093,-0.2863636861504627,-0.25447711121866523,-0.2304557032102793,13.110262104217743,-0.23986882440612833,-0.32949718281380164,0.12384585252486224,0.29565490874992567,-0.33248898439719154,-0.047937720579046494,0.27331902471529174,-0.2734500919087523,0.48567001174265984,-0.3776066058799412,0.10956075324644649,0.4372966669625045,-0.10093269037711422,0.1409144237419452,-0.39778673242333784,-0.4900690349597668,0.3703231791059436,-0.33080795072036867,-0.21491075328985756,0.041710379617410365,-0.3478781353917889,0.8057413070258913,-0.47265199383648676,-0.20275949764268006,-0.18971668928847596,-0.02889584945068943,-0.12384064061229666,1.0496752860691108,-0.2450268817095326,-0.1418472079647697,-0.39475207364517245,0.0913989356788093,-0.3119596503230131,0.6213491304927291,0.034474292617495364,-0.032006158406590414,-0.3650960405614896,-0.022900811392673637,-0.1399597922710774,-0.13287303396409397,-0.32745541309865334,-0.2915181434143413,0.06394673498459183,-0.10944050316659452,-0.28730789282998836,1.1374557296110561,-0.3518044471441805,3.6833139725027095,-0.24245547093044856,-0.18004420967108267,-0.3010584413954144,-0.2890047773756884,-0.5031088874883705,-0.25853406824728825,-0.1650792300856712,-0.1461300526169156,-0.24123412938853714,2.109157074314787,-0.30765871608844847,-0.036114391131019996,-0.2660712855919289,-0.24886683172995844,-0.2512221618232937,-0.08792850345340379,-0.27977589092665966,-0.44857171427466475,-0.31041285565088905,0.26367223671866313,-0.5039094909676862,-0.10242958648784636,-0.25532898841259627,-0.3904028863194475,-0.11520249756743818,-0.05566082539173276,-0.35095977920190785,-0.24512705310642355,-0.19716924071735492,0.2186468565775272,-0.2030154763244295,-0.1834889370574356,-0.14149121562722694,2.2310885995410343,-0.484848650225487,-0.12121744565643719,-0.20370306150164666,0.16722180913287077,0.23079178340603224,-0.18912981943883564,0.3094202351604264,0.015154705852143766,3.4198267571033294,-0.31488888601654014,-0.07649071943330409,11.606929392488718,-0.23797213457908237,-0.46118159668597797,-0.10964998948760496,-0.2685958360273403,1.604413198109632,-0.055317407034443065,-0.34820877514502313,-0.3868749167015456,-0.17745571296885537,0.8204154224870559,-0.2361338737946604,-0.23176525316614463,-0.11290087756047122,-0.19235218717697264,0.8800730150707674,-0.17058285337570084,0.9686908021252905,0.15026321728868494,0.5641427260911009,-0.2269704698471098,-0.09931748612240261,-0.19617309163032082,-0.3253009914995787,0.13198003134277586,0.08161907313327747,-0.33745605028026604,-0.364522939773376,-0.14302938422408049,0.7403499434894859,-0.06732885999395301,1.720283761722194,-0.36176224941064317,-0.22937797042748215,-0.1817962087201377,0.13321747648160426,-0.25563948683360466,0.1530149251071752,1.6702884915257805,-0.2214153820565601,-0.042528458908126454,0.03364638290385962,-0.2954533072551427,-0.12548346435622384,-0.2546529989990656,-0.34050517296629107,-0.2556534046146076,-0.2530683702088275,-0.14648623637022382,0.30073954602711256,-0.24631451078975342,0.8601307998751788,-0.23806806263515565,1.563388811703366,-0.20090007868455534,-0.017217394702038973,0.7707045763866333,-0.37349259507389587,0.06865983638983046,6.50638320510321,-0.2724202386139251,-0.2558668771499018,12.094243702507429,-0.11239443342120933,-0.35733223135063535,1.8570159627155327,-0.13881047743848487,-0.022220248522217947,-0.017852207226297757,0.1950390532356592,6.648206813048678,3.7993357968261625,-0.3430565916258274,-0.1639949732895521,-0.2454048793905365,12.581127055837909,-0.4523247900686513,-0.26187270861902995,0.2151001273893995,0.3050404500510414,0.21574221454708423,-0.15377580208645938,0.02612140134087562,0.16301073776971056,-0.23790820313885547,-0.20787245302951687,-0.3585369659558152,-0.20486502769080162,-0.3492395565464308,-0.22496767727050898,-0.41785242414484997,-0.3583853604581581,-0.42207174054721786,0.13319949934310457,-0.11904448853873482,-0.2943143610846294,-0.24259582208874206,-0.25076497906248046,-0.3514094832206923,-0.3145493377183609,0.045080406895768095,-0.08728795599184179,-0.30813524693418376,-0.3327996367456995],\"xaxis\":\"x\",\"y\":[-1.0072142707446028,-1.8362733337706045,1.5666424699246468,-1.042016006454713,-0.7165898169859692,-1.011595622548269,0.23119588856240406,-0.7946463374360002,0.17294100819718017,-1.391688020934847,-0.9598321555429311,-0.25910670332138264,-0.47978823995499037,-1.0374772623173798,-0.20128485345254435,-0.15227234396993208,-1.3172319312049454,-0.5696558033184469,-0.6706567006921029,-0.04677664787884915,0.11074888648004595,-0.6790021206495755,-1.0390861705782044,-0.07334560591563852,-0.673449597115964,-0.7838330994234646,-0.883187233313156,-1.0956410828979093,-0.9006716990652762,0.0006762542847101085,-0.5385152025754057,0.9069310235265676,-0.6925176275058297,-2.111106193483864,-0.8785147392075349,0.7546270936953787,-0.8672069442580157,-0.38311178291946674,-0.9665613763601333,-0.23241775212673588,-0.3735983930839492,1.5327252589651883,0.5825454365796144,-0.2155343388914167,-0.9605006992380956,-0.5631352599603074,-0.38080505746189786,0.2611064955425481,0.10199026801467705,-1.0082028054045102,1.1287337750260729,-0.5522165002939784,-0.9742608536333055,-0.36360243623030686,-0.719906377360877,-1.1543176908234023,-0.8397718911957334,-0.40441701846945893,-0.9369840599054682,0.057600824994793895,-1.578897102275793,0.8303609257871241,-1.1248823418597793,0.04797505039824917,-0.09786753696799463,-0.4879835807407265,-0.9581229791908037,-0.17640430492529005,-0.8256965893354097,-0.32394001152205687,-0.3787487209849147,-0.14421762732460594,-0.5871371159763153,0.07037642179711513,-1.0737470006523775,-0.005859498911484965,-1.4111493602285192,-0.4768228023644485,-0.3868559655124943,0.11615675262713836,-0.26031235831760985,-0.7651862911143246,-0.14634343811280168,0.09282220417379118,-1.4573077924539022,-0.8821645758975568,-0.4876648346665422,-1.4176057423741355,0.24973010156835623,-1.0724521062777452,-0.6353610192068465,-0.9506898472873387,-0.5162623039557837,-1.4711683398669346,-0.18869321373922063,0.38026947049666293,0.16668093545717266,0.05900368767774964,-1.109355881755036,-0.49092410949716253,2.8314178686267315,-1.0027785056070075,-0.25782483112251897,-0.7872453400001524,-1.5235607265150448,-1.1543176843061298,0.06317838265669598,-0.5814955902684064,-1.2151871263943375,-0.3281160060270759,-0.4374566315793964,-1.1472010450543926,-0.7599513048185885,-0.8570397794889145,-0.46869057235324757,-0.514839815629471,-0.7699463732172367,0.024517316577321906,-0.7889098436870828,-1.6027928291778162,-0.23602990368009213,0.7332517338187388,0.21342602227338486,-0.28816148597928143,0.1501817469797381,-0.3570472550401432,-0.7734915475017666,-0.9505163451503933,-0.43837913567062087,-0.22850376016032398,-0.2602656223228579,-0.49481379827130434,-0.7348622385977222,-0.8973005060745354,0.015220411128466642,0.5378492541445854,-0.6706865398372319,-1.0954615253936806,-0.7982041347095601,-0.5815612879636309,-0.4398577553010526,0.3133695190562519,-0.6710163938980416,-0.5999149421421422,-0.12052738878652745,-0.638260509934402,-0.0039023930542925068,-0.891487287223379,-0.3328058543668968,-0.42541631313768263,-0.606600626173566,-0.26118148154505477,-0.8105471155878113,0.2698884372728096,-1.0297324714606084,-0.5753406288495116,0.1975705560618236,-1.0075685738339482,-0.7433799172868474,-0.6629550222574306,-1.0721315741172828,-0.8676649044361247,-1.0144948832948606,-0.6143406784299281,-0.22057915586249968,-0.6476713127305708,-0.9283474189236023,0.8780865670947182,-0.21556267653144318,-1.378067576304578,-0.4269965790901935,0.018289074098038788,0.30755124680629503,-1.4294044045008787,0.8048877948023665,-0.8618318562085895,-0.19199304991863614,-0.4156893578318052,0.1356479810205513,0.1574834198140445,-0.786487499424654,-0.6537960183917019,-2.1428903538725623,-1.2653510970650361,0.4440423211371739,-1.261640741238918,-0.7470899831891412,-0.15123079325329286,-0.21733099279235024,-0.8452126322858248,0.561896020715533,-1.089691256545199,1.7182132436605373,-0.06551200617057107,-0.581612636921293,0.1410435643784169,-0.4831482187102026,-0.1337463724207442,-1.1838054919369598,-0.7708508157405178,-0.28475875674689827,-0.005705590879081947,-0.499682341563549,1.8154691040676734,0.09385433651761504,-0.9045209585423175,-0.8932116080668489,2.1232945205272964,-0.9318975150726038,-0.8604369848206914,-0.9204965724053358,-0.6187141657283789,-2.0103588525342313,-0.07471756500150342,-0.12353180840693,-1.7638502678060295,-1.5358919081868452,2.2102649793606273,0.7787536377301538,-0.38470450503230313,0.5110911039256507,-0.9148511864335465,-0.6467816254507078,-0.8720225995880301,-0.7491332599516464,0.09925916622953371,-0.39912516214380384,-0.6072039910109016,-0.2032896135427664,-1.1405115304584013,-0.5061518819363635,-0.863227035401886,-0.902663461215931,-0.7909072751637787,1.3174900494954174,-0.7751384198864264,-0.3409848910798615,-0.8671218156311841,0.6940382452289473,-0.48777707203310117,0.8423780871841358,-0.7014737411184655,0.5729946502026907,-0.6709273401035267,-0.5987343593438896,1.617282115081767,-1.5381431107021288,-0.8898175350328325,-0.8181623955890819,0.081755677472618,-0.2250080076280553,-0.7380566830641215,2.91423127295083,-0.8423100878778754,0.11938822573729904,-0.33930557202714284,-0.7395333538680577,-0.3648988894346014,-2.0038314966854225,-0.17873139902204255,-0.4391512519713654,-1.1752791021856483,-0.47198725605440134,-2.2463559975906615,0.25078259387458,0.3680048825201595,-0.6985572253792603,-0.6062092201875451,1.4376624170300014,-1.0964796580897198,-0.5837568305622481,-1.2563199936141884,-0.6848967708205901,-0.3063337786340689,-0.5527867360178347,1.0019261189289022,-0.8902703997153195,-0.9007143399520497,-0.5331017901590719,0.006991149982858508,-0.26659291686982267,-1.0143503839043784,-1.0954929416785402,1.1549692521925323,-1.5989338152323607,-0.7751367911267287,-2.6615335444391954,0.0779184496583033,-0.8924052638124917,-0.012915417798539023,-0.6155202259939921,-0.8982607498437795,-0.7291073152267931,-0.08274588001215828,-0.048740494900308046,-1.0665228832894897,0.6960332984138875,-0.6322884371762403,0.21762085247568055,-0.6735274300080151,0.3954485661004592,-0.8687485141383317,-0.7948040117472953,-0.2416938376298402,-0.4509980037405081,0.016590503205920083,-0.7327067389336064,-1.0649528122054677,-0.008255390019471771,-1.277306937402304,-0.13964503807641884,1.0881291809689706,-0.598233634493958,-1.0047681993305053,-0.6982038220166671,0.41199645555390235,0.0036865465503481843,-0.07077272199733829,1.2619759056803916,0.11997741666173635,-1.018163680489949,0.4798849267147391,-1.1094295261731966,-0.7036974387998296,-0.49474600336762325,-0.6770106382818332,-1.4819353613787758,-0.45258597197525063,-0.675736903528061,-0.6311306528871687,-0.4263266816773154,-0.939889682557371,-0.9190880666160894,0.2730581748747755,-0.19841174550056265,-0.4955792864090191,0.8818747050106345,-0.8135916175831701,-0.29423464488731543,-0.6280779954450346,-0.7861375285621579,-1.039361628318149,-0.5838088117767384,-0.21345879210109536,-0.0824752127690877,-1.803567319515466,2.4835224938044576,-0.807538111775421,0.6517196993617159,-0.8803997722719134,-0.27348872599626517,0.03617398756713009,-0.8246694830167867,-0.16350615105850907,-0.4047436421773559,-0.5944518747324503,-0.5556920424812055,-0.9393286655165248,0.6359513965426338,0.6220765411882134,-1.928624990794626,-0.13012653533097443,-0.357436963140257,0.6025264001322174,-1.702338937092665,-0.26367117668705226,-0.9212537610770817,-1.1325740254879946,0.7896129960920356,-0.24677810405692124,-0.7148904118098702,-1.1582434857424586,-0.48737149587944645,-1.067568458694508,-1.1914786347221653,-0.41871543092783625,-0.9078719516849615,0.18968311569282179,-0.5659379082896119,-0.7425170730466502,-1.0088453027984197,-0.7756206654773551,-0.6196599858519495,-0.4547142600222725,-0.3026823895437834,-0.5372493479677029,-0.6708307851261429,0.514192686534088,-0.7134632617268706,-0.5873074942502783,-0.7763239967308349,-0.28933935690966456,-0.4947120216767423,-0.6458914623207641,-1.3921513556152199,-0.9429895799639865,-0.7021389029340129,-1.3132962215824109,-0.9263335257044812,0.9079175036291732,-0.6749672634522698,-0.7321487008008347,-0.7136706271379473,-0.03473400580304043,-0.16125241021855977,1.3175013206740924,-1.1295486786549953,1.0694108818144532,2.681769300230317,0.5213111756395836,0.04015402653341579,-0.36011226508046124,-1.7462403741147083,-1.0983833197792703,-0.5158367937632756,-0.058461592955921925,1.1242132225656016,0.322975154015762,-0.45218842090960637,-0.9218135686781266,0.6621212567945977,2.8100924738819892,0.39949280882452654,-0.4598286467544001,-0.8365571564014401,-0.2790036793742112,-0.7629969996419381,-1.0231035243380477,-0.1539287564068237,-1.300445340192391,-0.8437279379938052,-1.0427447651207238,-0.7373642653268442,-0.8790426854650898,0.09618179016527034,-0.7431524556102422,1.5576156514093757,-1.0101295838793178,-0.06524886200315952,0.2804848794752398,-0.07128096875563077,-0.7566713006046147,-0.7849519608490184,-1.0504929406300434,-0.5625478313709537,0.2863895773651471,0.06473302609153553,-0.6775825641919986,1.094648736700491,-0.905202635231899],\"yaxis\":\"y\",\"type\":\"scatter\"},{\"hovertemplate\":\"label=1<br>0=%{x}<br>1=%{y}<br>score=%{marker.color}<extra></extra>\",\"legendgroup\":\"1\",\"marker\":{\"color\":[1,1,1,1,1,0,1,1,0,0,1,1,1,0,1,0,1,1,1,0,1,0,1,1,1,1,1,1,1,1,1,0,0,1,0,1,1,1,1,1,1,1,1,1,1,0,1,1,0,1,1,1,1,0,1,1,1,1,1,1,1,1,1,1,0,0,1,1,1,1,1,1,1,1,1,0,1,1,0,0,1,1,0,1,1,1,1,1,1,1,0,1,1,0,1,1,0,1,0,0,0,1,0,1,0,1,0,1,1,1,1,0,1,1,1,1,1,1,0,1,1,1,1,1,1,1,1,1,1,1,1,1,1,1,1,1,1,0,1,1,1,1,1,1,1,0,1,0,1,0,0,0,1,1,1,1,1,0,0,1,1,0,0,1,1,1,1,1,1,1,1,0,1,0,0,0,1,0,0,1,0,1,0,0,0,0,1,0,1,0,1,1,1,1,1,1,1,1,0,1,1,1,1,1,1,1,1,0,1,1,1,1,0,1,0,1,1,1,1,0,1,1,1,0,1,1,1,1,1,1,1,0,1,1,1,1,1,0,0,1],\"coloraxis\":\"coloraxis\",\"symbol\":\"x\",\"line\":{\"width\":1.5},\"size\":12},\"mode\":\"markers\",\"name\":\"1\",\"orientation\":\"v\",\"showlegend\":true,\"x\":[-0.5445885891416462,-0.5946010058416815,-0.4338878385072657,-0.555955968085188,-0.11149721082141775,-0.21492380587374388,0.23626612027664484,-0.63836697064043,-0.32331315048188103,-0.34505825108614196,-0.7078607847455538,-0.45609133663717827,-0.34105916706481126,-0.3608069699105908,-0.5460115601579729,-0.4584430648879844,-0.2546002818634601,-0.5357022240940201,-0.49249144859311783,-0.6216809878890249,-0.23503604596330546,-0.0055751334076114285,-0.5973754444834621,-0.30430340338992296,-0.5749169655253473,-0.4320152959517473,-0.8143905644210017,-0.44785299843259846,-0.43752977362665,-0.899525584953145,-0.4187921894037272,-0.2118806498314703,-0.5266871745598057,-0.526236050375095,-0.4876448373004033,-0.4358962633919147,-0.4068568022352414,-0.7808540868452355,-0.37384669198938986,-0.5744327395557014,-0.38002589534576525,-0.599539984730809,-0.32720578690521807,-0.43720666091881644,-0.5540256783782675,0.3930502962686534,-0.41559683066592723,-0.2608508963723155,-0.1441472899358896,-0.24013786061401768,-0.4845861283898883,-0.5369594705956279,-0.42224387145487513,-0.4155366449689646,-0.4923055040474327,-0.7847907506021997,-0.3593409489146598,-0.37185094418446346,-0.3373511342567977,-0.4963082531873826,-0.7048608874638869,-0.4596106281608542,-0.47756589841091723,-0.4710912316701755,-0.4980387397769339,-0.3046507020340441,-0.5044694274060473,-0.30136857149591834,-0.8592425741550246,-0.5032811761319455,-0.18459217118775953,-0.36264323854838265,-0.5277605757229938,-0.6272916433759772,-0.4942970687273322,-0.4907393694555803,-0.3164249956733518,-0.4756529643431113,-0.41404616206296163,-0.30271217816536317,-0.5863109057019016,-0.39286197057225664,-0.3048785514814567,0.4786069630165104,-0.4930398395312596,-0.3386713588461262,-0.4199328405217939,-0.4958584581603859,-0.7049209927594344,-0.5913439896667894,-0.36858317954171743,-0.3405885800386575,-0.7475843135666905,-0.20569375936278442,-0.7808084442984183,-0.3917677448254296,-0.32448604627186556,-0.6333916810372927,-0.5127440952353777,-0.007900663526673629,-0.4518328707811568,-0.3640213682323014,-0.2705041735316438,-0.693231646311061,-0.2809760881564698,0.2506914605288407,-0.4579104650390166,-0.5105445989807454,-0.41538508388272477,-0.5251396775188591,-0.3385640021948544,-0.10471885593145791,-0.3167448947416452,-0.6392537631689547,-0.16538232849929707,-0.6725825779529274,0.08387222335210572,-0.3342437059260216,-0.4151516080665607,-0.4202698829370623,-0.671552852740056,-0.3428825547473826,-0.5046009997876174,-0.6890690771949978,-0.5732236550965917,-0.5185466014029575,-0.3515793419556112,-0.43496561087508906,-0.43120841890984324,-0.7353996663233153,-0.589112987546301,-0.5074523170168694,-0.6245408032374776,-0.5577369548486515,-0.4851912442784018,-0.5801213652373859,-0.3091698682099855,-0.3013894619316491,-0.491792667476103,-0.4441376598304667,-0.5027502090739348,-0.50227025948386,-0.30365042367170025,-0.49052017228508477,-0.6692587036005652,-0.35881219834834815,-0.6308735037952099,-0.2509549170362747,-0.6038887240499866,-0.23137124217083194,-0.2802246589326948,-0.3772208303913742,-0.4845059202994431,-0.4169836194761038,-0.6841996832729742,-0.440164042018667,-0.3550741374061958,0.1120506355909583,0.19047174812012807,-0.5250737386193837,0.11836269215755858,-0.2919729487278147,-0.7318525735916858,-0.5183847133281048,-0.4112555311029508,-0.37829669197242516,-0.41321632713860446,-0.7084272900750216,-0.8047595035906436,-0.6014829151517563,-0.7603137425874043,-0.4832433546136123,-0.5020501494834672,-0.43039078354796195,-0.16765326716417964,-0.7835859290407645,-0.3390909622338641,-0.2699869387772744,-0.3836749575058873,-0.6983570683263978,-0.4207206638693218,-0.5930135856854332,-0.11729495226328668,-0.23310179681629367,-0.0044428844482739226,-0.4731826457290078,-0.28533547075300314,-0.08816436807165091,-0.7397605933118186,-0.7980292644080573,-0.3827696037967287,-0.37615524252293475,-0.5385331203880249,-0.5263204176376913,-0.16755724467087182,-0.42970980124201746,-0.3282197751183849,-0.3167227317502329,-0.4518731606446178,-0.6786489254445134,-0.741195764179349,-0.7833249016228541,-0.36841489595594384,-0.5031040447002564,-0.32949998958269544,-0.620382947685263,-0.35236464047608607,-0.06230227532714029,-0.3896618724636108,-0.48433389033900937,-0.4484751107287837,-0.29752135946620356,-0.6063926430767987,-0.6126352148768028,-0.42125878385729437,-0.4200874864124035,-0.6717858163392547,-0.4073737138266749,-0.5430970321003596,-0.45405798378674855,-0.35886099642978425,0.19756800581696002,-0.4874760007555846,-0.5255336409895911,-0.3538850735744578,-0.7369635037245994,-0.5406762820693841,-0.43878275278073114,-0.5866083750453351,-0.36910839209017565,-0.6337923680719286,-0.44226687792458924,0.06602383834553908,-0.54227131650704,-0.4407379525467759,-0.5817465813617211,-0.6343822512014794,-0.6296359714677694,-0.20184310335720843,-0.4981123017219604],\"xaxis\":\"x\",\"y\":[2.3622902127775838,1.1802880889181906,1.008392044555676,1.0085827447729665,0.4614637122731725,-0.5391671481806675,0.06119534868370079,2.8376780181851506,-0.2261772573208506,-0.22235569739519861,2.796862788502869,0.5763121059611929,0.41573400735071314,1.1941126815187446,1.2720637501921548,0.5387364850454179,0.13780190436886663,1.4178761090091296,1.7139863353040106,1.2819154271923006,0.18846526333516167,-0.5188606635968827,0.887608124656298,0.07389997008427938,1.1497489336867788,0.7707468807579039,2.1926885143250914,0.4421400615115843,-0.011383786276961695,2.817024444570252,1.057865999884488,-0.12059897662860537,0.2733408461420791,0.5452405816804351,1.3281217710540842,0.3918459939000962,1.8649745783768013,2.749169918957107,0.43224933022966533,1.1354115266628,1.2044809023544618,1.1254507482899794,-0.19496651565742765,1.989135217655775,0.9947949975000929,-0.03839100771139173,0.3982942189713703,-0.4317307482647775,-0.13129105494977553,0.9265976719243764,0.990728075548939,1.3033109484721848,0.5967488646519399,1.3396225187848056,0.8191846005378315,3.2344963595357377,0.04158523251253451,-0.07031920724669811,0.5451586453576367,1.2446684315297523,1.528917314624452,-0.318952619300503,0.7902783062437115,-0.2888536633271472,1.19348519062286,-0.29013862168169086,0.7264436911028849,0.20864762387672595,3.2138963307776485,0.5073628060130533,-0.27900973839374466,-0.16949738945230478,1.6967203098943842,1.165309422218323,0.7499229349204575,0.44723113557703564,-0.368554579636717,1.5146078923556918,0.7461198138227229,0.49711618752398484,1.2076131127112637,0.7552123046329785,0.1445257388494839,0.968178975252298,0.6919631473643293,0.8424177952086619,3.3881995160286227,1.653086543448288,2.6683169236225344,0.732592255074438,0.45072207661704883,0.4160916180955828,2.2961808464924984,-0.9914420917751524,2.7471265395881876,0.49376846696109933,1.663953661683698,2.2607334375273593,-0.5763612282265805,-0.4246847613757768,1.4717376991863205,0.5197692231292396,-0.3375852224295469,1.0206756183652308,0.04360338696565598,-0.059774437092326146,0.17804746315060693,1.048956961836985,0.90072509213239,1.7122377162234836,0.6852128834826915,0.17142343830749862,-0.04128481064204766,1.571734073087884,0.08994594717859673,3.4443730401581036,0.3752391708090943,1.1332554898487799,1.3366059481829,0.36371563413898617,0.9239696664599129,1.1432920412514662,0.5516829359437739,1.7632766432822191,2.0798965059778265,1.5783030190999756,1.9499538519082622,0.7876247762772028,0.12195124246305851,1.9589991215048403,1.2084783346843757,0.9879390896768688,1.7298887251211577,1.3676959434322251,0.8849282323431523,1.6017466618874165,0.8368089427451345,-0.5616791478071463,0.45769576032914283,0.10525037407897421,1.1976457215000356,0.8711197416236315,-0.10154246820675729,0.469074003932119,1.2931253496513304,-0.02481789403072679,2.206584856589641,-0.6797645893755904,2.828762334103506,-0.4425311748571196,-0.2920575449554251,0.15926018669720163,0.050442392330574085,2.3487480654214847,2.347352540346828,1.1048467417700967,-0.37151001964000024,0.4187625900764416,-0.4167363601329692,0.9045527200332641,-0.24907775477456037,1.6100106130980738,2.6063556771608214,0.834712686745453,1.8308108288609488,0.6959353161159727,3.0777127260380084,3.4974080946437427,2.852707090218075,2.2222486467718645,3.8562804051569475,0.7769986560796468,0.18498510509169383,0.005793320971135869,-0.9429042333688785,2.082990692961761,0.8450219289921044,-0.2908958251368846,-0.23930188306145186,2.891583431409654,0.890185395680032,2.2918764535349734,-0.36609743512903464,0.25521521281755616,-0.5569231784204739,0.13563200583445764,0.8735135032987433,0.14109415600309178,2.134206245798311,2.180450347079597,0.713952733397108,0.4396063245452561,1.6989800489852698,0.9223935526851939,0.07000170909910067,1.009747850040723,-0.26264916940038036,1.126685097559394,0.097765873547882,1.6204062128751102,2.6277098342356853,2.77034652497565,-0.10292670106845667,0.5471392074007747,0.31106047821652233,1.3326222045954272,1.4882148888119988,0.16105754792747465,-0.007586139882383844,0.349458695688393,2.756662584238259,0.36094973681643777,0.8282171192749028,1.2199396494860895,0.8900048376173616,0.6406484537694537,3.44781025537761,0.3725907994478956,1.038386396360444,0.15795824400027836,2.738727771499805,0.014946147285957934,0.7063385126356371,1.3508800140503925,0.8162890896366919,2.0270512280175166,0.9155595241564153,0.6172091139099022,2.0116210633483096,0.5895918717975592,1.5711605437259624,0.6463566022127858,0.37168921018727197,2.078805281078378,2.3160657171576275,0.8867456091801205,1.3503703229329458,0.9534284903894015,-1.0870671047831921,0.4974996187712354],\"yaxis\":\"y\",\"type\":\"scatter\"}],                        {\"template\":{\"data\":{\"histogram2dcontour\":[{\"type\":\"histogram2dcontour\",\"colorbar\":{\"outlinewidth\":0,\"ticks\":\"\"},\"colorscale\":[[0.0,\"#0d0887\"],[0.1111111111111111,\"#46039f\"],[0.2222222222222222,\"#7201a8\"],[0.3333333333333333,\"#9c179e\"],[0.4444444444444444,\"#bd3786\"],[0.5555555555555556,\"#d8576b\"],[0.6666666666666666,\"#ed7953\"],[0.7777777777777778,\"#fb9f3a\"],[0.8888888888888888,\"#fdca26\"],[1.0,\"#f0f921\"]]}],\"choropleth\":[{\"type\":\"choropleth\",\"colorbar\":{\"outlinewidth\":0,\"ticks\":\"\"}}],\"histogram2d\":[{\"type\":\"histogram2d\",\"colorbar\":{\"outlinewidth\":0,\"ticks\":\"\"},\"colorscale\":[[0.0,\"#0d0887\"],[0.1111111111111111,\"#46039f\"],[0.2222222222222222,\"#7201a8\"],[0.3333333333333333,\"#9c179e\"],[0.4444444444444444,\"#bd3786\"],[0.5555555555555556,\"#d8576b\"],[0.6666666666666666,\"#ed7953\"],[0.7777777777777778,\"#fb9f3a\"],[0.8888888888888888,\"#fdca26\"],[1.0,\"#f0f921\"]]}],\"heatmap\":[{\"type\":\"heatmap\",\"colorbar\":{\"outlinewidth\":0,\"ticks\":\"\"},\"colorscale\":[[0.0,\"#0d0887\"],[0.1111111111111111,\"#46039f\"],[0.2222222222222222,\"#7201a8\"],[0.3333333333333333,\"#9c179e\"],[0.4444444444444444,\"#bd3786\"],[0.5555555555555556,\"#d8576b\"],[0.6666666666666666,\"#ed7953\"],[0.7777777777777778,\"#fb9f3a\"],[0.8888888888888888,\"#fdca26\"],[1.0,\"#f0f921\"]]}],\"heatmapgl\":[{\"type\":\"heatmapgl\",\"colorbar\":{\"outlinewidth\":0,\"ticks\":\"\"},\"colorscale\":[[0.0,\"#0d0887\"],[0.1111111111111111,\"#46039f\"],[0.2222222222222222,\"#7201a8\"],[0.3333333333333333,\"#9c179e\"],[0.4444444444444444,\"#bd3786\"],[0.5555555555555556,\"#d8576b\"],[0.6666666666666666,\"#ed7953\"],[0.7777777777777778,\"#fb9f3a\"],[0.8888888888888888,\"#fdca26\"],[1.0,\"#f0f921\"]]}],\"contourcarpet\":[{\"type\":\"contourcarpet\",\"colorbar\":{\"outlinewidth\":0,\"ticks\":\"\"}}],\"contour\":[{\"type\":\"contour\",\"colorbar\":{\"outlinewidth\":0,\"ticks\":\"\"},\"colorscale\":[[0.0,\"#0d0887\"],[0.1111111111111111,\"#46039f\"],[0.2222222222222222,\"#7201a8\"],[0.3333333333333333,\"#9c179e\"],[0.4444444444444444,\"#bd3786\"],[0.5555555555555556,\"#d8576b\"],[0.6666666666666666,\"#ed7953\"],[0.7777777777777778,\"#fb9f3a\"],[0.8888888888888888,\"#fdca26\"],[1.0,\"#f0f921\"]]}],\"surface\":[{\"type\":\"surface\",\"colorbar\":{\"outlinewidth\":0,\"ticks\":\"\"},\"colorscale\":[[0.0,\"#0d0887\"],[0.1111111111111111,\"#46039f\"],[0.2222222222222222,\"#7201a8\"],[0.3333333333333333,\"#9c179e\"],[0.4444444444444444,\"#bd3786\"],[0.5555555555555556,\"#d8576b\"],[0.6666666666666666,\"#ed7953\"],[0.7777777777777778,\"#fb9f3a\"],[0.8888888888888888,\"#fdca26\"],[1.0,\"#f0f921\"]]}],\"mesh3d\":[{\"type\":\"mesh3d\",\"colorbar\":{\"outlinewidth\":0,\"ticks\":\"\"}}],\"scatter\":[{\"marker\":{\"line\":{\"color\":\"#283442\"}},\"type\":\"scatter\"}],\"parcoords\":[{\"type\":\"parcoords\",\"line\":{\"colorbar\":{\"outlinewidth\":0,\"ticks\":\"\"}}}],\"scatterpolargl\":[{\"type\":\"scatterpolargl\",\"marker\":{\"colorbar\":{\"outlinewidth\":0,\"ticks\":\"\"}}}],\"bar\":[{\"error_x\":{\"color\":\"#f2f5fa\"},\"error_y\":{\"color\":\"#f2f5fa\"},\"marker\":{\"line\":{\"color\":\"rgb(17,17,17)\",\"width\":0.5},\"pattern\":{\"fillmode\":\"overlay\",\"size\":10,\"solidity\":0.2}},\"type\":\"bar\"}],\"scattergeo\":[{\"type\":\"scattergeo\",\"marker\":{\"colorbar\":{\"outlinewidth\":0,\"ticks\":\"\"}}}],\"scatterpolar\":[{\"type\":\"scatterpolar\",\"marker\":{\"colorbar\":{\"outlinewidth\":0,\"ticks\":\"\"}}}],\"histogram\":[{\"marker\":{\"pattern\":{\"fillmode\":\"overlay\",\"size\":10,\"solidity\":0.2}},\"type\":\"histogram\"}],\"scattergl\":[{\"marker\":{\"line\":{\"color\":\"#283442\"}},\"type\":\"scattergl\"}],\"scatter3d\":[{\"type\":\"scatter3d\",\"line\":{\"colorbar\":{\"outlinewidth\":0,\"ticks\":\"\"}},\"marker\":{\"colorbar\":{\"outlinewidth\":0,\"ticks\":\"\"}}}],\"scattermapbox\":[{\"type\":\"scattermapbox\",\"marker\":{\"colorbar\":{\"outlinewidth\":0,\"ticks\":\"\"}}}],\"scatterternary\":[{\"type\":\"scatterternary\",\"marker\":{\"colorbar\":{\"outlinewidth\":0,\"ticks\":\"\"}}}],\"scattercarpet\":[{\"type\":\"scattercarpet\",\"marker\":{\"colorbar\":{\"outlinewidth\":0,\"ticks\":\"\"}}}],\"carpet\":[{\"aaxis\":{\"endlinecolor\":\"#A2B1C6\",\"gridcolor\":\"#506784\",\"linecolor\":\"#506784\",\"minorgridcolor\":\"#506784\",\"startlinecolor\":\"#A2B1C6\"},\"baxis\":{\"endlinecolor\":\"#A2B1C6\",\"gridcolor\":\"#506784\",\"linecolor\":\"#506784\",\"minorgridcolor\":\"#506784\",\"startlinecolor\":\"#A2B1C6\"},\"type\":\"carpet\"}],\"table\":[{\"cells\":{\"fill\":{\"color\":\"#506784\"},\"line\":{\"color\":\"rgb(17,17,17)\"}},\"header\":{\"fill\":{\"color\":\"#2a3f5f\"},\"line\":{\"color\":\"rgb(17,17,17)\"}},\"type\":\"table\"}],\"barpolar\":[{\"marker\":{\"line\":{\"color\":\"rgb(17,17,17)\",\"width\":0.5},\"pattern\":{\"fillmode\":\"overlay\",\"size\":10,\"solidity\":0.2}},\"type\":\"barpolar\"}],\"pie\":[{\"automargin\":true,\"type\":\"pie\"}]},\"layout\":{\"autotypenumbers\":\"strict\",\"colorway\":[\"#636efa\",\"#EF553B\",\"#00cc96\",\"#ab63fa\",\"#FFA15A\",\"#19d3f3\",\"#FF6692\",\"#B6E880\",\"#FF97FF\",\"#FECB52\"],\"font\":{\"color\":\"#f2f5fa\"},\"hovermode\":\"closest\",\"hoverlabel\":{\"align\":\"left\"},\"paper_bgcolor\":\"rgb(17,17,17)\",\"plot_bgcolor\":\"rgb(17,17,17)\",\"polar\":{\"bgcolor\":\"rgb(17,17,17)\",\"angularaxis\":{\"gridcolor\":\"#506784\",\"linecolor\":\"#506784\",\"ticks\":\"\"},\"radialaxis\":{\"gridcolor\":\"#506784\",\"linecolor\":\"#506784\",\"ticks\":\"\"}},\"ternary\":{\"bgcolor\":\"rgb(17,17,17)\",\"aaxis\":{\"gridcolor\":\"#506784\",\"linecolor\":\"#506784\",\"ticks\":\"\"},\"baxis\":{\"gridcolor\":\"#506784\",\"linecolor\":\"#506784\",\"ticks\":\"\"},\"caxis\":{\"gridcolor\":\"#506784\",\"linecolor\":\"#506784\",\"ticks\":\"\"}},\"coloraxis\":{\"colorbar\":{\"outlinewidth\":0,\"ticks\":\"\"}},\"colorscale\":{\"sequential\":[[0.0,\"#0d0887\"],[0.1111111111111111,\"#46039f\"],[0.2222222222222222,\"#7201a8\"],[0.3333333333333333,\"#9c179e\"],[0.4444444444444444,\"#bd3786\"],[0.5555555555555556,\"#d8576b\"],[0.6666666666666666,\"#ed7953\"],[0.7777777777777778,\"#fb9f3a\"],[0.8888888888888888,\"#fdca26\"],[1.0,\"#f0f921\"]],\"sequentialminus\":[[0.0,\"#0d0887\"],[0.1111111111111111,\"#46039f\"],[0.2222222222222222,\"#7201a8\"],[0.3333333333333333,\"#9c179e\"],[0.4444444444444444,\"#bd3786\"],[0.5555555555555556,\"#d8576b\"],[0.6666666666666666,\"#ed7953\"],[0.7777777777777778,\"#fb9f3a\"],[0.8888888888888888,\"#fdca26\"],[1.0,\"#f0f921\"]],\"diverging\":[[0,\"#8e0152\"],[0.1,\"#c51b7d\"],[0.2,\"#de77ae\"],[0.3,\"#f1b6da\"],[0.4,\"#fde0ef\"],[0.5,\"#f7f7f7\"],[0.6,\"#e6f5d0\"],[0.7,\"#b8e186\"],[0.8,\"#7fbc41\"],[0.9,\"#4d9221\"],[1,\"#276419\"]]},\"xaxis\":{\"gridcolor\":\"#283442\",\"linecolor\":\"#506784\",\"ticks\":\"\",\"title\":{\"standoff\":15},\"zerolinecolor\":\"#283442\",\"automargin\":true,\"zerolinewidth\":2},\"yaxis\":{\"gridcolor\":\"#283442\",\"linecolor\":\"#506784\",\"ticks\":\"\",\"title\":{\"standoff\":15},\"zerolinecolor\":\"#283442\",\"automargin\":true,\"zerolinewidth\":2},\"scene\":{\"xaxis\":{\"backgroundcolor\":\"rgb(17,17,17)\",\"gridcolor\":\"#506784\",\"linecolor\":\"#506784\",\"showbackground\":true,\"ticks\":\"\",\"zerolinecolor\":\"#C8D4E3\",\"gridwidth\":2},\"yaxis\":{\"backgroundcolor\":\"rgb(17,17,17)\",\"gridcolor\":\"#506784\",\"linecolor\":\"#506784\",\"showbackground\":true,\"ticks\":\"\",\"zerolinecolor\":\"#C8D4E3\",\"gridwidth\":2},\"zaxis\":{\"backgroundcolor\":\"rgb(17,17,17)\",\"gridcolor\":\"#506784\",\"linecolor\":\"#506784\",\"showbackground\":true,\"ticks\":\"\",\"zerolinecolor\":\"#C8D4E3\",\"gridwidth\":2}},\"shapedefaults\":{\"line\":{\"color\":\"#f2f5fa\"}},\"annotationdefaults\":{\"arrowcolor\":\"#f2f5fa\",\"arrowhead\":0,\"arrowwidth\":1},\"geo\":{\"bgcolor\":\"rgb(17,17,17)\",\"landcolor\":\"rgb(17,17,17)\",\"subunitcolor\":\"#506784\",\"showland\":true,\"showlakes\":true,\"lakecolor\":\"rgb(17,17,17)\"},\"title\":{\"x\":0.05},\"updatemenudefaults\":{\"bgcolor\":\"#506784\",\"borderwidth\":0},\"sliderdefaults\":{\"bgcolor\":\"#C8D4E3\",\"borderwidth\":1,\"bordercolor\":\"rgb(17,17,17)\",\"tickwidth\":0},\"mapbox\":{\"style\":\"dark\"}}},\"xaxis\":{\"anchor\":\"y\",\"domain\":[0.0,1.0],\"title\":{\"text\":\"0\"}},\"yaxis\":{\"anchor\":\"x\",\"domain\":[0.0,1.0],\"title\":{\"text\":\"1\"}},\"coloraxis\":{\"colorbar\":{\"title\":{\"text\":\"score\"}},\"colorscale\":[[0.0,\"#440154\"],[0.1111111111111111,\"#482878\"],[0.2222222222222222,\"#3e4989\"],[0.3333333333333333,\"#31688e\"],[0.4444444444444444,\"#26828e\"],[0.5555555555555556,\"#1f9e89\"],[0.6666666666666666,\"#35b779\"],[0.7777777777777778,\"#6ece58\"],[0.8888888888888888,\"#b5de2b\"],[1.0,\"#fde725\"]]},\"legend\":{\"title\":{\"text\":\"label\"},\"tracegroupgap\":0,\"orientation\":\"h\"},\"margin\":{\"t\":60}},                        {\"responsive\": true}                    ).then(function(){\n                            \nvar gd = document.getElementById('3b71b1b9-0fc9-43d9-890c-68dcc89b8ea8');\nvar x = new MutationObserver(function (mutations, observer) {{\n        var display = window.getComputedStyle(gd).display;\n        if (!display || display === 'none') {{\n            console.log([gd, 'removed!']);\n            Plotly.purge(gd);\n            observer.disconnect();\n        }}\n}});\n\n// Listen for the removal of the full notebook cells\nvar notebookContainer = gd.closest('#notebook-container');\nif (notebookContainer) {{\n    x.observe(notebookContainer, {childList: true});\n}}\n\n// Listen for the clearing of the current output cell\nvar outputEl = gd.closest('.output');\nif (outputEl) {{\n    x.observe(outputEl, {childList: true});\n}}\n\n                        })                };                });            </script>        </div>"
     },
     "metadata": {},
     "output_type": "display_data"
    }
   ],
   "source": [
    "import plotly.express as px\n",
    "fig = px.scatter(\n",
    "    X_test, x=0, y=1,\n",
    "    color=y_pred, color_continuous_scale='Viridis',\n",
    "    symbol=y_test, symbol_map={'0': 'square-dot', '1': 'circle-dot'},\n",
    "    labels={'symbol': 'label', 'color': 'score'}\n",
    ")\n",
    "fig.update_traces(marker_size=12, marker_line_width=1.5)\n",
    "fig.update_layout(legend_orientation='h')\n",
    "fig.show()"
   ],
   "metadata": {
    "collapsed": false
   }
  },
  {
   "cell_type": "markdown",
   "source": [
    "### Plotting ROC curve for KNN"
   ],
   "metadata": {
    "collapsed": false
   }
  },
  {
   "cell_type": "code",
   "execution_count": 248,
   "outputs": [],
   "source": [
    "k = 5  # number of nearest neighbors\n",
    "clf = KNeighborsClassifier(n_neighbors=k)\n",
    "clf.fit(X_train, y_train)\n",
    "\n",
    "knn_probs = clf.predict_proba(X_test)[:, 1]\n",
    "fpr_knn, tpr_knn, thresholds_knn = roc_curve(y_test, knn_probs)\n",
    "auc_score_knn = auc(fpr_knn, tpr_knn)"
   ],
   "metadata": {
    "collapsed": false
   }
  },
  {
   "cell_type": "code",
   "execution_count": 249,
   "outputs": [
    {
     "data": {
      "text/plain": "<Figure size 1000x800 with 1 Axes>",
      "image/png": "[encoded data removed]"
     },
     "metadata": {},
     "output_type": "display_data"
    }
   ],
   "source": [
    "def plot_roc_curve(fpr, tpr):\n",
    "    plt.figure(figsize=(10,8))\n",
    "    plt.plot(fpr_knn, tpr_knn, color='orange', label='AUC = %0.2f' % auc_score_knn)\n",
    "    plt.plot([0, 1], [0, 1], color='darkblue', linestyle='--')\n",
    "    plt.xlabel('False Positive Rate')\n",
    "    plt.ylabel('True Positive Rate')\n",
    "    plt.title('Receiver Operating Characteristic (ROC) Curve')\n",
    "    plt.legend()\n",
    "    plt.show()\n",
    "\n",
    "plot_roc_curve(fpr_knn,tpr_knn)"
   ],
   "metadata": {
    "collapsed": false
   }
  }
 ],
 "metadata": {
  "kernelspec": {
   "display_name": "Python 3 (ipykernel)",
   "language": "python",
   "name": "python3"
  },
  "language_info": {
   "codemirror_mode": {
    "name": "ipython",
    "version": 3
   },
   "file_extension": ".py",
   "mimetype": "text/x-python",
   "name": "python",
   "nbconvert_exporter": "python",
   "pygments_lexer": "ipython3",
   "version": "3.9.13"
  }
 },
 "nbformat": 4,
 "nbformat_minor": 5
}
