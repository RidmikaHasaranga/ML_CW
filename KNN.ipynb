{
 "cells": [
  {
   "cell_type": "markdown",
   "id": "01cd5e80",
   "metadata": {},
   "source": [
    "# KNN"
   ]
  },
  {
   "cell_type": "code",
   "execution_count": 197,
   "outputs": [],
   "source": [
    "%matplotlib inline\n",
    "import pandas as pd\n",
    "import numpy as np\n",
    "import matplotlib.pyplot as plt\n",
    "import re\n",
    "\n",
    "import seaborn as sns\n",
    "from sklearn.model_selection import train_test_split\n",
    "from sklearn.metrics import accuracy_score\n",
    "from sklearn.decomposition import PCA\n",
    "from sklearn.metrics import classification_report,confusion_matrix\n",
    "from sklearn.model_selection import GridSearchCV\n",
    "from sklearn.preprocessing import StandardScaler\n",
    "from sklearn.neighbors import KNeighborsClassifier"
   ],
   "metadata": {
    "collapsed": false
   }
  },
  {
   "cell_type": "code",
   "execution_count": 198,
   "id": "e0f74628",
   "metadata": {},
   "outputs": [],
   "source": [
    "with open(\"spambase.names\") as spam:\n",
    " text = spam.read()\n",
    "labels = re.findall(r'\\n(\\w*_?\\W?):', text)\n",
    "data_set = pd.read_csv(\"spambase.data\", header=None, names=labels +['spam'])\n",
    "\n",
    "data_array=data_set.values"
   ]
  },
  {
   "cell_type": "code",
   "execution_count": 199,
   "outputs": [
    {
     "data": {
      "text/plain": "   word_freq_make  word_freq_address  word_freq_all  word_freq_3d  \\\n0            0.00               0.64           0.64           0.0   \n1            0.21               0.28           0.50           0.0   \n2            0.06               0.00           0.71           0.0   \n3            0.00               0.00           0.00           0.0   \n4            0.00               0.00           0.00           0.0   \n\n   word_freq_our  word_freq_over  word_freq_remove  word_freq_internet  \\\n0           0.32            0.00              0.00                0.00   \n1           0.14            0.28              0.21                0.07   \n2           1.23            0.19              0.19                0.12   \n3           0.63            0.00              0.31                0.63   \n4           0.63            0.00              0.31                0.63   \n\n   word_freq_order  word_freq_mail  ...  char_freq_;  char_freq_(  \\\n0             0.00            0.00  ...         0.00        0.000   \n1             0.00            0.94  ...         0.00        0.132   \n2             0.64            0.25  ...         0.01        0.143   \n3             0.31            0.63  ...         0.00        0.137   \n4             0.31            0.63  ...         0.00        0.135   \n\n   char_freq_[  char_freq_!  char_freq_$  char_freq_#  \\\n0          0.0        0.778        0.000        0.000   \n1          0.0        0.372        0.180        0.048   \n2          0.0        0.276        0.184        0.010   \n3          0.0        0.137        0.000        0.000   \n4          0.0        0.135        0.000        0.000   \n\n   capital_run_length_average  capital_run_length_longest  \\\n0                       3.756                          61   \n1                       5.114                         101   \n2                       9.821                         485   \n3                       3.537                          40   \n4                       3.537                          40   \n\n   capital_run_length_total  spam  \n0                       278     1  \n1                      1028     1  \n2                      2259     1  \n3                       191     1  \n4                       191     1  \n\n[5 rows x 58 columns]",
      "text/html": "<div>\n<style scoped>\n    .dataframe tbody tr th:only-of-type {\n        vertical-align: middle;\n    }\n\n    .dataframe tbody tr th {\n        vertical-align: top;\n    }\n\n    .dataframe thead th {\n        text-align: right;\n    }\n</style>\n<table border=\"1\" class=\"dataframe\">\n  <thead>\n    <tr style=\"text-align: right;\">\n      <th></th>\n      <th>word_freq_make</th>\n      <th>word_freq_address</th>\n      <th>word_freq_all</th>\n      <th>word_freq_3d</th>\n      <th>word_freq_our</th>\n      <th>word_freq_over</th>\n      <th>word_freq_remove</th>\n      <th>word_freq_internet</th>\n      <th>word_freq_order</th>\n      <th>word_freq_mail</th>\n      <th>...</th>\n      <th>char_freq_;</th>\n      <th>char_freq_(</th>\n      <th>char_freq_[</th>\n      <th>char_freq_!</th>\n      <th>char_freq_$</th>\n      <th>char_freq_#</th>\n      <th>capital_run_length_average</th>\n      <th>capital_run_length_longest</th>\n      <th>capital_run_length_total</th>\n      <th>spam</th>\n    </tr>\n  </thead>\n  <tbody>\n    <tr>\n      <th>0</th>\n      <td>0.00</td>\n      <td>0.64</td>\n      <td>0.64</td>\n      <td>0.0</td>\n      <td>0.32</td>\n      <td>0.00</td>\n      <td>0.00</td>\n      <td>0.00</td>\n      <td>0.00</td>\n      <td>0.00</td>\n      <td>...</td>\n      <td>0.00</td>\n      <td>0.000</td>\n      <td>0.0</td>\n      <td>0.778</td>\n      <td>0.000</td>\n      <td>0.000</td>\n      <td>3.756</td>\n      <td>61</td>\n      <td>278</td>\n      <td>1</td>\n    </tr>\n    <tr>\n      <th>1</th>\n      <td>0.21</td>\n      <td>0.28</td>\n      <td>0.50</td>\n      <td>0.0</td>\n      <td>0.14</td>\n      <td>0.28</td>\n      <td>0.21</td>\n      <td>0.07</td>\n      <td>0.00</td>\n      <td>0.94</td>\n      <td>...</td>\n      <td>0.00</td>\n      <td>0.132</td>\n      <td>0.0</td>\n      <td>0.372</td>\n      <td>0.180</td>\n      <td>0.048</td>\n      <td>5.114</td>\n      <td>101</td>\n      <td>1028</td>\n      <td>1</td>\n    </tr>\n    <tr>\n      <th>2</th>\n      <td>0.06</td>\n      <td>0.00</td>\n      <td>0.71</td>\n      <td>0.0</td>\n      <td>1.23</td>\n      <td>0.19</td>\n      <td>0.19</td>\n      <td>0.12</td>\n      <td>0.64</td>\n      <td>0.25</td>\n      <td>...</td>\n      <td>0.01</td>\n      <td>0.143</td>\n      <td>0.0</td>\n      <td>0.276</td>\n      <td>0.184</td>\n      <td>0.010</td>\n      <td>9.821</td>\n      <td>485</td>\n      <td>2259</td>\n      <td>1</td>\n    </tr>\n    <tr>\n      <th>3</th>\n      <td>0.00</td>\n      <td>0.00</td>\n      <td>0.00</td>\n      <td>0.0</td>\n      <td>0.63</td>\n      <td>0.00</td>\n      <td>0.31</td>\n      <td>0.63</td>\n      <td>0.31</td>\n      <td>0.63</td>\n      <td>...</td>\n      <td>0.00</td>\n      <td>0.137</td>\n      <td>0.0</td>\n      <td>0.137</td>\n      <td>0.000</td>\n      <td>0.000</td>\n      <td>3.537</td>\n      <td>40</td>\n      <td>191</td>\n      <td>1</td>\n    </tr>\n    <tr>\n      <th>4</th>\n      <td>0.00</td>\n      <td>0.00</td>\n      <td>0.00</td>\n      <td>0.0</td>\n      <td>0.63</td>\n      <td>0.00</td>\n      <td>0.31</td>\n      <td>0.63</td>\n      <td>0.31</td>\n      <td>0.63</td>\n      <td>...</td>\n      <td>0.00</td>\n      <td>0.135</td>\n      <td>0.0</td>\n      <td>0.135</td>\n      <td>0.000</td>\n      <td>0.000</td>\n      <td>3.537</td>\n      <td>40</td>\n      <td>191</td>\n      <td>1</td>\n    </tr>\n  </tbody>\n</table>\n<p>5 rows × 58 columns</p>\n</div>"
     },
     "execution_count": 199,
     "metadata": {},
     "output_type": "execute_result"
    }
   ],
   "source": [
    "data_set.head()"
   ],
   "metadata": {
    "collapsed": false
   }
  },
  {
   "cell_type": "code",
   "execution_count": 200,
   "id": "c96a048f",
   "metadata": {},
   "outputs": [
    {
     "name": "stdout",
     "output_type": "stream",
     "text": [
      "4601\n"
     ]
    }
   ],
   "source": [
    "# No of rows in dataset before preprocessing\n",
    "print(len(data_set))"
   ]
  },
  {
   "cell_type": "markdown",
   "id": "aeccd548",
   "metadata": {},
   "source": [
    "### Finding the duplicates in the dataset"
   ]
  },
  {
   "cell_type": "code",
   "execution_count": 201,
   "id": "a0acf6a0",
   "metadata": {},
   "outputs": [
    {
     "data": {
      "text/plain": "0       False\n1       False\n2       False\n3       False\n4       False\n        ...  \n4596    False\n4597    False\n4598    False\n4599    False\n4600    False\nLength: 4601, dtype: bool"
     },
     "execution_count": 201,
     "metadata": {},
     "output_type": "execute_result"
    }
   ],
   "source": [
    "data_set.duplicated()"
   ]
  },
  {
   "cell_type": "markdown",
   "id": "94e5f5ad",
   "metadata": {},
   "source": [
    "### Dropping the duplicate values"
   ]
  },
  {
   "cell_type": "code",
   "execution_count": 202,
   "id": "a13e66b2",
   "metadata": {},
   "outputs": [],
   "source": [
    "data_set.drop_duplicates(inplace=True)"
   ]
  },
  {
   "cell_type": "code",
   "execution_count": 203,
   "id": "1bb09625",
   "metadata": {},
   "outputs": [
    {
     "name": "stdout",
     "output_type": "stream",
     "text": [
      "No of rows in dataset after removing duplicates :  4210\n"
     ]
    }
   ],
   "source": [
    "print(\"No of rows in dataset after removing duplicates : \", len(data_set))"
   ]
  },
  {
   "cell_type": "code",
   "execution_count": 204,
   "outputs": [
    {
     "data": {
      "text/plain": "<Figure size 10000x5000 with 0 Axes>"
     },
     "metadata": {},
     "output_type": "display_data"
    },
    {
     "data": {
      "text/plain": "<Figure size 640x480 with 1 Axes>",
      "image/png": "[encoded data removed]"
     },
     "metadata": {},
     "output_type": "display_data"
    }
   ],
   "source": [
    "fig = plt.figure(figsize =(100, 50))\n",
    "data_set.plot.box(title='Boxplot of Spam No spam email',rot=90)\n",
    "\n",
    "plt.show()"
   ],
   "metadata": {
    "collapsed": false
   }
  },
  {
   "cell_type": "markdown",
   "source": [
    "### Boxplot of capital_run_length_total with outliers"
   ],
   "metadata": {
    "collapsed": false
   }
  },
  {
   "cell_type": "code",
   "execution_count": 205,
   "outputs": [
    {
     "data": {
      "text/plain": "<AxesSubplot:xlabel='capital_run_length_total'>"
     },
     "execution_count": 205,
     "metadata": {},
     "output_type": "execute_result"
    },
    {
     "data": {
      "text/plain": "<Figure size 640x480 with 1 Axes>",
      "image/png": "[encoded data removed]"
     },
     "metadata": {},
     "output_type": "display_data"
    }
   ],
   "source": [
    "sns.boxplot(x = data_set['capital_run_length_total'])"
   ],
   "metadata": {
    "collapsed": false
   }
  },
  {
   "cell_type": "markdown",
   "source": [
    "### Boxplot of capital_run_length_longest with outliers"
   ],
   "metadata": {
    "collapsed": false
   }
  },
  {
   "cell_type": "code",
   "execution_count": 206,
   "outputs": [
    {
     "data": {
      "text/plain": "<AxesSubplot:xlabel='capital_run_length_longest'>"
     },
     "execution_count": 206,
     "metadata": {},
     "output_type": "execute_result"
    },
    {
     "data": {
      "text/plain": "<Figure size 640x480 with 1 Axes>",
      "image/png": "[encoded data removed]"
     },
     "metadata": {},
     "output_type": "display_data"
    }
   ],
   "source": [
    "sns.boxplot(x = data_set['capital_run_length_longest'])"
   ],
   "metadata": {
    "collapsed": false
   }
  },
  {
   "cell_type": "markdown",
   "source": [
    "### Boxplot of capital_run_length_average with outliers"
   ],
   "metadata": {
    "collapsed": false
   }
  },
  {
   "cell_type": "code",
   "execution_count": 207,
   "outputs": [
    {
     "data": {
      "text/plain": "<AxesSubplot:xlabel='capital_run_length_average'>"
     },
     "execution_count": 207,
     "metadata": {},
     "output_type": "execute_result"
    },
    {
     "data": {
      "text/plain": "<Figure size 640x480 with 1 Axes>",
      "image/png": "[encoded data removed]"
     },
     "metadata": {},
     "output_type": "display_data"
    }
   ],
   "source": [
    "sns.boxplot(x = data_set['capital_run_length_average'])"
   ],
   "metadata": {
    "collapsed": false
   }
  },
  {
   "cell_type": "markdown",
   "source": [
    "### Removing outliers from IQR technique"
   ],
   "metadata": {
    "collapsed": false
   }
  },
  {
   "cell_type": "code",
   "execution_count": 208,
   "outputs": [],
   "source": [
    "for x in ['capital_run_length_total','capital_run_length_longest','capital_run_length_average']:\n",
    "    q75,q25 = np.percentile(data_set.loc[:,x],[75,25])\n",
    "    intr_qr = q75-q25\n",
    "\n",
    "    max = q75+(1.5*intr_qr)\n",
    "    min = q25-(1.5*intr_qr)\n",
    "\n",
    "    data_set.loc[data_set[x] < min,x] = np.nan\n",
    "    data_set.loc[data_set[x] > max,x] = np.nan"
   ],
   "metadata": {
    "collapsed": false
   }
  },
  {
   "cell_type": "markdown",
   "source": [
    "### Boxplot of capital_run_length_total without outliers"
   ],
   "metadata": {
    "collapsed": false
   }
  },
  {
   "cell_type": "code",
   "execution_count": 209,
   "outputs": [
    {
     "data": {
      "text/plain": "<AxesSubplot:xlabel='capital_run_length_total'>"
     },
     "execution_count": 209,
     "metadata": {},
     "output_type": "execute_result"
    },
    {
     "data": {
      "text/plain": "<Figure size 640x480 with 1 Axes>",
      "image/png": "[encoded data removed]"
     },
     "metadata": {},
     "output_type": "display_data"
    }
   ],
   "source": [
    "sns.boxplot(x = data_set['capital_run_length_total'])"
   ],
   "metadata": {
    "collapsed": false
   }
  },
  {
   "cell_type": "markdown",
   "source": [
    "### Boxplot of capital_run_length_longest without outliers"
   ],
   "metadata": {
    "collapsed": false
   }
  },
  {
   "cell_type": "code",
   "execution_count": 210,
   "outputs": [
    {
     "data": {
      "text/plain": "<AxesSubplot:xlabel='capital_run_length_longest'>"
     },
     "execution_count": 210,
     "metadata": {},
     "output_type": "execute_result"
    },
    {
     "data": {
      "text/plain": "<Figure size 640x480 with 1 Axes>",
      "image/png": "[encoded data removed]"
     },
     "metadata": {},
     "output_type": "display_data"
    }
   ],
   "source": [
    "sns.boxplot(x = data_set['capital_run_length_longest'])"
   ],
   "metadata": {
    "collapsed": false
   }
  },
  {
   "cell_type": "markdown",
   "source": [
    "### Boxplot of capital_run_length_average without outliers"
   ],
   "metadata": {
    "collapsed": false
   }
  },
  {
   "cell_type": "code",
   "execution_count": 211,
   "outputs": [
    {
     "data": {
      "text/plain": "<AxesSubplot:xlabel='capital_run_length_average'>"
     },
     "execution_count": 211,
     "metadata": {},
     "output_type": "execute_result"
    },
    {
     "data": {
      "text/plain": "<Figure size 640x480 with 1 Axes>",
      "image/png": "[encoded data removed]"
     },
     "metadata": {},
     "output_type": "display_data"
    }
   ],
   "source": [
    "sns.boxplot(x = data_set['capital_run_length_average'])"
   ],
   "metadata": {
    "collapsed": false
   }
  },
  {
   "cell_type": "markdown",
   "id": "6e0fd204",
   "metadata": {},
   "source": [
    "### Finding the null values in the dataset"
   ]
  },
  {
   "cell_type": "code",
   "execution_count": 212,
   "outputs": [
    {
     "data": {
      "text/plain": "True"
     },
     "execution_count": 212,
     "metadata": {},
     "output_type": "execute_result"
    }
   ],
   "source": [
    "data_set.isna().sum().any()"
   ],
   "metadata": {
    "collapsed": false
   }
  },
  {
   "cell_type": "code",
   "execution_count": 213,
   "id": "2f35c435",
   "metadata": {},
   "outputs": [
    {
     "data": {
      "text/plain": "word_freq_make                  0\nword_freq_address               0\nword_freq_all                   0\nword_freq_3d                    0\nword_freq_our                   0\nword_freq_over                  0\nword_freq_remove                0\nword_freq_internet              0\nword_freq_order                 0\nword_freq_mail                  0\nword_freq_receive               0\nword_freq_will                  0\nword_freq_people                0\nword_freq_report                0\nword_freq_addresses             0\nword_freq_free                  0\nword_freq_business              0\nword_freq_email                 0\nword_freq_you                   0\nword_freq_credit                0\nword_freq_your                  0\nword_freq_font                  0\nword_freq_000                   0\nword_freq_money                 0\nword_freq_hp                    0\nword_freq_hpl                   0\nword_freq_george                0\nword_freq_650                   0\nword_freq_lab                   0\nword_freq_labs                  0\nword_freq_telnet                0\nword_freq_857                   0\nword_freq_data                  0\nword_freq_415                   0\nword_freq_85                    0\nword_freq_technology            0\nword_freq_1999                  0\nword_freq_parts                 0\nword_freq_pm                    0\nword_freq_direct                0\nword_freq_cs                    0\nword_freq_meeting               0\nword_freq_original              0\nword_freq_project               0\nword_freq_re                    0\nword_freq_edu                   0\nword_freq_table                 0\nword_freq_conference            0\nchar_freq_;                     0\nchar_freq_(                     0\nchar_freq_[                     0\nchar_freq_!                     0\nchar_freq_$                     0\nchar_freq_#                     0\ncapital_run_length_average    329\ncapital_run_length_longest    418\ncapital_run_length_total      497\nspam                            0\ndtype: int64"
     },
     "execution_count": 213,
     "metadata": {},
     "output_type": "execute_result"
    }
   ],
   "source": [
    "data_set.isna().sum()"
   ]
  },
  {
   "cell_type": "code",
   "execution_count": 214,
   "outputs": [
    {
     "data": {
      "text/plain": "      word_freq_make  word_freq_address  word_freq_all  word_freq_3d  \\\n0               0.00               0.64           0.64           0.0   \n1               0.00               0.00           0.00           0.0   \n2               0.00               0.00           0.00           0.0   \n3               0.00               0.00           0.00           0.0   \n4               0.00               0.00           0.00           0.0   \n...              ...                ...            ...           ...   \n3441            0.31               0.00           0.62           0.0   \n3442            0.00               0.00           0.00           0.0   \n3443            0.30               0.00           0.30           0.0   \n3444            0.96               0.00           0.00           0.0   \n3445            0.00               0.00           0.65           0.0   \n\n      word_freq_our  word_freq_over  word_freq_remove  word_freq_internet  \\\n0              0.32            0.00              0.00                0.00   \n1              0.63            0.00              0.31                0.63   \n2              0.63            0.00              0.31                0.63   \n3              1.85            0.00              0.00                1.85   \n4              1.92            0.00              0.00                0.00   \n...             ...             ...               ...                 ...   \n3441           0.00            0.31              0.00                0.00   \n3442           0.00            0.00              0.00                0.00   \n3443           0.00            0.00              0.00                0.00   \n3444           0.32            0.00              0.00                0.00   \n3445           0.00            0.00              0.00                0.00   \n\n      word_freq_order  word_freq_mail  ...  char_freq_;  char_freq_(  \\\n0                0.00            0.00  ...        0.000        0.000   \n1                0.31            0.63  ...        0.000        0.137   \n2                0.31            0.63  ...        0.000        0.135   \n3                0.00            0.00  ...        0.000        0.223   \n4                0.00            0.64  ...        0.000        0.054   \n...               ...             ...  ...          ...          ...   \n3441             0.00            0.00  ...        0.000        0.232   \n3442             0.00            0.00  ...        0.000        0.000   \n3443             0.00            0.00  ...        0.102        0.718   \n3444             0.00            0.00  ...        0.000        0.057   \n3445             0.00            0.00  ...        0.000        0.000   \n\n      char_freq_[  char_freq_!  char_freq_$  char_freq_#  \\\n0             0.0        0.778        0.000          0.0   \n1             0.0        0.137        0.000          0.0   \n2             0.0        0.135        0.000          0.0   \n3             0.0        0.000        0.000          0.0   \n4             0.0        0.164        0.054          0.0   \n...           ...          ...          ...          ...   \n3441          0.0        0.000        0.000          0.0   \n3442          0.0        0.353        0.000          0.0   \n3443          0.0        0.000        0.000          0.0   \n3444          0.0        0.000        0.000          0.0   \n3445          0.0        0.125        0.000          0.0   \n\n      capital_run_length_average  capital_run_length_longest  \\\n0                          3.756                        61.0   \n1                          3.537                        40.0   \n2                          3.537                        40.0   \n3                          3.000                        15.0   \n4                          1.671                         4.0   \n...                          ...                         ...   \n3441                       1.142                         3.0   \n3442                       1.555                         4.0   \n3443                       1.404                         6.0   \n3444                       1.147                         5.0   \n3445                       1.250                         5.0   \n\n      capital_run_length_total  spam  \n0                        278.0     1  \n1                        191.0     1  \n2                        191.0     1  \n3                         54.0     1  \n4                        112.0     1  \n...                        ...   ...  \n3441                      88.0     0  \n3442                      14.0     0  \n3443                     118.0     0  \n3444                      78.0     0  \n3445                      40.0     0  \n\n[3446 rows x 58 columns]",
      "text/html": "<div>\n<style scoped>\n    .dataframe tbody tr th:only-of-type {\n        vertical-align: middle;\n    }\n\n    .dataframe tbody tr th {\n        vertical-align: top;\n    }\n\n    .dataframe thead th {\n        text-align: right;\n    }\n</style>\n<table border=\"1\" class=\"dataframe\">\n  <thead>\n    <tr style=\"text-align: right;\">\n      <th></th>\n      <th>word_freq_make</th>\n      <th>word_freq_address</th>\n      <th>word_freq_all</th>\n      <th>word_freq_3d</th>\n      <th>word_freq_our</th>\n      <th>word_freq_over</th>\n      <th>word_freq_remove</th>\n      <th>word_freq_internet</th>\n      <th>word_freq_order</th>\n      <th>word_freq_mail</th>\n      <th>...</th>\n      <th>char_freq_;</th>\n      <th>char_freq_(</th>\n      <th>char_freq_[</th>\n      <th>char_freq_!</th>\n      <th>char_freq_$</th>\n      <th>char_freq_#</th>\n      <th>capital_run_length_average</th>\n      <th>capital_run_length_longest</th>\n      <th>capital_run_length_total</th>\n      <th>spam</th>\n    </tr>\n  </thead>\n  <tbody>\n    <tr>\n      <th>0</th>\n      <td>0.00</td>\n      <td>0.64</td>\n      <td>0.64</td>\n      <td>0.0</td>\n      <td>0.32</td>\n      <td>0.00</td>\n      <td>0.00</td>\n      <td>0.00</td>\n      <td>0.00</td>\n      <td>0.00</td>\n      <td>...</td>\n      <td>0.000</td>\n      <td>0.000</td>\n      <td>0.0</td>\n      <td>0.778</td>\n      <td>0.000</td>\n      <td>0.0</td>\n      <td>3.756</td>\n      <td>61.0</td>\n      <td>278.0</td>\n      <td>1</td>\n    </tr>\n    <tr>\n      <th>1</th>\n      <td>0.00</td>\n      <td>0.00</td>\n      <td>0.00</td>\n      <td>0.0</td>\n      <td>0.63</td>\n      <td>0.00</td>\n      <td>0.31</td>\n      <td>0.63</td>\n      <td>0.31</td>\n      <td>0.63</td>\n      <td>...</td>\n      <td>0.000</td>\n      <td>0.137</td>\n      <td>0.0</td>\n      <td>0.137</td>\n      <td>0.000</td>\n      <td>0.0</td>\n      <td>3.537</td>\n      <td>40.0</td>\n      <td>191.0</td>\n      <td>1</td>\n    </tr>\n    <tr>\n      <th>2</th>\n      <td>0.00</td>\n      <td>0.00</td>\n      <td>0.00</td>\n      <td>0.0</td>\n      <td>0.63</td>\n      <td>0.00</td>\n      <td>0.31</td>\n      <td>0.63</td>\n      <td>0.31</td>\n      <td>0.63</td>\n      <td>...</td>\n      <td>0.000</td>\n      <td>0.135</td>\n      <td>0.0</td>\n      <td>0.135</td>\n      <td>0.000</td>\n      <td>0.0</td>\n      <td>3.537</td>\n      <td>40.0</td>\n      <td>191.0</td>\n      <td>1</td>\n    </tr>\n    <tr>\n      <th>3</th>\n      <td>0.00</td>\n      <td>0.00</td>\n      <td>0.00</td>\n      <td>0.0</td>\n      <td>1.85</td>\n      <td>0.00</td>\n      <td>0.00</td>\n      <td>1.85</td>\n      <td>0.00</td>\n      <td>0.00</td>\n      <td>...</td>\n      <td>0.000</td>\n      <td>0.223</td>\n      <td>0.0</td>\n      <td>0.000</td>\n      <td>0.000</td>\n      <td>0.0</td>\n      <td>3.000</td>\n      <td>15.0</td>\n      <td>54.0</td>\n      <td>1</td>\n    </tr>\n    <tr>\n      <th>4</th>\n      <td>0.00</td>\n      <td>0.00</td>\n      <td>0.00</td>\n      <td>0.0</td>\n      <td>1.92</td>\n      <td>0.00</td>\n      <td>0.00</td>\n      <td>0.00</td>\n      <td>0.00</td>\n      <td>0.64</td>\n      <td>...</td>\n      <td>0.000</td>\n      <td>0.054</td>\n      <td>0.0</td>\n      <td>0.164</td>\n      <td>0.054</td>\n      <td>0.0</td>\n      <td>1.671</td>\n      <td>4.0</td>\n      <td>112.0</td>\n      <td>1</td>\n    </tr>\n    <tr>\n      <th>...</th>\n      <td>...</td>\n      <td>...</td>\n      <td>...</td>\n      <td>...</td>\n      <td>...</td>\n      <td>...</td>\n      <td>...</td>\n      <td>...</td>\n      <td>...</td>\n      <td>...</td>\n      <td>...</td>\n      <td>...</td>\n      <td>...</td>\n      <td>...</td>\n      <td>...</td>\n      <td>...</td>\n      <td>...</td>\n      <td>...</td>\n      <td>...</td>\n      <td>...</td>\n      <td>...</td>\n    </tr>\n    <tr>\n      <th>3441</th>\n      <td>0.31</td>\n      <td>0.00</td>\n      <td>0.62</td>\n      <td>0.0</td>\n      <td>0.00</td>\n      <td>0.31</td>\n      <td>0.00</td>\n      <td>0.00</td>\n      <td>0.00</td>\n      <td>0.00</td>\n      <td>...</td>\n      <td>0.000</td>\n      <td>0.232</td>\n      <td>0.0</td>\n      <td>0.000</td>\n      <td>0.000</td>\n      <td>0.0</td>\n      <td>1.142</td>\n      <td>3.0</td>\n      <td>88.0</td>\n      <td>0</td>\n    </tr>\n    <tr>\n      <th>3442</th>\n      <td>0.00</td>\n      <td>0.00</td>\n      <td>0.00</td>\n      <td>0.0</td>\n      <td>0.00</td>\n      <td>0.00</td>\n      <td>0.00</td>\n      <td>0.00</td>\n      <td>0.00</td>\n      <td>0.00</td>\n      <td>...</td>\n      <td>0.000</td>\n      <td>0.000</td>\n      <td>0.0</td>\n      <td>0.353</td>\n      <td>0.000</td>\n      <td>0.0</td>\n      <td>1.555</td>\n      <td>4.0</td>\n      <td>14.0</td>\n      <td>0</td>\n    </tr>\n    <tr>\n      <th>3443</th>\n      <td>0.30</td>\n      <td>0.00</td>\n      <td>0.30</td>\n      <td>0.0</td>\n      <td>0.00</td>\n      <td>0.00</td>\n      <td>0.00</td>\n      <td>0.00</td>\n      <td>0.00</td>\n      <td>0.00</td>\n      <td>...</td>\n      <td>0.102</td>\n      <td>0.718</td>\n      <td>0.0</td>\n      <td>0.000</td>\n      <td>0.000</td>\n      <td>0.0</td>\n      <td>1.404</td>\n      <td>6.0</td>\n      <td>118.0</td>\n      <td>0</td>\n    </tr>\n    <tr>\n      <th>3444</th>\n      <td>0.96</td>\n      <td>0.00</td>\n      <td>0.00</td>\n      <td>0.0</td>\n      <td>0.32</td>\n      <td>0.00</td>\n      <td>0.00</td>\n      <td>0.00</td>\n      <td>0.00</td>\n      <td>0.00</td>\n      <td>...</td>\n      <td>0.000</td>\n      <td>0.057</td>\n      <td>0.0</td>\n      <td>0.000</td>\n      <td>0.000</td>\n      <td>0.0</td>\n      <td>1.147</td>\n      <td>5.0</td>\n      <td>78.0</td>\n      <td>0</td>\n    </tr>\n    <tr>\n      <th>3445</th>\n      <td>0.00</td>\n      <td>0.00</td>\n      <td>0.65</td>\n      <td>0.0</td>\n      <td>0.00</td>\n      <td>0.00</td>\n      <td>0.00</td>\n      <td>0.00</td>\n      <td>0.00</td>\n      <td>0.00</td>\n      <td>...</td>\n      <td>0.000</td>\n      <td>0.000</td>\n      <td>0.0</td>\n      <td>0.125</td>\n      <td>0.000</td>\n      <td>0.0</td>\n      <td>1.250</td>\n      <td>5.0</td>\n      <td>40.0</td>\n      <td>0</td>\n    </tr>\n  </tbody>\n</table>\n<p>3446 rows × 58 columns</p>\n</div>"
     },
     "execution_count": 214,
     "metadata": {},
     "output_type": "execute_result"
    }
   ],
   "source": [
    "# Drop all rows with NaN values\n",
    "df_two=data_set.dropna()\n",
    "df_two=data_set.dropna(axis=0)\n",
    "\n",
    "# Reset index after drop\n",
    "df_two=data_set.dropna().reset_index(drop=True)\n",
    "\n",
    "data_set = df_two\n",
    "df_two"
   ],
   "metadata": {
    "collapsed": false
   }
  },
  {
   "cell_type": "markdown",
   "id": "bbd3f250",
   "metadata": {},
   "source": [
    "### Removing the target column "
   ]
  },
  {
   "cell_type": "code",
   "execution_count": 215,
   "id": "a1eb0cc2",
   "metadata": {},
   "outputs": [
    {
     "data": {
      "text/plain": "   word_freq_make  word_freq_address  word_freq_all  word_freq_3d  \\\n0             0.0               0.64           0.64           0.0   \n1             0.0               0.00           0.00           0.0   \n2             0.0               0.00           0.00           0.0   \n3             0.0               0.00           0.00           0.0   \n4             0.0               0.00           0.00           0.0   \n\n   word_freq_our  word_freq_over  word_freq_remove  word_freq_internet  \\\n0           0.32             0.0              0.00                0.00   \n1           0.63             0.0              0.31                0.63   \n2           0.63             0.0              0.31                0.63   \n3           1.85             0.0              0.00                1.85   \n4           1.92             0.0              0.00                0.00   \n\n   word_freq_order  word_freq_mail  ...  word_freq_conference  char_freq_;  \\\n0             0.00            0.00  ...                   0.0          0.0   \n1             0.31            0.63  ...                   0.0          0.0   \n2             0.31            0.63  ...                   0.0          0.0   \n3             0.00            0.00  ...                   0.0          0.0   \n4             0.00            0.64  ...                   0.0          0.0   \n\n   char_freq_(  char_freq_[  char_freq_!  char_freq_$  char_freq_#  \\\n0        0.000          0.0        0.778        0.000          0.0   \n1        0.137          0.0        0.137        0.000          0.0   \n2        0.135          0.0        0.135        0.000          0.0   \n3        0.223          0.0        0.000        0.000          0.0   \n4        0.054          0.0        0.164        0.054          0.0   \n\n   capital_run_length_average  capital_run_length_longest  \\\n0                       3.756                        61.0   \n1                       3.537                        40.0   \n2                       3.537                        40.0   \n3                       3.000                        15.0   \n4                       1.671                         4.0   \n\n   capital_run_length_total  \n0                     278.0  \n1                     191.0  \n2                     191.0  \n3                      54.0  \n4                     112.0  \n\n[5 rows x 57 columns]",
      "text/html": "<div>\n<style scoped>\n    .dataframe tbody tr th:only-of-type {\n        vertical-align: middle;\n    }\n\n    .dataframe tbody tr th {\n        vertical-align: top;\n    }\n\n    .dataframe thead th {\n        text-align: right;\n    }\n</style>\n<table border=\"1\" class=\"dataframe\">\n  <thead>\n    <tr style=\"text-align: right;\">\n      <th></th>\n      <th>word_freq_make</th>\n      <th>word_freq_address</th>\n      <th>word_freq_all</th>\n      <th>word_freq_3d</th>\n      <th>word_freq_our</th>\n      <th>word_freq_over</th>\n      <th>word_freq_remove</th>\n      <th>word_freq_internet</th>\n      <th>word_freq_order</th>\n      <th>word_freq_mail</th>\n      <th>...</th>\n      <th>word_freq_conference</th>\n      <th>char_freq_;</th>\n      <th>char_freq_(</th>\n      <th>char_freq_[</th>\n      <th>char_freq_!</th>\n      <th>char_freq_$</th>\n      <th>char_freq_#</th>\n      <th>capital_run_length_average</th>\n      <th>capital_run_length_longest</th>\n      <th>capital_run_length_total</th>\n    </tr>\n  </thead>\n  <tbody>\n    <tr>\n      <th>0</th>\n      <td>0.0</td>\n      <td>0.64</td>\n      <td>0.64</td>\n      <td>0.0</td>\n      <td>0.32</td>\n      <td>0.0</td>\n      <td>0.00</td>\n      <td>0.00</td>\n      <td>0.00</td>\n      <td>0.00</td>\n      <td>...</td>\n      <td>0.0</td>\n      <td>0.0</td>\n      <td>0.000</td>\n      <td>0.0</td>\n      <td>0.778</td>\n      <td>0.000</td>\n      <td>0.0</td>\n      <td>3.756</td>\n      <td>61.0</td>\n      <td>278.0</td>\n    </tr>\n    <tr>\n      <th>1</th>\n      <td>0.0</td>\n      <td>0.00</td>\n      <td>0.00</td>\n      <td>0.0</td>\n      <td>0.63</td>\n      <td>0.0</td>\n      <td>0.31</td>\n      <td>0.63</td>\n      <td>0.31</td>\n      <td>0.63</td>\n      <td>...</td>\n      <td>0.0</td>\n      <td>0.0</td>\n      <td>0.137</td>\n      <td>0.0</td>\n      <td>0.137</td>\n      <td>0.000</td>\n      <td>0.0</td>\n      <td>3.537</td>\n      <td>40.0</td>\n      <td>191.0</td>\n    </tr>\n    <tr>\n      <th>2</th>\n      <td>0.0</td>\n      <td>0.00</td>\n      <td>0.00</td>\n      <td>0.0</td>\n      <td>0.63</td>\n      <td>0.0</td>\n      <td>0.31</td>\n      <td>0.63</td>\n      <td>0.31</td>\n      <td>0.63</td>\n      <td>...</td>\n      <td>0.0</td>\n      <td>0.0</td>\n      <td>0.135</td>\n      <td>0.0</td>\n      <td>0.135</td>\n      <td>0.000</td>\n      <td>0.0</td>\n      <td>3.537</td>\n      <td>40.0</td>\n      <td>191.0</td>\n    </tr>\n    <tr>\n      <th>3</th>\n      <td>0.0</td>\n      <td>0.00</td>\n      <td>0.00</td>\n      <td>0.0</td>\n      <td>1.85</td>\n      <td>0.0</td>\n      <td>0.00</td>\n      <td>1.85</td>\n      <td>0.00</td>\n      <td>0.00</td>\n      <td>...</td>\n      <td>0.0</td>\n      <td>0.0</td>\n      <td>0.223</td>\n      <td>0.0</td>\n      <td>0.000</td>\n      <td>0.000</td>\n      <td>0.0</td>\n      <td>3.000</td>\n      <td>15.0</td>\n      <td>54.0</td>\n    </tr>\n    <tr>\n      <th>4</th>\n      <td>0.0</td>\n      <td>0.00</td>\n      <td>0.00</td>\n      <td>0.0</td>\n      <td>1.92</td>\n      <td>0.0</td>\n      <td>0.00</td>\n      <td>0.00</td>\n      <td>0.00</td>\n      <td>0.64</td>\n      <td>...</td>\n      <td>0.0</td>\n      <td>0.0</td>\n      <td>0.054</td>\n      <td>0.0</td>\n      <td>0.164</td>\n      <td>0.054</td>\n      <td>0.0</td>\n      <td>1.671</td>\n      <td>4.0</td>\n      <td>112.0</td>\n    </tr>\n  </tbody>\n</table>\n<p>5 rows × 57 columns</p>\n</div>"
     },
     "execution_count": 215,
     "metadata": {},
     "output_type": "execute_result"
    }
   ],
   "source": [
    "data=data_set.drop(labels=['spam'], axis=1)\n",
    "data.head()"
   ]
  },
  {
   "cell_type": "code",
   "execution_count": 216,
   "id": "b6690b4c",
   "metadata": {},
   "outputs": [
    {
     "name": "stdout",
     "output_type": "stream",
     "text": [
      "3446\n"
     ]
    }
   ],
   "source": [
    "# No of rows in dataset after preprocessing\n",
    "print(len(data_set))"
   ]
  },
  {
   "cell_type": "code",
   "execution_count": 217,
   "outputs": [
    {
     "data": {
      "text/plain": "<AxesSubplot:>"
     },
     "execution_count": 217,
     "metadata": {},
     "output_type": "execute_result"
    },
    {
     "data": {
      "text/plain": "<Figure size 640x480 with 1 Axes>",
      "image/png": "[encoded data removed]"
     },
     "metadata": {},
     "output_type": "display_data"
    }
   ],
   "source": [
    "#graphically viewing whether null values available\n",
    "sns.heatmap(data.isnull(), yticklabels=False, cbar=False, cmap='viridis')"
   ],
   "metadata": {
    "collapsed": false
   }
  },
  {
   "cell_type": "markdown",
   "id": "4dc26702",
   "metadata": {},
   "source": [
    "### Summary of dataset before performing Standard Scaler"
   ]
  },
  {
   "cell_type": "code",
   "execution_count": 218,
   "id": "f74c56ac",
   "metadata": {},
   "outputs": [
    {
     "data": {
      "text/plain": "       word_freq_make  word_freq_address  word_freq_all  word_freq_3d  \\\ncount     3446.000000        3446.000000    3446.000000   3446.000000   \nmean         0.094779           0.092716       0.268056      0.005818   \nstd          0.309801           0.474629       0.529981      0.134848   \nmin          0.000000           0.000000       0.000000      0.000000   \n25%          0.000000           0.000000       0.000000      0.000000   \n50%          0.000000           0.000000       0.000000      0.000000   \n75%          0.000000           0.000000       0.360000      0.000000   \nmax          4.540000          14.280000       5.100000      7.070000   \n\n       word_freq_our  word_freq_over  word_freq_remove  word_freq_internet  \\\ncount    3446.000000     3446.000000       3446.000000         3446.000000   \nmean        0.308175        0.085267          0.093688            0.096164   \nstd         0.701947        0.281174          0.356036            0.420321   \nmin         0.000000        0.000000          0.000000            0.000000   \n25%         0.000000        0.000000          0.000000            0.000000   \n50%         0.000000        0.000000          0.000000            0.000000   \n75%         0.360000        0.000000          0.000000            0.000000   \nmax        10.000000        5.880000          7.270000           11.110000   \n\n       word_freq_order  word_freq_mail  ...  word_freq_conference  \\\ncount      3446.000000     3446.000000  ...           3446.000000   \nmean          0.047841        0.201033  ...              0.038328   \nstd           0.222685        0.581086  ...              0.326526   \nmin           0.000000        0.000000  ...              0.000000   \n25%           0.000000        0.000000  ...              0.000000   \n50%           0.000000        0.000000  ...              0.000000   \n75%           0.000000        0.000000  ...              0.000000   \nmax           5.260000       11.110000  ...             10.000000   \n\n       char_freq_;  char_freq_(  char_freq_[  char_freq_!  char_freq_$  \\\ncount  3446.000000  3446.000000  3446.000000  3446.000000  3446.000000   \nmean      0.033385     0.147309     0.017294     0.233433     0.051662   \nstd       0.214935     0.244150     0.112672     0.793952     0.194241   \nmin       0.000000     0.000000     0.000000     0.000000     0.000000   \n25%       0.000000     0.000000     0.000000     0.000000     0.000000   \n50%       0.000000     0.066000     0.000000     0.000000     0.000000   \n75%       0.000000     0.204000     0.000000     0.237000     0.000000   \nmax       4.385000     5.277000     4.081000    32.478000     6.003000   \n\n       char_freq_#  capital_run_length_average  capital_run_length_longest  \\\ncount  3446.000000                 3446.000000                 3446.000000   \nmean      0.033626                    2.362797                   18.532792   \nstd       0.459684                    1.162791                   18.751231   \nmin       0.000000                    1.000000                    1.000000   \n25%       0.000000                    1.508500                    5.000000   \n50%       0.000000                    2.054000                   12.000000   \n75%       0.000000                    2.909000                   23.000000   \nmax      19.829000                    6.822000                   98.000000   \n\n       capital_run_length_total  \ncount               3446.000000  \nmean                 120.788160  \nstd                  130.389669  \nmin                    1.000000  \n25%                   31.000000  \n50%                   76.000000  \n75%                  155.000000  \nmax                  623.000000  \n\n[8 rows x 57 columns]",
      "text/html": "<div>\n<style scoped>\n    .dataframe tbody tr th:only-of-type {\n        vertical-align: middle;\n    }\n\n    .dataframe tbody tr th {\n        vertical-align: top;\n    }\n\n    .dataframe thead th {\n        text-align: right;\n    }\n</style>\n<table border=\"1\" class=\"dataframe\">\n  <thead>\n    <tr style=\"text-align: right;\">\n      <th></th>\n      <th>word_freq_make</th>\n      <th>word_freq_address</th>\n      <th>word_freq_all</th>\n      <th>word_freq_3d</th>\n      <th>word_freq_our</th>\n      <th>word_freq_over</th>\n      <th>word_freq_remove</th>\n      <th>word_freq_internet</th>\n      <th>word_freq_order</th>\n      <th>word_freq_mail</th>\n      <th>...</th>\n      <th>word_freq_conference</th>\n      <th>char_freq_;</th>\n      <th>char_freq_(</th>\n      <th>char_freq_[</th>\n      <th>char_freq_!</th>\n      <th>char_freq_$</th>\n      <th>char_freq_#</th>\n      <th>capital_run_length_average</th>\n      <th>capital_run_length_longest</th>\n      <th>capital_run_length_total</th>\n    </tr>\n  </thead>\n  <tbody>\n    <tr>\n      <th>count</th>\n      <td>3446.000000</td>\n      <td>3446.000000</td>\n      <td>3446.000000</td>\n      <td>3446.000000</td>\n      <td>3446.000000</td>\n      <td>3446.000000</td>\n      <td>3446.000000</td>\n      <td>3446.000000</td>\n      <td>3446.000000</td>\n      <td>3446.000000</td>\n      <td>...</td>\n      <td>3446.000000</td>\n      <td>3446.000000</td>\n      <td>3446.000000</td>\n      <td>3446.000000</td>\n      <td>3446.000000</td>\n      <td>3446.000000</td>\n      <td>3446.000000</td>\n      <td>3446.000000</td>\n      <td>3446.000000</td>\n      <td>3446.000000</td>\n    </tr>\n    <tr>\n      <th>mean</th>\n      <td>0.094779</td>\n      <td>0.092716</td>\n      <td>0.268056</td>\n      <td>0.005818</td>\n      <td>0.308175</td>\n      <td>0.085267</td>\n      <td>0.093688</td>\n      <td>0.096164</td>\n      <td>0.047841</td>\n      <td>0.201033</td>\n      <td>...</td>\n      <td>0.038328</td>\n      <td>0.033385</td>\n      <td>0.147309</td>\n      <td>0.017294</td>\n      <td>0.233433</td>\n      <td>0.051662</td>\n      <td>0.033626</td>\n      <td>2.362797</td>\n      <td>18.532792</td>\n      <td>120.788160</td>\n    </tr>\n    <tr>\n      <th>std</th>\n      <td>0.309801</td>\n      <td>0.474629</td>\n      <td>0.529981</td>\n      <td>0.134848</td>\n      <td>0.701947</td>\n      <td>0.281174</td>\n      <td>0.356036</td>\n      <td>0.420321</td>\n      <td>0.222685</td>\n      <td>0.581086</td>\n      <td>...</td>\n      <td>0.326526</td>\n      <td>0.214935</td>\n      <td>0.244150</td>\n      <td>0.112672</td>\n      <td>0.793952</td>\n      <td>0.194241</td>\n      <td>0.459684</td>\n      <td>1.162791</td>\n      <td>18.751231</td>\n      <td>130.389669</td>\n    </tr>\n    <tr>\n      <th>min</th>\n      <td>0.000000</td>\n      <td>0.000000</td>\n      <td>0.000000</td>\n      <td>0.000000</td>\n      <td>0.000000</td>\n      <td>0.000000</td>\n      <td>0.000000</td>\n      <td>0.000000</td>\n      <td>0.000000</td>\n      <td>0.000000</td>\n      <td>...</td>\n      <td>0.000000</td>\n      <td>0.000000</td>\n      <td>0.000000</td>\n      <td>0.000000</td>\n      <td>0.000000</td>\n      <td>0.000000</td>\n      <td>0.000000</td>\n      <td>1.000000</td>\n      <td>1.000000</td>\n      <td>1.000000</td>\n    </tr>\n    <tr>\n      <th>25%</th>\n      <td>0.000000</td>\n      <td>0.000000</td>\n      <td>0.000000</td>\n      <td>0.000000</td>\n      <td>0.000000</td>\n      <td>0.000000</td>\n      <td>0.000000</td>\n      <td>0.000000</td>\n      <td>0.000000</td>\n      <td>0.000000</td>\n      <td>...</td>\n      <td>0.000000</td>\n      <td>0.000000</td>\n      <td>0.000000</td>\n      <td>0.000000</td>\n      <td>0.000000</td>\n      <td>0.000000</td>\n      <td>0.000000</td>\n      <td>1.508500</td>\n      <td>5.000000</td>\n      <td>31.000000</td>\n    </tr>\n    <tr>\n      <th>50%</th>\n      <td>0.000000</td>\n      <td>0.000000</td>\n      <td>0.000000</td>\n      <td>0.000000</td>\n      <td>0.000000</td>\n      <td>0.000000</td>\n      <td>0.000000</td>\n      <td>0.000000</td>\n      <td>0.000000</td>\n      <td>0.000000</td>\n      <td>...</td>\n      <td>0.000000</td>\n      <td>0.000000</td>\n      <td>0.066000</td>\n      <td>0.000000</td>\n      <td>0.000000</td>\n      <td>0.000000</td>\n      <td>0.000000</td>\n      <td>2.054000</td>\n      <td>12.000000</td>\n      <td>76.000000</td>\n    </tr>\n    <tr>\n      <th>75%</th>\n      <td>0.000000</td>\n      <td>0.000000</td>\n      <td>0.360000</td>\n      <td>0.000000</td>\n      <td>0.360000</td>\n      <td>0.000000</td>\n      <td>0.000000</td>\n      <td>0.000000</td>\n      <td>0.000000</td>\n      <td>0.000000</td>\n      <td>...</td>\n      <td>0.000000</td>\n      <td>0.000000</td>\n      <td>0.204000</td>\n      <td>0.000000</td>\n      <td>0.237000</td>\n      <td>0.000000</td>\n      <td>0.000000</td>\n      <td>2.909000</td>\n      <td>23.000000</td>\n      <td>155.000000</td>\n    </tr>\n    <tr>\n      <th>max</th>\n      <td>4.540000</td>\n      <td>14.280000</td>\n      <td>5.100000</td>\n      <td>7.070000</td>\n      <td>10.000000</td>\n      <td>5.880000</td>\n      <td>7.270000</td>\n      <td>11.110000</td>\n      <td>5.260000</td>\n      <td>11.110000</td>\n      <td>...</td>\n      <td>10.000000</td>\n      <td>4.385000</td>\n      <td>5.277000</td>\n      <td>4.081000</td>\n      <td>32.478000</td>\n      <td>6.003000</td>\n      <td>19.829000</td>\n      <td>6.822000</td>\n      <td>98.000000</td>\n      <td>623.000000</td>\n    </tr>\n  </tbody>\n</table>\n<p>8 rows × 57 columns</p>\n</div>"
     },
     "execution_count": 218,
     "metadata": {},
     "output_type": "execute_result"
    }
   ],
   "source": [
    "data.describe()"
   ]
  },
  {
   "cell_type": "markdown",
   "id": "89e773b7",
   "metadata": {},
   "source": [
    "### Performing Standard Scaling for the dataset"
   ]
  },
  {
   "cell_type": "code",
   "execution_count": 219,
   "id": "38737634",
   "metadata": {},
   "outputs": [
    {
     "data": {
      "text/plain": "      word_freq_make  word_freq_address  word_freq_all  word_freq_3d  \\\n0          -0.305981           1.153245       0.701909     -0.043154   \n1          -0.305981          -0.195373      -0.505857     -0.043154   \n2          -0.305981          -0.195373      -0.505857     -0.043154   \n3          -0.305981          -0.195373      -0.505857     -0.043154   \n4          -0.305981          -0.195373      -0.505857     -0.043154   \n...              ...                ...            ...           ...   \n3441        0.694807          -0.195373       0.664166     -0.043154   \n3442       -0.305981          -0.195373      -0.505857     -0.043154   \n3443        0.662524          -0.195373       0.060283     -0.043154   \n3444        2.793236          -0.195373      -0.505857     -0.043154   \n3445       -0.305981          -0.195373       0.720781     -0.043154   \n\n      word_freq_our  word_freq_over  word_freq_remove  word_freq_internet  \\\n0          0.016849       -0.303297         -0.263181           -0.228820   \n1          0.458542       -0.303297          0.607644            1.270253   \n2          0.458542       -0.303297          0.607644            1.270253   \n3          2.196817       -0.303297         -0.263181            4.173219   \n4          2.296554       -0.303297         -0.263181           -0.228820   \n...             ...             ...               ...                 ...   \n3441      -0.439092        0.799382         -0.263181           -0.228820   \n3442      -0.439092       -0.303297         -0.263181           -0.228820   \n3443      -0.439092       -0.303297         -0.263181           -0.228820   \n3444       0.016849       -0.303297         -0.263181           -0.228820   \n3445      -0.439092       -0.303297         -0.263181           -0.228820   \n\n      word_freq_order  word_freq_mail  ...  word_freq_conference  char_freq_;  \\\n0           -0.214868       -0.346011  ...               -0.1174    -0.155346   \n1            1.177436        0.738324  ...               -0.1174    -0.155346   \n2            1.177436        0.738324  ...               -0.1174    -0.155346   \n3           -0.214868       -0.346011  ...               -0.1174    -0.155346   \n4           -0.214868        0.755535  ...               -0.1174    -0.155346   \n...               ...             ...  ...                   ...          ...   \n3441        -0.214868       -0.346011  ...               -0.1174    -0.155346   \n3442        -0.214868       -0.346011  ...               -0.1174    -0.155346   \n3443        -0.214868       -0.346011  ...               -0.1174     0.319285   \n3444        -0.214868       -0.346011  ...               -0.1174    -0.155346   \n3445        -0.214868       -0.346011  ...               -0.1174    -0.155346   \n\n      char_freq_(  char_freq_[  char_freq_!  char_freq_$  char_freq_#  \\\n0       -0.603441    -0.153514     0.685993    -0.266006     -0.07316   \n1       -0.042229    -0.153514    -0.121477    -0.266006     -0.07316   \n2       -0.050422    -0.153514    -0.123996    -0.266006     -0.07316   \n3        0.310064    -0.153514    -0.294056    -0.266006     -0.07316   \n4       -0.382233    -0.153514    -0.087465     0.012040     -0.07316   \n...           ...          ...          ...          ...          ...   \n3441     0.346932    -0.153514    -0.294056    -0.266006     -0.07316   \n3442    -0.603441    -0.153514     0.150619    -0.266006     -0.07316   \n3443     2.337799    -0.153514    -0.294056    -0.266006     -0.07316   \n3444    -0.369944    -0.153514    -0.294056    -0.266006     -0.07316   \n3445    -0.603441    -0.153514    -0.136593    -0.266006     -0.07316   \n\n      capital_run_length_average  capital_run_length_longest  \\\n0                       1.198328                    2.265098   \n1                       1.009960                    1.145009   \n2                       1.009960                    1.145009   \n3                       0.548074                   -0.188431   \n4                      -0.595032                   -0.775144   \n...                          ...                         ...   \n3441                   -1.050038                   -0.828481   \n3442                   -0.694806                   -0.775144   \n3443                   -0.824685                   -0.668469   \n3444                   -1.045737                   -0.721806   \n3445                   -0.957144                   -0.721806   \n\n      capital_run_length_total  \n0                     1.205883  \n1                     0.538555  \n2                     0.538555  \n3                    -0.512294  \n4                    -0.067409  \n...                        ...  \n3441                 -0.251499  \n3442                 -0.819111  \n3443                 -0.021386  \n3444                 -0.328204  \n3445                 -0.619680  \n\n[3446 rows x 57 columns]",
      "text/html": "<div>\n<style scoped>\n    .dataframe tbody tr th:only-of-type {\n        vertical-align: middle;\n    }\n\n    .dataframe tbody tr th {\n        vertical-align: top;\n    }\n\n    .dataframe thead th {\n        text-align: right;\n    }\n</style>\n<table border=\"1\" class=\"dataframe\">\n  <thead>\n    <tr style=\"text-align: right;\">\n      <th></th>\n      <th>word_freq_make</th>\n      <th>word_freq_address</th>\n      <th>word_freq_all</th>\n      <th>word_freq_3d</th>\n      <th>word_freq_our</th>\n      <th>word_freq_over</th>\n      <th>word_freq_remove</th>\n      <th>word_freq_internet</th>\n      <th>word_freq_order</th>\n      <th>word_freq_mail</th>\n      <th>...</th>\n      <th>word_freq_conference</th>\n      <th>char_freq_;</th>\n      <th>char_freq_(</th>\n      <th>char_freq_[</th>\n      <th>char_freq_!</th>\n      <th>char_freq_$</th>\n      <th>char_freq_#</th>\n      <th>capital_run_length_average</th>\n      <th>capital_run_length_longest</th>\n      <th>capital_run_length_total</th>\n    </tr>\n  </thead>\n  <tbody>\n    <tr>\n      <th>0</th>\n      <td>-0.305981</td>\n      <td>1.153245</td>\n      <td>0.701909</td>\n      <td>-0.043154</td>\n      <td>0.016849</td>\n      <td>-0.303297</td>\n      <td>-0.263181</td>\n      <td>-0.228820</td>\n      <td>-0.214868</td>\n      <td>-0.346011</td>\n      <td>...</td>\n      <td>-0.1174</td>\n      <td>-0.155346</td>\n      <td>-0.603441</td>\n      <td>-0.153514</td>\n      <td>0.685993</td>\n      <td>-0.266006</td>\n      <td>-0.07316</td>\n      <td>1.198328</td>\n      <td>2.265098</td>\n      <td>1.205883</td>\n    </tr>\n    <tr>\n      <th>1</th>\n      <td>-0.305981</td>\n      <td>-0.195373</td>\n      <td>-0.505857</td>\n      <td>-0.043154</td>\n      <td>0.458542</td>\n      <td>-0.303297</td>\n      <td>0.607644</td>\n      <td>1.270253</td>\n      <td>1.177436</td>\n      <td>0.738324</td>\n      <td>...</td>\n      <td>-0.1174</td>\n      <td>-0.155346</td>\n      <td>-0.042229</td>\n      <td>-0.153514</td>\n      <td>-0.121477</td>\n      <td>-0.266006</td>\n      <td>-0.07316</td>\n      <td>1.009960</td>\n      <td>1.145009</td>\n      <td>0.538555</td>\n    </tr>\n    <tr>\n      <th>2</th>\n      <td>-0.305981</td>\n      <td>-0.195373</td>\n      <td>-0.505857</td>\n      <td>-0.043154</td>\n      <td>0.458542</td>\n      <td>-0.303297</td>\n      <td>0.607644</td>\n      <td>1.270253</td>\n      <td>1.177436</td>\n      <td>0.738324</td>\n      <td>...</td>\n      <td>-0.1174</td>\n      <td>-0.155346</td>\n      <td>-0.050422</td>\n      <td>-0.153514</td>\n      <td>-0.123996</td>\n      <td>-0.266006</td>\n      <td>-0.07316</td>\n      <td>1.009960</td>\n      <td>1.145009</td>\n      <td>0.538555</td>\n    </tr>\n    <tr>\n      <th>3</th>\n      <td>-0.305981</td>\n      <td>-0.195373</td>\n      <td>-0.505857</td>\n      <td>-0.043154</td>\n      <td>2.196817</td>\n      <td>-0.303297</td>\n      <td>-0.263181</td>\n      <td>4.173219</td>\n      <td>-0.214868</td>\n      <td>-0.346011</td>\n      <td>...</td>\n      <td>-0.1174</td>\n      <td>-0.155346</td>\n      <td>0.310064</td>\n      <td>-0.153514</td>\n      <td>-0.294056</td>\n      <td>-0.266006</td>\n      <td>-0.07316</td>\n      <td>0.548074</td>\n      <td>-0.188431</td>\n      <td>-0.512294</td>\n    </tr>\n    <tr>\n      <th>4</th>\n      <td>-0.305981</td>\n      <td>-0.195373</td>\n      <td>-0.505857</td>\n      <td>-0.043154</td>\n      <td>2.296554</td>\n      <td>-0.303297</td>\n      <td>-0.263181</td>\n      <td>-0.228820</td>\n      <td>-0.214868</td>\n      <td>0.755535</td>\n      <td>...</td>\n      <td>-0.1174</td>\n      <td>-0.155346</td>\n      <td>-0.382233</td>\n      <td>-0.153514</td>\n      <td>-0.087465</td>\n      <td>0.012040</td>\n      <td>-0.07316</td>\n      <td>-0.595032</td>\n      <td>-0.775144</td>\n      <td>-0.067409</td>\n    </tr>\n    <tr>\n      <th>...</th>\n      <td>...</td>\n      <td>...</td>\n      <td>...</td>\n      <td>...</td>\n      <td>...</td>\n      <td>...</td>\n      <td>...</td>\n      <td>...</td>\n      <td>...</td>\n      <td>...</td>\n      <td>...</td>\n      <td>...</td>\n      <td>...</td>\n      <td>...</td>\n      <td>...</td>\n      <td>...</td>\n      <td>...</td>\n      <td>...</td>\n      <td>...</td>\n      <td>...</td>\n      <td>...</td>\n    </tr>\n    <tr>\n      <th>3441</th>\n      <td>0.694807</td>\n      <td>-0.195373</td>\n      <td>0.664166</td>\n      <td>-0.043154</td>\n      <td>-0.439092</td>\n      <td>0.799382</td>\n      <td>-0.263181</td>\n      <td>-0.228820</td>\n      <td>-0.214868</td>\n      <td>-0.346011</td>\n      <td>...</td>\n      <td>-0.1174</td>\n      <td>-0.155346</td>\n      <td>0.346932</td>\n      <td>-0.153514</td>\n      <td>-0.294056</td>\n      <td>-0.266006</td>\n      <td>-0.07316</td>\n      <td>-1.050038</td>\n      <td>-0.828481</td>\n      <td>-0.251499</td>\n    </tr>\n    <tr>\n      <th>3442</th>\n      <td>-0.305981</td>\n      <td>-0.195373</td>\n      <td>-0.505857</td>\n      <td>-0.043154</td>\n      <td>-0.439092</td>\n      <td>-0.303297</td>\n      <td>-0.263181</td>\n      <td>-0.228820</td>\n      <td>-0.214868</td>\n      <td>-0.346011</td>\n      <td>...</td>\n      <td>-0.1174</td>\n      <td>-0.155346</td>\n      <td>-0.603441</td>\n      <td>-0.153514</td>\n      <td>0.150619</td>\n      <td>-0.266006</td>\n      <td>-0.07316</td>\n      <td>-0.694806</td>\n      <td>-0.775144</td>\n      <td>-0.819111</td>\n    </tr>\n    <tr>\n      <th>3443</th>\n      <td>0.662524</td>\n      <td>-0.195373</td>\n      <td>0.060283</td>\n      <td>-0.043154</td>\n      <td>-0.439092</td>\n      <td>-0.303297</td>\n      <td>-0.263181</td>\n      <td>-0.228820</td>\n      <td>-0.214868</td>\n      <td>-0.346011</td>\n      <td>...</td>\n      <td>-0.1174</td>\n      <td>0.319285</td>\n      <td>2.337799</td>\n      <td>-0.153514</td>\n      <td>-0.294056</td>\n      <td>-0.266006</td>\n      <td>-0.07316</td>\n      <td>-0.824685</td>\n      <td>-0.668469</td>\n      <td>-0.021386</td>\n    </tr>\n    <tr>\n      <th>3444</th>\n      <td>2.793236</td>\n      <td>-0.195373</td>\n      <td>-0.505857</td>\n      <td>-0.043154</td>\n      <td>0.016849</td>\n      <td>-0.303297</td>\n      <td>-0.263181</td>\n      <td>-0.228820</td>\n      <td>-0.214868</td>\n      <td>-0.346011</td>\n      <td>...</td>\n      <td>-0.1174</td>\n      <td>-0.155346</td>\n      <td>-0.369944</td>\n      <td>-0.153514</td>\n      <td>-0.294056</td>\n      <td>-0.266006</td>\n      <td>-0.07316</td>\n      <td>-1.045737</td>\n      <td>-0.721806</td>\n      <td>-0.328204</td>\n    </tr>\n    <tr>\n      <th>3445</th>\n      <td>-0.305981</td>\n      <td>-0.195373</td>\n      <td>0.720781</td>\n      <td>-0.043154</td>\n      <td>-0.439092</td>\n      <td>-0.303297</td>\n      <td>-0.263181</td>\n      <td>-0.228820</td>\n      <td>-0.214868</td>\n      <td>-0.346011</td>\n      <td>...</td>\n      <td>-0.1174</td>\n      <td>-0.155346</td>\n      <td>-0.603441</td>\n      <td>-0.153514</td>\n      <td>-0.136593</td>\n      <td>-0.266006</td>\n      <td>-0.07316</td>\n      <td>-0.957144</td>\n      <td>-0.721806</td>\n      <td>-0.619680</td>\n    </tr>\n  </tbody>\n</table>\n<p>3446 rows × 57 columns</p>\n</div>"
     },
     "execution_count": 219,
     "metadata": {},
     "output_type": "execute_result"
    }
   ],
   "source": [
    "scaler=StandardScaler()\n",
    "scaled_data=scaler.fit_transform(data)\n",
    "df=pd.DataFrame(data=scaled_data, columns= data.columns)\n",
    "df"
   ]
  },
  {
   "cell_type": "markdown",
   "id": "bed5020e",
   "metadata": {},
   "source": [
    "### Summmary of dataset after performing Standard Scaling"
   ]
  },
  {
   "cell_type": "code",
   "execution_count": 220,
   "id": "825327f1",
   "metadata": {},
   "outputs": [
    {
     "data": {
      "text/plain": "       word_freq_make  word_freq_address  word_freq_all  word_freq_3d  \\\ncount    3.446000e+03       3.446000e+03   3.446000e+03  3.446000e+03   \nmean     1.906919e-15      -4.400459e-16   6.484785e-16 -5.201674e-16   \nstd      1.000145e+00       1.000145e+00   1.000145e+00  1.000145e+00   \nmin     -3.059813e-01      -1.953730e-01  -5.058574e-01 -4.315372e-02   \n25%     -3.059813e-01      -1.953730e-01  -5.058574e-01 -4.315372e-02   \n50%     -3.059813e-01      -1.953730e-01  -5.058574e-01 -4.315372e-02   \n75%     -3.059813e-01      -1.953730e-01   1.735113e-01 -4.315372e-02   \nmax      1.435073e+01       2.989567e+01   9.118532e+00  5.239393e+01   \n\n       word_freq_our  word_freq_over  word_freq_remove  word_freq_internet  \\\ncount   3.446000e+03    3.446000e+03      3.446000e+03        3.446000e+03   \nmean   -4.045146e-15   -1.406014e-15     -1.210717e-14        1.584065e-15   \nstd     1.000145e+00    1.000145e+00      1.000145e+00        1.000145e+00   \nmin    -4.390922e-01   -3.032971e-01     -2.631810e-01       -2.288195e-01   \n25%    -4.390922e-01   -3.032971e-01     -2.631810e-01       -2.288195e-01   \n50%    -4.390922e-01   -3.032971e-01     -2.631810e-01       -2.288195e-01   \n75%     7.384151e-02   -3.032971e-01     -2.631810e-01       -2.288195e-01   \nmax     1.380907e+01    2.061203e+01      2.015906e+01        2.620720e+01   \n\n       word_freq_order  word_freq_mail  ...  word_freq_conference  \\\ncount     3.446000e+03    3.446000e+03  ...          3.446000e+03   \nmean      4.067150e-15   -7.056650e-16  ...          2.352788e-15   \nstd       1.000145e+00    1.000145e+00  ...          1.000145e+00   \nmin      -2.148683e-01   -3.460115e-01  ...         -1.173999e-01   \n25%      -2.148683e-01   -3.460115e-01  ...         -1.173999e-01   \n50%      -2.148683e-01   -3.460115e-01  ...         -1.173999e-01   \n75%      -2.148683e-01   -3.460115e-01  ...         -1.173999e-01   \nmax       2.340938e+01    1.877615e+01  ...          3.051252e+01   \n\n        char_freq_;   char_freq_(   char_freq_[   char_freq_!   char_freq_$  \\\ncount  3.446000e+03  3.446000e+03  3.446000e+03  3.446000e+03  3.446000e+03   \nmean   2.911178e-15  1.163286e-15 -1.355787e-15 -9.867405e-16  4.202739e-15   \nstd    1.000145e+00  1.000145e+00  1.000145e+00  1.000145e+00  1.000145e+00   \nmin   -1.553462e-01 -6.034406e-01 -1.535136e-01 -2.940565e-01 -2.660056e-01   \n25%   -1.553462e-01 -6.034406e-01 -1.535136e-01 -2.940565e-01 -2.660056e-01   \n50%   -1.553462e-01 -3.330760e-01 -1.535136e-01 -2.940565e-01 -2.660056e-01   \n75%   -1.553462e-01  2.322319e-01 -1.535136e-01  4.493408e-03 -2.660056e-01   \nmax    2.024913e+01  2.101344e+01  3.607177e+01  4.061861e+01  3.064342e+01   \n\n        char_freq_#  capital_run_length_average  capital_run_length_longest  \\\ncount  3.446000e+03                3.446000e+03                3.446000e+03   \nmean   3.410247e-17                8.189747e-17                6.437103e-17   \nstd    1.000145e+00                1.000145e+00                1.000145e+00   \nmin   -7.316004e-02               -1.172176e+00               -9.351566e-01   \n25%   -7.316004e-02               -7.348022e-01               -7.218063e-01   \n50%   -7.316004e-02               -2.656043e-01               -3.484433e-01   \n75%   -7.316004e-02                4.698022e-01                2.382701e-01   \nmax    4.306921e+01                3.835470e+00                4.238588e+00   \n\n       capital_run_length_total  \ncount              3.446000e+03  \nmean              -1.803871e-16  \nstd                1.000145e+00  \nmin               -9.188270e-01  \n25%               -6.887140e-01  \n50%               -3.435446e-01  \n75%                2.624196e-01  \nmax                3.852182e+00  \n\n[8 rows x 57 columns]",
      "text/html": "<div>\n<style scoped>\n    .dataframe tbody tr th:only-of-type {\n        vertical-align: middle;\n    }\n\n    .dataframe tbody tr th {\n        vertical-align: top;\n    }\n\n    .dataframe thead th {\n        text-align: right;\n    }\n</style>\n<table border=\"1\" class=\"dataframe\">\n  <thead>\n    <tr style=\"text-align: right;\">\n      <th></th>\n      <th>word_freq_make</th>\n      <th>word_freq_address</th>\n      <th>word_freq_all</th>\n      <th>word_freq_3d</th>\n      <th>word_freq_our</th>\n      <th>word_freq_over</th>\n      <th>word_freq_remove</th>\n      <th>word_freq_internet</th>\n      <th>word_freq_order</th>\n      <th>word_freq_mail</th>\n      <th>...</th>\n      <th>word_freq_conference</th>\n      <th>char_freq_;</th>\n      <th>char_freq_(</th>\n      <th>char_freq_[</th>\n      <th>char_freq_!</th>\n      <th>char_freq_$</th>\n      <th>char_freq_#</th>\n      <th>capital_run_length_average</th>\n      <th>capital_run_length_longest</th>\n      <th>capital_run_length_total</th>\n    </tr>\n  </thead>\n  <tbody>\n    <tr>\n      <th>count</th>\n      <td>3.446000e+03</td>\n      <td>3.446000e+03</td>\n      <td>3.446000e+03</td>\n      <td>3.446000e+03</td>\n      <td>3.446000e+03</td>\n      <td>3.446000e+03</td>\n      <td>3.446000e+03</td>\n      <td>3.446000e+03</td>\n      <td>3.446000e+03</td>\n      <td>3.446000e+03</td>\n      <td>...</td>\n      <td>3.446000e+03</td>\n      <td>3.446000e+03</td>\n      <td>3.446000e+03</td>\n      <td>3.446000e+03</td>\n      <td>3.446000e+03</td>\n      <td>3.446000e+03</td>\n      <td>3.446000e+03</td>\n      <td>3.446000e+03</td>\n      <td>3.446000e+03</td>\n      <td>3.446000e+03</td>\n    </tr>\n    <tr>\n      <th>mean</th>\n      <td>1.906919e-15</td>\n      <td>-4.400459e-16</td>\n      <td>6.484785e-16</td>\n      <td>-5.201674e-16</td>\n      <td>-4.045146e-15</td>\n      <td>-1.406014e-15</td>\n      <td>-1.210717e-14</td>\n      <td>1.584065e-15</td>\n      <td>4.067150e-15</td>\n      <td>-7.056650e-16</td>\n      <td>...</td>\n      <td>2.352788e-15</td>\n      <td>2.911178e-15</td>\n      <td>1.163286e-15</td>\n      <td>-1.355787e-15</td>\n      <td>-9.867405e-16</td>\n      <td>4.202739e-15</td>\n      <td>3.410247e-17</td>\n      <td>8.189747e-17</td>\n      <td>6.437103e-17</td>\n      <td>-1.803871e-16</td>\n    </tr>\n    <tr>\n      <th>std</th>\n      <td>1.000145e+00</td>\n      <td>1.000145e+00</td>\n      <td>1.000145e+00</td>\n      <td>1.000145e+00</td>\n      <td>1.000145e+00</td>\n      <td>1.000145e+00</td>\n      <td>1.000145e+00</td>\n      <td>1.000145e+00</td>\n      <td>1.000145e+00</td>\n      <td>1.000145e+00</td>\n      <td>...</td>\n      <td>1.000145e+00</td>\n      <td>1.000145e+00</td>\n      <td>1.000145e+00</td>\n      <td>1.000145e+00</td>\n      <td>1.000145e+00</td>\n      <td>1.000145e+00</td>\n      <td>1.000145e+00</td>\n      <td>1.000145e+00</td>\n      <td>1.000145e+00</td>\n      <td>1.000145e+00</td>\n    </tr>\n    <tr>\n      <th>min</th>\n      <td>-3.059813e-01</td>\n      <td>-1.953730e-01</td>\n      <td>-5.058574e-01</td>\n      <td>-4.315372e-02</td>\n      <td>-4.390922e-01</td>\n      <td>-3.032971e-01</td>\n      <td>-2.631810e-01</td>\n      <td>-2.288195e-01</td>\n      <td>-2.148683e-01</td>\n      <td>-3.460115e-01</td>\n      <td>...</td>\n      <td>-1.173999e-01</td>\n      <td>-1.553462e-01</td>\n      <td>-6.034406e-01</td>\n      <td>-1.535136e-01</td>\n      <td>-2.940565e-01</td>\n      <td>-2.660056e-01</td>\n      <td>-7.316004e-02</td>\n      <td>-1.172176e+00</td>\n      <td>-9.351566e-01</td>\n      <td>-9.188270e-01</td>\n    </tr>\n    <tr>\n      <th>25%</th>\n      <td>-3.059813e-01</td>\n      <td>-1.953730e-01</td>\n      <td>-5.058574e-01</td>\n      <td>-4.315372e-02</td>\n      <td>-4.390922e-01</td>\n      <td>-3.032971e-01</td>\n      <td>-2.631810e-01</td>\n      <td>-2.288195e-01</td>\n      <td>-2.148683e-01</td>\n      <td>-3.460115e-01</td>\n      <td>...</td>\n      <td>-1.173999e-01</td>\n      <td>-1.553462e-01</td>\n      <td>-6.034406e-01</td>\n      <td>-1.535136e-01</td>\n      <td>-2.940565e-01</td>\n      <td>-2.660056e-01</td>\n      <td>-7.316004e-02</td>\n      <td>-7.348022e-01</td>\n      <td>-7.218063e-01</td>\n      <td>-6.887140e-01</td>\n    </tr>\n    <tr>\n      <th>50%</th>\n      <td>-3.059813e-01</td>\n      <td>-1.953730e-01</td>\n      <td>-5.058574e-01</td>\n      <td>-4.315372e-02</td>\n      <td>-4.390922e-01</td>\n      <td>-3.032971e-01</td>\n      <td>-2.631810e-01</td>\n      <td>-2.288195e-01</td>\n      <td>-2.148683e-01</td>\n      <td>-3.460115e-01</td>\n      <td>...</td>\n      <td>-1.173999e-01</td>\n      <td>-1.553462e-01</td>\n      <td>-3.330760e-01</td>\n      <td>-1.535136e-01</td>\n      <td>-2.940565e-01</td>\n      <td>-2.660056e-01</td>\n      <td>-7.316004e-02</td>\n      <td>-2.656043e-01</td>\n      <td>-3.484433e-01</td>\n      <td>-3.435446e-01</td>\n    </tr>\n    <tr>\n      <th>75%</th>\n      <td>-3.059813e-01</td>\n      <td>-1.953730e-01</td>\n      <td>1.735113e-01</td>\n      <td>-4.315372e-02</td>\n      <td>7.384151e-02</td>\n      <td>-3.032971e-01</td>\n      <td>-2.631810e-01</td>\n      <td>-2.288195e-01</td>\n      <td>-2.148683e-01</td>\n      <td>-3.460115e-01</td>\n      <td>...</td>\n      <td>-1.173999e-01</td>\n      <td>-1.553462e-01</td>\n      <td>2.322319e-01</td>\n      <td>-1.535136e-01</td>\n      <td>4.493408e-03</td>\n      <td>-2.660056e-01</td>\n      <td>-7.316004e-02</td>\n      <td>4.698022e-01</td>\n      <td>2.382701e-01</td>\n      <td>2.624196e-01</td>\n    </tr>\n    <tr>\n      <th>max</th>\n      <td>1.435073e+01</td>\n      <td>2.989567e+01</td>\n      <td>9.118532e+00</td>\n      <td>5.239393e+01</td>\n      <td>1.380907e+01</td>\n      <td>2.061203e+01</td>\n      <td>2.015906e+01</td>\n      <td>2.620720e+01</td>\n      <td>2.340938e+01</td>\n      <td>1.877615e+01</td>\n      <td>...</td>\n      <td>3.051252e+01</td>\n      <td>2.024913e+01</td>\n      <td>2.101344e+01</td>\n      <td>3.607177e+01</td>\n      <td>4.061861e+01</td>\n      <td>3.064342e+01</td>\n      <td>4.306921e+01</td>\n      <td>3.835470e+00</td>\n      <td>4.238588e+00</td>\n      <td>3.852182e+00</td>\n    </tr>\n  </tbody>\n</table>\n<p>8 rows × 57 columns</p>\n</div>"
     },
     "execution_count": 220,
     "metadata": {},
     "output_type": "execute_result"
    }
   ],
   "source": [
    "df.describe()"
   ]
  },
  {
   "cell_type": "markdown",
   "id": "e0f42629",
   "metadata": {},
   "source": [
    "# Performing PCA to the Dataset"
   ]
  },
  {
   "cell_type": "code",
   "execution_count": 221,
   "id": "f2f96176",
   "metadata": {},
   "outputs": [
    {
     "data": {
      "text/plain": "<Figure size 640x480 with 1 Axes>",
      "image/png": "[encoded data removed]"
     },
     "metadata": {},
     "output_type": "display_data"
    }
   ],
   "source": [
    "pca = PCA()\n",
    "principalComponents = pca.fit_transform(df)\n",
    "plt.figure()\n",
    "plt.plot(np.cumsum(pca.explained_variance_ratio_))\n",
    "plt.xlabel('Number of Components')\n",
    "plt.ylabel('Variance (%)') #for each component\n",
    "plt.title('Explained Variance')\n",
    "plt.grid(True)\n",
    "plt.show()"
   ]
  },
  {
   "cell_type": "markdown",
   "id": "76f5ea8c",
   "metadata": {},
   "source": [
    "### Introducing the PCA components"
   ]
  },
  {
   "cell_type": "code",
   "execution_count": 222,
   "id": "c3877428",
   "metadata": {},
   "outputs": [],
   "source": [
    "pca = PCA(n_components=44)\n",
    "new_data = pca.fit_transform(df)\n",
    "\n",
    "# This will be the new data fed to the algorithm.\n",
    "principal_Df = pd.DataFrame(data = new_data\n",
    "             , columns = ['PC1', 'PC2','PC3','PC4','PC5','PC6','PC7','PC8','PC9','PC10','PC11','PC12','PC13','PC14','PC15','PC16','PC17','PC18','PC19','PC20',\n",
    "                         'PC21', 'PC22','PC23','PC24','PC25','PC26','PC27','PC28','PC29','PC30','PC31','PC32','PC33','PC34','PC35','PC36','PC37','PC38','PC39','PC40',\n",
    "                         'PC41','PC42','PC43','PC44'])"
   ]
  },
  {
   "cell_type": "markdown",
   "id": "6cbc3bff",
   "metadata": {},
   "source": [
    "### Dataset after performing PCA"
   ]
  },
  {
   "cell_type": "code",
   "execution_count": 223,
   "id": "ce02c23f",
   "metadata": {},
   "outputs": [
    {
     "data": {
      "text/plain": "        PC1       PC2       PC3       PC4       PC5       PC6       PC7  \\\n0 -1.006857  1.802127  0.718562  0.075168 -0.217737 -0.059026 -1.193371   \n1 -0.985097  1.538511  0.306309 -0.027401 -0.286973 -0.185208 -0.690159   \n2 -0.986344  1.538194  0.305719 -0.026691 -0.287252 -0.184637 -0.690771   \n3 -0.589457 -0.147059 -0.010503  0.294492 -0.672922 -0.410480  0.165879   \n4 -1.147370  0.762969 -1.665203  0.687182 -0.063251  1.574988 -1.343563   \n\n        PC8       PC9      PC10  ...      PC35      PC36      PC37      PC38  \\\n0 -0.853407  1.060751  0.868851  ... -0.118184  0.224863  0.058474  0.538323   \n1  0.208038 -0.357099 -0.198207  ...  0.392079 -0.600650  0.334913  0.337797   \n2  0.207169 -0.357372 -0.199754  ...  0.391825 -0.599557  0.332429  0.340715   \n3  0.739213 -1.294948 -0.065360  ...  0.338266 -1.154014  1.043383  0.804659   \n4 -0.179046 -0.197739 -0.558008  ...  1.885530 -0.336336  1.356590 -0.602164   \n\n       PC39      PC40      PC41      PC42      PC43      PC44  \n0 -0.014599  0.162483 -0.109222  0.048222 -0.536700 -0.327752  \n1 -0.798781  0.297410 -0.137876  0.067423  0.329602 -0.569638  \n2 -0.799991  0.298734 -0.135573  0.066870  0.328968 -0.569208  \n3 -0.771603  1.211318  0.431491 -0.722544  0.290805 -0.601014  \n4  0.108802  0.538321  0.397762  1.104701 -0.397634  0.412028  \n\n[5 rows x 44 columns]",
      "text/html": "<div>\n<style scoped>\n    .dataframe tbody tr th:only-of-type {\n        vertical-align: middle;\n    }\n\n    .dataframe tbody tr th {\n        vertical-align: top;\n    }\n\n    .dataframe thead th {\n        text-align: right;\n    }\n</style>\n<table border=\"1\" class=\"dataframe\">\n  <thead>\n    <tr style=\"text-align: right;\">\n      <th></th>\n      <th>PC1</th>\n      <th>PC2</th>\n      <th>PC3</th>\n      <th>PC4</th>\n      <th>PC5</th>\n      <th>PC6</th>\n      <th>PC7</th>\n      <th>PC8</th>\n      <th>PC9</th>\n      <th>PC10</th>\n      <th>...</th>\n      <th>PC35</th>\n      <th>PC36</th>\n      <th>PC37</th>\n      <th>PC38</th>\n      <th>PC39</th>\n      <th>PC40</th>\n      <th>PC41</th>\n      <th>PC42</th>\n      <th>PC43</th>\n      <th>PC44</th>\n    </tr>\n  </thead>\n  <tbody>\n    <tr>\n      <th>0</th>\n      <td>-1.006857</td>\n      <td>1.802127</td>\n      <td>0.718562</td>\n      <td>0.075168</td>\n      <td>-0.217737</td>\n      <td>-0.059026</td>\n      <td>-1.193371</td>\n      <td>-0.853407</td>\n      <td>1.060751</td>\n      <td>0.868851</td>\n      <td>...</td>\n      <td>-0.118184</td>\n      <td>0.224863</td>\n      <td>0.058474</td>\n      <td>0.538323</td>\n      <td>-0.014599</td>\n      <td>0.162483</td>\n      <td>-0.109222</td>\n      <td>0.048222</td>\n      <td>-0.536700</td>\n      <td>-0.327752</td>\n    </tr>\n    <tr>\n      <th>1</th>\n      <td>-0.985097</td>\n      <td>1.538511</td>\n      <td>0.306309</td>\n      <td>-0.027401</td>\n      <td>-0.286973</td>\n      <td>-0.185208</td>\n      <td>-0.690159</td>\n      <td>0.208038</td>\n      <td>-0.357099</td>\n      <td>-0.198207</td>\n      <td>...</td>\n      <td>0.392079</td>\n      <td>-0.600650</td>\n      <td>0.334913</td>\n      <td>0.337797</td>\n      <td>-0.798781</td>\n      <td>0.297410</td>\n      <td>-0.137876</td>\n      <td>0.067423</td>\n      <td>0.329602</td>\n      <td>-0.569638</td>\n    </tr>\n    <tr>\n      <th>2</th>\n      <td>-0.986344</td>\n      <td>1.538194</td>\n      <td>0.305719</td>\n      <td>-0.026691</td>\n      <td>-0.287252</td>\n      <td>-0.184637</td>\n      <td>-0.690771</td>\n      <td>0.207169</td>\n      <td>-0.357372</td>\n      <td>-0.199754</td>\n      <td>...</td>\n      <td>0.391825</td>\n      <td>-0.599557</td>\n      <td>0.332429</td>\n      <td>0.340715</td>\n      <td>-0.799991</td>\n      <td>0.298734</td>\n      <td>-0.135573</td>\n      <td>0.066870</td>\n      <td>0.328968</td>\n      <td>-0.569208</td>\n    </tr>\n    <tr>\n      <th>3</th>\n      <td>-0.589457</td>\n      <td>-0.147059</td>\n      <td>-0.010503</td>\n      <td>0.294492</td>\n      <td>-0.672922</td>\n      <td>-0.410480</td>\n      <td>0.165879</td>\n      <td>0.739213</td>\n      <td>-1.294948</td>\n      <td>-0.065360</td>\n      <td>...</td>\n      <td>0.338266</td>\n      <td>-1.154014</td>\n      <td>1.043383</td>\n      <td>0.804659</td>\n      <td>-0.771603</td>\n      <td>1.211318</td>\n      <td>0.431491</td>\n      <td>-0.722544</td>\n      <td>0.290805</td>\n      <td>-0.601014</td>\n    </tr>\n    <tr>\n      <th>4</th>\n      <td>-1.147370</td>\n      <td>0.762969</td>\n      <td>-1.665203</td>\n      <td>0.687182</td>\n      <td>-0.063251</td>\n      <td>1.574988</td>\n      <td>-1.343563</td>\n      <td>-0.179046</td>\n      <td>-0.197739</td>\n      <td>-0.558008</td>\n      <td>...</td>\n      <td>1.885530</td>\n      <td>-0.336336</td>\n      <td>1.356590</td>\n      <td>-0.602164</td>\n      <td>0.108802</td>\n      <td>0.538321</td>\n      <td>0.397762</td>\n      <td>1.104701</td>\n      <td>-0.397634</td>\n      <td>0.412028</td>\n    </tr>\n  </tbody>\n</table>\n<p>5 rows × 44 columns</p>\n</div>"
     },
     "execution_count": 223,
     "metadata": {},
     "output_type": "execute_result"
    }
   ],
   "source": [
    "# principal_Df\n",
    "principal_Df.head()"
   ]
  },
  {
   "cell_type": "code",
   "execution_count": 224,
   "id": "d8cc2c7a",
   "metadata": {},
   "outputs": [
    {
     "name": "stdout",
     "output_type": "stream",
     "text": [
      "[6.27759756 3.15144097 2.16980778 1.66017098 1.59211527 1.46548076\n",
      " 1.40631178 1.31435968 1.26232538 1.22095715 1.20125143 1.16639544\n",
      " 1.14251364 1.11554781 1.10047142 1.07448346 1.05813956 1.0445924\n",
      " 1.03537503 1.01613965 1.0128165  0.99035332 0.97886319 0.9587258\n",
      " 0.94603398 0.94152035 0.92774399 0.91089495 0.90401388 0.87347768\n",
      " 0.86263192 0.837394   0.81820732 0.80176572 0.79137013 0.76600459\n",
      " 0.75746968 0.7444784  0.73415476 0.72289716 0.70096591 0.6667599\n",
      " 0.62742335 0.59384162]\n"
     ]
    }
   ],
   "source": [
    "print(pca.explained_variance_)\n"
   ]
  },
  {
   "cell_type": "code",
   "execution_count": 225,
   "id": "e5ee10ab",
   "metadata": {},
   "outputs": [
    {
     "name": "stdout",
     "output_type": "stream",
     "text": [
      "[[-0.0362469  -0.0082901  -0.04087849 ...  0.00769072 -0.04498994\n",
      "  -0.0378591 ]\n",
      " [ 0.10473599  0.06979274  0.10340085 ...  0.34752525  0.37715026\n",
      "   0.29949495]\n",
      " [-0.08995266 -0.04322259 -0.09566598 ...  0.31904498  0.26996566\n",
      "   0.31890652]\n",
      " ...\n",
      " [-0.20840182  0.28778077 -0.04416687 ... -0.12174171 -0.04355314\n",
      "   0.12921634]\n",
      " [-0.02948406  0.26680539  0.0318407  ... -0.01066101  0.02049135\n",
      "   0.00045426]\n",
      " [-0.01501551  0.00683119  0.07284888 ... -0.04222847 -0.02392719\n",
      "  -0.00876602]]\n"
     ]
    }
   ],
   "source": [
    "print(pca.components_)"
   ]
  },
  {
   "cell_type": "markdown",
   "id": "7b54fabb",
   "metadata": {},
   "source": [
    "## Build the predictive model by appling K-Nearest Neighbors (KNN) algorithm"
   ]
  },
  {
   "cell_type": "code",
   "execution_count": 226,
   "id": "ba052743",
   "metadata": {},
   "outputs": [],
   "source": [
    "X = principal_Df.iloc[:,0:44].values\n",
    "y = data_set.iloc[:, 57].values"
   ]
  },
  {
   "cell_type": "markdown",
   "id": "43b6bc95",
   "metadata": {},
   "source": [
    "### Splitting the dataset into the Training set and Test set"
   ]
  },
  {
   "cell_type": "code",
   "execution_count": 227,
   "id": "ec680333",
   "metadata": {},
   "outputs": [],
   "source": [
    "X_train, X_test, y_train, y_test = train_test_split(X, y, test_size = 0.20, random_state = 0)"
   ]
  },
  {
   "cell_type": "markdown",
   "source": [
    "### Find optimal K value"
   ],
   "metadata": {
    "collapsed": false
   }
  },
  {
   "cell_type": "code",
   "execution_count": 228,
   "outputs": [
    {
     "name": "stderr",
     "output_type": "stream",
     "text": [
      "C:\\ProgramData\\Anaconda3\\lib\\site-packages\\sklearn\\neighbors\\_classification.py:228: FutureWarning:\n",
      "\n",
      "Unlike other reduction functions (e.g. `skew`, `kurtosis`), the default behavior of `mode` typically preserves the axis it acts along. In SciPy 1.11.0, this behavior will change: the default value of `keepdims` will become False, the `axis` over which the statistic is taken will be eliminated, and the value None will no longer be accepted. Set `keepdims` to True or False to avoid this warning.\n",
      "\n",
      "C:\\ProgramData\\Anaconda3\\lib\\site-packages\\sklearn\\neighbors\\_classification.py:228: FutureWarning:\n",
      "\n",
      "Unlike other reduction functions (e.g. `skew`, `kurtosis`), the default behavior of `mode` typically preserves the axis it acts along. In SciPy 1.11.0, this behavior will change: the default value of `keepdims` will become False, the `axis` over which the statistic is taken will be eliminated, and the value None will no longer be accepted. Set `keepdims` to True or False to avoid this warning.\n",
      "\n",
      "C:\\ProgramData\\Anaconda3\\lib\\site-packages\\sklearn\\neighbors\\_classification.py:228: FutureWarning:\n",
      "\n",
      "Unlike other reduction functions (e.g. `skew`, `kurtosis`), the default behavior of `mode` typically preserves the axis it acts along. In SciPy 1.11.0, this behavior will change: the default value of `keepdims` will become False, the `axis` over which the statistic is taken will be eliminated, and the value None will no longer be accepted. Set `keepdims` to True or False to avoid this warning.\n",
      "\n",
      "C:\\ProgramData\\Anaconda3\\lib\\site-packages\\sklearn\\neighbors\\_classification.py:228: FutureWarning:\n",
      "\n",
      "Unlike other reduction functions (e.g. `skew`, `kurtosis`), the default behavior of `mode` typically preserves the axis it acts along. In SciPy 1.11.0, this behavior will change: the default value of `keepdims` will become False, the `axis` over which the statistic is taken will be eliminated, and the value None will no longer be accepted. Set `keepdims` to True or False to avoid this warning.\n",
      "\n",
      "C:\\ProgramData\\Anaconda3\\lib\\site-packages\\sklearn\\neighbors\\_classification.py:228: FutureWarning:\n",
      "\n",
      "Unlike other reduction functions (e.g. `skew`, `kurtosis`), the default behavior of `mode` typically preserves the axis it acts along. In SciPy 1.11.0, this behavior will change: the default value of `keepdims` will become False, the `axis` over which the statistic is taken will be eliminated, and the value None will no longer be accepted. Set `keepdims` to True or False to avoid this warning.\n",
      "\n",
      "C:\\ProgramData\\Anaconda3\\lib\\site-packages\\sklearn\\neighbors\\_classification.py:228: FutureWarning:\n",
      "\n",
      "Unlike other reduction functions (e.g. `skew`, `kurtosis`), the default behavior of `mode` typically preserves the axis it acts along. In SciPy 1.11.0, this behavior will change: the default value of `keepdims` will become False, the `axis` over which the statistic is taken will be eliminated, and the value None will no longer be accepted. Set `keepdims` to True or False to avoid this warning.\n",
      "\n",
      "C:\\ProgramData\\Anaconda3\\lib\\site-packages\\sklearn\\neighbors\\_classification.py:228: FutureWarning:\n",
      "\n",
      "Unlike other reduction functions (e.g. `skew`, `kurtosis`), the default behavior of `mode` typically preserves the axis it acts along. In SciPy 1.11.0, this behavior will change: the default value of `keepdims` will become False, the `axis` over which the statistic is taken will be eliminated, and the value None will no longer be accepted. Set `keepdims` to True or False to avoid this warning.\n",
      "\n",
      "C:\\ProgramData\\Anaconda3\\lib\\site-packages\\sklearn\\neighbors\\_classification.py:228: FutureWarning:\n",
      "\n",
      "Unlike other reduction functions (e.g. `skew`, `kurtosis`), the default behavior of `mode` typically preserves the axis it acts along. In SciPy 1.11.0, this behavior will change: the default value of `keepdims` will become False, the `axis` over which the statistic is taken will be eliminated, and the value None will no longer be accepted. Set `keepdims` to True or False to avoid this warning.\n",
      "\n",
      "C:\\ProgramData\\Anaconda3\\lib\\site-packages\\sklearn\\neighbors\\_classification.py:228: FutureWarning:\n",
      "\n",
      "Unlike other reduction functions (e.g. `skew`, `kurtosis`), the default behavior of `mode` typically preserves the axis it acts along. In SciPy 1.11.0, this behavior will change: the default value of `keepdims` will become False, the `axis` over which the statistic is taken will be eliminated, and the value None will no longer be accepted. Set `keepdims` to True or False to avoid this warning.\n",
      "\n",
      "C:\\ProgramData\\Anaconda3\\lib\\site-packages\\sklearn\\neighbors\\_classification.py:228: FutureWarning:\n",
      "\n",
      "Unlike other reduction functions (e.g. `skew`, `kurtosis`), the default behavior of `mode` typically preserves the axis it acts along. In SciPy 1.11.0, this behavior will change: the default value of `keepdims` will become False, the `axis` over which the statistic is taken will be eliminated, and the value None will no longer be accepted. Set `keepdims` to True or False to avoid this warning.\n",
      "\n",
      "C:\\ProgramData\\Anaconda3\\lib\\site-packages\\sklearn\\neighbors\\_classification.py:228: FutureWarning:\n",
      "\n",
      "Unlike other reduction functions (e.g. `skew`, `kurtosis`), the default behavior of `mode` typically preserves the axis it acts along. In SciPy 1.11.0, this behavior will change: the default value of `keepdims` will become False, the `axis` over which the statistic is taken will be eliminated, and the value None will no longer be accepted. Set `keepdims` to True or False to avoid this warning.\n",
      "\n",
      "C:\\ProgramData\\Anaconda3\\lib\\site-packages\\sklearn\\neighbors\\_classification.py:228: FutureWarning:\n",
      "\n",
      "Unlike other reduction functions (e.g. `skew`, `kurtosis`), the default behavior of `mode` typically preserves the axis it acts along. In SciPy 1.11.0, this behavior will change: the default value of `keepdims` will become False, the `axis` over which the statistic is taken will be eliminated, and the value None will no longer be accepted. Set `keepdims` to True or False to avoid this warning.\n",
      "\n",
      "C:\\ProgramData\\Anaconda3\\lib\\site-packages\\sklearn\\neighbors\\_classification.py:228: FutureWarning:\n",
      "\n",
      "Unlike other reduction functions (e.g. `skew`, `kurtosis`), the default behavior of `mode` typically preserves the axis it acts along. In SciPy 1.11.0, this behavior will change: the default value of `keepdims` will become False, the `axis` over which the statistic is taken will be eliminated, and the value None will no longer be accepted. Set `keepdims` to True or False to avoid this warning.\n",
      "\n",
      "C:\\ProgramData\\Anaconda3\\lib\\site-packages\\sklearn\\neighbors\\_classification.py:228: FutureWarning:\n",
      "\n",
      "Unlike other reduction functions (e.g. `skew`, `kurtosis`), the default behavior of `mode` typically preserves the axis it acts along. In SciPy 1.11.0, this behavior will change: the default value of `keepdims` will become False, the `axis` over which the statistic is taken will be eliminated, and the value None will no longer be accepted. Set `keepdims` to True or False to avoid this warning.\n",
      "\n",
      "C:\\ProgramData\\Anaconda3\\lib\\site-packages\\sklearn\\neighbors\\_classification.py:228: FutureWarning:\n",
      "\n",
      "Unlike other reduction functions (e.g. `skew`, `kurtosis`), the default behavior of `mode` typically preserves the axis it acts along. In SciPy 1.11.0, this behavior will change: the default value of `keepdims` will become False, the `axis` over which the statistic is taken will be eliminated, and the value None will no longer be accepted. Set `keepdims` to True or False to avoid this warning.\n",
      "\n",
      "C:\\ProgramData\\Anaconda3\\lib\\site-packages\\sklearn\\neighbors\\_classification.py:228: FutureWarning:\n",
      "\n",
      "Unlike other reduction functions (e.g. `skew`, `kurtosis`), the default behavior of `mode` typically preserves the axis it acts along. In SciPy 1.11.0, this behavior will change: the default value of `keepdims` will become False, the `axis` over which the statistic is taken will be eliminated, and the value None will no longer be accepted. Set `keepdims` to True or False to avoid this warning.\n",
      "\n",
      "C:\\ProgramData\\Anaconda3\\lib\\site-packages\\sklearn\\neighbors\\_classification.py:228: FutureWarning:\n",
      "\n",
      "Unlike other reduction functions (e.g. `skew`, `kurtosis`), the default behavior of `mode` typically preserves the axis it acts along. In SciPy 1.11.0, this behavior will change: the default value of `keepdims` will become False, the `axis` over which the statistic is taken will be eliminated, and the value None will no longer be accepted. Set `keepdims` to True or False to avoid this warning.\n",
      "\n",
      "C:\\ProgramData\\Anaconda3\\lib\\site-packages\\sklearn\\neighbors\\_classification.py:228: FutureWarning:\n",
      "\n",
      "Unlike other reduction functions (e.g. `skew`, `kurtosis`), the default behavior of `mode` typically preserves the axis it acts along. In SciPy 1.11.0, this behavior will change: the default value of `keepdims` will become False, the `axis` over which the statistic is taken will be eliminated, and the value None will no longer be accepted. Set `keepdims` to True or False to avoid this warning.\n",
      "\n",
      "C:\\ProgramData\\Anaconda3\\lib\\site-packages\\sklearn\\neighbors\\_classification.py:228: FutureWarning:\n",
      "\n",
      "Unlike other reduction functions (e.g. `skew`, `kurtosis`), the default behavior of `mode` typically preserves the axis it acts along. In SciPy 1.11.0, this behavior will change: the default value of `keepdims` will become False, the `axis` over which the statistic is taken will be eliminated, and the value None will no longer be accepted. Set `keepdims` to True or False to avoid this warning.\n",
      "\n",
      "C:\\ProgramData\\Anaconda3\\lib\\site-packages\\sklearn\\neighbors\\_classification.py:228: FutureWarning:\n",
      "\n",
      "Unlike other reduction functions (e.g. `skew`, `kurtosis`), the default behavior of `mode` typically preserves the axis it acts along. In SciPy 1.11.0, this behavior will change: the default value of `keepdims` will become False, the `axis` over which the statistic is taken will be eliminated, and the value None will no longer be accepted. Set `keepdims` to True or False to avoid this warning.\n",
      "\n",
      "C:\\ProgramData\\Anaconda3\\lib\\site-packages\\sklearn\\neighbors\\_classification.py:228: FutureWarning:\n",
      "\n",
      "Unlike other reduction functions (e.g. `skew`, `kurtosis`), the default behavior of `mode` typically preserves the axis it acts along. In SciPy 1.11.0, this behavior will change: the default value of `keepdims` will become False, the `axis` over which the statistic is taken will be eliminated, and the value None will no longer be accepted. Set `keepdims` to True or False to avoid this warning.\n",
      "\n",
      "C:\\ProgramData\\Anaconda3\\lib\\site-packages\\sklearn\\neighbors\\_classification.py:228: FutureWarning:\n",
      "\n",
      "Unlike other reduction functions (e.g. `skew`, `kurtosis`), the default behavior of `mode` typically preserves the axis it acts along. In SciPy 1.11.0, this behavior will change: the default value of `keepdims` will become False, the `axis` over which the statistic is taken will be eliminated, and the value None will no longer be accepted. Set `keepdims` to True or False to avoid this warning.\n",
      "\n",
      "C:\\ProgramData\\Anaconda3\\lib\\site-packages\\sklearn\\neighbors\\_classification.py:228: FutureWarning:\n",
      "\n",
      "Unlike other reduction functions (e.g. `skew`, `kurtosis`), the default behavior of `mode` typically preserves the axis it acts along. In SciPy 1.11.0, this behavior will change: the default value of `keepdims` will become False, the `axis` over which the statistic is taken will be eliminated, and the value None will no longer be accepted. Set `keepdims` to True or False to avoid this warning.\n",
      "\n",
      "C:\\ProgramData\\Anaconda3\\lib\\site-packages\\sklearn\\neighbors\\_classification.py:228: FutureWarning:\n",
      "\n",
      "Unlike other reduction functions (e.g. `skew`, `kurtosis`), the default behavior of `mode` typically preserves the axis it acts along. In SciPy 1.11.0, this behavior will change: the default value of `keepdims` will become False, the `axis` over which the statistic is taken will be eliminated, and the value None will no longer be accepted. Set `keepdims` to True or False to avoid this warning.\n",
      "\n"
     ]
    },
    {
     "name": "stdout",
     "output_type": "stream",
     "text": [
      "Optimal value of k: 5\n"
     ]
    },
    {
     "name": "stderr",
     "output_type": "stream",
     "text": [
      "C:\\ProgramData\\Anaconda3\\lib\\site-packages\\sklearn\\neighbors\\_classification.py:228: FutureWarning:\n",
      "\n",
      "Unlike other reduction functions (e.g. `skew`, `kurtosis`), the default behavior of `mode` typically preserves the axis it acts along. In SciPy 1.11.0, this behavior will change: the default value of `keepdims` will become False, the `axis` over which the statistic is taken will be eliminated, and the value None will no longer be accepted. Set `keepdims` to True or False to avoid this warning.\n",
      "\n"
     ]
    }
   ],
   "source": [
    "# Perform grid search to find optimal value of k\n",
    "param_grid = {'n_neighbors': [1, 3, 5, 7, 9]}\n",
    "grid_search = GridSearchCV(KNeighborsClassifier(), param_grid, cv=5)\n",
    "grid_search.fit(X_train, y_train)\n",
    "\n",
    "# Print optimal value of k\n",
    "print('Optimal value of k:', grid_search.best_params_['n_neighbors'])"
   ],
   "metadata": {
    "collapsed": false
   }
  },
  {
   "cell_type": "markdown",
   "id": "2cb520f3",
   "metadata": {},
   "source": [
    "Perform 10-fold cross validation"
   ]
  },
  {
   "cell_type": "code",
   "execution_count": 229,
   "outputs": [],
   "source": [
    "# Feature Scaling\n",
    "sc = StandardScaler()\n",
    "X_train = sc.fit_transform(X_train)\n",
    "X_test = sc.transform(X_test)"
   ],
   "metadata": {
    "collapsed": false
   }
  },
  {
   "cell_type": "code",
   "execution_count": 230,
   "id": "7b4991d8",
   "metadata": {},
   "outputs": [
    {
     "data": {
      "text/plain": "KNeighborsClassifier()"
     },
     "execution_count": 230,
     "metadata": {},
     "output_type": "execute_result"
    }
   ],
   "source": [
    "# Fitting classifier to the Training set\n",
    "#k =5 has been taken\n",
    "classifier = KNeighborsClassifier(n_neighbors=5, metric='minkowski', p=2)\n",
    "classifier.fit(X_train,y_train)"
   ]
  },
  {
   "cell_type": "code",
   "execution_count": 231,
   "id": "6216bb18",
   "metadata": {},
   "outputs": [
    {
     "name": "stderr",
     "output_type": "stream",
     "text": [
      "C:\\ProgramData\\Anaconda3\\lib\\site-packages\\sklearn\\neighbors\\_classification.py:228: FutureWarning:\n",
      "\n",
      "Unlike other reduction functions (e.g. `skew`, `kurtosis`), the default behavior of `mode` typically preserves the axis it acts along. In SciPy 1.11.0, this behavior will change: the default value of `keepdims` will become False, the `axis` over which the statistic is taken will be eliminated, and the value None will no longer be accepted. Set `keepdims` to True or False to avoid this warning.\n",
      "\n"
     ]
    }
   ],
   "source": [
    "# Predicting the Test set results\n",
    "y_pred = classifier.predict(X_test)"
   ]
  },
  {
   "cell_type": "code",
   "execution_count": 232,
   "id": "b81dd0fb",
   "metadata": {},
   "outputs": [
    {
     "data": {
      "text/plain": "array([[427,  23],\n       [ 62, 178]], dtype=int64)"
     },
     "execution_count": 232,
     "metadata": {},
     "output_type": "execute_result"
    }
   ],
   "source": [
    "# Making the Confusion Matrix\n",
    "cm = confusion_matrix(y_test, y_pred)\n",
    "cm"
   ]
  },
  {
   "cell_type": "code",
   "execution_count": 233,
   "id": "bda432f8",
   "metadata": {},
   "outputs": [
    {
     "name": "stdout",
     "output_type": "stream",
     "text": [
      "Classification Report : \n",
      "\n",
      "\n",
      "              precision    recall  f1-score   support\n",
      "\n",
      "           0       0.87      0.95      0.91       450\n",
      "           1       0.89      0.74      0.81       240\n",
      "\n",
      "    accuracy                           0.88       690\n",
      "   macro avg       0.88      0.85      0.86       690\n",
      "weighted avg       0.88      0.88      0.87       690\n",
      "\n"
     ]
    }
   ],
   "source": [
    "# Generate summary of the prediction (Classification Report) made by the classifier\n",
    "print('Classification Report : \\n\\n')\n",
    "print(classification_report(y_test, y_pred))"
   ]
  },
  {
   "cell_type": "code",
   "execution_count": 234,
   "id": "8d3ccb17",
   "metadata": {},
   "outputs": [
    {
     "name": "stdout",
     "output_type": "stream",
     "text": [
      "Accuracy score of email prediction using KNN :  87.68115942028986\n"
     ]
    }
   ],
   "source": [
    "# Accuracy score of the prediction\n",
    "print(\"Accuracy score of email prediction using KNN : \",accuracy_score(y_pred,y_test)*100) "
   ]
  },
  {
   "cell_type": "markdown",
   "id": "4b7b23f5",
   "metadata": {},
   "source": [
    "### Visualization"
   ]
  },
  {
   "cell_type": "code",
   "execution_count": 235,
   "id": "aecf7756",
   "metadata": {},
   "outputs": [
    {
     "data": {
      "text/plain": "Text(115.9222222222222, 0.5, 'predicted class')"
     },
     "execution_count": 235,
     "metadata": {},
     "output_type": "execute_result"
    },
    {
     "data": {
      "text/plain": "<Figure size 640x480 with 1 Axes>",
      "image/png": "[encoded data removed]"
     },
     "metadata": {},
     "output_type": "display_data"
    }
   ],
   "source": [
    "# based on test values generate the confusion matrix\n",
    "import seaborn as sns\n",
    "\n",
    "# Summary of the predictions made by the classifier\n",
    "mat = confusion_matrix(y_test, y_pred)\n",
    "sns.heatmap(mat.T, square=True, annot=True, fmt='d', cbar=False)\n",
    "\n",
    "plt.title('Confusion matrix')\n",
    "plt.xlabel('true class')\n",
    "plt.ylabel('predicted class')"
   ]
  },
  {
   "cell_type": "code",
   "execution_count": 236,
   "outputs": [
    {
     "data": {
      "application/vnd.plotly.v1+json": {
       "data": [
        {
         "hovertemplate": "label=0<br>0=%{x}<br>1=%{y}<br>score=%{marker.color}<extra></extra>",
         "legendgroup": "0",
         "marker": {
          "color": [
           0,
           0,
           0,
           0,
           0,
           0,
           0,
           0,
           0,
           0,
           0,
           0,
           0,
           0,
           0,
           0,
           0,
           0,
           0,
           0,
           0,
           0,
           0,
           0,
           0,
           0,
           0,
           0,
           1,
           1,
           0,
           0,
           0,
           0,
           0,
           0,
           0,
           0,
           0,
           0,
           0,
           0,
           0,
           0,
           0,
           0,
           0,
           0,
           0,
           0,
           0,
           0,
           0,
           0,
           0,
           0,
           0,
           0,
           0,
           0,
           0,
           0,
           0,
           0,
           0,
           0,
           0,
           0,
           0,
           0,
           0,
           0,
           0,
           0,
           0,
           0,
           0,
           0,
           0,
           0,
           0,
           0,
           0,
           0,
           0,
           0,
           1,
           0,
           0,
           0,
           0,
           0,
           0,
           0,
           1,
           0,
           1,
           0,
           0,
           0,
           0,
           0,
           0,
           0,
           0,
           0,
           0,
           0,
           0,
           0,
           0,
           0,
           0,
           0,
           0,
           0,
           0,
           0,
           0,
           0,
           0,
           0,
           1,
           0,
           0,
           0,
           0,
           0,
           0,
           0,
           0,
           0,
           0,
           0,
           0,
           0,
           0,
           0,
           0,
           1,
           0,
           0,
           0,
           0,
           1,
           0,
           0,
           0,
           0,
           0,
           0,
           0,
           0,
           0,
           0,
           0,
           0,
           0,
           0,
           0,
           0,
           0,
           0,
           0,
           0,
           0,
           0,
           0,
           0,
           0,
           0,
           0,
           0,
           0,
           0,
           0,
           0,
           0,
           0,
           0,
           0,
           0,
           0,
           0,
           0,
           0,
           0,
           0,
           0,
           0,
           0,
           0,
           0,
           0,
           0,
           0,
           0,
           0,
           0,
           1,
           0,
           0,
           0,
           0,
           0,
           0,
           0,
           0,
           0,
           0,
           0,
           0,
           0,
           0,
           0,
           0,
           0,
           0,
           0,
           0,
           1,
           0,
           0,
           0,
           0,
           0,
           0,
           1,
           0,
           0,
           0,
           0,
           0,
           0,
           0,
           0,
           0,
           0,
           0,
           0,
           1,
           0,
           0,
           0,
           0,
           1,
           0,
           0,
           0,
           0,
           1,
           0,
           0,
           0,
           0,
           0,
           0,
           0,
           0,
           0,
           0,
           0,
           0,
           0,
           0,
           0,
           0,
           0,
           1,
           0,
           0,
           0,
           0,
           0,
           0,
           0,
           0,
           0,
           0,
           0,
           0,
           0,
           0,
           0,
           0,
           0,
           0,
           0,
           0,
           0,
           0,
           0,
           0,
           0,
           0,
           0,
           0,
           0,
           0,
           0,
           0,
           0,
           0,
           0,
           0,
           0,
           0,
           0,
           0,
           0,
           0,
           0,
           0,
           0,
           0,
           0,
           0,
           0,
           1,
           0,
           0,
           1,
           0,
           1,
           0,
           0,
           0,
           0,
           0,
           0,
           0,
           0,
           0,
           0,
           0,
           0,
           0,
           0,
           0,
           0,
           0,
           0,
           0,
           0,
           0,
           0,
           0,
           0,
           0,
           0,
           0,
           0,
           0,
           0,
           0,
           0,
           0,
           0,
           0,
           0,
           0,
           0,
           0,
           0,
           0,
           1,
           0,
           0,
           0,
           0,
           0,
           0,
           0,
           0,
           0,
           0,
           0,
           0,
           0,
           0,
           0,
           0,
           0,
           0,
           0,
           0,
           0,
           0,
           0,
           0,
           0,
           0,
           0,
           0,
           0,
           0,
           0,
           0,
           0,
           0,
           0,
           0,
           0,
           0,
           0,
           0,
           0,
           1,
           0,
           0,
           0,
           0,
           0,
           0,
           0,
           0,
           0,
           0,
           0,
           1,
           0,
           0,
           0,
           0,
           0,
           0,
           0,
           0,
           0,
           0,
           0,
           0,
           0,
           0,
           0,
           0,
           0,
           0,
           1,
           0,
           1,
           0,
           0,
           0,
           0,
           0,
           0,
           0,
           0,
           0
          ],
          "coloraxis": "coloraxis",
          "symbol": "square",
          "line": {
           "width": 1.5
          },
          "size": 12
         },
         "mode": "markers",
         "name": "0",
         "orientation": "v",
         "showlegend": true,
         "x": [
          -0.4316585183552104,
          0.16557695921302307,
          -0.31344708355050793,
          -0.25828648633865436,
          0.05073722649360985,
          -0.14197826355570403,
          -0.2252828693260108,
          0.034577353364893156,
          2.1373127015891904,
          1.2753641428830074,
          0.4164164540546256,
          -0.38769244000937253,
          -0.3123835304296653,
          -0.018973441979943786,
          -0.2566565253236043,
          -0.465513950059662,
          -0.2524812301327786,
          -0.33488390122000455,
          -0.24269485970318155,
          -0.2974291705264008,
          -0.21047712519850004,
          0.4000723489570551,
          -0.18824628614616987,
          2.1319121769340486,
          0.10214180333551554,
          0.16044055866913096,
          -0.2019698878688006,
          -0.14352091432519573,
          -0.27406508159453385,
          -0.19209852364269028,
          -0.2568445782389233,
          -0.4812073882871858,
          -0.2373481207192888,
          0.3848168377266038,
          -0.1159827681734306,
          -0.22138941954886893,
          -0.3226592338774992,
          -0.2958293262233867,
          -0.0682480463371999,
          -0.054832313578773405,
          0.1199314467392044,
          -0.49837799428740653,
          2.2232466289927153,
          0.39211043884196684,
          -0.26751888659953393,
          -0.3179814990966311,
          0.24006980649214013,
          2.811339205598699,
          -0.36893982255457064,
          -0.1957243224733413,
          2.3008914099531625,
          0.03402478209678444,
          0.4768661394962365,
          -0.256885340043253,
          -0.1248133246496146,
          -0.1996760049873726,
          0.04822759041493782,
          -0.2925747797045383,
          0.18865666953462715,
          -0.01675185292730515,
          -0.21497814454829825,
          -0.062080185801141545,
          -0.19183759497284758,
          -0.3145956311890685,
          1.1024660508621429,
          0.12885088842165027,
          -0.12219253256108216,
          -0.11364769161912923,
          -0.15655389572072628,
          -0.24693709285646084,
          -0.40394309692003594,
          3.692321987165482,
          -0.3009290623455609,
          0.23470073121918045,
          -0.040520011558500706,
          1.0716343117462748,
          0.0890393908928805,
          0.13535666424686021,
          0.15565535561720598,
          0.08879608878193813,
          0.32230973099099347,
          -0.15757223653503077,
          0.30711509994325814,
          -0.1342421654476648,
          -0.19147077215722158,
          -0.2451554993633085,
          -0.27059988639248056,
          0.017917149128659104,
          -0.20265666449514377,
          -0.0991068057900735,
          -0.09411461238681265,
          -0.2792065511234695,
          -0.24413052422528134,
          -0.19205812929651359,
          -0.3350178040775884,
          -0.279483121601891,
          -0.33846046453480816,
          0.2566060663981376,
          -0.20785761328471813,
          0.3994736907129058,
          12.591232078730904,
          -0.006104863667200133,
          -0.3913765578147785,
          -0.1469306654992744,
          0.04929243165022314,
          0.06057149476721965,
          -0.24281247092496927,
          -0.18242113959132408,
          -0.20671796454374336,
          -0.15525012851846645,
          0.33280667761031535,
          -0.13439957410409323,
          -0.25187989236181757,
          -0.24966123483625285,
          0.6998760302331621,
          -0.306968018729255,
          -0.17175332601747054,
          0.03621784991303368,
          -0.25583864208001594,
          -0.20593597241456346,
          0.9418913771965484,
          -0.21628970854162147,
          -0.33132634637064406,
          -0.19944227455906194,
          2.1332562227648273,
          0.5772113983891118,
          -0.4246146953729444,
          0.014580239070227362,
          -0.3049464928162456,
          0.6805976425041568,
          -0.2061434544744765,
          1.8130015290044927,
          -0.29460517498976274,
          -0.20068387482891867,
          -0.2948235802299336,
          0.3842149847324702,
          -0.22031629516368703,
          -0.10313455686250551,
          0.30050519043905893,
          -0.3706482446317845,
          0.42548576971469154,
          -0.2711412287001625,
          -0.10481571963260199,
          -0.3285981025455893,
          -0.5513915223352583,
          0.043711873565201384,
          -0.00909086202736397,
          -0.27049844150551694,
          -0.14077823710246362,
          0.47335214049970187,
          -0.33746796408219304,
          0.010475465979132084,
          -0.27268924220524143,
          -0.03082556575526896,
          0.21792796516188628,
          -0.3216096107745329,
          -0.2529154278276945,
          -0.21649034678345933,
          -0.07011467593913667,
          -0.17571242611165844,
          0.6588650116036876,
          -0.25329145490295824,
          0.03058780766785712,
          -0.27314604447016744,
          1.1810821141601078,
          -0.2748203568894094,
          -0.15916173205009387,
          -0.24418020945917976,
          0.724662856040404,
          0.24814367448057098,
          -0.03663671897169512,
          -0.11538839193528753,
          -0.10630986304266621,
          -0.24617416218980906,
          0.338902983276563,
          -0.14246388492519688,
          0.66538101029307,
          -0.2031389394598479,
          -0.3782140828329463,
          2.146913527555518,
          -0.17092856600000753,
          -0.11255599246809789,
          -0.05250721185748531,
          -0.17701727958395058,
          -0.3402429382728427,
          1.5405549515101697,
          0.591978839501506,
          -0.16549843546120685,
          -0.11067372614908527,
          0.16926473898544192,
          1.674828435450605,
          -0.2015924611759408,
          -0.4305304368534749,
          -0.28900581796212593,
          -0.3617811778966606,
          -0.014783588819057994,
          0.2457676125585441,
          -0.47334127374758506,
          -0.31934607141670185,
          -0.2912125096041066,
          -0.08986153446290586,
          -0.27510082494077265,
          0.93538126035255,
          8.758656568883417,
          -0.2068847358156665,
          0.08955516745545823,
          0.11758737436206473,
          9.335379660908519,
          -0.04160403765064548,
          0.5519082380998847,
          0.6564900676276063,
          -0.046317057994078474,
          0.20140404058646044,
          -0.6795123513125342,
          -0.3041305615400002,
          -0.17303924760248782,
          0.14892167396628408,
          -0.43162672260922763,
          -0.38104667312038687,
          0.42418679499013495,
          0.4813212831533995,
          0.1727495985629456,
          -0.3736234831777512,
          -0.24683592853038522,
          0.5037638042546895,
          1.4502792595240719,
          -0.12747342978688844,
          -0.24105119904284114,
          -0.19651828790586753,
          -0.3303891313907453,
          0.3227691673971123,
          -0.0031707258026450204,
          -0.21109252253957952,
          -0.3204751250899904,
          4.4975383401603635,
          0.45062580132847235,
          0.3739399102182065,
          -0.21390079266970108,
          -0.4595718580744483,
          -0.3441806388810368,
          -0.6772091923900693,
          1.5185349933248975,
          -0.11556464495774496,
          0.4222388176910059,
          1.466729730739402,
          -0.4627952337127801,
          -0.2488745074010368,
          -0.27566216011691247,
          -0.00217559100259777,
          -0.28636366338934366,
          -0.2544770186706512,
          -0.23045569466695948,
          13.110262239750679,
          -0.23986876783245875,
          -0.3294970754156739,
          0.1238458788735472,
          0.2956550392458114,
          -0.3324890137851064,
          -0.047937846701280123,
          0.2733190702392156,
          -0.2734500195143079,
          0.4856701417533294,
          -0.3776065962544519,
          0.10956097510481896,
          0.4372967001079465,
          -0.10093266267902679,
          0.14091436112926975,
          -0.39778673284005717,
          -0.49006903423801257,
          0.37032317074009385,
          -0.3308080005606664,
          -0.2149107533177628,
          0.04171038651393537,
          -0.3478780418424039,
          0.805741359846984,
          -0.47265190792354145,
          -0.20275949936926904,
          -0.18971666886194385,
          -0.028895876023877748,
          -0.12384053536980871,
          1.0496754373537331,
          -0.24502681387264572,
          -0.14184714333781417,
          -0.39475197815869756,
          0.09139895311097958,
          -0.3119596234073418,
          0.621349294106391,
          0.034474174761790044,
          -0.032006133287660624,
          -0.36509599611423005,
          -0.022900757903268298,
          -0.13995968170990344,
          -0.13287317015543,
          -0.32745532202447636,
          -0.291518132800473,
          0.06394671407192297,
          -0.10944038391571745,
          -0.2873078363762304,
          1.1374556218998029,
          -0.35180448035156253,
          3.6833111017244535,
          -0.24245545726917556,
          -0.18004422831277095,
          -0.3010584354525185,
          -0.28900478157445314,
          -0.503108944009057,
          -0.25853429292089175,
          -0.16507961769553697,
          -0.14613003545464542,
          -0.24123427288048338,
          2.109157110490839,
          -0.307658631377705,
          -0.036114416733051824,
          -0.2660712984808725,
          -0.24886681670292754,
          -0.2512222482939827,
          -0.08792858501818265,
          -0.27977592474170104,
          -0.4485717379486267,
          -0.310412865569659,
          0.2636719761061647,
          -0.5039094947434954,
          -0.10242954969424183,
          -0.2553289962154304,
          -0.39040286632936505,
          -0.11520255607556856,
          -0.05566069683795022,
          -0.3509597461313559,
          -0.24512704960712545,
          -0.19716938730255038,
          0.21864677931436202,
          -0.2030154723298249,
          -0.18348890137806678,
          -0.141491208317962,
          2.231088658348367,
          -0.4848486543413047,
          -0.1212174304562737,
          -0.20370308648362478,
          0.16722181024655863,
          0.23079174333528826,
          -0.1891297806216154,
          0.30942032824071974,
          0.015154764590310552,
          3.4198267479027864,
          -0.31488890628392047,
          -0.07649058554824723,
          11.606929509524582,
          -0.23797214335701436,
          -0.4611815129068559,
          -0.10965000238757294,
          -0.2685958335175273,
          1.604413198035734,
          -0.05531743480451028,
          -0.3482087685366819,
          -0.386874990908663,
          -0.17745568413472054,
          0.8204150323193535,
          -0.2361338476488259,
          -0.23176521380896942,
          -0.1129007947822792,
          -0.19235232473850958,
          0.8800731515327214,
          -0.17058284295631046,
          0.9686909801070176,
          0.15026323069111036,
          0.5641428640861121,
          -0.2269704417632543,
          -0.09931739621614828,
          -0.19617309709299677,
          -0.3253009153208614,
          0.13197992298937816,
          0.0816192065061672,
          -0.33745603913431965,
          -0.3645229918122504,
          -0.14302935135748684,
          0.7403498120930745,
          -0.06732878384767751,
          1.720283529610503,
          -0.3617622634189393,
          -0.22937794604753373,
          -0.18179615568686983,
          0.13321750280158695,
          -0.25563943455305954,
          0.15301501285386146,
          1.6702884957496047,
          -0.22141541650822852,
          -0.04252843682650044,
          0.03364642144230876,
          -0.29545318757520694,
          -0.1254835162283532,
          -0.2546529528157953,
          -0.34050531368469994,
          -0.2556535223549693,
          -0.25306835416924445,
          -0.14648611599700648,
          0.300739502165434,
          -0.2463144965252674,
          0.8601311222928032,
          -0.23806799011986293,
          1.5633886984995407,
          -0.20090009549086904,
          -0.01721740379650471,
          0.7707046891439768,
          -0.37349255113112395,
          0.06865987172089173,
          6.506383172915161,
          -0.27242053383937975,
          -0.2558668263413638,
          12.09424380345354,
          -0.11239438292675205,
          -0.35733230929660886,
          1.857015971104497,
          -0.13881034119943725,
          -0.022220267159600272,
          -0.01785229532375345,
          0.19503915504580843,
          6.648206881871143,
          3.7993358207034085,
          -0.3430565940154015,
          -0.16399511135254047,
          -0.245405045358566,
          12.581127165011887,
          -0.4523247613497303,
          -0.26187266687148913,
          0.21509998198795166,
          0.3050404995620352,
          0.21574204593158175,
          -0.15377579394344693,
          0.02612145774143295,
          0.1630103417330257,
          -0.2379080945645299,
          -0.20787245882593142,
          -0.35853691846476937,
          -0.20486498619693597,
          -0.3492396129482878,
          -0.22496767534924167,
          -0.4178527748194023,
          -0.35838541286998155,
          -0.4220717273069257,
          0.13319958541837076,
          -0.11904436073319365,
          -0.29431433885415664,
          -0.24259594287806024,
          -0.2507650982279253,
          -0.3514094604614929,
          -0.31454932165024685,
          0.0450805545105771,
          -0.08728809305859685,
          -0.3081351631397201,
          -0.33279965556626506
         ],
         "xaxis": "x",
         "y": [
          -1.00722557901124,
          -1.836302454747827,
          1.5666487949057735,
          -1.042023981603758,
          -0.7166065245948164,
          -1.0116144174495316,
          0.23120824720097566,
          -0.7946522495647438,
          0.17295307987630676,
          -1.3916559261479917,
          -0.9598516686509028,
          -0.25909829717125077,
          -0.4797823418307244,
          -1.0374730945302513,
          -0.2013158494414745,
          -0.15224854673218813,
          -1.3172417639398093,
          -0.5696618708338882,
          -0.6706307666462894,
          -0.04680311488178479,
          0.11076207582775811,
          -0.6790068964923928,
          -1.0390988183484478,
          -0.07333284269200441,
          -0.673465217537108,
          -0.7838469603583652,
          -0.8831813317500161,
          -1.0956387913968157,
          -0.9006859855561073,
          7.038808206399599E-4,
          -0.5385116908884,
          0.906944795377571,
          -0.6925125622748458,
          -2.111110871722197,
          -0.8785155341754501,
          0.754663827808074,
          -0.867207533176635,
          -0.3831190394228254,
          -0.9665690673728861,
          -0.2323939882983955,
          -0.37360764965910354,
          1.5327327284389454,
          0.5825530426411106,
          -0.21551147692658998,
          -0.9605011243603201,
          -0.5631216126706765,
          -0.38078950647099674,
          0.261145888337974,
          0.10194828006842105,
          -1.0082163680173948,
          1.1287292680844454,
          -0.5522252834868263,
          -0.9742822737840046,
          -0.3636028813821608,
          -0.7199203432016268,
          -1.154323234685079,
          -0.839781469324277,
          -0.4043973294087576,
          -0.9370086504979966,
          0.0575999910590718,
          -1.578886328368935,
          0.830336865164502,
          -1.1248891050351582,
          0.04792416381553884,
          -0.09788147969970498,
          -0.48800223922998476,
          -0.9580936787589661,
          -0.17640280393749078,
          -0.8256882454039478,
          -0.3239427784102325,
          -0.37874644075336167,
          -0.14423145556452013,
          -0.5871226577622652,
          0.07039169372670334,
          -1.073760939377155,
          -0.005844264002125655,
          -1.4111455331996967,
          -0.47680831695654946,
          -0.3868346844284894,
          0.11615346780255048,
          -0.2602740343312206,
          -0.7652005524346276,
          -0.14630299105935193,
          0.09286021957777421,
          -1.4572976199612877,
          -0.8821728330890818,
          -0.48764663645925943,
          -1.417610571592729,
          0.24976239296845273,
          -1.0724432316937857,
          -0.6353350340779957,
          -0.9506944737295732,
          -0.5162471154627266,
          -1.471177092329369,
          -0.18870260611058365,
          0.3802770337418343,
          0.16668608166342613,
          0.05903006767228661,
          -1.1093553091237054,
          -0.49092932082518254,
          2.83140251377921,
          -1.0027914684328258,
          -0.25781105289538875,
          -0.7872141418645121,
          -1.5235689901769829,
          -1.1543150001588722,
          0.06318782930749611,
          -0.5815033859513767,
          -1.2151844956529212,
          -0.32808870115348215,
          -0.4374632262664833,
          -1.147210495128117,
          -0.7599466875135809,
          -0.8570379468138773,
          -0.4687016702212832,
          -0.514843631847338,
          -0.7699592239608785,
          0.024539700827994834,
          -0.7889253409205356,
          -1.6027746527172142,
          -0.23605001095589606,
          0.7332821126182,
          0.21336922729093857,
          -0.28814885314315786,
          0.15018880025942746,
          -0.35705951071175906,
          -0.7734703265157044,
          -0.9505289526274865,
          -0.43838486771053353,
          -0.22848295594939905,
          -0.2602549545744043,
          -0.4948163091248662,
          -0.7348586423886769,
          -0.8972933469881357,
          0.015229442484065717,
          0.5378003902169852,
          -0.670695709247724,
          -1.095486274310128,
          -0.7981987691566984,
          -0.5815717713743306,
          -0.43983928773142783,
          0.3133875976101486,
          -0.6710345890523538,
          -0.5999146680700197,
          -0.12054166700658664,
          -0.6382739525731377,
          -0.003873967367699505,
          -0.8914903209735842,
          -0.33282745141685655,
          -0.4254164259163575,
          -0.6066101579903268,
          -0.2611445904377868,
          -0.8105524457553294,
          0.2699006305302932,
          -1.0297324754076667,
          -0.5753133619828177,
          0.19754913001592644,
          -1.0075702130855113,
          -0.7433819282464595,
          -0.662957707850377,
          -1.0721516867950527,
          -0.8676620869355772,
          -1.0145111169752676,
          -0.6143232973904109,
          -0.22058478417572588,
          -0.647675214887747,
          -0.9283530880514475,
          0.8781163055683867,
          -0.21556470554805196,
          -1.3780841156240118,
          -0.42696661348182813,
          0.018290488499855786,
          0.30756783767793844,
          -1.42938476251265,
          0.8049152553697545,
          -0.8618402377846159,
          -0.19199686435952,
          -0.4156431101534828,
          0.135652663087731,
          0.15748274117022276,
          -0.7864837545187673,
          -0.6538058545706046,
          -2.142933943214946,
          -1.265358170239745,
          0.4440319289958941,
          -1.2616907246784566,
          -0.7470993224764648,
          -0.15120806609792528,
          -0.21731225109999316,
          -0.8452101763879786,
          0.561904097774742,
          -1.0897025529253908,
          1.7181086458849861,
          -0.0655244059646839,
          -0.5816194902979327,
          0.14105838756119693,
          -0.4831577562576465,
          -0.1337185293736896,
          -1.18379545885837,
          -0.7708610260500665,
          -0.2847757231190938,
          -0.005702274188338509,
          -0.49972576832969523,
          1.8154811751986268,
          0.09389399215973973,
          -0.9044712362989398,
          -0.8931950826975625,
          2.123296426382182,
          -0.9318971602785426,
          -0.8604547601275425,
          -0.9205090730411333,
          -0.6187095605372191,
          -2.0104054675914003,
          -0.07471627395739043,
          -0.12354870351370476,
          -1.7639109769620782,
          -1.535887212378993,
          2.2103064456377344,
          0.7787296357517359,
          -0.38471359439159936,
          0.5110775861432648,
          -0.9148618065158528,
          -0.6467871891835283,
          -0.8720313834201512,
          -0.7491359052162433,
          0.09926124678609091,
          -0.399130005579251,
          -0.6072309594909363,
          -0.2032815860289082,
          -1.1405056097083144,
          -0.5061296786583467,
          -0.8632194216210368,
          -0.9026844172309596,
          -0.7909137295904373,
          1.3176096304797407,
          -0.7751520190984462,
          -0.34098858399939425,
          -0.8671285220419774,
          0.6940456145885814,
          -0.4877840110968476,
          0.8423683208275135,
          -0.7014484223700367,
          0.573002020578169,
          -0.6709389211382365,
          -0.5987336157927649,
          1.6172808800096616,
          -1.5381451982660097,
          -0.8898222112840898,
          -0.8181679307319417,
          0.08174345819419375,
          -0.22502694414621469,
          -0.7380560723040428,
          2.914207223504934,
          -0.8423184565486747,
          0.11933226874775223,
          -0.3393351650485323,
          -0.7395501777609115,
          -0.36488130473053537,
          -2.0038218949701982,
          -0.17873431762696948,
          -0.4391533345821163,
          -1.1752999708935024,
          -0.47198856777865716,
          -2.24639004344367,
          0.2507660988178268,
          0.36802500577915437,
          -0.6985458210510511,
          -0.6062090015205259,
          1.4376258014792955,
          -1.096517288750519,
          -0.5837498985541266,
          -1.256325629238904,
          -0.6849101719818431,
          -0.306349151707263,
          -0.5527970057445364,
          1.0019061093959363,
          -0.890265934527372,
          -0.9007271876541851,
          -0.5330928716078218,
          0.006992320319682719,
          -0.26662490519388465,
          -1.0143630479488743,
          -1.0955022860033679,
          1.154914142665646,
          -1.5989417345209878,
          -0.7751413346662798,
          -2.661555748466428,
          0.07792614088066928,
          -0.8924030598849672,
          -0.012955129915404436,
          -0.6155309938448409,
          -0.8982919900033212,
          -0.7290854617203002,
          -0.08279195279955062,
          -0.04877201042673007,
          -1.0665386933773195,
          0.6960412663932063,
          -0.6322916778163215,
          0.21762300196164727,
          -0.6735227320680184,
          0.39573018854275954,
          -0.8687518472161115,
          -0.794801171799369,
          -0.24170176084718156,
          -0.4509984004035522,
          0.016604443796621432,
          -0.732673906835279,
          -1.0649049644197808,
          -0.008255719856750762,
          -1.2772764588056018,
          -0.13965475584982032,
          1.0880618391457244,
          -0.598234848179464,
          -1.0047582939713828,
          -0.6982046892050598,
          0.4120093386219579,
          0.003720978746073518,
          -0.07077653539401882,
          1.2619739297690729,
          0.11995466005879,
          -1.0181283323609327,
          0.47988764323986716,
          -1.109441523536715,
          -0.7037018867448073,
          -0.49474904902021255,
          -0.6769980572281477,
          -1.4819775042145094,
          -0.45258341314602324,
          -0.6757434034996866,
          -0.631068243027264,
          -0.42630626097242663,
          -0.9398888835335463,
          -0.9190851193715608,
          0.2730859389132432,
          -0.19841584378062893,
          -0.49557921139704575,
          0.8819007891971197,
          -0.8135829711797307,
          -0.2942195789593893,
          -0.6280652138817784,
          -0.7861405128682352,
          -1.0393735565282125,
          -0.5838151647404493,
          -0.21346347618371211,
          -0.08247244172456356,
          -1.8035821975900224,
          2.4834991557259434,
          -0.8075356489805857,
          0.6517294892760563,
          -0.880401698691839,
          -0.27348507523197857,
          0.036173049406371796,
          -0.8246710055380289,
          -0.1635075771986583,
          -0.4047392189987061,
          -0.5944578118246567,
          -0.5556423772798228,
          -0.9393359976080117,
          0.6359689135266113,
          0.6220464318321679,
          -1.9286173772193813,
          -0.13013069900027363,
          -0.3574428921931402,
          0.602493147924349,
          -1.702346248375494,
          -0.2636823137070644,
          -0.9212602788642112,
          -1.1325939851553979,
          0.7896423103074527,
          -0.24676321481374525,
          -0.714875502871448,
          -1.1582714232598899,
          -0.48736828300850504,
          -1.067563233424012,
          -1.1914892560894574,
          -0.41868367412020724,
          -0.9078853718588026,
          0.1897119437917511,
          -0.5659337623458682,
          -0.7425207062686773,
          -1.0088664380139465,
          -0.7756205741090458,
          -0.6196642459454716,
          -0.4547187706504828,
          -0.30268513343849746,
          -0.5372517891992455,
          -0.6708408075319517,
          0.5142107068073953,
          -0.7134842158323832,
          -0.5872921712775881,
          -0.7763328730700101,
          -0.2893223676048294,
          -0.49468613111116577,
          -0.645896823278138,
          -1.3921709551893462,
          -0.9429865302364556,
          -0.7021457893064104,
          -1.3133528159676113,
          -0.9263516948523662,
          0.9079592583342543,
          -0.6749643148107485,
          -0.7321537190095717,
          -0.7136896917164531,
          -0.03473513487071529,
          -0.1612680896946895,
          1.317517866105737,
          -1.129499143241874,
          1.0693966145978888,
          2.681753295616843,
          0.5213198516472666,
          0.04016705637455291,
          -0.3601177935234058,
          -1.7462575820007762,
          -1.0983846231109984,
          -0.5158271988820634,
          -0.05846656531606505,
          1.124197953852747,
          0.32296482457156817,
          -0.4521859507429184,
          -0.921799987683332,
          0.6621412967916785,
          2.8100748424603808,
          0.3994928150681796,
          -0.45984222610966585,
          -0.8365263138563387,
          -0.2790114001731386,
          -0.7629571442206341,
          -1.0231080245536903,
          -0.15394460057690004,
          -1.3003898929566087,
          -0.8437502756500558,
          -1.0427440939913029,
          -0.737373053714428,
          -0.879055323862755,
          0.09617109086935201,
          -0.7431526942016052,
          1.557660103723124,
          -1.0101219564799269,
          -0.0652554426137635,
          0.28049827283410356,
          -0.07127128620973237,
          -0.7566782848841366,
          -0.7849377438547304,
          -1.0504789454937538,
          -0.5625429429711397,
          0.28640875920409975,
          0.06468224887893322,
          -0.6775617195799496,
          1.0945820278681095,
          -0.9051935024510379
         ],
         "yaxis": "y",
         "type": "scatter"
        },
        {
         "hovertemplate": "label=1<br>0=%{x}<br>1=%{y}<br>score=%{marker.color}<extra></extra>",
         "legendgroup": "1",
         "marker": {
          "color": [
           1,
           1,
           1,
           1,
           1,
           0,
           1,
           1,
           0,
           0,
           1,
           1,
           1,
           0,
           1,
           0,
           1,
           1,
           1,
           0,
           1,
           0,
           1,
           1,
           1,
           1,
           1,
           1,
           1,
           1,
           1,
           0,
           0,
           1,
           0,
           1,
           1,
           1,
           1,
           1,
           1,
           1,
           1,
           1,
           1,
           0,
           1,
           1,
           0,
           1,
           1,
           1,
           1,
           0,
           1,
           1,
           1,
           1,
           1,
           1,
           1,
           0,
           1,
           1,
           0,
           0,
           1,
           1,
           1,
           1,
           1,
           1,
           1,
           1,
           1,
           0,
           1,
           1,
           0,
           1,
           1,
           1,
           0,
           1,
           1,
           1,
           1,
           1,
           1,
           1,
           0,
           1,
           1,
           0,
           1,
           1,
           0,
           1,
           0,
           0,
           0,
           1,
           0,
           1,
           0,
           1,
           0,
           1,
           1,
           1,
           1,
           0,
           1,
           1,
           1,
           1,
           1,
           1,
           0,
           1,
           1,
           1,
           1,
           1,
           1,
           1,
           1,
           1,
           1,
           1,
           1,
           1,
           1,
           1,
           1,
           1,
           1,
           0,
           1,
           1,
           1,
           1,
           1,
           1,
           1,
           0,
           1,
           0,
           1,
           0,
           0,
           0,
           1,
           1,
           1,
           1,
           1,
           0,
           0,
           1,
           1,
           0,
           1,
           1,
           1,
           1,
           1,
           1,
           1,
           1,
           1,
           0,
           1,
           0,
           0,
           0,
           1,
           0,
           0,
           1,
           0,
           1,
           0,
           0,
           0,
           0,
           1,
           0,
           1,
           0,
           1,
           0,
           1,
           1,
           1,
           1,
           1,
           1,
           0,
           1,
           1,
           1,
           1,
           1,
           1,
           1,
           1,
           0,
           1,
           1,
           1,
           1,
           0,
           1,
           0,
           1,
           1,
           1,
           1,
           0,
           1,
           1,
           1,
           0,
           1,
           1,
           1,
           1,
           1,
           1,
           1,
           0,
           1,
           1,
           1,
           1,
           1,
           0,
           0,
           1
          ],
          "coloraxis": "coloraxis",
          "symbol": "x",
          "line": {
           "width": 1.5
          },
          "size": 12
         },
         "mode": "markers",
         "name": "1",
         "orientation": "v",
         "showlegend": true,
         "x": [
          -0.5445886595796419,
          -0.594600958562603,
          -0.4338878024075109,
          -0.5559559633936606,
          -0.11149693153065447,
          -0.21492385245681278,
          0.23626606771758932,
          -0.6383670780438588,
          -0.3233131921123019,
          -0.3450581808933559,
          -0.7078609595996321,
          -0.45609129188069425,
          -0.3410591796789687,
          -0.3608069210875805,
          -0.5460116099957186,
          -0.4584431193956088,
          -0.25460058776783356,
          -0.5357021708187794,
          -0.4924913353379633,
          -0.621680945873756,
          -0.23503623600897505,
          -0.005575081244293889,
          -0.5973755358062458,
          -0.3043033783515542,
          -0.5749169376445726,
          -0.43201522070205844,
          -0.814390632667801,
          -0.44785301091409313,
          -0.4375298182577179,
          -0.899525721520867,
          -0.4187922692341666,
          -0.2118805999508583,
          -0.5266871473207467,
          -0.526236127941924,
          -0.487644785816374,
          -0.4358955988948076,
          -0.4068570130155911,
          -0.7808540581038539,
          -0.37384640255281165,
          -0.5744327168814615,
          -0.38002620554192346,
          -0.5995400427810729,
          -0.3272057583367369,
          -0.437206728156165,
          -0.5540256709980218,
          0.39305007849887214,
          -0.4155968068160107,
          -0.26085090227458785,
          -0.14414723622915426,
          -0.24013764320161288,
          -0.48458613380325444,
          -0.5369595346666266,
          -0.42224385407462905,
          -0.41553614759112323,
          -0.4923054911790351,
          -0.7847910205939745,
          -0.3593409370837016,
          -0.3718509953406556,
          -0.3373512607057472,
          -0.4963082936746065,
          -0.7048609013357177,
          -0.45961062652188744,
          -0.4775657954969246,
          -0.47109122829635763,
          -0.49803873628928985,
          -0.3046507682505039,
          -0.504469363037888,
          -0.30136875756171716,
          -0.8592426526976763,
          -0.5032811419434231,
          -0.1845922618657137,
          -0.3626431790016982,
          -0.5277604603298428,
          -0.6272915302905555,
          -0.49429703929144314,
          -0.49073940822057427,
          -0.31642496957258925,
          -0.47565286061066353,
          -0.41404362847000603,
          -0.30271223476888315,
          -0.5863108924720065,
          -0.3928619302738988,
          -0.304878527075357,
          0.4786076798051394,
          -0.49303981400146385,
          -0.33867140177335825,
          -0.4199328243221081,
          -0.4958583983784835,
          -0.704921127238839,
          -0.5913440270931907,
          -0.36858317786711037,
          -0.34058859276118697,
          -0.7475843580503954,
          -0.2056937303404214,
          -0.7808084155608827,
          -0.39176779923754657,
          -0.32448593012155486,
          -0.6333916054719471,
          -0.5127441551601881,
          -0.0079008140909991,
          -0.45183279558013634,
          -0.36402136822764425,
          -0.27050417030249035,
          -0.693231569039667,
          -0.2809761127412449,
          0.2506915732559604,
          -0.45791045340035474,
          -0.510544641462458,
          -0.4153852131171532,
          -0.5251395692431619,
          -0.33856407578940084,
          -0.10471894236140879,
          -0.3167448739637883,
          -0.6392537759596113,
          -0.16538243740301997,
          -0.6725825768609726,
          0.08387233583948714,
          -0.33424357093987306,
          -0.4151511108752,
          -0.42026992130058466,
          -0.6715528776739073,
          -0.34288240464386366,
          -0.5046009657624624,
          -0.6890691122597963,
          -0.5732237334502843,
          -0.5185467603761065,
          -0.3515791752507995,
          -0.43496562954197243,
          -0.43120842930310455,
          -0.7353996707445577,
          -0.5891129716612358,
          -0.5074523449319283,
          -0.624540672758024,
          -0.5577369611889441,
          -0.4851912985258789,
          -0.5801212955011114,
          -0.3091698045332119,
          -0.30138950224956046,
          -0.491792615297569,
          -0.44413769489045146,
          -0.5027500904171798,
          -0.5022702844444886,
          -0.30365040867447074,
          -0.49052012085023095,
          -0.6692586910094168,
          -0.35881220677592646,
          -0.6308734337106515,
          -0.25095489181757447,
          -0.6038887824250846,
          -0.2313711921165382,
          -0.28022460369894586,
          -0.3772208652711125,
          -0.48450594177833606,
          -0.4169836053352737,
          -0.684199688857495,
          -0.4401640026812227,
          -0.3550740586551577,
          0.11205103949270226,
          0.19047176796300916,
          -0.5250737322524142,
          0.11836278337905726,
          -0.2919728754888441,
          -0.7318525668904073,
          -0.5183846632074126,
          -0.4112557406945461,
          -0.3782967576873867,
          -0.4132163252714155,
          -0.708427304080413,
          -0.8047595170875186,
          -0.6014829534097752,
          -0.7603139649450589,
          -0.48324331344256083,
          -0.5020501645219725,
          -0.4303908168155681,
          -0.1676533065953103,
          -0.783586006969613,
          -0.33909100507691764,
          -0.2699869589005765,
          -0.3836750673775261,
          -0.6983571727623527,
          -0.42072072089421925,
          -0.5930137005166406,
          -0.11729486866365303,
          -0.2331018808497005,
          -0.004442811890014944,
          -0.4731827302509721,
          -0.2853354149074332,
          -0.08816427720930141,
          -0.7397606368765726,
          -0.7980293408793043,
          -0.3827696104393516,
          -0.3761551402319568,
          -0.5385331160389563,
          -0.5263204501511194,
          -0.16755735303736663,
          -0.42970985388337596,
          -0.3282197207419806,
          -0.31672259450515555,
          -0.4518731146125857,
          -0.678649020370857,
          -0.7411958034673818,
          -0.7833248734586294,
          -0.368414941818866,
          -0.5031040109274967,
          -0.32950009661446483,
          -0.6203829364005016,
          -0.3523645039325736,
          -0.0623023732393234,
          -0.38966184524250796,
          -0.4843338879706128,
          -0.4484749226613554,
          -0.2975214588844981,
          -0.6063926545811923,
          -0.6126352379964985,
          -0.4212588407636158,
          -0.42008724931652563,
          -0.6717858154690952,
          -0.4073736679701373,
          -0.5430970376018933,
          -0.4540579745104423,
          -0.35886102481705123,
          0.1975683279431013,
          -0.4874759955633777,
          -0.5255335173394003,
          -0.3538853001168111,
          -0.7369635908421832,
          -0.5406762640332191,
          -0.43878273971388165,
          -0.5866084515548885,
          -0.3691083127772807,
          -0.6337924121214144,
          -0.44226682020644154,
          0.06602395924032452,
          -0.5422712810787681,
          -0.4407378043618385,
          -0.5817465856193477,
          -0.6343822682555114,
          -0.629635868122801,
          -0.20184306630999443,
          -0.49811234835127915
         ],
         "xaxis": "x",
         "y": [
          2.3623372380518233,
          1.1802741194530297,
          1.0083735087773693,
          1.0086038340757852,
          0.46141840997513106,
          -0.5391548141101806,
          0.06122322896640448,
          2.83769671468509,
          -0.2261603945918521,
          -0.22237296849113206,
          2.796922441140366,
          0.5762927517011213,
          0.41572702798459155,
          1.1940961641212358,
          1.2720767903992658,
          0.5387684677462599,
          0.13786501309604748,
          1.4178175533744253,
          1.713964462674718,
          1.2818960181141774,
          0.18852039593527758,
          -0.5188726681790029,
          0.887615033666611,
          0.07389505158872914,
          1.1497466585637999,
          0.7707053220833061,
          2.19268865435123,
          0.4421392812633466,
          -0.011373430557528407,
          2.817040090325433,
          1.05788696364696,
          -0.12059547821258904,
          0.27333722496411655,
          0.5452668499514952,
          1.3281261319346682,
          0.39171149703990826,
          1.8650314441135167,
          2.7491708739313077,
          0.4322137012661535,
          1.1354413983745937,
          1.2045527257875792,
          1.1254571990456237,
          -0.19497046961393275,
          1.9891737161612852,
          0.9948205023735186,
          -0.038336061047944625,
          0.3982966452056841,
          -0.43172768898769337,
          -0.1312979655809755,
          0.9265747372622868,
          0.9907245766521088,
          1.3033436152094018,
          0.5967586361698275,
          1.3395456110111719,
          0.8191826569013986,
          3.2345653763939928,
          0.041587904480739867,
          -0.07030789549095154,
          0.5451837990634407,
          1.2446650670920103,
          1.5289216185504562,
          -0.318953299318834,
          0.7902462105199343,
          -0.2888548052831524,
          1.193506467393085,
          -0.2901233329957805,
          0.7264296107559377,
          0.20870136041940243,
          3.213925219699034,
          0.507353787880199,
          -0.2789809235116961,
          -0.16951375418178932,
          1.6967020105231683,
          1.1652873102817147,
          0.7499236868968285,
          0.44724638588598375,
          -0.3685619230092148,
          1.5145544700881368,
          0.745645791141666,
          0.4971077397866263,
          1.2076427847307716,
          0.7551781131301517,
          0.14452036600634202,
          0.9680845915638727,
          0.6919581181073585,
          0.8424250083745741,
          3.38818519668889,
          1.6531080753069427,
          2.6683621239032136,
          0.7325942408875951,
          0.4507118835448364,
          0.4160846248770722,
          2.296194100353148,
          -0.9914509384798339,
          2.747127527895666,
          0.4937686017516911,
          1.6639410743173957,
          2.2607224087284634,
          -0.5763498709245174,
          -0.42464965128818954,
          1.4716892374869281,
          0.5197602967571946,
          -0.33757452751566736,
          1.0206516838752142,
          0.043627039368315836,
          -0.05980684053484602,
          0.17803397082741995,
          1.048977485810023,
          0.9007643657827006,
          1.7122227946737054,
          0.6852301129569217,
          0.17144751048223647,
          -0.041280743669456554,
          1.571732264036366,
          0.0899734092472721,
          3.444403732319188,
          0.3752329309693372,
          1.1332477482229122,
          1.3365287396747743,
          0.363744453340636,
          0.9239870275733145,
          1.1432764532667767,
          0.5516885800326077,
          1.7632849805958206,
          2.07991922982663,
          1.5783521844135453,
          1.94988880571511,
          0.7876314986119187,
          0.1219597175055457,
          1.9590024447216678,
          1.2085067509034244,
          0.9879540863939208,
          1.7298642679502736,
          1.3676597338072167,
          0.884944070516359,
          1.601733800016864,
          0.8368311267645325,
          -0.5616675320272023,
          0.4576894234153077,
          0.10525138751390091,
          1.19757444154163,
          0.8711261540913507,
          -0.10154220854104538,
          0.4690686675916752,
          1.293113682076779,
          -0.02481757072517598,
          2.2065763194639367,
          -0.6797746007798564,
          2.828741000009539,
          -0.4425611141152352,
          -0.292062956522425,
          0.1592685239791956,
          0.05044600062632252,
          2.348763513142478,
          2.3473624155003594,
          1.1048305421608877,
          -0.3715300529929068,
          0.4187214992296853,
          -0.41674895363100983,
          0.9045546673169782,
          -0.24910016661242765,
          1.6099502401279124,
          2.6063667833496083,
          0.8347001437289718,
          1.830868353299339,
          0.6959519682225133,
          3.0777023731291857,
          3.4974418657913504,
          2.852713137622429,
          2.222230978524967,
          3.856356935436462,
          0.777008397162471,
          0.1849864612105978,
          0.005794052922008429,
          -0.9429058468813748,
          2.082995111386674,
          0.8450291051370524,
          -0.2908908378002426,
          -0.23926661893742893,
          2.89161784511868,
          0.8901918341327665,
          2.2919308929497277,
          -0.3661043812515431,
          0.2552309279991306,
          -0.5569384218692183,
          0.13565018287068503,
          0.8734858390139691,
          0.14108086721335278,
          2.134224153382469,
          2.1804544265670445,
          0.7139629235821802,
          0.43957785327519433,
          1.6989753757765236,
          0.9224120967096512,
          0.07002953609805979,
          1.0097563771519338,
          -0.2626588564592865,
          1.1266719474055986,
          0.09776051843192705,
          1.6204147261949953,
          2.627701090655375,
          2.770348222469818,
          -0.10291582802306846,
          0.5471448785606904,
          0.31109502744451006,
          1.332617850608216,
          1.4881545990040896,
          0.16109235735606248,
          -0.007596627831719647,
          0.34946378059488004,
          2.7566159749449843,
          0.36097195645437014,
          0.828218100911186,
          1.2199552602467318,
          0.890011287205186,
          0.6405949606476199,
          3.4478408711673634,
          0.3725840264028964,
          1.038389953352254,
          0.15795389599631984,
          2.738745341115993,
          0.014888055052274984,
          0.7063302363142333,
          1.350864430811586,
          0.8163550340020501,
          2.027063067338517,
          0.9155504134629033,
          0.6171922168999674,
          2.0116656602439096,
          0.5895869630046356,
          1.5711722510420725,
          0.6463438601133032,
          0.3716810005521694,
          2.0788030260066934,
          2.31606141857479,
          0.8867554052655595,
          1.3503789133687687,
          0.953419886608412,
          -1.087078263095044,
          0.4975102044340208
         ],
         "yaxis": "y",
         "type": "scatter"
        }
       ],
       "layout": {
        "template": {
         "data": {
          "histogram2dcontour": [
           {
            "type": "histogram2dcontour",
            "colorbar": {
             "outlinewidth": 0,
             "ticks": ""
            },
            "colorscale": [
             [
              0.0,
              "#0d0887"
             ],
             [
              0.1111111111111111,
              "#46039f"
             ],
             [
              0.2222222222222222,
              "#7201a8"
             ],
             [
              0.3333333333333333,
              "#9c179e"
             ],
             [
              0.4444444444444444,
              "#bd3786"
             ],
             [
              0.5555555555555556,
              "#d8576b"
             ],
             [
              0.6666666666666666,
              "#ed7953"
             ],
             [
              0.7777777777777778,
              "#fb9f3a"
             ],
             [
              0.8888888888888888,
              "#fdca26"
             ],
             [
              1.0,
              "#f0f921"
             ]
            ]
           }
          ],
          "choropleth": [
           {
            "type": "choropleth",
            "colorbar": {
             "outlinewidth": 0,
             "ticks": ""
            }
           }
          ],
          "histogram2d": [
           {
            "type": "histogram2d",
            "colorbar": {
             "outlinewidth": 0,
             "ticks": ""
            },
            "colorscale": [
             [
              0.0,
              "#0d0887"
             ],
             [
              0.1111111111111111,
              "#46039f"
             ],
             [
              0.2222222222222222,
              "#7201a8"
             ],
             [
              0.3333333333333333,
              "#9c179e"
             ],
             [
              0.4444444444444444,
              "#bd3786"
             ],
             [
              0.5555555555555556,
              "#d8576b"
             ],
             [
              0.6666666666666666,
              "#ed7953"
             ],
             [
              0.7777777777777778,
              "#fb9f3a"
             ],
             [
              0.8888888888888888,
              "#fdca26"
             ],
             [
              1.0,
              "#f0f921"
             ]
            ]
           }
          ],
          "heatmap": [
           {
            "type": "heatmap",
            "colorbar": {
             "outlinewidth": 0,
             "ticks": ""
            },
            "colorscale": [
             [
              0.0,
              "#0d0887"
             ],
             [
              0.1111111111111111,
              "#46039f"
             ],
             [
              0.2222222222222222,
              "#7201a8"
             ],
             [
              0.3333333333333333,
              "#9c179e"
             ],
             [
              0.4444444444444444,
              "#bd3786"
             ],
             [
              0.5555555555555556,
              "#d8576b"
             ],
             [
              0.6666666666666666,
              "#ed7953"
             ],
             [
              0.7777777777777778,
              "#fb9f3a"
             ],
             [
              0.8888888888888888,
              "#fdca26"
             ],
             [
              1.0,
              "#f0f921"
             ]
            ]
           }
          ],
          "heatmapgl": [
           {
            "type": "heatmapgl",
            "colorbar": {
             "outlinewidth": 0,
             "ticks": ""
            },
            "colorscale": [
             [
              0.0,
              "#0d0887"
             ],
             [
              0.1111111111111111,
              "#46039f"
             ],
             [
              0.2222222222222222,
              "#7201a8"
             ],
             [
              0.3333333333333333,
              "#9c179e"
             ],
             [
              0.4444444444444444,
              "#bd3786"
             ],
             [
              0.5555555555555556,
              "#d8576b"
             ],
             [
              0.6666666666666666,
              "#ed7953"
             ],
             [
              0.7777777777777778,
              "#fb9f3a"
             ],
             [
              0.8888888888888888,
              "#fdca26"
             ],
             [
              1.0,
              "#f0f921"
             ]
            ]
           }
          ],
          "contourcarpet": [
           {
            "type": "contourcarpet",
            "colorbar": {
             "outlinewidth": 0,
             "ticks": ""
            }
           }
          ],
          "contour": [
           {
            "type": "contour",
            "colorbar": {
             "outlinewidth": 0,
             "ticks": ""
            },
            "colorscale": [
             [
              0.0,
              "#0d0887"
             ],
             [
              0.1111111111111111,
              "#46039f"
             ],
             [
              0.2222222222222222,
              "#7201a8"
             ],
             [
              0.3333333333333333,
              "#9c179e"
             ],
             [
              0.4444444444444444,
              "#bd3786"
             ],
             [
              0.5555555555555556,
              "#d8576b"
             ],
             [
              0.6666666666666666,
              "#ed7953"
             ],
             [
              0.7777777777777778,
              "#fb9f3a"
             ],
             [
              0.8888888888888888,
              "#fdca26"
             ],
             [
              1.0,
              "#f0f921"
             ]
            ]
           }
          ],
          "surface": [
           {
            "type": "surface",
            "colorbar": {
             "outlinewidth": 0,
             "ticks": ""
            },
            "colorscale": [
             [
              0.0,
              "#0d0887"
             ],
             [
              0.1111111111111111,
              "#46039f"
             ],
             [
              0.2222222222222222,
              "#7201a8"
             ],
             [
              0.3333333333333333,
              "#9c179e"
             ],
             [
              0.4444444444444444,
              "#bd3786"
             ],
             [
              0.5555555555555556,
              "#d8576b"
             ],
             [
              0.6666666666666666,
              "#ed7953"
             ],
             [
              0.7777777777777778,
              "#fb9f3a"
             ],
             [
              0.8888888888888888,
              "#fdca26"
             ],
             [
              1.0,
              "#f0f921"
             ]
            ]
           }
          ],
          "mesh3d": [
           {
            "type": "mesh3d",
            "colorbar": {
             "outlinewidth": 0,
             "ticks": ""
            }
           }
          ],
          "scatter": [
           {
            "fillpattern": {
             "fillmode": "overlay",
             "size": 10,
             "solidity": 0.2
            },
            "type": "scatter"
           }
          ],
          "parcoords": [
           {
            "type": "parcoords",
            "line": {
             "colorbar": {
              "outlinewidth": 0,
              "ticks": ""
             }
            }
           }
          ],
          "scatterpolargl": [
           {
            "type": "scatterpolargl",
            "marker": {
             "colorbar": {
              "outlinewidth": 0,
              "ticks": ""
             }
            }
           }
          ],
          "bar": [
           {
            "error_x": {
             "color": "#2a3f5f"
            },
            "error_y": {
             "color": "#2a3f5f"
            },
            "marker": {
             "line": {
              "color": "#E5ECF6",
              "width": 0.5
             },
             "pattern": {
              "fillmode": "overlay",
              "size": 10,
              "solidity": 0.2
             }
            },
            "type": "bar"
           }
          ],
          "scattergeo": [
           {
            "type": "scattergeo",
            "marker": {
             "colorbar": {
              "outlinewidth": 0,
              "ticks": ""
             }
            }
           }
          ],
          "scatterpolar": [
           {
            "type": "scatterpolar",
            "marker": {
             "colorbar": {
              "outlinewidth": 0,
              "ticks": ""
             }
            }
           }
          ],
          "histogram": [
           {
            "marker": {
             "pattern": {
              "fillmode": "overlay",
              "size": 10,
              "solidity": 0.2
             }
            },
            "type": "histogram"
           }
          ],
          "scattergl": [
           {
            "type": "scattergl",
            "marker": {
             "colorbar": {
              "outlinewidth": 0,
              "ticks": ""
             }
            }
           }
          ],
          "scatter3d": [
           {
            "type": "scatter3d",
            "line": {
             "colorbar": {
              "outlinewidth": 0,
              "ticks": ""
             }
            },
            "marker": {
             "colorbar": {
              "outlinewidth": 0,
              "ticks": ""
             }
            }
           }
          ],
          "scattermapbox": [
           {
            "type": "scattermapbox",
            "marker": {
             "colorbar": {
              "outlinewidth": 0,
              "ticks": ""
             }
            }
           }
          ],
          "scatterternary": [
           {
            "type": "scatterternary",
            "marker": {
             "colorbar": {
              "outlinewidth": 0,
              "ticks": ""
             }
            }
           }
          ],
          "scattercarpet": [
           {
            "type": "scattercarpet",
            "marker": {
             "colorbar": {
              "outlinewidth": 0,
              "ticks": ""
             }
            }
           }
          ],
          "carpet": [
           {
            "aaxis": {
             "endlinecolor": "#2a3f5f",
             "gridcolor": "white",
             "linecolor": "white",
             "minorgridcolor": "white",
             "startlinecolor": "#2a3f5f"
            },
            "baxis": {
             "endlinecolor": "#2a3f5f",
             "gridcolor": "white",
             "linecolor": "white",
             "minorgridcolor": "white",
             "startlinecolor": "#2a3f5f"
            },
            "type": "carpet"
           }
          ],
          "table": [
           {
            "cells": {
             "fill": {
              "color": "#EBF0F8"
             },
             "line": {
              "color": "white"
             }
            },
            "header": {
             "fill": {
              "color": "#C8D4E3"
             },
             "line": {
              "color": "white"
             }
            },
            "type": "table"
           }
          ],
          "barpolar": [
           {
            "marker": {
             "line": {
              "color": "#E5ECF6",
              "width": 0.5
             },
             "pattern": {
              "fillmode": "overlay",
              "size": 10,
              "solidity": 0.2
             }
            },
            "type": "barpolar"
           }
          ],
          "pie": [
           {
            "automargin": true,
            "type": "pie"
           }
          ]
         },
         "layout": {
          "autotypenumbers": "strict",
          "colorway": [
           "#636efa",
           "#EF553B",
           "#00cc96",
           "#ab63fa",
           "#FFA15A",
           "#19d3f3",
           "#FF6692",
           "#B6E880",
           "#FF97FF",
           "#FECB52"
          ],
          "font": {
           "color": "#2a3f5f"
          },
          "hovermode": "closest",
          "hoverlabel": {
           "align": "left"
          },
          "paper_bgcolor": "white",
          "plot_bgcolor": "#E5ECF6",
          "polar": {
           "bgcolor": "#E5ECF6",
           "angularaxis": {
            "gridcolor": "white",
            "linecolor": "white",
            "ticks": ""
           },
           "radialaxis": {
            "gridcolor": "white",
            "linecolor": "white",
            "ticks": ""
           }
          },
          "ternary": {
           "bgcolor": "#E5ECF6",
           "aaxis": {
            "gridcolor": "white",
            "linecolor": "white",
            "ticks": ""
           },
           "baxis": {
            "gridcolor": "white",
            "linecolor": "white",
            "ticks": ""
           },
           "caxis": {
            "gridcolor": "white",
            "linecolor": "white",
            "ticks": ""
           }
          },
          "coloraxis": {
           "colorbar": {
            "outlinewidth": 0,
            "ticks": ""
           }
          },
          "colorscale": {
           "sequential": [
            [
             0.0,
             "#0d0887"
            ],
            [
             0.1111111111111111,
             "#46039f"
            ],
            [
             0.2222222222222222,
             "#7201a8"
            ],
            [
             0.3333333333333333,
             "#9c179e"
            ],
            [
             0.4444444444444444,
             "#bd3786"
            ],
            [
             0.5555555555555556,
             "#d8576b"
            ],
            [
             0.6666666666666666,
             "#ed7953"
            ],
            [
             0.7777777777777778,
             "#fb9f3a"
            ],
            [
             0.8888888888888888,
             "#fdca26"
            ],
            [
             1.0,
             "#f0f921"
            ]
           ],
           "sequentialminus": [
            [
             0.0,
             "#0d0887"
            ],
            [
             0.1111111111111111,
             "#46039f"
            ],
            [
             0.2222222222222222,
             "#7201a8"
            ],
            [
             0.3333333333333333,
             "#9c179e"
            ],
            [
             0.4444444444444444,
             "#bd3786"
            ],
            [
             0.5555555555555556,
             "#d8576b"
            ],
            [
             0.6666666666666666,
             "#ed7953"
            ],
            [
             0.7777777777777778,
             "#fb9f3a"
            ],
            [
             0.8888888888888888,
             "#fdca26"
            ],
            [
             1.0,
             "#f0f921"
            ]
           ],
           "diverging": [
            [
             0,
             "#8e0152"
            ],
            [
             0.1,
             "#c51b7d"
            ],
            [
             0.2,
             "#de77ae"
            ],
            [
             0.3,
             "#f1b6da"
            ],
            [
             0.4,
             "#fde0ef"
            ],
            [
             0.5,
             "#f7f7f7"
            ],
            [
             0.6,
             "#e6f5d0"
            ],
            [
             0.7,
             "#b8e186"
            ],
            [
             0.8,
             "#7fbc41"
            ],
            [
             0.9,
             "#4d9221"
            ],
            [
             1,
             "#276419"
            ]
           ]
          },
          "xaxis": {
           "gridcolor": "white",
           "linecolor": "white",
           "ticks": "",
           "title": {
            "standoff": 15
           },
           "zerolinecolor": "white",
           "automargin": true,
           "zerolinewidth": 2
          },
          "yaxis": {
           "gridcolor": "white",
           "linecolor": "white",
           "ticks": "",
           "title": {
            "standoff": 15
           },
           "zerolinecolor": "white",
           "automargin": true,
           "zerolinewidth": 2
          },
          "scene": {
           "xaxis": {
            "backgroundcolor": "#E5ECF6",
            "gridcolor": "white",
            "linecolor": "white",
            "showbackground": true,
            "ticks": "",
            "zerolinecolor": "white",
            "gridwidth": 2
           },
           "yaxis": {
            "backgroundcolor": "#E5ECF6",
            "gridcolor": "white",
            "linecolor": "white",
            "showbackground": true,
            "ticks": "",
            "zerolinecolor": "white",
            "gridwidth": 2
           },
           "zaxis": {
            "backgroundcolor": "#E5ECF6",
            "gridcolor": "white",
            "linecolor": "white",
            "showbackground": true,
            "ticks": "",
            "zerolinecolor": "white",
            "gridwidth": 2
           }
          },
          "shapedefaults": {
           "line": {
            "color": "#2a3f5f"
           }
          },
          "annotationdefaults": {
           "arrowcolor": "#2a3f5f",
           "arrowhead": 0,
           "arrowwidth": 1
          },
          "geo": {
           "bgcolor": "white",
           "landcolor": "#E5ECF6",
           "subunitcolor": "white",
           "showland": true,
           "showlakes": true,
           "lakecolor": "white"
          },
          "title": {
           "x": 0.05
          },
          "mapbox": {
           "style": "light"
          }
         }
        },
        "xaxis": {
         "anchor": "y",
         "domain": [
          0.0,
          1.0
         ],
         "title": {
          "text": "0"
         }
        },
        "yaxis": {
         "anchor": "x",
         "domain": [
          0.0,
          1.0
         ],
         "title": {
          "text": "1"
         }
        },
        "coloraxis": {
         "colorbar": {
          "title": {
           "text": "score"
          }
         },
         "colorscale": [
          [
           0.0,
           "#440154"
          ],
          [
           0.1111111111111111,
           "#482878"
          ],
          [
           0.2222222222222222,
           "#3e4989"
          ],
          [
           0.3333333333333333,
           "#31688e"
          ],
          [
           0.4444444444444444,
           "#26828e"
          ],
          [
           0.5555555555555556,
           "#1f9e89"
          ],
          [
           0.6666666666666666,
           "#35b779"
          ],
          [
           0.7777777777777778,
           "#6ece58"
          ],
          [
           0.8888888888888888,
           "#b5de2b"
          ],
          [
           1.0,
           "#fde725"
          ]
         ]
        },
        "legend": {
         "title": {
          "text": "label"
         },
         "tracegroupgap": 0,
         "orientation": "h"
        },
        "margin": {
         "t": 60
        }
       },
       "config": {
        "plotlyServerURL": "https://plot.ly"
       }
      },
      "text/html": "<div>                            <div id=\"09a804f1-e8b7-4b7a-82c2-88f858a96e36\" class=\"plotly-graph-div\" style=\"height:525px; width:100%;\"></div>            <script type=\"text/javascript\">                require([\"plotly\"], function(Plotly) {                    window.PLOTLYENV=window.PLOTLYENV || {};                                    if (document.getElementById(\"09a804f1-e8b7-4b7a-82c2-88f858a96e36\")) {                    Plotly.newPlot(                        \"09a804f1-e8b7-4b7a-82c2-88f858a96e36\",                        [{\"hovertemplate\":\"label=0<br>0=%{x}<br>1=%{y}<br>score=%{marker.color}<extra></extra>\",\"legendgroup\":\"0\",\"marker\":{\"color\":[0,0,0,0,0,0,0,0,0,0,0,0,0,0,0,0,0,0,0,0,0,0,0,0,0,0,0,0,1,1,0,0,0,0,0,0,0,0,0,0,0,0,0,0,0,0,0,0,0,0,0,0,0,0,0,0,0,0,0,0,0,0,0,0,0,0,0,0,0,0,0,0,0,0,0,0,0,0,0,0,0,0,0,0,0,0,1,0,0,0,0,0,0,0,1,0,1,0,0,0,0,0,0,0,0,0,0,0,0,0,0,0,0,0,0,0,0,0,0,0,0,0,1,0,0,0,0,0,0,0,0,0,0,0,0,0,0,0,0,1,0,0,0,0,1,0,0,0,0,0,0,0,0,0,0,0,0,0,0,0,0,0,0,0,0,0,0,0,0,0,0,0,0,0,0,0,0,0,0,0,0,0,0,0,0,0,0,0,0,0,0,0,0,0,0,0,0,0,0,1,0,0,0,0,0,0,0,0,0,0,0,0,0,0,0,0,0,0,0,0,1,0,0,0,0,0,0,1,0,0,0,0,0,0,0,0,0,0,0,0,1,0,0,0,0,1,0,0,0,0,1,0,0,0,0,0,0,0,0,0,0,0,0,0,0,0,0,0,1,0,0,0,0,0,0,0,0,0,0,0,0,0,0,0,0,0,0,0,0,0,0,0,0,0,0,0,0,0,0,0,0,0,0,0,0,0,0,0,0,0,0,0,0,0,0,0,0,0,1,0,0,1,0,1,0,0,0,0,0,0,0,0,0,0,0,0,0,0,0,0,0,0,0,0,0,0,0,0,0,0,0,0,0,0,0,0,0,0,0,0,0,0,0,0,0,1,0,0,0,0,0,0,0,0,0,0,0,0,0,0,0,0,0,0,0,0,0,0,0,0,0,0,0,0,0,0,0,0,0,0,0,0,0,0,0,0,0,1,0,0,0,0,0,0,0,0,0,0,0,1,0,0,0,0,0,0,0,0,0,0,0,0,0,0,0,0,0,0,1,0,1,0,0,0,0,0,0,0,0,0],\"coloraxis\":\"coloraxis\",\"symbol\":\"square\",\"line\":{\"width\":1.5},\"size\":12},\"mode\":\"markers\",\"name\":\"0\",\"orientation\":\"v\",\"showlegend\":true,\"x\":[-0.4316585183552104,0.16557695921302307,-0.31344708355050793,-0.25828648633865436,0.05073722649360985,-0.14197826355570403,-0.2252828693260108,0.034577353364893156,2.1373127015891904,1.2753641428830074,0.4164164540546256,-0.38769244000937253,-0.3123835304296653,-0.018973441979943786,-0.2566565253236043,-0.465513950059662,-0.2524812301327786,-0.33488390122000455,-0.24269485970318155,-0.2974291705264008,-0.21047712519850004,0.4000723489570551,-0.18824628614616987,2.1319121769340486,0.10214180333551554,0.16044055866913096,-0.2019698878688006,-0.14352091432519573,-0.27406508159453385,-0.19209852364269028,-0.2568445782389233,-0.4812073882871858,-0.2373481207192888,0.3848168377266038,-0.1159827681734306,-0.22138941954886893,-0.3226592338774992,-0.2958293262233867,-0.0682480463371999,-0.054832313578773405,0.1199314467392044,-0.49837799428740653,2.2232466289927153,0.39211043884196684,-0.26751888659953393,-0.3179814990966311,0.24006980649214013,2.811339205598699,-0.36893982255457064,-0.1957243224733413,2.3008914099531625,0.03402478209678444,0.4768661394962365,-0.256885340043253,-0.1248133246496146,-0.1996760049873726,0.04822759041493782,-0.2925747797045383,0.18865666953462715,-0.01675185292730515,-0.21497814454829825,-0.062080185801141545,-0.19183759497284758,-0.3145956311890685,1.1024660508621429,0.12885088842165027,-0.12219253256108216,-0.11364769161912923,-0.15655389572072628,-0.24693709285646084,-0.40394309692003594,3.692321987165482,-0.3009290623455609,0.23470073121918045,-0.040520011558500706,1.0716343117462748,0.0890393908928805,0.13535666424686021,0.15565535561720598,0.08879608878193813,0.32230973099099347,-0.15757223653503077,0.30711509994325814,-0.1342421654476648,-0.19147077215722158,-0.2451554993633085,-0.27059988639248056,0.017917149128659104,-0.20265666449514377,-0.0991068057900735,-0.09411461238681265,-0.2792065511234695,-0.24413052422528134,-0.19205812929651359,-0.3350178040775884,-0.279483121601891,-0.33846046453480816,0.2566060663981376,-0.20785761328471813,0.3994736907129058,12.591232078730904,-0.006104863667200133,-0.3913765578147785,-0.1469306654992744,0.04929243165022314,0.06057149476721965,-0.24281247092496927,-0.18242113959132408,-0.20671796454374336,-0.15525012851846645,0.33280667761031535,-0.13439957410409323,-0.25187989236181757,-0.24966123483625285,0.6998760302331621,-0.306968018729255,-0.17175332601747054,0.03621784991303368,-0.25583864208001594,-0.20593597241456346,0.9418913771965484,-0.21628970854162147,-0.33132634637064406,-0.19944227455906194,2.1332562227648273,0.5772113983891118,-0.4246146953729444,0.014580239070227362,-0.3049464928162456,0.6805976425041568,-0.2061434544744765,1.8130015290044927,-0.29460517498976274,-0.20068387482891867,-0.2948235802299336,0.3842149847324702,-0.22031629516368703,-0.10313455686250551,0.30050519043905893,-0.3706482446317845,0.42548576971469154,-0.2711412287001625,-0.10481571963260199,-0.3285981025455893,-0.5513915223352583,0.043711873565201384,-0.00909086202736397,-0.27049844150551694,-0.14077823710246362,0.47335214049970187,-0.33746796408219304,0.010475465979132084,-0.27268924220524143,-0.03082556575526896,0.21792796516188628,-0.3216096107745329,-0.2529154278276945,-0.21649034678345933,-0.07011467593913667,-0.17571242611165844,0.6588650116036876,-0.25329145490295824,0.03058780766785712,-0.27314604447016744,1.1810821141601078,-0.2748203568894094,-0.15916173205009387,-0.24418020945917976,0.724662856040404,0.24814367448057098,-0.03663671897169512,-0.11538839193528753,-0.10630986304266621,-0.24617416218980906,0.338902983276563,-0.14246388492519688,0.66538101029307,-0.2031389394598479,-0.3782140828329463,2.146913527555518,-0.17092856600000753,-0.11255599246809789,-0.05250721185748531,-0.17701727958395058,-0.3402429382728427,1.5405549515101697,0.591978839501506,-0.16549843546120685,-0.11067372614908527,0.16926473898544192,1.674828435450605,-0.2015924611759408,-0.4305304368534749,-0.28900581796212593,-0.3617811778966606,-0.014783588819057994,0.2457676125585441,-0.47334127374758506,-0.31934607141670185,-0.2912125096041066,-0.08986153446290586,-0.27510082494077265,0.93538126035255,8.758656568883417,-0.2068847358156665,0.08955516745545823,0.11758737436206473,9.335379660908519,-0.04160403765064548,0.5519082380998847,0.6564900676276063,-0.046317057994078474,0.20140404058646044,-0.6795123513125342,-0.3041305615400002,-0.17303924760248782,0.14892167396628408,-0.43162672260922763,-0.38104667312038687,0.42418679499013495,0.4813212831533995,0.1727495985629456,-0.3736234831777512,-0.24683592853038522,0.5037638042546895,1.4502792595240719,-0.12747342978688844,-0.24105119904284114,-0.19651828790586753,-0.3303891313907453,0.3227691673971123,-0.0031707258026450204,-0.21109252253957952,-0.3204751250899904,4.4975383401603635,0.45062580132847235,0.3739399102182065,-0.21390079266970108,-0.4595718580744483,-0.3441806388810368,-0.6772091923900693,1.5185349933248975,-0.11556464495774496,0.4222388176910059,1.466729730739402,-0.4627952337127801,-0.2488745074010368,-0.27566216011691247,-0.00217559100259777,-0.28636366338934366,-0.2544770186706512,-0.23045569466695948,13.110262239750679,-0.23986876783245875,-0.3294970754156739,0.1238458788735472,0.2956550392458114,-0.3324890137851064,-0.047937846701280123,0.2733190702392156,-0.2734500195143079,0.4856701417533294,-0.3776065962544519,0.10956097510481896,0.4372967001079465,-0.10093266267902679,0.14091436112926975,-0.39778673284005717,-0.49006903423801257,0.37032317074009385,-0.3308080005606664,-0.2149107533177628,0.04171038651393537,-0.3478780418424039,0.805741359846984,-0.47265190792354145,-0.20275949936926904,-0.18971666886194385,-0.028895876023877748,-0.12384053536980871,1.0496754373537331,-0.24502681387264572,-0.14184714333781417,-0.39475197815869756,0.09139895311097958,-0.3119596234073418,0.621349294106391,0.034474174761790044,-0.032006133287660624,-0.36509599611423005,-0.022900757903268298,-0.13995968170990344,-0.13287317015543,-0.32745532202447636,-0.291518132800473,0.06394671407192297,-0.10944038391571745,-0.2873078363762304,1.1374556218998029,-0.35180448035156253,3.6833111017244535,-0.24245545726917556,-0.18004422831277095,-0.3010584354525185,-0.28900478157445314,-0.503108944009057,-0.25853429292089175,-0.16507961769553697,-0.14613003545464542,-0.24123427288048338,2.109157110490839,-0.307658631377705,-0.036114416733051824,-0.2660712984808725,-0.24886681670292754,-0.2512222482939827,-0.08792858501818265,-0.27977592474170104,-0.4485717379486267,-0.310412865569659,0.2636719761061647,-0.5039094947434954,-0.10242954969424183,-0.2553289962154304,-0.39040286632936505,-0.11520255607556856,-0.05566069683795022,-0.3509597461313559,-0.24512704960712545,-0.19716938730255038,0.21864677931436202,-0.2030154723298249,-0.18348890137806678,-0.141491208317962,2.231088658348367,-0.4848486543413047,-0.1212174304562737,-0.20370308648362478,0.16722181024655863,0.23079174333528826,-0.1891297806216154,0.30942032824071974,0.015154764590310552,3.4198267479027864,-0.31488890628392047,-0.07649058554824723,11.606929509524582,-0.23797214335701436,-0.4611815129068559,-0.10965000238757294,-0.2685958335175273,1.604413198035734,-0.05531743480451028,-0.3482087685366819,-0.386874990908663,-0.17745568413472054,0.8204150323193535,-0.2361338476488259,-0.23176521380896942,-0.1129007947822792,-0.19235232473850958,0.8800731515327214,-0.17058284295631046,0.9686909801070176,0.15026323069111036,0.5641428640861121,-0.2269704417632543,-0.09931739621614828,-0.19617309709299677,-0.3253009153208614,0.13197992298937816,0.0816192065061672,-0.33745603913431965,-0.3645229918122504,-0.14302935135748684,0.7403498120930745,-0.06732878384767751,1.720283529610503,-0.3617622634189393,-0.22937794604753373,-0.18179615568686983,0.13321750280158695,-0.25563943455305954,0.15301501285386146,1.6702884957496047,-0.22141541650822852,-0.04252843682650044,0.03364642144230876,-0.29545318757520694,-0.1254835162283532,-0.2546529528157953,-0.34050531368469994,-0.2556535223549693,-0.25306835416924445,-0.14648611599700648,0.300739502165434,-0.2463144965252674,0.8601311222928032,-0.23806799011986293,1.5633886984995407,-0.20090009549086904,-0.01721740379650471,0.7707046891439768,-0.37349255113112395,0.06865987172089173,6.506383172915161,-0.27242053383937975,-0.2558668263413638,12.09424380345354,-0.11239438292675205,-0.35733230929660886,1.857015971104497,-0.13881034119943725,-0.022220267159600272,-0.01785229532375345,0.19503915504580843,6.648206881871143,3.7993358207034085,-0.3430565940154015,-0.16399511135254047,-0.245405045358566,12.581127165011887,-0.4523247613497303,-0.26187266687148913,0.21509998198795166,0.3050404995620352,0.21574204593158175,-0.15377579394344693,0.02612145774143295,0.1630103417330257,-0.2379080945645299,-0.20787245882593142,-0.35853691846476937,-0.20486498619693597,-0.3492396129482878,-0.22496767534924167,-0.4178527748194023,-0.35838541286998155,-0.4220717273069257,0.13319958541837076,-0.11904436073319365,-0.29431433885415664,-0.24259594287806024,-0.2507650982279253,-0.3514094604614929,-0.31454932165024685,0.0450805545105771,-0.08728809305859685,-0.3081351631397201,-0.33279965556626506],\"xaxis\":\"x\",\"y\":[-1.00722557901124,-1.836302454747827,1.5666487949057735,-1.042023981603758,-0.7166065245948164,-1.0116144174495316,0.23120824720097566,-0.7946522495647438,0.17295307987630676,-1.3916559261479917,-0.9598516686509028,-0.25909829717125077,-0.4797823418307244,-1.0374730945302513,-0.2013158494414745,-0.15224854673218813,-1.3172417639398093,-0.5696618708338882,-0.6706307666462894,-0.04680311488178479,0.11076207582775811,-0.6790068964923928,-1.0390988183484478,-0.07333284269200441,-0.673465217537108,-0.7838469603583652,-0.8831813317500161,-1.0956387913968157,-0.9006859855561073,0.0007038808206399599,-0.5385116908884,0.906944795377571,-0.6925125622748458,-2.111110871722197,-0.8785155341754501,0.754663827808074,-0.867207533176635,-0.3831190394228254,-0.9665690673728861,-0.2323939882983955,-0.37360764965910354,1.5327327284389454,0.5825530426411106,-0.21551147692658998,-0.9605011243603201,-0.5631216126706765,-0.38078950647099674,0.261145888337974,0.10194828006842105,-1.0082163680173948,1.1287292680844454,-0.5522252834868263,-0.9742822737840046,-0.3636028813821608,-0.7199203432016268,-1.154323234685079,-0.839781469324277,-0.4043973294087576,-0.9370086504979966,0.0575999910590718,-1.578886328368935,0.830336865164502,-1.1248891050351582,0.04792416381553884,-0.09788147969970498,-0.48800223922998476,-0.9580936787589661,-0.17640280393749078,-0.8256882454039478,-0.3239427784102325,-0.37874644075336167,-0.14423145556452013,-0.5871226577622652,0.07039169372670334,-1.073760939377155,-0.005844264002125655,-1.4111455331996967,-0.47680831695654946,-0.3868346844284894,0.11615346780255048,-0.2602740343312206,-0.7652005524346276,-0.14630299105935193,0.09286021957777421,-1.4572976199612877,-0.8821728330890818,-0.48764663645925943,-1.417610571592729,0.24976239296845273,-1.0724432316937857,-0.6353350340779957,-0.9506944737295732,-0.5162471154627266,-1.471177092329369,-0.18870260611058365,0.3802770337418343,0.16668608166342613,0.05903006767228661,-1.1093553091237054,-0.49092932082518254,2.83140251377921,-1.0027914684328258,-0.25781105289538875,-0.7872141418645121,-1.5235689901769829,-1.1543150001588722,0.06318782930749611,-0.5815033859513767,-1.2151844956529212,-0.32808870115348215,-0.4374632262664833,-1.147210495128117,-0.7599466875135809,-0.8570379468138773,-0.4687016702212832,-0.514843631847338,-0.7699592239608785,0.024539700827994834,-0.7889253409205356,-1.6027746527172142,-0.23605001095589606,0.7332821126182,0.21336922729093857,-0.28814885314315786,0.15018880025942746,-0.35705951071175906,-0.7734703265157044,-0.9505289526274865,-0.43838486771053353,-0.22848295594939905,-0.2602549545744043,-0.4948163091248662,-0.7348586423886769,-0.8972933469881357,0.015229442484065717,0.5378003902169852,-0.670695709247724,-1.095486274310128,-0.7981987691566984,-0.5815717713743306,-0.43983928773142783,0.3133875976101486,-0.6710345890523538,-0.5999146680700197,-0.12054166700658664,-0.6382739525731377,-0.003873967367699505,-0.8914903209735842,-0.33282745141685655,-0.4254164259163575,-0.6066101579903268,-0.2611445904377868,-0.8105524457553294,0.2699006305302932,-1.0297324754076667,-0.5753133619828177,0.19754913001592644,-1.0075702130855113,-0.7433819282464595,-0.662957707850377,-1.0721516867950527,-0.8676620869355772,-1.0145111169752676,-0.6143232973904109,-0.22058478417572588,-0.647675214887747,-0.9283530880514475,0.8781163055683867,-0.21556470554805196,-1.3780841156240118,-0.42696661348182813,0.018290488499855786,0.30756783767793844,-1.42938476251265,0.8049152553697545,-0.8618402377846159,-0.19199686435952,-0.4156431101534828,0.135652663087731,0.15748274117022276,-0.7864837545187673,-0.6538058545706046,-2.142933943214946,-1.265358170239745,0.4440319289958941,-1.2616907246784566,-0.7470993224764648,-0.15120806609792528,-0.21731225109999316,-0.8452101763879786,0.561904097774742,-1.0897025529253908,1.7181086458849861,-0.0655244059646839,-0.5816194902979327,0.14105838756119693,-0.4831577562576465,-0.1337185293736896,-1.18379545885837,-0.7708610260500665,-0.2847757231190938,-0.005702274188338509,-0.49972576832969523,1.8154811751986268,0.09389399215973973,-0.9044712362989398,-0.8931950826975625,2.123296426382182,-0.9318971602785426,-0.8604547601275425,-0.9205090730411333,-0.6187095605372191,-2.0104054675914003,-0.07471627395739043,-0.12354870351370476,-1.7639109769620782,-1.535887212378993,2.2103064456377344,0.7787296357517359,-0.38471359439159936,0.5110775861432648,-0.9148618065158528,-0.6467871891835283,-0.8720313834201512,-0.7491359052162433,0.09926124678609091,-0.399130005579251,-0.6072309594909363,-0.2032815860289082,-1.1405056097083144,-0.5061296786583467,-0.8632194216210368,-0.9026844172309596,-0.7909137295904373,1.3176096304797407,-0.7751520190984462,-0.34098858399939425,-0.8671285220419774,0.6940456145885814,-0.4877840110968476,0.8423683208275135,-0.7014484223700367,0.573002020578169,-0.6709389211382365,-0.5987336157927649,1.6172808800096616,-1.5381451982660097,-0.8898222112840898,-0.8181679307319417,0.08174345819419375,-0.22502694414621469,-0.7380560723040428,2.914207223504934,-0.8423184565486747,0.11933226874775223,-0.3393351650485323,-0.7395501777609115,-0.36488130473053537,-2.0038218949701982,-0.17873431762696948,-0.4391533345821163,-1.1752999708935024,-0.47198856777865716,-2.24639004344367,0.2507660988178268,0.36802500577915437,-0.6985458210510511,-0.6062090015205259,1.4376258014792955,-1.096517288750519,-0.5837498985541266,-1.256325629238904,-0.6849101719818431,-0.306349151707263,-0.5527970057445364,1.0019061093959363,-0.890265934527372,-0.9007271876541851,-0.5330928716078218,0.006992320319682719,-0.26662490519388465,-1.0143630479488743,-1.0955022860033679,1.154914142665646,-1.5989417345209878,-0.7751413346662798,-2.661555748466428,0.07792614088066928,-0.8924030598849672,-0.012955129915404436,-0.6155309938448409,-0.8982919900033212,-0.7290854617203002,-0.08279195279955062,-0.04877201042673007,-1.0665386933773195,0.6960412663932063,-0.6322916778163215,0.21762300196164727,-0.6735227320680184,0.39573018854275954,-0.8687518472161115,-0.794801171799369,-0.24170176084718156,-0.4509984004035522,0.016604443796621432,-0.732673906835279,-1.0649049644197808,-0.008255719856750762,-1.2772764588056018,-0.13965475584982032,1.0880618391457244,-0.598234848179464,-1.0047582939713828,-0.6982046892050598,0.4120093386219579,0.003720978746073518,-0.07077653539401882,1.2619739297690729,0.11995466005879,-1.0181283323609327,0.47988764323986716,-1.109441523536715,-0.7037018867448073,-0.49474904902021255,-0.6769980572281477,-1.4819775042145094,-0.45258341314602324,-0.6757434034996866,-0.631068243027264,-0.42630626097242663,-0.9398888835335463,-0.9190851193715608,0.2730859389132432,-0.19841584378062893,-0.49557921139704575,0.8819007891971197,-0.8135829711797307,-0.2942195789593893,-0.6280652138817784,-0.7861405128682352,-1.0393735565282125,-0.5838151647404493,-0.21346347618371211,-0.08247244172456356,-1.8035821975900224,2.4834991557259434,-0.8075356489805857,0.6517294892760563,-0.880401698691839,-0.27348507523197857,0.036173049406371796,-0.8246710055380289,-0.1635075771986583,-0.4047392189987061,-0.5944578118246567,-0.5556423772798228,-0.9393359976080117,0.6359689135266113,0.6220464318321679,-1.9286173772193813,-0.13013069900027363,-0.3574428921931402,0.602493147924349,-1.702346248375494,-0.2636823137070644,-0.9212602788642112,-1.1325939851553979,0.7896423103074527,-0.24676321481374525,-0.714875502871448,-1.1582714232598899,-0.48736828300850504,-1.067563233424012,-1.1914892560894574,-0.41868367412020724,-0.9078853718588026,0.1897119437917511,-0.5659337623458682,-0.7425207062686773,-1.0088664380139465,-0.7756205741090458,-0.6196642459454716,-0.4547187706504828,-0.30268513343849746,-0.5372517891992455,-0.6708408075319517,0.5142107068073953,-0.7134842158323832,-0.5872921712775881,-0.7763328730700101,-0.2893223676048294,-0.49468613111116577,-0.645896823278138,-1.3921709551893462,-0.9429865302364556,-0.7021457893064104,-1.3133528159676113,-0.9263516948523662,0.9079592583342543,-0.6749643148107485,-0.7321537190095717,-0.7136896917164531,-0.03473513487071529,-0.1612680896946895,1.317517866105737,-1.129499143241874,1.0693966145978888,2.681753295616843,0.5213198516472666,0.04016705637455291,-0.3601177935234058,-1.7462575820007762,-1.0983846231109984,-0.5158271988820634,-0.05846656531606505,1.124197953852747,0.32296482457156817,-0.4521859507429184,-0.921799987683332,0.6621412967916785,2.8100748424603808,0.3994928150681796,-0.45984222610966585,-0.8365263138563387,-0.2790114001731386,-0.7629571442206341,-1.0231080245536903,-0.15394460057690004,-1.3003898929566087,-0.8437502756500558,-1.0427440939913029,-0.737373053714428,-0.879055323862755,0.09617109086935201,-0.7431526942016052,1.557660103723124,-1.0101219564799269,-0.0652554426137635,0.28049827283410356,-0.07127128620973237,-0.7566782848841366,-0.7849377438547304,-1.0504789454937538,-0.5625429429711397,0.28640875920409975,0.06468224887893322,-0.6775617195799496,1.0945820278681095,-0.9051935024510379],\"yaxis\":\"y\",\"type\":\"scatter\"},{\"hovertemplate\":\"label=1<br>0=%{x}<br>1=%{y}<br>score=%{marker.color}<extra></extra>\",\"legendgroup\":\"1\",\"marker\":{\"color\":[1,1,1,1,1,0,1,1,0,0,1,1,1,0,1,0,1,1,1,0,1,0,1,1,1,1,1,1,1,1,1,0,0,1,0,1,1,1,1,1,1,1,1,1,1,0,1,1,0,1,1,1,1,0,1,1,1,1,1,1,1,0,1,1,0,0,1,1,1,1,1,1,1,1,1,0,1,1,0,1,1,1,0,1,1,1,1,1,1,1,0,1,1,0,1,1,0,1,0,0,0,1,0,1,0,1,0,1,1,1,1,0,1,1,1,1,1,1,0,1,1,1,1,1,1,1,1,1,1,1,1,1,1,1,1,1,1,0,1,1,1,1,1,1,1,0,1,0,1,0,0,0,1,1,1,1,1,0,0,1,1,0,1,1,1,1,1,1,1,1,1,0,1,0,0,0,1,0,0,1,0,1,0,0,0,0,1,0,1,0,1,0,1,1,1,1,1,1,0,1,1,1,1,1,1,1,1,0,1,1,1,1,0,1,0,1,1,1,1,0,1,1,1,0,1,1,1,1,1,1,1,0,1,1,1,1,1,0,0,1],\"coloraxis\":\"coloraxis\",\"symbol\":\"x\",\"line\":{\"width\":1.5},\"size\":12},\"mode\":\"markers\",\"name\":\"1\",\"orientation\":\"v\",\"showlegend\":true,\"x\":[-0.5445886595796419,-0.594600958562603,-0.4338878024075109,-0.5559559633936606,-0.11149693153065447,-0.21492385245681278,0.23626606771758932,-0.6383670780438588,-0.3233131921123019,-0.3450581808933559,-0.7078609595996321,-0.45609129188069425,-0.3410591796789687,-0.3608069210875805,-0.5460116099957186,-0.4584431193956088,-0.25460058776783356,-0.5357021708187794,-0.4924913353379633,-0.621680945873756,-0.23503623600897505,-0.005575081244293889,-0.5973755358062458,-0.3043033783515542,-0.5749169376445726,-0.43201522070205844,-0.814390632667801,-0.44785301091409313,-0.4375298182577179,-0.899525721520867,-0.4187922692341666,-0.2118805999508583,-0.5266871473207467,-0.526236127941924,-0.487644785816374,-0.4358955988948076,-0.4068570130155911,-0.7808540581038539,-0.37384640255281165,-0.5744327168814615,-0.38002620554192346,-0.5995400427810729,-0.3272057583367369,-0.437206728156165,-0.5540256709980218,0.39305007849887214,-0.4155968068160107,-0.26085090227458785,-0.14414723622915426,-0.24013764320161288,-0.48458613380325444,-0.5369595346666266,-0.42224385407462905,-0.41553614759112323,-0.4923054911790351,-0.7847910205939745,-0.3593409370837016,-0.3718509953406556,-0.3373512607057472,-0.4963082936746065,-0.7048609013357177,-0.45961062652188744,-0.4775657954969246,-0.47109122829635763,-0.49803873628928985,-0.3046507682505039,-0.504469363037888,-0.30136875756171716,-0.8592426526976763,-0.5032811419434231,-0.1845922618657137,-0.3626431790016982,-0.5277604603298428,-0.6272915302905555,-0.49429703929144314,-0.49073940822057427,-0.31642496957258925,-0.47565286061066353,-0.41404362847000603,-0.30271223476888315,-0.5863108924720065,-0.3928619302738988,-0.304878527075357,0.4786076798051394,-0.49303981400146385,-0.33867140177335825,-0.4199328243221081,-0.4958583983784835,-0.704921127238839,-0.5913440270931907,-0.36858317786711037,-0.34058859276118697,-0.7475843580503954,-0.2056937303404214,-0.7808084155608827,-0.39176779923754657,-0.32448593012155486,-0.6333916054719471,-0.5127441551601881,-0.0079008140909991,-0.45183279558013634,-0.36402136822764425,-0.27050417030249035,-0.693231569039667,-0.2809761127412449,0.2506915732559604,-0.45791045340035474,-0.510544641462458,-0.4153852131171532,-0.5251395692431619,-0.33856407578940084,-0.10471894236140879,-0.3167448739637883,-0.6392537759596113,-0.16538243740301997,-0.6725825768609726,0.08387233583948714,-0.33424357093987306,-0.4151511108752,-0.42026992130058466,-0.6715528776739073,-0.34288240464386366,-0.5046009657624624,-0.6890691122597963,-0.5732237334502843,-0.5185467603761065,-0.3515791752507995,-0.43496562954197243,-0.43120842930310455,-0.7353996707445577,-0.5891129716612358,-0.5074523449319283,-0.624540672758024,-0.5577369611889441,-0.4851912985258789,-0.5801212955011114,-0.3091698045332119,-0.30138950224956046,-0.491792615297569,-0.44413769489045146,-0.5027500904171798,-0.5022702844444886,-0.30365040867447074,-0.49052012085023095,-0.6692586910094168,-0.35881220677592646,-0.6308734337106515,-0.25095489181757447,-0.6038887824250846,-0.2313711921165382,-0.28022460369894586,-0.3772208652711125,-0.48450594177833606,-0.4169836053352737,-0.684199688857495,-0.4401640026812227,-0.3550740586551577,0.11205103949270226,0.19047176796300916,-0.5250737322524142,0.11836278337905726,-0.2919728754888441,-0.7318525668904073,-0.5183846632074126,-0.4112557406945461,-0.3782967576873867,-0.4132163252714155,-0.708427304080413,-0.8047595170875186,-0.6014829534097752,-0.7603139649450589,-0.48324331344256083,-0.5020501645219725,-0.4303908168155681,-0.1676533065953103,-0.783586006969613,-0.33909100507691764,-0.2699869589005765,-0.3836750673775261,-0.6983571727623527,-0.42072072089421925,-0.5930137005166406,-0.11729486866365303,-0.2331018808497005,-0.004442811890014944,-0.4731827302509721,-0.2853354149074332,-0.08816427720930141,-0.7397606368765726,-0.7980293408793043,-0.3827696104393516,-0.3761551402319568,-0.5385331160389563,-0.5263204501511194,-0.16755735303736663,-0.42970985388337596,-0.3282197207419806,-0.31672259450515555,-0.4518731146125857,-0.678649020370857,-0.7411958034673818,-0.7833248734586294,-0.368414941818866,-0.5031040109274967,-0.32950009661446483,-0.6203829364005016,-0.3523645039325736,-0.0623023732393234,-0.38966184524250796,-0.4843338879706128,-0.4484749226613554,-0.2975214588844981,-0.6063926545811923,-0.6126352379964985,-0.4212588407636158,-0.42008724931652563,-0.6717858154690952,-0.4073736679701373,-0.5430970376018933,-0.4540579745104423,-0.35886102481705123,0.1975683279431013,-0.4874759955633777,-0.5255335173394003,-0.3538853001168111,-0.7369635908421832,-0.5406762640332191,-0.43878273971388165,-0.5866084515548885,-0.3691083127772807,-0.6337924121214144,-0.44226682020644154,0.06602395924032452,-0.5422712810787681,-0.4407378043618385,-0.5817465856193477,-0.6343822682555114,-0.629635868122801,-0.20184306630999443,-0.49811234835127915],\"xaxis\":\"x\",\"y\":[2.3623372380518233,1.1802741194530297,1.0083735087773693,1.0086038340757852,0.46141840997513106,-0.5391548141101806,0.06122322896640448,2.83769671468509,-0.2261603945918521,-0.22237296849113206,2.796922441140366,0.5762927517011213,0.41572702798459155,1.1940961641212358,1.2720767903992658,0.5387684677462599,0.13786501309604748,1.4178175533744253,1.713964462674718,1.2818960181141774,0.18852039593527758,-0.5188726681790029,0.887615033666611,0.07389505158872914,1.1497466585637999,0.7707053220833061,2.19268865435123,0.4421392812633466,-0.011373430557528407,2.817040090325433,1.05788696364696,-0.12059547821258904,0.27333722496411655,0.5452668499514952,1.3281261319346682,0.39171149703990826,1.8650314441135167,2.7491708739313077,0.4322137012661535,1.1354413983745937,1.2045527257875792,1.1254571990456237,-0.19497046961393275,1.9891737161612852,0.9948205023735186,-0.038336061047944625,0.3982966452056841,-0.43172768898769337,-0.1312979655809755,0.9265747372622868,0.9907245766521088,1.3033436152094018,0.5967586361698275,1.3395456110111719,0.8191826569013986,3.2345653763939928,0.041587904480739867,-0.07030789549095154,0.5451837990634407,1.2446650670920103,1.5289216185504562,-0.318953299318834,0.7902462105199343,-0.2888548052831524,1.193506467393085,-0.2901233329957805,0.7264296107559377,0.20870136041940243,3.213925219699034,0.507353787880199,-0.2789809235116961,-0.16951375418178932,1.6967020105231683,1.1652873102817147,0.7499236868968285,0.44724638588598375,-0.3685619230092148,1.5145544700881368,0.745645791141666,0.4971077397866263,1.2076427847307716,0.7551781131301517,0.14452036600634202,0.9680845915638727,0.6919581181073585,0.8424250083745741,3.38818519668889,1.6531080753069427,2.6683621239032136,0.7325942408875951,0.4507118835448364,0.4160846248770722,2.296194100353148,-0.9914509384798339,2.747127527895666,0.4937686017516911,1.6639410743173957,2.2607224087284634,-0.5763498709245174,-0.42464965128818954,1.4716892374869281,0.5197602967571946,-0.33757452751566736,1.0206516838752142,0.043627039368315836,-0.05980684053484602,0.17803397082741995,1.048977485810023,0.9007643657827006,1.7122227946737054,0.6852301129569217,0.17144751048223647,-0.041280743669456554,1.571732264036366,0.0899734092472721,3.444403732319188,0.3752329309693372,1.1332477482229122,1.3365287396747743,0.363744453340636,0.9239870275733145,1.1432764532667767,0.5516885800326077,1.7632849805958206,2.07991922982663,1.5783521844135453,1.94988880571511,0.7876314986119187,0.1219597175055457,1.9590024447216678,1.2085067509034244,0.9879540863939208,1.7298642679502736,1.3676597338072167,0.884944070516359,1.601733800016864,0.8368311267645325,-0.5616675320272023,0.4576894234153077,0.10525138751390091,1.19757444154163,0.8711261540913507,-0.10154220854104538,0.4690686675916752,1.293113682076779,-0.02481757072517598,2.2065763194639367,-0.6797746007798564,2.828741000009539,-0.4425611141152352,-0.292062956522425,0.1592685239791956,0.05044600062632252,2.348763513142478,2.3473624155003594,1.1048305421608877,-0.3715300529929068,0.4187214992296853,-0.41674895363100983,0.9045546673169782,-0.24910016661242765,1.6099502401279124,2.6063667833496083,0.8347001437289718,1.830868353299339,0.6959519682225133,3.0777023731291857,3.4974418657913504,2.852713137622429,2.222230978524967,3.856356935436462,0.777008397162471,0.1849864612105978,0.005794052922008429,-0.9429058468813748,2.082995111386674,0.8450291051370524,-0.2908908378002426,-0.23926661893742893,2.89161784511868,0.8901918341327665,2.2919308929497277,-0.3661043812515431,0.2552309279991306,-0.5569384218692183,0.13565018287068503,0.8734858390139691,0.14108086721335278,2.134224153382469,2.1804544265670445,0.7139629235821802,0.43957785327519433,1.6989753757765236,0.9224120967096512,0.07002953609805979,1.0097563771519338,-0.2626588564592865,1.1266719474055986,0.09776051843192705,1.6204147261949953,2.627701090655375,2.770348222469818,-0.10291582802306846,0.5471448785606904,0.31109502744451006,1.332617850608216,1.4881545990040896,0.16109235735606248,-0.007596627831719647,0.34946378059488004,2.7566159749449843,0.36097195645437014,0.828218100911186,1.2199552602467318,0.890011287205186,0.6405949606476199,3.4478408711673634,0.3725840264028964,1.038389953352254,0.15795389599631984,2.738745341115993,0.014888055052274984,0.7063302363142333,1.350864430811586,0.8163550340020501,2.027063067338517,0.9155504134629033,0.6171922168999674,2.0116656602439096,0.5895869630046356,1.5711722510420725,0.6463438601133032,0.3716810005521694,2.0788030260066934,2.31606141857479,0.8867554052655595,1.3503789133687687,0.953419886608412,-1.087078263095044,0.4975102044340208],\"yaxis\":\"y\",\"type\":\"scatter\"}],                        {\"template\":{\"data\":{\"histogram2dcontour\":[{\"type\":\"histogram2dcontour\",\"colorbar\":{\"outlinewidth\":0,\"ticks\":\"\"},\"colorscale\":[[0.0,\"#0d0887\"],[0.1111111111111111,\"#46039f\"],[0.2222222222222222,\"#7201a8\"],[0.3333333333333333,\"#9c179e\"],[0.4444444444444444,\"#bd3786\"],[0.5555555555555556,\"#d8576b\"],[0.6666666666666666,\"#ed7953\"],[0.7777777777777778,\"#fb9f3a\"],[0.8888888888888888,\"#fdca26\"],[1.0,\"#f0f921\"]]}],\"choropleth\":[{\"type\":\"choropleth\",\"colorbar\":{\"outlinewidth\":0,\"ticks\":\"\"}}],\"histogram2d\":[{\"type\":\"histogram2d\",\"colorbar\":{\"outlinewidth\":0,\"ticks\":\"\"},\"colorscale\":[[0.0,\"#0d0887\"],[0.1111111111111111,\"#46039f\"],[0.2222222222222222,\"#7201a8\"],[0.3333333333333333,\"#9c179e\"],[0.4444444444444444,\"#bd3786\"],[0.5555555555555556,\"#d8576b\"],[0.6666666666666666,\"#ed7953\"],[0.7777777777777778,\"#fb9f3a\"],[0.8888888888888888,\"#fdca26\"],[1.0,\"#f0f921\"]]}],\"heatmap\":[{\"type\":\"heatmap\",\"colorbar\":{\"outlinewidth\":0,\"ticks\":\"\"},\"colorscale\":[[0.0,\"#0d0887\"],[0.1111111111111111,\"#46039f\"],[0.2222222222222222,\"#7201a8\"],[0.3333333333333333,\"#9c179e\"],[0.4444444444444444,\"#bd3786\"],[0.5555555555555556,\"#d8576b\"],[0.6666666666666666,\"#ed7953\"],[0.7777777777777778,\"#fb9f3a\"],[0.8888888888888888,\"#fdca26\"],[1.0,\"#f0f921\"]]}],\"heatmapgl\":[{\"type\":\"heatmapgl\",\"colorbar\":{\"outlinewidth\":0,\"ticks\":\"\"},\"colorscale\":[[0.0,\"#0d0887\"],[0.1111111111111111,\"#46039f\"],[0.2222222222222222,\"#7201a8\"],[0.3333333333333333,\"#9c179e\"],[0.4444444444444444,\"#bd3786\"],[0.5555555555555556,\"#d8576b\"],[0.6666666666666666,\"#ed7953\"],[0.7777777777777778,\"#fb9f3a\"],[0.8888888888888888,\"#fdca26\"],[1.0,\"#f0f921\"]]}],\"contourcarpet\":[{\"type\":\"contourcarpet\",\"colorbar\":{\"outlinewidth\":0,\"ticks\":\"\"}}],\"contour\":[{\"type\":\"contour\",\"colorbar\":{\"outlinewidth\":0,\"ticks\":\"\"},\"colorscale\":[[0.0,\"#0d0887\"],[0.1111111111111111,\"#46039f\"],[0.2222222222222222,\"#7201a8\"],[0.3333333333333333,\"#9c179e\"],[0.4444444444444444,\"#bd3786\"],[0.5555555555555556,\"#d8576b\"],[0.6666666666666666,\"#ed7953\"],[0.7777777777777778,\"#fb9f3a\"],[0.8888888888888888,\"#fdca26\"],[1.0,\"#f0f921\"]]}],\"surface\":[{\"type\":\"surface\",\"colorbar\":{\"outlinewidth\":0,\"ticks\":\"\"},\"colorscale\":[[0.0,\"#0d0887\"],[0.1111111111111111,\"#46039f\"],[0.2222222222222222,\"#7201a8\"],[0.3333333333333333,\"#9c179e\"],[0.4444444444444444,\"#bd3786\"],[0.5555555555555556,\"#d8576b\"],[0.6666666666666666,\"#ed7953\"],[0.7777777777777778,\"#fb9f3a\"],[0.8888888888888888,\"#fdca26\"],[1.0,\"#f0f921\"]]}],\"mesh3d\":[{\"type\":\"mesh3d\",\"colorbar\":{\"outlinewidth\":0,\"ticks\":\"\"}}],\"scatter\":[{\"fillpattern\":{\"fillmode\":\"overlay\",\"size\":10,\"solidity\":0.2},\"type\":\"scatter\"}],\"parcoords\":[{\"type\":\"parcoords\",\"line\":{\"colorbar\":{\"outlinewidth\":0,\"ticks\":\"\"}}}],\"scatterpolargl\":[{\"type\":\"scatterpolargl\",\"marker\":{\"colorbar\":{\"outlinewidth\":0,\"ticks\":\"\"}}}],\"bar\":[{\"error_x\":{\"color\":\"#2a3f5f\"},\"error_y\":{\"color\":\"#2a3f5f\"},\"marker\":{\"line\":{\"color\":\"#E5ECF6\",\"width\":0.5},\"pattern\":{\"fillmode\":\"overlay\",\"size\":10,\"solidity\":0.2}},\"type\":\"bar\"}],\"scattergeo\":[{\"type\":\"scattergeo\",\"marker\":{\"colorbar\":{\"outlinewidth\":0,\"ticks\":\"\"}}}],\"scatterpolar\":[{\"type\":\"scatterpolar\",\"marker\":{\"colorbar\":{\"outlinewidth\":0,\"ticks\":\"\"}}}],\"histogram\":[{\"marker\":{\"pattern\":{\"fillmode\":\"overlay\",\"size\":10,\"solidity\":0.2}},\"type\":\"histogram\"}],\"scattergl\":[{\"type\":\"scattergl\",\"marker\":{\"colorbar\":{\"outlinewidth\":0,\"ticks\":\"\"}}}],\"scatter3d\":[{\"type\":\"scatter3d\",\"line\":{\"colorbar\":{\"outlinewidth\":0,\"ticks\":\"\"}},\"marker\":{\"colorbar\":{\"outlinewidth\":0,\"ticks\":\"\"}}}],\"scattermapbox\":[{\"type\":\"scattermapbox\",\"marker\":{\"colorbar\":{\"outlinewidth\":0,\"ticks\":\"\"}}}],\"scatterternary\":[{\"type\":\"scatterternary\",\"marker\":{\"colorbar\":{\"outlinewidth\":0,\"ticks\":\"\"}}}],\"scattercarpet\":[{\"type\":\"scattercarpet\",\"marker\":{\"colorbar\":{\"outlinewidth\":0,\"ticks\":\"\"}}}],\"carpet\":[{\"aaxis\":{\"endlinecolor\":\"#2a3f5f\",\"gridcolor\":\"white\",\"linecolor\":\"white\",\"minorgridcolor\":\"white\",\"startlinecolor\":\"#2a3f5f\"},\"baxis\":{\"endlinecolor\":\"#2a3f5f\",\"gridcolor\":\"white\",\"linecolor\":\"white\",\"minorgridcolor\":\"white\",\"startlinecolor\":\"#2a3f5f\"},\"type\":\"carpet\"}],\"table\":[{\"cells\":{\"fill\":{\"color\":\"#EBF0F8\"},\"line\":{\"color\":\"white\"}},\"header\":{\"fill\":{\"color\":\"#C8D4E3\"},\"line\":{\"color\":\"white\"}},\"type\":\"table\"}],\"barpolar\":[{\"marker\":{\"line\":{\"color\":\"#E5ECF6\",\"width\":0.5},\"pattern\":{\"fillmode\":\"overlay\",\"size\":10,\"solidity\":0.2}},\"type\":\"barpolar\"}],\"pie\":[{\"automargin\":true,\"type\":\"pie\"}]},\"layout\":{\"autotypenumbers\":\"strict\",\"colorway\":[\"#636efa\",\"#EF553B\",\"#00cc96\",\"#ab63fa\",\"#FFA15A\",\"#19d3f3\",\"#FF6692\",\"#B6E880\",\"#FF97FF\",\"#FECB52\"],\"font\":{\"color\":\"#2a3f5f\"},\"hovermode\":\"closest\",\"hoverlabel\":{\"align\":\"left\"},\"paper_bgcolor\":\"white\",\"plot_bgcolor\":\"#E5ECF6\",\"polar\":{\"bgcolor\":\"#E5ECF6\",\"angularaxis\":{\"gridcolor\":\"white\",\"linecolor\":\"white\",\"ticks\":\"\"},\"radialaxis\":{\"gridcolor\":\"white\",\"linecolor\":\"white\",\"ticks\":\"\"}},\"ternary\":{\"bgcolor\":\"#E5ECF6\",\"aaxis\":{\"gridcolor\":\"white\",\"linecolor\":\"white\",\"ticks\":\"\"},\"baxis\":{\"gridcolor\":\"white\",\"linecolor\":\"white\",\"ticks\":\"\"},\"caxis\":{\"gridcolor\":\"white\",\"linecolor\":\"white\",\"ticks\":\"\"}},\"coloraxis\":{\"colorbar\":{\"outlinewidth\":0,\"ticks\":\"\"}},\"colorscale\":{\"sequential\":[[0.0,\"#0d0887\"],[0.1111111111111111,\"#46039f\"],[0.2222222222222222,\"#7201a8\"],[0.3333333333333333,\"#9c179e\"],[0.4444444444444444,\"#bd3786\"],[0.5555555555555556,\"#d8576b\"],[0.6666666666666666,\"#ed7953\"],[0.7777777777777778,\"#fb9f3a\"],[0.8888888888888888,\"#fdca26\"],[1.0,\"#f0f921\"]],\"sequentialminus\":[[0.0,\"#0d0887\"],[0.1111111111111111,\"#46039f\"],[0.2222222222222222,\"#7201a8\"],[0.3333333333333333,\"#9c179e\"],[0.4444444444444444,\"#bd3786\"],[0.5555555555555556,\"#d8576b\"],[0.6666666666666666,\"#ed7953\"],[0.7777777777777778,\"#fb9f3a\"],[0.8888888888888888,\"#fdca26\"],[1.0,\"#f0f921\"]],\"diverging\":[[0,\"#8e0152\"],[0.1,\"#c51b7d\"],[0.2,\"#de77ae\"],[0.3,\"#f1b6da\"],[0.4,\"#fde0ef\"],[0.5,\"#f7f7f7\"],[0.6,\"#e6f5d0\"],[0.7,\"#b8e186\"],[0.8,\"#7fbc41\"],[0.9,\"#4d9221\"],[1,\"#276419\"]]},\"xaxis\":{\"gridcolor\":\"white\",\"linecolor\":\"white\",\"ticks\":\"\",\"title\":{\"standoff\":15},\"zerolinecolor\":\"white\",\"automargin\":true,\"zerolinewidth\":2},\"yaxis\":{\"gridcolor\":\"white\",\"linecolor\":\"white\",\"ticks\":\"\",\"title\":{\"standoff\":15},\"zerolinecolor\":\"white\",\"automargin\":true,\"zerolinewidth\":2},\"scene\":{\"xaxis\":{\"backgroundcolor\":\"#E5ECF6\",\"gridcolor\":\"white\",\"linecolor\":\"white\",\"showbackground\":true,\"ticks\":\"\",\"zerolinecolor\":\"white\",\"gridwidth\":2},\"yaxis\":{\"backgroundcolor\":\"#E5ECF6\",\"gridcolor\":\"white\",\"linecolor\":\"white\",\"showbackground\":true,\"ticks\":\"\",\"zerolinecolor\":\"white\",\"gridwidth\":2},\"zaxis\":{\"backgroundcolor\":\"#E5ECF6\",\"gridcolor\":\"white\",\"linecolor\":\"white\",\"showbackground\":true,\"ticks\":\"\",\"zerolinecolor\":\"white\",\"gridwidth\":2}},\"shapedefaults\":{\"line\":{\"color\":\"#2a3f5f\"}},\"annotationdefaults\":{\"arrowcolor\":\"#2a3f5f\",\"arrowhead\":0,\"arrowwidth\":1},\"geo\":{\"bgcolor\":\"white\",\"landcolor\":\"#E5ECF6\",\"subunitcolor\":\"white\",\"showland\":true,\"showlakes\":true,\"lakecolor\":\"white\"},\"title\":{\"x\":0.05},\"mapbox\":{\"style\":\"light\"}}},\"xaxis\":{\"anchor\":\"y\",\"domain\":[0.0,1.0],\"title\":{\"text\":\"0\"}},\"yaxis\":{\"anchor\":\"x\",\"domain\":[0.0,1.0],\"title\":{\"text\":\"1\"}},\"coloraxis\":{\"colorbar\":{\"title\":{\"text\":\"score\"}},\"colorscale\":[[0.0,\"#440154\"],[0.1111111111111111,\"#482878\"],[0.2222222222222222,\"#3e4989\"],[0.3333333333333333,\"#31688e\"],[0.4444444444444444,\"#26828e\"],[0.5555555555555556,\"#1f9e89\"],[0.6666666666666666,\"#35b779\"],[0.7777777777777778,\"#6ece58\"],[0.8888888888888888,\"#b5de2b\"],[1.0,\"#fde725\"]]},\"legend\":{\"title\":{\"text\":\"label\"},\"tracegroupgap\":0,\"orientation\":\"h\"},\"margin\":{\"t\":60}},                        {\"responsive\": true}                    ).then(function(){\n                            \nvar gd = document.getElementById('09a804f1-e8b7-4b7a-82c2-88f858a96e36');\nvar x = new MutationObserver(function (mutations, observer) {{\n        var display = window.getComputedStyle(gd).display;\n        if (!display || display === 'none') {{\n            console.log([gd, 'removed!']);\n            Plotly.purge(gd);\n            observer.disconnect();\n        }}\n}});\n\n// Listen for the removal of the full notebook cells\nvar notebookContainer = gd.closest('#notebook-container');\nif (notebookContainer) {{\n    x.observe(notebookContainer, {childList: true});\n}}\n\n// Listen for the clearing of the current output cell\nvar outputEl = gd.closest('.output');\nif (outputEl) {{\n    x.observe(outputEl, {childList: true});\n}}\n\n                        })                };                });            </script>        </div>"
     },
     "metadata": {},
     "output_type": "display_data"
    }
   ],
   "source": [
    "import plotly.express as px\n",
    "fig = px.scatter(\n",
    "    X_test, x=0, y=1,\n",
    "    color=y_pred, color_continuous_scale='Viridis',\n",
    "    symbol=y_test, symbol_map={'0': 'square-dot', '1': 'circle-dot'},\n",
    "    labels={'symbol': 'label', 'color': 'score'}\n",
    ")\n",
    "fig.update_traces(marker_size=12, marker_line_width=1.5)\n",
    "fig.update_layout(legend_orientation='h')\n",
    "fig.show()"
   ],
   "metadata": {
    "collapsed": false
   }
  }
 ],
 "metadata": {
  "kernelspec": {
   "display_name": "Python 3 (ipykernel)",
   "language": "python",
   "name": "python3"
  },
  "language_info": {
   "codemirror_mode": {
    "name": "ipython",
    "version": 3
   },
   "file_extension": ".py",
   "mimetype": "text/x-python",
   "name": "python",
   "nbconvert_exporter": "python",
   "pygments_lexer": "ipython3",
   "version": "3.9.13"
  }
 },
 "nbformat": 4,
 "nbformat_minor": 5
}
